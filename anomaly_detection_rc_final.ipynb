{
  "nbformat": 4,
  "nbformat_minor": 0,
  "metadata": {
    "colab": {
      "name": "anomaly-detection-rc-final.ipynb",
      "provenance": []
    },
    "kernelspec": {
      "name": "python3",
      "display_name": "Python 3"
    },
    "language_info": {
      "name": "python"
    }
  },
  "cells": [
    {
      "cell_type": "markdown",
      "metadata": {
        "id": "pNq4D4JVRvAy"
      },
      "source": [
        "# Anomaly Detection using web servers' logs\n",
        "\n",
        "## Problem\n",
        "We need to detect itrusioners and crawlers of a web server from its users' foot prints that provided for us as a log file.\n",
        "\n",
        "It's an unsupervised problem becuase, there isn't any label for the anomalies, So we have to figure out them and find them from the log server.\n"
      ]
    },
    {
      "cell_type": "code",
      "metadata": {
        "id": "ZNmdSEraSt6w"
      },
      "source": [
        "# Import requirements\n",
        "import re\n",
        "import pandas as pd\n"
      ],
      "execution_count": 8,
      "outputs": []
    },
    {
      "cell_type": "markdown",
      "metadata": {
        "id": "FJ1_ZwyLS0MZ"
      },
      "source": [
        "### Prepare data\n",
        "1. Create a `.csv` from the provided logs.\n",
        "2. Extract features.\n",
        "3. Clean data:\n",
        "  * Fix missing values.\n",
        "  * Figure out categories.\n",
        "  * Check correlations.\n",
        "4. Prepare data to fit our model:\n",
        "  * Check the balences.\n",
        "  * Split train, test.\n"
      ]
    },
    {
      "cell_type": "code",
      "metadata": {
        "id": "bLmD_813IqXu"
      },
      "source": [
        "# !gzip --decompress drive/MyDrive/Rahnema-College/Tuning/Final-Project/output.log.gz"
      ],
      "execution_count": 9,
      "outputs": []
    },
    {
      "cell_type": "code",
      "metadata": {
        "colab": {
          "base_uri": "https://localhost:8080/"
        },
        "id": "27K0-YKWTgsk",
        "outputId": "b20ed262-e522-430f-cf0d-579065b8f3b5"
      },
      "source": [
        "from google.colab import drive\n",
        "drive.mount(\"/content/drive/\")"
      ],
      "execution_count": 10,
      "outputs": [
        {
          "output_type": "stream",
          "text": [
            "Drive already mounted at /content/drive/; to attempt to forcibly remount, call drive.mount(\"/content/drive/\", force_remount=True).\n"
          ],
          "name": "stdout"
        }
      ]
    },
    {
      "cell_type": "markdown",
      "metadata": {
        "id": "L0iJfYL5MMVM"
      },
      "source": [
        "#### Extract features from log files to build .csv format\n"
      ]
    },
    {
      "cell_type": "code",
      "metadata": {
        "id": "smhhdU_kLlie"
      },
      "source": [
        "# Regex Pattern\n",
        "pattern = '(?P<Client>\\S+) \\[(?P<Time>\\S+)\\] \\[(?P<Method>\\S+) (?P<Request>\\S+)\\] (?P<Status>\\S+) (?P<Size>\\S+) \\[\\[(?P<UserAgent>[\\S\\s]+)\\]\\] (?P<Duration>\\S+)'\n",
        "file_path = 'drive/MyDrive/Rahnema-College/Tuning/Final-Project/output.log'\n",
        "columns = [[\"Client\", \"Time\", \"Method\", \"Request\", \"Status\", \"Length\", \"UserAgent\", \"ResponseTime\"]]"
      ],
      "execution_count": 11,
      "outputs": []
    },
    {
      "cell_type": "code",
      "metadata": {
        "id": "uN-ho84fNgxV"
      },
      "source": [
        "# Find regex in our logs\n",
        "def parse_data(file_path, pattern):\n",
        "  \"\"\"\n",
        "  Return the part of data that extracted by given pattern.\n",
        "  file_path -> Your log file.\n",
        "  pattern -> The pattern that you're looking for in your logs.\n",
        "\n",
        "  Return parsed_line -> as a list of finded data.\n",
        "  \"\"\"\n",
        "  parsed_lines = []\n",
        "\n",
        "  with open(file_path) as logs:\n",
        "    for line in logs:\n",
        "      try:\n",
        "        finded_pattern = re.findall(pattern, line)[0]\n",
        "        parsed_lines.append(finded_pattern)\n",
        "      except Exception as e:\n",
        "        print(\"There is an error while parsing data! Try Again :(\")\n",
        "  return parsed_lines"
      ],
      "execution_count": 15,
      "outputs": []
    },
    {
      "cell_type": "code",
      "metadata": {
        "colab": {
          "base_uri": "https://localhost:8080/"
        },
        "id": "C12OhT9gL93X",
        "outputId": "95eed2a5-d8ee-4d1f-bf56-914110b9a8b8"
      },
      "source": [
        "extracted_features = parse_data(file_path, pattern)\n",
        "extracted_features[:3]"
      ],
      "execution_count": 16,
      "outputs": [
        {
          "output_type": "execute_result",
          "data": {
            "text/plain": [
              "[('207.213.193.143',\n",
              "  '2021-5-12T5:6:0.0+0430',\n",
              "  'Get',\n",
              "  '/cdn/profiles/1026106239',\n",
              "  '304',\n",
              "  '0',\n",
              "  'Googlebot-Image/1.0',\n",
              "  '32'),\n",
              " ('207.213.193.143',\n",
              "  '2021-5-12T5:6:0.0+0430',\n",
              "  'Get',\n",
              "  'images/badge.png',\n",
              "  '304',\n",
              "  '0',\n",
              "  'Googlebot-Image/1.0',\n",
              "  '4'),\n",
              " ('35.110.222.153',\n",
              "  '2021-5-12T5:6:0.0+0430',\n",
              "  'Get',\n",
              "  '/pages/630180847',\n",
              "  '200',\n",
              "  '52567',\n",
              "  'Mozilla/5.0 (Linux; Android 6.0.1; SAMSUNG SM-J710GN Build/MMB29K) AppleWebKit/537.36 (KHTML, like Gecko) SamsungBrowser/4.0 Chrome/44.0.2403.133 Mobile Safari/537.36',\n",
              "  '32')]"
            ]
          },
          "metadata": {
            "tags": []
          },
          "execution_count": 16
        }
      ]
    },
    {
      "cell_type": "code",
      "metadata": {
        "id": "AQkD-VPpWiEJ",
        "colab": {
          "base_uri": "https://localhost:8080/",
          "height": 204
        },
        "outputId": "d082334a-0190-408f-ceac-e71bb06b8f4c"
      },
      "source": [
        "# Create a .csv format\n",
        "data = pd.DataFrame(extracted_features, columns=columns)\n",
        "data.head()"
      ],
      "execution_count": 17,
      "outputs": [
        {
          "output_type": "execute_result",
          "data": {
            "text/html": [
              "<div>\n",
              "<style scoped>\n",
              "    .dataframe tbody tr th:only-of-type {\n",
              "        vertical-align: middle;\n",
              "    }\n",
              "\n",
              "    .dataframe tbody tr th {\n",
              "        vertical-align: top;\n",
              "    }\n",
              "\n",
              "    .dataframe thead tr th {\n",
              "        text-align: left;\n",
              "    }\n",
              "</style>\n",
              "<table border=\"1\" class=\"dataframe\">\n",
              "  <thead>\n",
              "    <tr>\n",
              "      <th></th>\n",
              "      <th>Client</th>\n",
              "      <th>Time</th>\n",
              "      <th>Method</th>\n",
              "      <th>Request</th>\n",
              "      <th>Status</th>\n",
              "      <th>Length</th>\n",
              "      <th>UserAgent</th>\n",
              "      <th>ResponseTime</th>\n",
              "    </tr>\n",
              "  </thead>\n",
              "  <tbody>\n",
              "    <tr>\n",
              "      <th>0</th>\n",
              "      <td>207.213.193.143</td>\n",
              "      <td>2021-5-12T5:6:0.0+0430</td>\n",
              "      <td>Get</td>\n",
              "      <td>/cdn/profiles/1026106239</td>\n",
              "      <td>304</td>\n",
              "      <td>0</td>\n",
              "      <td>Googlebot-Image/1.0</td>\n",
              "      <td>32</td>\n",
              "    </tr>\n",
              "    <tr>\n",
              "      <th>1</th>\n",
              "      <td>207.213.193.143</td>\n",
              "      <td>2021-5-12T5:6:0.0+0430</td>\n",
              "      <td>Get</td>\n",
              "      <td>images/badge.png</td>\n",
              "      <td>304</td>\n",
              "      <td>0</td>\n",
              "      <td>Googlebot-Image/1.0</td>\n",
              "      <td>4</td>\n",
              "    </tr>\n",
              "    <tr>\n",
              "      <th>2</th>\n",
              "      <td>35.110.222.153</td>\n",
              "      <td>2021-5-12T5:6:0.0+0430</td>\n",
              "      <td>Get</td>\n",
              "      <td>/pages/630180847</td>\n",
              "      <td>200</td>\n",
              "      <td>52567</td>\n",
              "      <td>Mozilla/5.0 (Linux; Android 6.0.1; SAMSUNG SM-...</td>\n",
              "      <td>32</td>\n",
              "    </tr>\n",
              "    <tr>\n",
              "      <th>3</th>\n",
              "      <td>35.108.208.99</td>\n",
              "      <td>2021-5-12T5:6:0.0+0430</td>\n",
              "      <td>Get</td>\n",
              "      <td>images/fav_icon2.ico</td>\n",
              "      <td>200</td>\n",
              "      <td>23531</td>\n",
              "      <td>Mozilla/5.0 (Linux; Android 6.0; CAM-L21) Appl...</td>\n",
              "      <td>20</td>\n",
              "    </tr>\n",
              "    <tr>\n",
              "      <th>4</th>\n",
              "      <td>35.110.222.153</td>\n",
              "      <td>2021-5-12T5:6:0.0+0430</td>\n",
              "      <td>Get</td>\n",
              "      <td>images/sanjagh_logo_purpule5.png</td>\n",
              "      <td>200</td>\n",
              "      <td>4680</td>\n",
              "      <td>Mozilla/5.0 (Linux; Android 6.0.1; SAMSUNG SM-...</td>\n",
              "      <td>8</td>\n",
              "    </tr>\n",
              "  </tbody>\n",
              "</table>\n",
              "</div>"
            ],
            "text/plain": [
              "            Client  ... ResponseTime\n",
              "0  207.213.193.143  ...           32\n",
              "1  207.213.193.143  ...            4\n",
              "2   35.110.222.153  ...           32\n",
              "3    35.108.208.99  ...           20\n",
              "4   35.110.222.153  ...            8\n",
              "\n",
              "[5 rows x 8 columns]"
            ]
          },
          "metadata": {
            "tags": []
          },
          "execution_count": 17
        }
      ]
    },
    {
      "cell_type": "code",
      "metadata": {
        "id": "6A6IttahQMju"
      },
      "source": [
        ""
      ],
      "execution_count": null,
      "outputs": []
    }
  ]
}