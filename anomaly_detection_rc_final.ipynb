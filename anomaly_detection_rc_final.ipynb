{
  "nbformat": 4,
  "nbformat_minor": 0,
  "metadata": {
    "colab": {
      "name": "anomaly-detection-rc-final.ipynb",
      "provenance": [],
      "collapsed_sections": [
        "7qKIa0u40htM",
        "a-2bv4b2iqqt"
      ]
    },
    "kernelspec": {
      "display_name": "Python 3",
      "name": "python3"
    },
    "language_info": {
      "name": "python"
    },
    "accelerator": "GPU"
  },
  "cells": [
    {
      "cell_type": "markdown",
      "metadata": {
        "id": "pNq4D4JVRvAy"
      },
      "source": [
        "# Anomaly Detection using web servers' logs\n",
        "\n",
        "## Problem\n",
        "We need to detect itrusioners and crawlers of a web server from its users' foot prints that provided for us as a log file.\n",
        "\n",
        "It's an unsupervised problem becuase, there isn't any label for the anomalies, So we have to figure out them and find them from the log server.\n"
      ]
    },
    {
      "cell_type": "code",
      "metadata": {
        "id": "ZNmdSEraSt6w"
      },
      "source": [
        "# Import requirements\n",
        "import re\n",
        "import pandas as pd\n",
        "import numpy as np\n",
        "import tensorflow as tf\n",
        "\n",
        "# !pip install pandas-profiling==2.7.1\n",
        "from pandas_profiling import ProfileReport\n",
        "\n",
        "import matplotlib.pyplot as plt\n",
        "import seaborn as sns\n",
        "\n",
        "# !pip install category_encoders\n",
        "import category_encoders as ce\n",
        "\n",
        "from sklearn.model_selection import train_test_split\n",
        "from sklearn.preprocessing import StandardScaler\n",
        "\n",
        "# Models\n",
        "from sklearn.cluster import KMeans\n",
        "from sklearn.ensemble import IsolationForest\n",
        "from sklearn.mixture import GaussianMixture\n",
        "from sklearn.neighbors import NearestNeighbors"
      ],
      "execution_count": 13,
      "outputs": []
    },
    {
      "cell_type": "markdown",
      "metadata": {
        "id": "FJ1_ZwyLS0MZ"
      },
      "source": [
        "## Prepare data\n",
        "1. Create a `.csv` from the provided logs.\n",
        "2. Extract features.\n",
        "3. Clean data:\n",
        "  * Fix datetimes.\n",
        "  * Fix missing values.\n",
        "  * Figure out categories.\n",
        "  * Check correlations.\n",
        "4. Prepare data to fit our model:\n",
        "  * Check the balences.\n",
        "  * Split train, test.\n"
      ]
    },
    {
      "cell_type": "code",
      "metadata": {
        "id": "bLmD_813IqXu"
      },
      "source": [
        "# !gzip --decompress drive/MyDrive/Rahnema-College/Tuning/Final-Project/output.log.gz"
      ],
      "execution_count": null,
      "outputs": []
    },
    {
      "cell_type": "code",
      "metadata": {
        "id": "27K0-YKWTgsk",
        "colab": {
          "base_uri": "https://localhost:8080/"
        },
        "outputId": "2bd548ef-eaa2-4a03-b327-bb283ab1ec7e"
      },
      "source": [
        "from google.colab import drive\n",
        "drive.mount(\"/content/drive/\")"
      ],
      "execution_count": null,
      "outputs": [
        {
          "output_type": "stream",
          "text": [
            "Drive already mounted at /content/drive/; to attempt to forcibly remount, call drive.mount(\"/content/drive/\", force_remount=True).\n"
          ],
          "name": "stdout"
        }
      ]
    },
    {
      "cell_type": "markdown",
      "metadata": {
        "id": "L0iJfYL5MMVM"
      },
      "source": [
        "### Extract features from log files to build .csv format\n"
      ]
    },
    {
      "cell_type": "code",
      "metadata": {
        "id": "smhhdU_kLlie"
      },
      "source": [
        "# Regex Pattern\n",
        "pattern = '(?P<Client>\\S+) \\[(?P<Time>\\S+)\\] \\[(?P<Method>\\S+) (?P<Request>\\S+)\\] (?P<Status>\\S+) (?P<Size>\\S+) \\[\\[(?P<UserAgent>[\\S\\s]+)\\]\\] (?P<Duration>\\S+)'\n",
        "file_path = 'drive/MyDrive/Rahnema-College/Tuning/Final-Project/output.log'\n",
        "columns = [\"Client\", \"Datetime\", \"Method\", \"Request\", \"Status\", \"Length\", \"UserAgent\", \"ResponseTime\"]"
      ],
      "execution_count": null,
      "outputs": []
    },
    {
      "cell_type": "code",
      "metadata": {
        "id": "uN-ho84fNgxV"
      },
      "source": [
        "# Find regex in our logs\n",
        "def parse_data(file_path, pattern):\n",
        "  \"\"\"\n",
        "  Return the part of data that extracted by given pattern.\n",
        "  file_path -> Your log file.\n",
        "  pattern -> The pattern that you're looking for in your logs.\n",
        "\n",
        "  Return parsed_line -> as a list of finded data.\n",
        "  \"\"\"\n",
        "  parsed_lines = []\n",
        "\n",
        "  with open(file_path) as logs:\n",
        "    for line in logs:\n",
        "      try:\n",
        "        finded_pattern = list(re.findall(pattern, line)[0])\n",
        "        parsed_lines.append(finded_pattern)\n",
        "      except Exception as e:\n",
        "        print(\"There is an error while parsing data! Try Again :(\")\n",
        "  return parsed_lines"
      ],
      "execution_count": null,
      "outputs": []
    },
    {
      "cell_type": "code",
      "metadata": {
        "id": "C12OhT9gL93X",
        "colab": {
          "base_uri": "https://localhost:8080/"
        },
        "outputId": "526c4bbb-98af-4e12-a0bf-f450fe877ac3"
      },
      "source": [
        "extracted_features = parse_data(file_path, pattern)\n",
        "extracted_features[0]"
      ],
      "execution_count": null,
      "outputs": [
        {
          "output_type": "execute_result",
          "data": {
            "text/plain": [
              "['207.213.193.143',\n",
              " '2021-5-12T5:6:0.0+0430',\n",
              " 'Get',\n",
              " '/cdn/profiles/1026106239',\n",
              " '304',\n",
              " '0',\n",
              " 'Googlebot-Image/1.0',\n",
              " '32']"
            ]
          },
          "metadata": {
            "tags": []
          },
          "execution_count": 6
        }
      ]
    },
    {
      "cell_type": "code",
      "metadata": {
        "id": "AQkD-VPpWiEJ",
        "colab": {
          "base_uri": "https://localhost:8080/",
          "height": 204
        },
        "outputId": "99d22aa0-0d43-4dab-b20a-aacb3f06d918"
      },
      "source": [
        "# Create a .csv format\n",
        "data = pd.DataFrame(extracted_features, columns=columns)\n",
        "data.head()"
      ],
      "execution_count": null,
      "outputs": [
        {
          "output_type": "execute_result",
          "data": {
            "text/html": [
              "<div>\n",
              "<style scoped>\n",
              "    .dataframe tbody tr th:only-of-type {\n",
              "        vertical-align: middle;\n",
              "    }\n",
              "\n",
              "    .dataframe tbody tr th {\n",
              "        vertical-align: top;\n",
              "    }\n",
              "\n",
              "    .dataframe thead th {\n",
              "        text-align: right;\n",
              "    }\n",
              "</style>\n",
              "<table border=\"1\" class=\"dataframe\">\n",
              "  <thead>\n",
              "    <tr style=\"text-align: right;\">\n",
              "      <th></th>\n",
              "      <th>Client</th>\n",
              "      <th>Datetime</th>\n",
              "      <th>Method</th>\n",
              "      <th>Request</th>\n",
              "      <th>Status</th>\n",
              "      <th>Length</th>\n",
              "      <th>UserAgent</th>\n",
              "      <th>ResponseTime</th>\n",
              "    </tr>\n",
              "  </thead>\n",
              "  <tbody>\n",
              "    <tr>\n",
              "      <th>0</th>\n",
              "      <td>207.213.193.143</td>\n",
              "      <td>2021-5-12T5:6:0.0+0430</td>\n",
              "      <td>Get</td>\n",
              "      <td>/cdn/profiles/1026106239</td>\n",
              "      <td>304</td>\n",
              "      <td>0</td>\n",
              "      <td>Googlebot-Image/1.0</td>\n",
              "      <td>32</td>\n",
              "    </tr>\n",
              "    <tr>\n",
              "      <th>1</th>\n",
              "      <td>207.213.193.143</td>\n",
              "      <td>2021-5-12T5:6:0.0+0430</td>\n",
              "      <td>Get</td>\n",
              "      <td>images/badge.png</td>\n",
              "      <td>304</td>\n",
              "      <td>0</td>\n",
              "      <td>Googlebot-Image/1.0</td>\n",
              "      <td>4</td>\n",
              "    </tr>\n",
              "    <tr>\n",
              "      <th>2</th>\n",
              "      <td>35.110.222.153</td>\n",
              "      <td>2021-5-12T5:6:0.0+0430</td>\n",
              "      <td>Get</td>\n",
              "      <td>/pages/630180847</td>\n",
              "      <td>200</td>\n",
              "      <td>52567</td>\n",
              "      <td>Mozilla/5.0 (Linux; Android 6.0.1; SAMSUNG SM-...</td>\n",
              "      <td>32</td>\n",
              "    </tr>\n",
              "    <tr>\n",
              "      <th>3</th>\n",
              "      <td>35.108.208.99</td>\n",
              "      <td>2021-5-12T5:6:0.0+0430</td>\n",
              "      <td>Get</td>\n",
              "      <td>images/fav_icon2.ico</td>\n",
              "      <td>200</td>\n",
              "      <td>23531</td>\n",
              "      <td>Mozilla/5.0 (Linux; Android 6.0; CAM-L21) Appl...</td>\n",
              "      <td>20</td>\n",
              "    </tr>\n",
              "    <tr>\n",
              "      <th>4</th>\n",
              "      <td>35.110.222.153</td>\n",
              "      <td>2021-5-12T5:6:0.0+0430</td>\n",
              "      <td>Get</td>\n",
              "      <td>images/sanjagh_logo_purpule5.png</td>\n",
              "      <td>200</td>\n",
              "      <td>4680</td>\n",
              "      <td>Mozilla/5.0 (Linux; Android 6.0.1; SAMSUNG SM-...</td>\n",
              "      <td>8</td>\n",
              "    </tr>\n",
              "  </tbody>\n",
              "</table>\n",
              "</div>"
            ],
            "text/plain": [
              "            Client  ... ResponseTime\n",
              "0  207.213.193.143  ...           32\n",
              "1  207.213.193.143  ...            4\n",
              "2   35.110.222.153  ...           32\n",
              "3    35.108.208.99  ...           20\n",
              "4   35.110.222.153  ...            8\n",
              "\n",
              "[5 rows x 8 columns]"
            ]
          },
          "metadata": {
            "tags": []
          },
          "execution_count": 7
        }
      ]
    },
    {
      "cell_type": "code",
      "metadata": {
        "id": "6A6IttahQMju",
        "colab": {
          "base_uri": "https://localhost:8080/"
        },
        "outputId": "efda89a7-6bce-4056-b203-c9ae65430ee1"
      },
      "source": [
        "data.shape"
      ],
      "execution_count": null,
      "outputs": [
        {
          "output_type": "execute_result",
          "data": {
            "text/plain": [
              "(1260035, 8)"
            ]
          },
          "metadata": {
            "tags": []
          },
          "execution_count": 8
        }
      ]
    },
    {
      "cell_type": "code",
      "metadata": {
        "id": "Jfd4wsQN0KTD",
        "colab": {
          "base_uri": "https://localhost:8080/"
        },
        "outputId": "96ee6901-9b81-4d20-814d-c745a99f24a9"
      },
      "source": [
        "data.info()"
      ],
      "execution_count": null,
      "outputs": [
        {
          "output_type": "stream",
          "text": [
            "<class 'pandas.core.frame.DataFrame'>\n",
            "RangeIndex: 1260035 entries, 0 to 1260034\n",
            "Data columns (total 8 columns):\n",
            " #   Column        Non-Null Count    Dtype \n",
            "---  ------        --------------    ----- \n",
            " 0   Client        1260035 non-null  object\n",
            " 1   Datetime      1260035 non-null  object\n",
            " 2   Method        1260035 non-null  object\n",
            " 3   Request       1260035 non-null  object\n",
            " 4   Status        1260035 non-null  object\n",
            " 5   Length        1260035 non-null  object\n",
            " 6   UserAgent     1260035 non-null  object\n",
            " 7   ResponseTime  1260035 non-null  object\n",
            "dtypes: object(8)\n",
            "memory usage: 76.9+ MB\n"
          ],
          "name": "stdout"
        }
      ]
    },
    {
      "cell_type": "markdown",
      "metadata": {
        "id": "7qKIa0u40htM"
      },
      "source": [
        "### Fix time series"
      ]
    },
    {
      "cell_type": "code",
      "metadata": {
        "id": "-e2PcwYC0pMW"
      },
      "source": [
        "# Convert datetimes to datetime format\n",
        "data[\"Datetime\"] = pd.to_datetime(data[\"Datetime\"], format=\"%Y-%m-%dT%H:%M:%S\")"
      ],
      "execution_count": null,
      "outputs": []
    },
    {
      "cell_type": "code",
      "metadata": {
        "id": "kkoCkFKSBg-2"
      },
      "source": [
        "# Split datatimes\n",
        "data['Year'] = data.Datetime.dt.year\n",
        "data['Month'] = data.Datetime.dt.month\n",
        "data['Day'] = data.Datetime.dt.day\n",
        "data['Hour'] = data.Datetime.dt.hour\n",
        "data['Minute'] = data.Datetime.dt.minute\n",
        "data['Second'] = data.Datetime.dt.second\n",
        "data['dayOfWeek'] = data.Datetime.dt.dayofweek\n",
        "data['dayOfYear'] = data.Datetime.dt.dayofyear"
      ],
      "execution_count": null,
      "outputs": []
    },
    {
      "cell_type": "code",
      "metadata": {
        "id": "dZ2DXY_wEiKK"
      },
      "source": [
        "data.drop(\"Datetime\", axis=1, inplace=True)"
      ],
      "execution_count": null,
      "outputs": []
    },
    {
      "cell_type": "code",
      "metadata": {
        "id": "bO96uG_9CwZU",
        "colab": {
          "base_uri": "https://localhost:8080/"
        },
        "outputId": "dcdaa6a9-712c-4663-ee69-a05e2cfff201"
      },
      "source": [
        "data.head()"
      ],
      "execution_count": null,
      "outputs": [
        {
          "output_type": "execute_result",
          "data": {
            "text/html": [
              "<div>\n",
              "<style scoped>\n",
              "    .dataframe tbody tr th:only-of-type {\n",
              "        vertical-align: middle;\n",
              "    }\n",
              "\n",
              "    .dataframe tbody tr th {\n",
              "        vertical-align: top;\n",
              "    }\n",
              "\n",
              "    .dataframe thead th {\n",
              "        text-align: right;\n",
              "    }\n",
              "</style>\n",
              "<table border=\"1\" class=\"dataframe\">\n",
              "  <thead>\n",
              "    <tr style=\"text-align: right;\">\n",
              "      <th></th>\n",
              "      <th>Client</th>\n",
              "      <th>Method</th>\n",
              "      <th>Request</th>\n",
              "      <th>Status</th>\n",
              "      <th>Length</th>\n",
              "      <th>UserAgent</th>\n",
              "      <th>ResponseTime</th>\n",
              "      <th>Year</th>\n",
              "      <th>Month</th>\n",
              "      <th>Day</th>\n",
              "      <th>Hour</th>\n",
              "      <th>Minute</th>\n",
              "      <th>Second</th>\n",
              "      <th>dayOfWeek</th>\n",
              "      <th>dayOfYear</th>\n",
              "    </tr>\n",
              "  </thead>\n",
              "  <tbody>\n",
              "    <tr>\n",
              "      <th>0</th>\n",
              "      <td>207.213.193.143</td>\n",
              "      <td>Get</td>\n",
              "      <td>/cdn/profiles/1026106239</td>\n",
              "      <td>304</td>\n",
              "      <td>0</td>\n",
              "      <td>Googlebot-Image/1.0</td>\n",
              "      <td>32</td>\n",
              "      <td>2021</td>\n",
              "      <td>5</td>\n",
              "      <td>12</td>\n",
              "      <td>5</td>\n",
              "      <td>6</td>\n",
              "      <td>0</td>\n",
              "      <td>2</td>\n",
              "      <td>132</td>\n",
              "    </tr>\n",
              "    <tr>\n",
              "      <th>1</th>\n",
              "      <td>207.213.193.143</td>\n",
              "      <td>Get</td>\n",
              "      <td>images/badge.png</td>\n",
              "      <td>304</td>\n",
              "      <td>0</td>\n",
              "      <td>Googlebot-Image/1.0</td>\n",
              "      <td>4</td>\n",
              "      <td>2021</td>\n",
              "      <td>5</td>\n",
              "      <td>12</td>\n",
              "      <td>5</td>\n",
              "      <td>6</td>\n",
              "      <td>0</td>\n",
              "      <td>2</td>\n",
              "      <td>132</td>\n",
              "    </tr>\n",
              "    <tr>\n",
              "      <th>2</th>\n",
              "      <td>35.110.222.153</td>\n",
              "      <td>Get</td>\n",
              "      <td>/pages/630180847</td>\n",
              "      <td>200</td>\n",
              "      <td>52567</td>\n",
              "      <td>Mozilla/5.0 (Linux; Android 6.0.1; SAMSUNG SM-...</td>\n",
              "      <td>32</td>\n",
              "      <td>2021</td>\n",
              "      <td>5</td>\n",
              "      <td>12</td>\n",
              "      <td>5</td>\n",
              "      <td>6</td>\n",
              "      <td>0</td>\n",
              "      <td>2</td>\n",
              "      <td>132</td>\n",
              "    </tr>\n",
              "    <tr>\n",
              "      <th>3</th>\n",
              "      <td>35.108.208.99</td>\n",
              "      <td>Get</td>\n",
              "      <td>images/fav_icon2.ico</td>\n",
              "      <td>200</td>\n",
              "      <td>23531</td>\n",
              "      <td>Mozilla/5.0 (Linux; Android 6.0; CAM-L21) Appl...</td>\n",
              "      <td>20</td>\n",
              "      <td>2021</td>\n",
              "      <td>5</td>\n",
              "      <td>12</td>\n",
              "      <td>5</td>\n",
              "      <td>6</td>\n",
              "      <td>0</td>\n",
              "      <td>2</td>\n",
              "      <td>132</td>\n",
              "    </tr>\n",
              "    <tr>\n",
              "      <th>4</th>\n",
              "      <td>35.110.222.153</td>\n",
              "      <td>Get</td>\n",
              "      <td>images/sanjagh_logo_purpule5.png</td>\n",
              "      <td>200</td>\n",
              "      <td>4680</td>\n",
              "      <td>Mozilla/5.0 (Linux; Android 6.0.1; SAMSUNG SM-...</td>\n",
              "      <td>8</td>\n",
              "      <td>2021</td>\n",
              "      <td>5</td>\n",
              "      <td>12</td>\n",
              "      <td>5</td>\n",
              "      <td>6</td>\n",
              "      <td>0</td>\n",
              "      <td>2</td>\n",
              "      <td>132</td>\n",
              "    </tr>\n",
              "  </tbody>\n",
              "</table>\n",
              "</div>"
            ],
            "text/plain": [
              "            Client Method  ... dayOfWeek dayOfYear\n",
              "0  207.213.193.143    Get  ...         2       132\n",
              "1  207.213.193.143    Get  ...         2       132\n",
              "2   35.110.222.153    Get  ...         2       132\n",
              "3    35.108.208.99    Get  ...         2       132\n",
              "4   35.110.222.153    Get  ...         2       132\n",
              "\n",
              "[5 rows x 15 columns]"
            ]
          },
          "metadata": {
            "tags": []
          },
          "execution_count": 13
        }
      ]
    },
    {
      "cell_type": "markdown",
      "metadata": {
        "id": "a-2bv4b2iqqt"
      },
      "source": [
        "### Split Requests\n",
        "* Level_1\n",
        "  * Level_2"
      ]
    },
    {
      "cell_type": "code",
      "metadata": {
        "colab": {
          "base_uri": "https://localhost:8080/"
        },
        "id": "6SEPFJbgdn_S",
        "outputId": "3783fe2c-14b3-4e11-f43e-2e8411e1427b"
      },
      "source": [
        "path_l1 = []\n",
        "# paths_pattern = re.compile(r'^(\\/|\\w+)')\n",
        "paths_pattern = re.compile(r'\\S+\\/|\\/\\S+')\n",
        "for element in data.Request.values:\n",
        "  finded_part = paths_pattern.findall(element)\n",
        "  path_l1.append(finded_part)\n",
        "path_l1[0]"
      ],
      "execution_count": null,
      "outputs": [
        {
          "output_type": "execute_result",
          "data": {
            "text/plain": [
              "['/cdn/profiles/']"
            ]
          },
          "metadata": {
            "tags": []
          },
          "execution_count": 14
        }
      ]
    },
    {
      "cell_type": "code",
      "metadata": {
        "id": "sGYkynLKiw6O"
      },
      "source": [
        "# Level Requests' path to make them more categorized\n",
        "path_l1 = []\n",
        "path_l2 = []\n",
        "# paths_pattern = re.compile(r'^(\\/|\\w+)')\n",
        "# paths_pattern = re.compile(r'\\S+\\/|\\/\\S+|\\/')\n",
        "paths_pattern = re.compile(r'^\\/|^\\w+\\/')\n",
        "for element in data.Request.values:\n",
        "  finded_part = paths_pattern.findall(element)[0]\n",
        "  path_l1.append(finded_part)\n",
        "  path_l2.append(element.replace(finded_part, '', 1))\n",
        "\n",
        "data[\"Req_Path_L1\"] = path_l1\n",
        "data[\"Req_Path_L2\"] = path_l2"
      ],
      "execution_count": null,
      "outputs": []
    },
    {
      "cell_type": "code",
      "metadata": {
        "colab": {
          "base_uri": "https://localhost:8080/"
        },
        "id": "ys2c4St7iwsR",
        "outputId": "9c299aec-d72d-42e4-e6b5-2b469af0d67c"
      },
      "source": [
        "data.head()"
      ],
      "execution_count": null,
      "outputs": [
        {
          "output_type": "execute_result",
          "data": {
            "text/html": [
              "<div>\n",
              "<style scoped>\n",
              "    .dataframe tbody tr th:only-of-type {\n",
              "        vertical-align: middle;\n",
              "    }\n",
              "\n",
              "    .dataframe tbody tr th {\n",
              "        vertical-align: top;\n",
              "    }\n",
              "\n",
              "    .dataframe thead th {\n",
              "        text-align: right;\n",
              "    }\n",
              "</style>\n",
              "<table border=\"1\" class=\"dataframe\">\n",
              "  <thead>\n",
              "    <tr style=\"text-align: right;\">\n",
              "      <th></th>\n",
              "      <th>Client</th>\n",
              "      <th>Method</th>\n",
              "      <th>Request</th>\n",
              "      <th>Status</th>\n",
              "      <th>Length</th>\n",
              "      <th>UserAgent</th>\n",
              "      <th>ResponseTime</th>\n",
              "      <th>Year</th>\n",
              "      <th>Month</th>\n",
              "      <th>Day</th>\n",
              "      <th>Hour</th>\n",
              "      <th>Minute</th>\n",
              "      <th>Second</th>\n",
              "      <th>dayOfWeek</th>\n",
              "      <th>dayOfYear</th>\n",
              "      <th>Req_Path_L1</th>\n",
              "      <th>Req_Path_L2</th>\n",
              "    </tr>\n",
              "  </thead>\n",
              "  <tbody>\n",
              "    <tr>\n",
              "      <th>0</th>\n",
              "      <td>207.213.193.143</td>\n",
              "      <td>Get</td>\n",
              "      <td>/cdn/profiles/1026106239</td>\n",
              "      <td>304</td>\n",
              "      <td>0</td>\n",
              "      <td>Googlebot-Image/1.0</td>\n",
              "      <td>32</td>\n",
              "      <td>2021</td>\n",
              "      <td>5</td>\n",
              "      <td>12</td>\n",
              "      <td>5</td>\n",
              "      <td>6</td>\n",
              "      <td>0</td>\n",
              "      <td>2</td>\n",
              "      <td>132</td>\n",
              "      <td>/</td>\n",
              "      <td>cdn/profiles/1026106239</td>\n",
              "    </tr>\n",
              "    <tr>\n",
              "      <th>1</th>\n",
              "      <td>207.213.193.143</td>\n",
              "      <td>Get</td>\n",
              "      <td>images/badge.png</td>\n",
              "      <td>304</td>\n",
              "      <td>0</td>\n",
              "      <td>Googlebot-Image/1.0</td>\n",
              "      <td>4</td>\n",
              "      <td>2021</td>\n",
              "      <td>5</td>\n",
              "      <td>12</td>\n",
              "      <td>5</td>\n",
              "      <td>6</td>\n",
              "      <td>0</td>\n",
              "      <td>2</td>\n",
              "      <td>132</td>\n",
              "      <td>images/</td>\n",
              "      <td>badge.png</td>\n",
              "    </tr>\n",
              "    <tr>\n",
              "      <th>2</th>\n",
              "      <td>35.110.222.153</td>\n",
              "      <td>Get</td>\n",
              "      <td>/pages/630180847</td>\n",
              "      <td>200</td>\n",
              "      <td>52567</td>\n",
              "      <td>Mozilla/5.0 (Linux; Android 6.0.1; SAMSUNG SM-...</td>\n",
              "      <td>32</td>\n",
              "      <td>2021</td>\n",
              "      <td>5</td>\n",
              "      <td>12</td>\n",
              "      <td>5</td>\n",
              "      <td>6</td>\n",
              "      <td>0</td>\n",
              "      <td>2</td>\n",
              "      <td>132</td>\n",
              "      <td>/</td>\n",
              "      <td>pages/630180847</td>\n",
              "    </tr>\n",
              "    <tr>\n",
              "      <th>3</th>\n",
              "      <td>35.108.208.99</td>\n",
              "      <td>Get</td>\n",
              "      <td>images/fav_icon2.ico</td>\n",
              "      <td>200</td>\n",
              "      <td>23531</td>\n",
              "      <td>Mozilla/5.0 (Linux; Android 6.0; CAM-L21) Appl...</td>\n",
              "      <td>20</td>\n",
              "      <td>2021</td>\n",
              "      <td>5</td>\n",
              "      <td>12</td>\n",
              "      <td>5</td>\n",
              "      <td>6</td>\n",
              "      <td>0</td>\n",
              "      <td>2</td>\n",
              "      <td>132</td>\n",
              "      <td>images/</td>\n",
              "      <td>fav_icon2.ico</td>\n",
              "    </tr>\n",
              "    <tr>\n",
              "      <th>4</th>\n",
              "      <td>35.110.222.153</td>\n",
              "      <td>Get</td>\n",
              "      <td>images/sanjagh_logo_purpule5.png</td>\n",
              "      <td>200</td>\n",
              "      <td>4680</td>\n",
              "      <td>Mozilla/5.0 (Linux; Android 6.0.1; SAMSUNG SM-...</td>\n",
              "      <td>8</td>\n",
              "      <td>2021</td>\n",
              "      <td>5</td>\n",
              "      <td>12</td>\n",
              "      <td>5</td>\n",
              "      <td>6</td>\n",
              "      <td>0</td>\n",
              "      <td>2</td>\n",
              "      <td>132</td>\n",
              "      <td>images/</td>\n",
              "      <td>sanjagh_logo_purpule5.png</td>\n",
              "    </tr>\n",
              "  </tbody>\n",
              "</table>\n",
              "</div>"
            ],
            "text/plain": [
              "            Client Method  ... Req_Path_L1                Req_Path_L2\n",
              "0  207.213.193.143    Get  ...           /    cdn/profiles/1026106239\n",
              "1  207.213.193.143    Get  ...     images/                  badge.png\n",
              "2   35.110.222.153    Get  ...           /            pages/630180847\n",
              "3    35.108.208.99    Get  ...     images/              fav_icon2.ico\n",
              "4   35.110.222.153    Get  ...     images/  sanjagh_logo_purpule5.png\n",
              "\n",
              "[5 rows x 17 columns]"
            ]
          },
          "metadata": {
            "tags": []
          },
          "execution_count": 16
        }
      ]
    },
    {
      "cell_type": "code",
      "metadata": {
        "colab": {
          "base_uri": "https://localhost:8080/"
        },
        "id": "Yu3hxwIa1p8e",
        "outputId": "34489269-1c95-453d-db21-4637d30c48c9"
      },
      "source": [
        "data[\"Req_Path_L1\"].value_counts()"
      ],
      "execution_count": null,
      "outputs": [
        {
          "output_type": "execute_result",
          "data": {
            "text/plain": [
              "/             663910\n",
              "images/       298288\n",
              "js/           125224\n",
              "fonts/         98485\n",
              "css/           56303\n",
              "templates/     17825\n",
              "Name: Req_Path_L1, dtype: int64"
            ]
          },
          "metadata": {
            "tags": []
          },
          "execution_count": 17
        }
      ]
    },
    {
      "cell_type": "code",
      "metadata": {
        "colab": {
          "base_uri": "https://localhost:8080/"
        },
        "id": "Co_WV80tGBsL",
        "outputId": "439f6d79-8f01-4b35-aa8f-a5d4a9b992ba"
      },
      "source": [
        "# Drop full Request Feature\n",
        "data.drop(\"Request\", axis=1, inplace=True)\n",
        "data.head()"
      ],
      "execution_count": null,
      "outputs": [
        {
          "output_type": "execute_result",
          "data": {
            "text/html": [
              "<div>\n",
              "<style scoped>\n",
              "    .dataframe tbody tr th:only-of-type {\n",
              "        vertical-align: middle;\n",
              "    }\n",
              "\n",
              "    .dataframe tbody tr th {\n",
              "        vertical-align: top;\n",
              "    }\n",
              "\n",
              "    .dataframe thead th {\n",
              "        text-align: right;\n",
              "    }\n",
              "</style>\n",
              "<table border=\"1\" class=\"dataframe\">\n",
              "  <thead>\n",
              "    <tr style=\"text-align: right;\">\n",
              "      <th></th>\n",
              "      <th>Client</th>\n",
              "      <th>Method</th>\n",
              "      <th>Status</th>\n",
              "      <th>Length</th>\n",
              "      <th>UserAgent</th>\n",
              "      <th>ResponseTime</th>\n",
              "      <th>Year</th>\n",
              "      <th>Month</th>\n",
              "      <th>Day</th>\n",
              "      <th>Hour</th>\n",
              "      <th>Minute</th>\n",
              "      <th>Second</th>\n",
              "      <th>dayOfWeek</th>\n",
              "      <th>dayOfYear</th>\n",
              "      <th>Req_Path_L1</th>\n",
              "      <th>Req_Path_L2</th>\n",
              "    </tr>\n",
              "  </thead>\n",
              "  <tbody>\n",
              "    <tr>\n",
              "      <th>0</th>\n",
              "      <td>207.213.193.143</td>\n",
              "      <td>Get</td>\n",
              "      <td>304</td>\n",
              "      <td>0</td>\n",
              "      <td>Googlebot-Image/1.0</td>\n",
              "      <td>32</td>\n",
              "      <td>2021</td>\n",
              "      <td>5</td>\n",
              "      <td>12</td>\n",
              "      <td>5</td>\n",
              "      <td>6</td>\n",
              "      <td>0</td>\n",
              "      <td>2</td>\n",
              "      <td>132</td>\n",
              "      <td>/</td>\n",
              "      <td>cdn/profiles/1026106239</td>\n",
              "    </tr>\n",
              "    <tr>\n",
              "      <th>1</th>\n",
              "      <td>207.213.193.143</td>\n",
              "      <td>Get</td>\n",
              "      <td>304</td>\n",
              "      <td>0</td>\n",
              "      <td>Googlebot-Image/1.0</td>\n",
              "      <td>4</td>\n",
              "      <td>2021</td>\n",
              "      <td>5</td>\n",
              "      <td>12</td>\n",
              "      <td>5</td>\n",
              "      <td>6</td>\n",
              "      <td>0</td>\n",
              "      <td>2</td>\n",
              "      <td>132</td>\n",
              "      <td>images/</td>\n",
              "      <td>badge.png</td>\n",
              "    </tr>\n",
              "    <tr>\n",
              "      <th>2</th>\n",
              "      <td>35.110.222.153</td>\n",
              "      <td>Get</td>\n",
              "      <td>200</td>\n",
              "      <td>52567</td>\n",
              "      <td>Mozilla/5.0 (Linux; Android 6.0.1; SAMSUNG SM-...</td>\n",
              "      <td>32</td>\n",
              "      <td>2021</td>\n",
              "      <td>5</td>\n",
              "      <td>12</td>\n",
              "      <td>5</td>\n",
              "      <td>6</td>\n",
              "      <td>0</td>\n",
              "      <td>2</td>\n",
              "      <td>132</td>\n",
              "      <td>/</td>\n",
              "      <td>pages/630180847</td>\n",
              "    </tr>\n",
              "    <tr>\n",
              "      <th>3</th>\n",
              "      <td>35.108.208.99</td>\n",
              "      <td>Get</td>\n",
              "      <td>200</td>\n",
              "      <td>23531</td>\n",
              "      <td>Mozilla/5.0 (Linux; Android 6.0; CAM-L21) Appl...</td>\n",
              "      <td>20</td>\n",
              "      <td>2021</td>\n",
              "      <td>5</td>\n",
              "      <td>12</td>\n",
              "      <td>5</td>\n",
              "      <td>6</td>\n",
              "      <td>0</td>\n",
              "      <td>2</td>\n",
              "      <td>132</td>\n",
              "      <td>images/</td>\n",
              "      <td>fav_icon2.ico</td>\n",
              "    </tr>\n",
              "    <tr>\n",
              "      <th>4</th>\n",
              "      <td>35.110.222.153</td>\n",
              "      <td>Get</td>\n",
              "      <td>200</td>\n",
              "      <td>4680</td>\n",
              "      <td>Mozilla/5.0 (Linux; Android 6.0.1; SAMSUNG SM-...</td>\n",
              "      <td>8</td>\n",
              "      <td>2021</td>\n",
              "      <td>5</td>\n",
              "      <td>12</td>\n",
              "      <td>5</td>\n",
              "      <td>6</td>\n",
              "      <td>0</td>\n",
              "      <td>2</td>\n",
              "      <td>132</td>\n",
              "      <td>images/</td>\n",
              "      <td>sanjagh_logo_purpule5.png</td>\n",
              "    </tr>\n",
              "  </tbody>\n",
              "</table>\n",
              "</div>"
            ],
            "text/plain": [
              "            Client Method  ... Req_Path_L1                Req_Path_L2\n",
              "0  207.213.193.143    Get  ...           /    cdn/profiles/1026106239\n",
              "1  207.213.193.143    Get  ...     images/                  badge.png\n",
              "2   35.110.222.153    Get  ...           /            pages/630180847\n",
              "3    35.108.208.99    Get  ...     images/              fav_icon2.ico\n",
              "4   35.110.222.153    Get  ...     images/  sanjagh_logo_purpule5.png\n",
              "\n",
              "[5 rows x 16 columns]"
            ]
          },
          "metadata": {
            "tags": []
          },
          "execution_count": 18
        }
      ]
    },
    {
      "cell_type": "markdown",
      "metadata": {
        "id": "9_epeI1sjOND"
      },
      "source": [
        "### Check Dataset & Fix Missing values\n"
      ]
    },
    {
      "cell_type": "code",
      "metadata": {
        "id": "-WAjjHsgVG6h"
      },
      "source": [
        "# # Create a profile report\n",
        "# profile = ProfileReport(data)\n",
        "# profile.to_file(\"drive/MyDrive/Rahnema-College/Tuning/Final-Project/profile_report.html\")a"
      ],
      "execution_count": null,
      "outputs": []
    },
    {
      "cell_type": "code",
      "metadata": {
        "id": "4DOarR2ZgsTu"
      },
      "source": [
        "# Remove Constant features\n",
        "constant_features = [\"Year\", \"Month\", \"Day\", \"dayOfWeek\", \"dayOfYear\"]\n",
        "data.drop(constant_features, axis=1, inplace=True)"
      ],
      "execution_count": null,
      "outputs": []
    },
    {
      "cell_type": "markdown",
      "metadata": {
        "id": "NZZhgZrVMtlQ"
      },
      "source": [
        "* There are some rows which don't have any values for `ResponseTime` and `Clinet` features. -> They must be dropped.\n",
        "* Take care: some of rows contains `Clients'` value but no `ResponseTime` value. -> Their response time would be zero."
      ]
    },
    {
      "cell_type": "code",
      "metadata": {
        "colab": {
          "base_uri": "https://localhost:8080/",
          "height": 419
        },
        "id": "1SQn21n_gE5y",
        "outputId": "b52d8375-4000-4be0-864e-b1a02f8941df"
      },
      "source": [
        "data[(data[\"Client\"] == '-') & (data[\"ResponseTime\"] == '-')]"
      ],
      "execution_count": null,
      "outputs": [
        {
          "output_type": "execute_result",
          "data": {
            "text/html": [
              "<div>\n",
              "<style scoped>\n",
              "    .dataframe tbody tr th:only-of-type {\n",
              "        vertical-align: middle;\n",
              "    }\n",
              "\n",
              "    .dataframe tbody tr th {\n",
              "        vertical-align: top;\n",
              "    }\n",
              "\n",
              "    .dataframe thead th {\n",
              "        text-align: right;\n",
              "    }\n",
              "</style>\n",
              "<table border=\"1\" class=\"dataframe\">\n",
              "  <thead>\n",
              "    <tr style=\"text-align: right;\">\n",
              "      <th></th>\n",
              "      <th>Client</th>\n",
              "      <th>Method</th>\n",
              "      <th>Status</th>\n",
              "      <th>Length</th>\n",
              "      <th>UserAgent</th>\n",
              "      <th>ResponseTime</th>\n",
              "      <th>Hour</th>\n",
              "      <th>Minute</th>\n",
              "      <th>Second</th>\n",
              "      <th>Req_Path_L1</th>\n",
              "      <th>Req_Path_L2</th>\n",
              "    </tr>\n",
              "  </thead>\n",
              "  <tbody>\n",
              "    <tr>\n",
              "      <th>25</th>\n",
              "      <td>-</td>\n",
              "      <td>Get</td>\n",
              "      <td>301</td>\n",
              "      <td>169</td>\n",
              "      <td>kube-probe/1.21</td>\n",
              "      <td>-</td>\n",
              "      <td>5</td>\n",
              "      <td>6</td>\n",
              "      <td>1</td>\n",
              "      <td>/</td>\n",
              "      <td></td>\n",
              "    </tr>\n",
              "    <tr>\n",
              "      <th>85</th>\n",
              "      <td>-</td>\n",
              "      <td>Get</td>\n",
              "      <td>301</td>\n",
              "      <td>169</td>\n",
              "      <td>kube-probe/1.21</td>\n",
              "      <td>-</td>\n",
              "      <td>5</td>\n",
              "      <td>6</td>\n",
              "      <td>3</td>\n",
              "      <td>/</td>\n",
              "      <td></td>\n",
              "    </tr>\n",
              "    <tr>\n",
              "      <th>145</th>\n",
              "      <td>-</td>\n",
              "      <td>Get</td>\n",
              "      <td>301</td>\n",
              "      <td>169</td>\n",
              "      <td>kube-probe/1.21</td>\n",
              "      <td>-</td>\n",
              "      <td>5</td>\n",
              "      <td>6</td>\n",
              "      <td>5</td>\n",
              "      <td>/</td>\n",
              "      <td></td>\n",
              "    </tr>\n",
              "    <tr>\n",
              "      <th>175</th>\n",
              "      <td>-</td>\n",
              "      <td>Get</td>\n",
              "      <td>301</td>\n",
              "      <td>169</td>\n",
              "      <td>kube-probe/1.21</td>\n",
              "      <td>-</td>\n",
              "      <td>5</td>\n",
              "      <td>6</td>\n",
              "      <td>7</td>\n",
              "      <td>/</td>\n",
              "      <td></td>\n",
              "    </tr>\n",
              "    <tr>\n",
              "      <th>215</th>\n",
              "      <td>-</td>\n",
              "      <td>Get</td>\n",
              "      <td>301</td>\n",
              "      <td>169</td>\n",
              "      <td>kube-probe/1.21</td>\n",
              "      <td>-</td>\n",
              "      <td>5</td>\n",
              "      <td>6</td>\n",
              "      <td>9</td>\n",
              "      <td>/</td>\n",
              "      <td></td>\n",
              "    </tr>\n",
              "    <tr>\n",
              "      <th>...</th>\n",
              "      <td>...</td>\n",
              "      <td>...</td>\n",
              "      <td>...</td>\n",
              "      <td>...</td>\n",
              "      <td>...</td>\n",
              "      <td>...</td>\n",
              "      <td>...</td>\n",
              "      <td>...</td>\n",
              "      <td>...</td>\n",
              "      <td>...</td>\n",
              "      <td>...</td>\n",
              "    </tr>\n",
              "    <tr>\n",
              "      <th>1259779</th>\n",
              "      <td>-</td>\n",
              "      <td>Get</td>\n",
              "      <td>301</td>\n",
              "      <td>169</td>\n",
              "      <td>kube-probe/1.21</td>\n",
              "      <td>-</td>\n",
              "      <td>15</td>\n",
              "      <td>8</td>\n",
              "      <td>51</td>\n",
              "      <td>/</td>\n",
              "      <td></td>\n",
              "    </tr>\n",
              "    <tr>\n",
              "      <th>1259833</th>\n",
              "      <td>-</td>\n",
              "      <td>Get</td>\n",
              "      <td>301</td>\n",
              "      <td>169</td>\n",
              "      <td>kube-probe/1.21</td>\n",
              "      <td>-</td>\n",
              "      <td>15</td>\n",
              "      <td>8</td>\n",
              "      <td>53</td>\n",
              "      <td>/</td>\n",
              "      <td></td>\n",
              "    </tr>\n",
              "    <tr>\n",
              "      <th>1259902</th>\n",
              "      <td>-</td>\n",
              "      <td>Get</td>\n",
              "      <td>301</td>\n",
              "      <td>169</td>\n",
              "      <td>kube-probe/1.21</td>\n",
              "      <td>-</td>\n",
              "      <td>15</td>\n",
              "      <td>8</td>\n",
              "      <td>55</td>\n",
              "      <td>/</td>\n",
              "      <td></td>\n",
              "    </tr>\n",
              "    <tr>\n",
              "      <th>1259951</th>\n",
              "      <td>-</td>\n",
              "      <td>Get</td>\n",
              "      <td>301</td>\n",
              "      <td>169</td>\n",
              "      <td>kube-probe/1.21</td>\n",
              "      <td>-</td>\n",
              "      <td>15</td>\n",
              "      <td>8</td>\n",
              "      <td>57</td>\n",
              "      <td>/</td>\n",
              "      <td></td>\n",
              "    </tr>\n",
              "    <tr>\n",
              "      <th>1260007</th>\n",
              "      <td>-</td>\n",
              "      <td>Get</td>\n",
              "      <td>301</td>\n",
              "      <td>169</td>\n",
              "      <td>kube-probe/1.21</td>\n",
              "      <td>-</td>\n",
              "      <td>15</td>\n",
              "      <td>8</td>\n",
              "      <td>59</td>\n",
              "      <td>/</td>\n",
              "      <td></td>\n",
              "    </tr>\n",
              "  </tbody>\n",
              "</table>\n",
              "<p>18090 rows × 11 columns</p>\n",
              "</div>"
            ],
            "text/plain": [
              "        Client Method Status Length  ... Minute Second  Req_Path_L1  Req_Path_L2\n",
              "25           -    Get    301    169  ...      6      1            /             \n",
              "85           -    Get    301    169  ...      6      3            /             \n",
              "145          -    Get    301    169  ...      6      5            /             \n",
              "175          -    Get    301    169  ...      6      7            /             \n",
              "215          -    Get    301    169  ...      6      9            /             \n",
              "...        ...    ...    ...    ...  ...    ...    ...          ...          ...\n",
              "1259779      -    Get    301    169  ...      8     51            /             \n",
              "1259833      -    Get    301    169  ...      8     53            /             \n",
              "1259902      -    Get    301    169  ...      8     55            /             \n",
              "1259951      -    Get    301    169  ...      8     57            /             \n",
              "1260007      -    Get    301    169  ...      8     59            /             \n",
              "\n",
              "[18090 rows x 11 columns]"
            ]
          },
          "metadata": {
            "tags": []
          },
          "execution_count": 21
        }
      ]
    },
    {
      "cell_type": "code",
      "metadata": {
        "colab": {
          "base_uri": "https://localhost:8080/",
          "height": 204
        },
        "id": "ed8ex36RjPQg",
        "outputId": "77a988c6-d833-470d-cbc3-a7641e0e967e"
      },
      "source": [
        "data.head()"
      ],
      "execution_count": null,
      "outputs": [
        {
          "output_type": "execute_result",
          "data": {
            "text/html": [
              "<div>\n",
              "<style scoped>\n",
              "    .dataframe tbody tr th:only-of-type {\n",
              "        vertical-align: middle;\n",
              "    }\n",
              "\n",
              "    .dataframe tbody tr th {\n",
              "        vertical-align: top;\n",
              "    }\n",
              "\n",
              "    .dataframe thead th {\n",
              "        text-align: right;\n",
              "    }\n",
              "</style>\n",
              "<table border=\"1\" class=\"dataframe\">\n",
              "  <thead>\n",
              "    <tr style=\"text-align: right;\">\n",
              "      <th></th>\n",
              "      <th>Client</th>\n",
              "      <th>Method</th>\n",
              "      <th>Status</th>\n",
              "      <th>Length</th>\n",
              "      <th>UserAgent</th>\n",
              "      <th>ResponseTime</th>\n",
              "      <th>Hour</th>\n",
              "      <th>Minute</th>\n",
              "      <th>Second</th>\n",
              "      <th>Req_Path_L1</th>\n",
              "      <th>Req_Path_L2</th>\n",
              "    </tr>\n",
              "  </thead>\n",
              "  <tbody>\n",
              "    <tr>\n",
              "      <th>0</th>\n",
              "      <td>207.213.193.143</td>\n",
              "      <td>Get</td>\n",
              "      <td>304</td>\n",
              "      <td>0</td>\n",
              "      <td>Googlebot-Image/1.0</td>\n",
              "      <td>32</td>\n",
              "      <td>5</td>\n",
              "      <td>6</td>\n",
              "      <td>0</td>\n",
              "      <td>/</td>\n",
              "      <td>cdn/profiles/1026106239</td>\n",
              "    </tr>\n",
              "    <tr>\n",
              "      <th>1</th>\n",
              "      <td>207.213.193.143</td>\n",
              "      <td>Get</td>\n",
              "      <td>304</td>\n",
              "      <td>0</td>\n",
              "      <td>Googlebot-Image/1.0</td>\n",
              "      <td>4</td>\n",
              "      <td>5</td>\n",
              "      <td>6</td>\n",
              "      <td>0</td>\n",
              "      <td>images/</td>\n",
              "      <td>badge.png</td>\n",
              "    </tr>\n",
              "    <tr>\n",
              "      <th>2</th>\n",
              "      <td>35.110.222.153</td>\n",
              "      <td>Get</td>\n",
              "      <td>200</td>\n",
              "      <td>52567</td>\n",
              "      <td>Mozilla/5.0 (Linux; Android 6.0.1; SAMSUNG SM-...</td>\n",
              "      <td>32</td>\n",
              "      <td>5</td>\n",
              "      <td>6</td>\n",
              "      <td>0</td>\n",
              "      <td>/</td>\n",
              "      <td>pages/630180847</td>\n",
              "    </tr>\n",
              "    <tr>\n",
              "      <th>3</th>\n",
              "      <td>35.108.208.99</td>\n",
              "      <td>Get</td>\n",
              "      <td>200</td>\n",
              "      <td>23531</td>\n",
              "      <td>Mozilla/5.0 (Linux; Android 6.0; CAM-L21) Appl...</td>\n",
              "      <td>20</td>\n",
              "      <td>5</td>\n",
              "      <td>6</td>\n",
              "      <td>0</td>\n",
              "      <td>images/</td>\n",
              "      <td>fav_icon2.ico</td>\n",
              "    </tr>\n",
              "    <tr>\n",
              "      <th>4</th>\n",
              "      <td>35.110.222.153</td>\n",
              "      <td>Get</td>\n",
              "      <td>200</td>\n",
              "      <td>4680</td>\n",
              "      <td>Mozilla/5.0 (Linux; Android 6.0.1; SAMSUNG SM-...</td>\n",
              "      <td>8</td>\n",
              "      <td>5</td>\n",
              "      <td>6</td>\n",
              "      <td>0</td>\n",
              "      <td>images/</td>\n",
              "      <td>sanjagh_logo_purpule5.png</td>\n",
              "    </tr>\n",
              "  </tbody>\n",
              "</table>\n",
              "</div>"
            ],
            "text/plain": [
              "            Client Method Status  ... Second Req_Path_L1                Req_Path_L2\n",
              "0  207.213.193.143    Get    304  ...      0           /    cdn/profiles/1026106239\n",
              "1  207.213.193.143    Get    304  ...      0     images/                  badge.png\n",
              "2   35.110.222.153    Get    200  ...      0           /            pages/630180847\n",
              "3    35.108.208.99    Get    200  ...      0     images/              fav_icon2.ico\n",
              "4   35.110.222.153    Get    200  ...      0     images/  sanjagh_logo_purpule5.png\n",
              "\n",
              "[5 rows x 11 columns]"
            ]
          },
          "metadata": {
            "tags": []
          },
          "execution_count": 22
        }
      ]
    },
    {
      "cell_type": "code",
      "metadata": {
        "id": "JR1Hi2wlis_x"
      },
      "source": [
        "server_req = data.loc[(data[\"Client\"] == '-') & (data[\"ResponseTime\"] == '-')]\n",
        "data.drop(server_req.index, axis=0, inplace=True)"
      ],
      "execution_count": null,
      "outputs": []
    },
    {
      "cell_type": "code",
      "metadata": {
        "colab": {
          "base_uri": "https://localhost:8080/",
          "height": 419
        },
        "id": "RqE62wrQLqOJ",
        "outputId": "d2c42ac6-3d87-4e32-f61b-47ab063f7927"
      },
      "source": [
        "data[(data[\"Client\"] != '-') & (data[\"ResponseTime\"] == '-')]"
      ],
      "execution_count": null,
      "outputs": [
        {
          "output_type": "execute_result",
          "data": {
            "text/html": [
              "<div>\n",
              "<style scoped>\n",
              "    .dataframe tbody tr th:only-of-type {\n",
              "        vertical-align: middle;\n",
              "    }\n",
              "\n",
              "    .dataframe tbody tr th {\n",
              "        vertical-align: top;\n",
              "    }\n",
              "\n",
              "    .dataframe thead th {\n",
              "        text-align: right;\n",
              "    }\n",
              "</style>\n",
              "<table border=\"1\" class=\"dataframe\">\n",
              "  <thead>\n",
              "    <tr style=\"text-align: right;\">\n",
              "      <th></th>\n",
              "      <th>Client</th>\n",
              "      <th>Method</th>\n",
              "      <th>Status</th>\n",
              "      <th>Length</th>\n",
              "      <th>UserAgent</th>\n",
              "      <th>ResponseTime</th>\n",
              "      <th>Hour</th>\n",
              "      <th>Minute</th>\n",
              "      <th>Second</th>\n",
              "      <th>Req_Path_L1</th>\n",
              "      <th>Req_Path_L2</th>\n",
              "    </tr>\n",
              "  </thead>\n",
              "  <tbody>\n",
              "    <tr>\n",
              "      <th>776</th>\n",
              "      <td>20.62.177.11</td>\n",
              "      <td>Get</td>\n",
              "      <td>200</td>\n",
              "      <td>53479</td>\n",
              "      <td>Mozilla/5.0 (compatible; SemrushBot/7~bl; +htt...</td>\n",
              "      <td>-</td>\n",
              "      <td>5</td>\n",
              "      <td>6</td>\n",
              "      <td>31</td>\n",
              "      <td>/</td>\n",
              "      <td>pros/1993352776</td>\n",
              "    </tr>\n",
              "    <tr>\n",
              "      <th>2010</th>\n",
              "      <td>20.62.177.60</td>\n",
              "      <td>Get</td>\n",
              "      <td>200</td>\n",
              "      <td>55330</td>\n",
              "      <td>Mozilla/5.0 (compatible; SemrushBot/7~bl; +htt...</td>\n",
              "      <td>-</td>\n",
              "      <td>5</td>\n",
              "      <td>7</td>\n",
              "      <td>27</td>\n",
              "      <td>/</td>\n",
              "      <td>pros/1797822247</td>\n",
              "    </tr>\n",
              "    <tr>\n",
              "      <th>2708</th>\n",
              "      <td>20.62.177.133</td>\n",
              "      <td>Get</td>\n",
              "      <td>200</td>\n",
              "      <td>20947</td>\n",
              "      <td>Mozilla/5.0 (compatible; SemrushBot/7~bl; +htt...</td>\n",
              "      <td>-</td>\n",
              "      <td>5</td>\n",
              "      <td>8</td>\n",
              "      <td>4</td>\n",
              "      <td>/</td>\n",
              "      <td>pros/763244865</td>\n",
              "    </tr>\n",
              "    <tr>\n",
              "      <th>2866</th>\n",
              "      <td>207.213.193.118</td>\n",
              "      <td>Get</td>\n",
              "      <td>301</td>\n",
              "      <td>169</td>\n",
              "      <td>Mozilla/5.0 (Linux; Android 6.0.1; Nexus 5X Bu...</td>\n",
              "      <td>-</td>\n",
              "      <td>5</td>\n",
              "      <td>8</td>\n",
              "      <td>18</td>\n",
              "      <td>/</td>\n",
              "      <td>pages/1939232229</td>\n",
              "    </tr>\n",
              "    <tr>\n",
              "      <th>3468</th>\n",
              "      <td>20.62.177.4</td>\n",
              "      <td>Get</td>\n",
              "      <td>200</td>\n",
              "      <td>37060</td>\n",
              "      <td>Mozilla/5.0 (compatible; SemrushBot/7~bl; +htt...</td>\n",
              "      <td>-</td>\n",
              "      <td>5</td>\n",
              "      <td>8</td>\n",
              "      <td>49</td>\n",
              "      <td>/</td>\n",
              "      <td>pros/2084824811</td>\n",
              "    </tr>\n",
              "    <tr>\n",
              "      <th>...</th>\n",
              "      <td>...</td>\n",
              "      <td>...</td>\n",
              "      <td>...</td>\n",
              "      <td>...</td>\n",
              "      <td>...</td>\n",
              "      <td>...</td>\n",
              "      <td>...</td>\n",
              "      <td>...</td>\n",
              "      <td>...</td>\n",
              "      <td>...</td>\n",
              "      <td>...</td>\n",
              "    </tr>\n",
              "    <tr>\n",
              "      <th>1257193</th>\n",
              "      <td>20.62.177.11</td>\n",
              "      <td>Get</td>\n",
              "      <td>200</td>\n",
              "      <td>24540</td>\n",
              "      <td>Mozilla/5.0 (compatible; SemrushBot/7~bl; +htt...</td>\n",
              "      <td>-</td>\n",
              "      <td>15</td>\n",
              "      <td>7</td>\n",
              "      <td>34</td>\n",
              "      <td>/</td>\n",
              "      <td>pros/1644096504</td>\n",
              "    </tr>\n",
              "    <tr>\n",
              "      <th>1257986</th>\n",
              "      <td>20.62.177.11</td>\n",
              "      <td>Get</td>\n",
              "      <td>200</td>\n",
              "      <td>36129</td>\n",
              "      <td>Mozilla/5.0 (compatible; SemrushBot/7~bl; +htt...</td>\n",
              "      <td>-</td>\n",
              "      <td>15</td>\n",
              "      <td>7</td>\n",
              "      <td>59</td>\n",
              "      <td>/</td>\n",
              "      <td>pros/743056796</td>\n",
              "    </tr>\n",
              "    <tr>\n",
              "      <th>1258079</th>\n",
              "      <td>20.62.177.161</td>\n",
              "      <td>Get</td>\n",
              "      <td>200</td>\n",
              "      <td>51334</td>\n",
              "      <td>Mozilla/5.0 (compatible; SemrushBot/7~bl; +htt...</td>\n",
              "      <td>-</td>\n",
              "      <td>15</td>\n",
              "      <td>8</td>\n",
              "      <td>2</td>\n",
              "      <td>/</td>\n",
              "      <td>pros/1177343248</td>\n",
              "    </tr>\n",
              "    <tr>\n",
              "      <th>1258456</th>\n",
              "      <td>207.213.207.17</td>\n",
              "      <td>Get</td>\n",
              "      <td>301</td>\n",
              "      <td>169</td>\n",
              "      <td>Mozilla/5.0 (Linux; Android 6.0.1; Nexus 5X Bu...</td>\n",
              "      <td>-</td>\n",
              "      <td>15</td>\n",
              "      <td>8</td>\n",
              "      <td>12</td>\n",
              "      <td>/</td>\n",
              "      <td>services/1404674245</td>\n",
              "    </tr>\n",
              "    <tr>\n",
              "      <th>1259453</th>\n",
              "      <td>153.126.111.1</td>\n",
              "      <td>Get</td>\n",
              "      <td>200</td>\n",
              "      <td>58833</td>\n",
              "      <td>Mozilla/5.0 (Linux; Android 4.4.4; SM-J100H) A...</td>\n",
              "      <td>-</td>\n",
              "      <td>15</td>\n",
              "      <td>8</td>\n",
              "      <td>39</td>\n",
              "      <td>/</td>\n",
              "      <td>pros/884190773</td>\n",
              "    </tr>\n",
              "  </tbody>\n",
              "</table>\n",
              "<p>1718 rows × 11 columns</p>\n",
              "</div>"
            ],
            "text/plain": [
              "                  Client Method Status  ... Second Req_Path_L1          Req_Path_L2\n",
              "776         20.62.177.11    Get    200  ...     31           /      pros/1993352776\n",
              "2010        20.62.177.60    Get    200  ...     27           /      pros/1797822247\n",
              "2708       20.62.177.133    Get    200  ...      4           /       pros/763244865\n",
              "2866     207.213.193.118    Get    301  ...     18           /     pages/1939232229\n",
              "3468         20.62.177.4    Get    200  ...     49           /      pros/2084824811\n",
              "...                  ...    ...    ...  ...    ...         ...                  ...\n",
              "1257193     20.62.177.11    Get    200  ...     34           /      pros/1644096504\n",
              "1257986     20.62.177.11    Get    200  ...     59           /       pros/743056796\n",
              "1258079    20.62.177.161    Get    200  ...      2           /      pros/1177343248\n",
              "1258456   207.213.207.17    Get    301  ...     12           /  services/1404674245\n",
              "1259453    153.126.111.1    Get    200  ...     39           /       pros/884190773\n",
              "\n",
              "[1718 rows x 11 columns]"
            ]
          },
          "metadata": {
            "tags": []
          },
          "execution_count": 24
        }
      ]
    },
    {
      "cell_type": "code",
      "metadata": {
        "id": "r-qbpN_OPZ5y"
      },
      "source": [
        "# Fill missing values for ResponseTime with 0\n",
        "data.loc[(data[\"Client\"] != '-') & (data[\"ResponseTime\"] == '-'), \"ResponseTime\"] = '0'"
      ],
      "execution_count": null,
      "outputs": []
    },
    {
      "cell_type": "code",
      "metadata": {
        "id": "OHAArp7-Ecnk"
      },
      "source": [
        "# Convert String to integers\n",
        "data[\"Length\"] = data[\"Length\"].astype(\"int64\")\n",
        "data[\"ResponseTime\"] = data[\"ResponseTime\"].astype(\"int64\")"
      ],
      "execution_count": null,
      "outputs": []
    },
    {
      "cell_type": "code",
      "metadata": {
        "colab": {
          "base_uri": "https://localhost:8080/"
        },
        "id": "gxC7sRljjBjf",
        "outputId": "efe1e22c-e52b-414d-ab1f-cc99bc25f5fc"
      },
      "source": [
        "data.info()"
      ],
      "execution_count": null,
      "outputs": [
        {
          "output_type": "stream",
          "text": [
            "<class 'pandas.core.frame.DataFrame'>\n",
            "Int64Index: 1241945 entries, 0 to 1260034\n",
            "Data columns (total 11 columns):\n",
            " #   Column        Non-Null Count    Dtype \n",
            "---  ------        --------------    ----- \n",
            " 0   Client        1241945 non-null  object\n",
            " 1   Method        1241945 non-null  object\n",
            " 2   Status        1241945 non-null  object\n",
            " 3   Length        1241945 non-null  int64 \n",
            " 4   UserAgent     1241945 non-null  object\n",
            " 5   ResponseTime  1241945 non-null  int64 \n",
            " 6   Hour          1241945 non-null  int64 \n",
            " 7   Minute        1241945 non-null  int64 \n",
            " 8   Second        1241945 non-null  int64 \n",
            " 9   Req_Path_L1   1241945 non-null  object\n",
            " 10  Req_Path_L2   1241945 non-null  object\n",
            "dtypes: int64(5), object(6)\n",
            "memory usage: 113.7+ MB\n"
          ],
          "name": "stdout"
        }
      ]
    },
    {
      "cell_type": "markdown",
      "metadata": {
        "id": "UVIzwC0CQw-C"
      },
      "source": [
        "### Fix Categorical\n",
        "\n",
        "* *Categorical features*: Method, Status, Client, UserAgent, Req_Path_L1, Req_Path_L2\n",
        "\n",
        "**OneHot Encoded**: Method, Req_Path_L1 ✅️  \n",
        "**Label Encoded**: Status ✅️  \n",
        "**Hashing Encoded**: Client, UserAgent, Req_Path_L2"
      ]
    },
    {
      "cell_type": "code",
      "metadata": {
        "colab": {
          "base_uri": "https://localhost:8080/"
        },
        "id": "NWLY86c4lRjR",
        "outputId": "a17b19a0-4e75-4992-b31c-fc220e59a04a"
      },
      "source": [
        "# Status feature\n",
        "data[\"Status\"].value_counts()"
      ],
      "execution_count": null,
      "outputs": [
        {
          "output_type": "execute_result",
          "data": {
            "text/plain": [
              "200    765525\n",
              "304    400543\n",
              "101     61407\n",
              "307      7704\n",
              "404      2004\n",
              "301      1635\n",
              "499      1122\n",
              "400       652\n",
              "405       616\n",
              "401       599\n",
              "206        96\n",
              "413        17\n",
              "403        13\n",
              "503         5\n",
              "408         3\n",
              "500         3\n",
              "308         1\n",
              "Name: Status, dtype: int64"
            ]
          },
          "metadata": {
            "tags": []
          },
          "execution_count": 28
        }
      ]
    },
    {
      "cell_type": "code",
      "metadata": {
        "id": "RbgYNtG7nTnc"
      },
      "source": [
        "# Fix Status, Client, UserAgent features\n",
        "data[\"Status\"] = data[\"Status\"].astype(\"category\")\n",
        "data[\"Status_cat\"] = data[\"Status\"].cat.codes+1\n",
        "\n",
        "data[\"Client\"] = data[\"Client\"].astype(\"category\")\n",
        "data[\"Clients_cat\"] = data[\"Client\"].cat.codes+1\n",
        "\n",
        "data[\"UserAgent\"] = data[\"UserAgent\"].astype(\"category\")\n",
        "data[\"UserAgents_cat\"] = data[\"UserAgent\"].cat.codes+1\n",
        "\n",
        "data.drop([\"Status\", \"Client\", \"UserAgent\"], axis=1, inplace=True)"
      ],
      "execution_count": null,
      "outputs": []
    },
    {
      "cell_type": "code",
      "metadata": {
        "colab": {
          "base_uri": "https://localhost:8080/"
        },
        "id": "8ZMW75ro4IOH",
        "outputId": "5dae79fe-8a6f-4467-80eb-adfff3988a22"
      },
      "source": [
        "data[\"Method\"].value_counts()"
      ],
      "execution_count": null,
      "outputs": [
        {
          "output_type": "execute_result",
          "data": {
            "text/plain": [
              "Get        1123709\n",
              "Put          65452\n",
              "Post         32452\n",
              "Head         20195\n",
              "Options        137\n",
              "Name: Method, dtype: int64"
            ]
          },
          "metadata": {
            "tags": []
          },
          "execution_count": 30
        }
      ]
    },
    {
      "cell_type": "code",
      "metadata": {
        "colab": {
          "base_uri": "https://localhost:8080/"
        },
        "id": "hMeBZ4D44MTQ",
        "outputId": "e8ac67de-f78e-424f-c3a9-9c8f0dfd1a51"
      },
      "source": [
        "data[\"Req_Path_L1\"].value_counts()"
      ],
      "execution_count": null,
      "outputs": [
        {
          "output_type": "execute_result",
          "data": {
            "text/plain": [
              "/             645820\n",
              "images/       298288\n",
              "js/           125224\n",
              "fonts/         98485\n",
              "css/           56303\n",
              "templates/     17825\n",
              "Name: Req_Path_L1, dtype: int64"
            ]
          },
          "metadata": {
            "tags": []
          },
          "execution_count": 31
        }
      ]
    },
    {
      "cell_type": "code",
      "metadata": {
        "colab": {
          "base_uri": "https://localhost:8080/"
        },
        "id": "KRFFmQb2lZ7-",
        "outputId": "d3b94409-861f-4dec-e912-071125591e64"
      },
      "source": [
        "# Fix Method & Req_Path_L1\n",
        "ce_one = ce.OneHotEncoder(cols=[\"Method\", \"Req_Path_L1\"])\n",
        "prepared_data = ce_one.fit_transform(data)"
      ],
      "execution_count": null,
      "outputs": [
        {
          "output_type": "stream",
          "text": [
            "/usr/local/lib/python3.7/dist-packages/category_encoders/utils.py:21: FutureWarning: is_categorical is deprecated and will be removed in a future version.  Use is_categorical_dtype instead\n",
            "  elif pd.api.types.is_categorical(cols):\n"
          ],
          "name": "stderr"
        }
      ]
    },
    {
      "cell_type": "code",
      "metadata": {
        "id": "-MUq-f9NajFY"
      },
      "source": [
        "# # Create a profile report\n",
        "# profile = ProfileReport(data)\n",
        "# profile.to_file(\"drive/MyDrive/Rahnema-College/Tuning/Final-Project/profile_report.html\")"
      ],
      "execution_count": null,
      "outputs": []
    },
    {
      "cell_type": "code",
      "metadata": {
        "colab": {
          "base_uri": "https://localhost:8080/",
          "height": 258
        },
        "id": "KJ7Aqu5Yw3bJ",
        "outputId": "399077f3-4390-443b-9256-9c9592c3375a"
      },
      "source": [
        "# Fix Client, UserAgent, Req_Path_L2 which should be hashed\n",
        "ce_hash = ce.HashingEncoder(cols=[\"Req_Path_L2\"])\n",
        "prepared_data = ce_hash.fit_transform(prepared_data)\n",
        "prepared_data.head()"
      ],
      "execution_count": null,
      "outputs": [
        {
          "output_type": "stream",
          "text": [
            "/usr/local/lib/python3.7/dist-packages/category_encoders/utils.py:21: FutureWarning: is_categorical is deprecated and will be removed in a future version.  Use is_categorical_dtype instead\n",
            "  elif pd.api.types.is_categorical(cols):\n"
          ],
          "name": "stderr"
        },
        {
          "output_type": "execute_result",
          "data": {
            "text/html": [
              "<div>\n",
              "<style scoped>\n",
              "    .dataframe tbody tr th:only-of-type {\n",
              "        vertical-align: middle;\n",
              "    }\n",
              "\n",
              "    .dataframe tbody tr th {\n",
              "        vertical-align: top;\n",
              "    }\n",
              "\n",
              "    .dataframe thead th {\n",
              "        text-align: right;\n",
              "    }\n",
              "</style>\n",
              "<table border=\"1\" class=\"dataframe\">\n",
              "  <thead>\n",
              "    <tr style=\"text-align: right;\">\n",
              "      <th></th>\n",
              "      <th>col_0</th>\n",
              "      <th>col_1</th>\n",
              "      <th>col_2</th>\n",
              "      <th>col_3</th>\n",
              "      <th>col_4</th>\n",
              "      <th>col_5</th>\n",
              "      <th>col_6</th>\n",
              "      <th>col_7</th>\n",
              "      <th>Method_1</th>\n",
              "      <th>Method_2</th>\n",
              "      <th>Method_3</th>\n",
              "      <th>Method_4</th>\n",
              "      <th>Method_5</th>\n",
              "      <th>Length</th>\n",
              "      <th>ResponseTime</th>\n",
              "      <th>Hour</th>\n",
              "      <th>Minute</th>\n",
              "      <th>Second</th>\n",
              "      <th>Req_Path_L1_1</th>\n",
              "      <th>Req_Path_L1_2</th>\n",
              "      <th>Req_Path_L1_3</th>\n",
              "      <th>Req_Path_L1_4</th>\n",
              "      <th>Req_Path_L1_5</th>\n",
              "      <th>Req_Path_L1_6</th>\n",
              "      <th>Status_cat</th>\n",
              "      <th>Clients_cat</th>\n",
              "      <th>UserAgents_cat</th>\n",
              "    </tr>\n",
              "  </thead>\n",
              "  <tbody>\n",
              "    <tr>\n",
              "      <th>0</th>\n",
              "      <td>0</td>\n",
              "      <td>0</td>\n",
              "      <td>0</td>\n",
              "      <td>0</td>\n",
              "      <td>0</td>\n",
              "      <td>0</td>\n",
              "      <td>1</td>\n",
              "      <td>0</td>\n",
              "      <td>1</td>\n",
              "      <td>0</td>\n",
              "      <td>0</td>\n",
              "      <td>0</td>\n",
              "      <td>0</td>\n",
              "      <td>0</td>\n",
              "      <td>32</td>\n",
              "      <td>5</td>\n",
              "      <td>6</td>\n",
              "      <td>0</td>\n",
              "      <td>1</td>\n",
              "      <td>0</td>\n",
              "      <td>0</td>\n",
              "      <td>0</td>\n",
              "      <td>0</td>\n",
              "      <td>0</td>\n",
              "      <td>5</td>\n",
              "      <td>11020</td>\n",
              "      <td>108</td>\n",
              "    </tr>\n",
              "    <tr>\n",
              "      <th>1</th>\n",
              "      <td>0</td>\n",
              "      <td>0</td>\n",
              "      <td>1</td>\n",
              "      <td>0</td>\n",
              "      <td>0</td>\n",
              "      <td>0</td>\n",
              "      <td>0</td>\n",
              "      <td>0</td>\n",
              "      <td>1</td>\n",
              "      <td>0</td>\n",
              "      <td>0</td>\n",
              "      <td>0</td>\n",
              "      <td>0</td>\n",
              "      <td>0</td>\n",
              "      <td>4</td>\n",
              "      <td>5</td>\n",
              "      <td>6</td>\n",
              "      <td>0</td>\n",
              "      <td>0</td>\n",
              "      <td>1</td>\n",
              "      <td>0</td>\n",
              "      <td>0</td>\n",
              "      <td>0</td>\n",
              "      <td>0</td>\n",
              "      <td>5</td>\n",
              "      <td>11020</td>\n",
              "      <td>108</td>\n",
              "    </tr>\n",
              "    <tr>\n",
              "      <th>2</th>\n",
              "      <td>0</td>\n",
              "      <td>0</td>\n",
              "      <td>0</td>\n",
              "      <td>1</td>\n",
              "      <td>0</td>\n",
              "      <td>0</td>\n",
              "      <td>0</td>\n",
              "      <td>0</td>\n",
              "      <td>1</td>\n",
              "      <td>0</td>\n",
              "      <td>0</td>\n",
              "      <td>0</td>\n",
              "      <td>0</td>\n",
              "      <td>52567</td>\n",
              "      <td>32</td>\n",
              "      <td>5</td>\n",
              "      <td>6</td>\n",
              "      <td>0</td>\n",
              "      <td>1</td>\n",
              "      <td>0</td>\n",
              "      <td>0</td>\n",
              "      <td>0</td>\n",
              "      <td>0</td>\n",
              "      <td>0</td>\n",
              "      <td>2</td>\n",
              "      <td>15870</td>\n",
              "      <td>5125</td>\n",
              "    </tr>\n",
              "    <tr>\n",
              "      <th>3</th>\n",
              "      <td>0</td>\n",
              "      <td>0</td>\n",
              "      <td>0</td>\n",
              "      <td>1</td>\n",
              "      <td>0</td>\n",
              "      <td>0</td>\n",
              "      <td>0</td>\n",
              "      <td>0</td>\n",
              "      <td>1</td>\n",
              "      <td>0</td>\n",
              "      <td>0</td>\n",
              "      <td>0</td>\n",
              "      <td>0</td>\n",
              "      <td>23531</td>\n",
              "      <td>20</td>\n",
              "      <td>5</td>\n",
              "      <td>6</td>\n",
              "      <td>0</td>\n",
              "      <td>0</td>\n",
              "      <td>1</td>\n",
              "      <td>0</td>\n",
              "      <td>0</td>\n",
              "      <td>0</td>\n",
              "      <td>0</td>\n",
              "      <td>2</td>\n",
              "      <td>14671</td>\n",
              "      <td>5759</td>\n",
              "    </tr>\n",
              "    <tr>\n",
              "      <th>4</th>\n",
              "      <td>0</td>\n",
              "      <td>0</td>\n",
              "      <td>0</td>\n",
              "      <td>0</td>\n",
              "      <td>0</td>\n",
              "      <td>0</td>\n",
              "      <td>0</td>\n",
              "      <td>1</td>\n",
              "      <td>1</td>\n",
              "      <td>0</td>\n",
              "      <td>0</td>\n",
              "      <td>0</td>\n",
              "      <td>0</td>\n",
              "      <td>4680</td>\n",
              "      <td>8</td>\n",
              "      <td>5</td>\n",
              "      <td>6</td>\n",
              "      <td>0</td>\n",
              "      <td>0</td>\n",
              "      <td>1</td>\n",
              "      <td>0</td>\n",
              "      <td>0</td>\n",
              "      <td>0</td>\n",
              "      <td>0</td>\n",
              "      <td>2</td>\n",
              "      <td>15870</td>\n",
              "      <td>5125</td>\n",
              "    </tr>\n",
              "  </tbody>\n",
              "</table>\n",
              "</div>"
            ],
            "text/plain": [
              "   col_0  col_1  col_2  ...  Status_cat  Clients_cat  UserAgents_cat\n",
              "0      0      0      0  ...           5        11020             108\n",
              "1      0      0      1  ...           5        11020             108\n",
              "2      0      0      0  ...           2        15870            5125\n",
              "3      0      0      0  ...           2        14671            5759\n",
              "4      0      0      0  ...           2        15870            5125\n",
              "\n",
              "[5 rows x 27 columns]"
            ]
          },
          "metadata": {
            "tags": []
          },
          "execution_count": 34
        }
      ]
    },
    {
      "cell_type": "code",
      "metadata": {
        "id": "fzJUhSTx6eFF"
      },
      "source": [
        "# Save Prepared Dataset\n",
        "prepared_data.to_csv(\"drive/MyDrive/Rahnema-College/Tuning/Final-Project/prepared_data.csv\", index=False)"
      ],
      "execution_count": null,
      "outputs": []
    },
    {
      "cell_type": "markdown",
      "metadata": {
        "id": "XCHPbjYUck1f"
      },
      "source": [
        "## Modeling\n",
        "\n",
        "### Labeling samples\n",
        "* K-Means\n",
        "* Isolation Forest\n",
        "* AutoEncoders"
      ]
    },
    {
      "cell_type": "code",
      "metadata": {
        "id": "eSyDw6Ltfvwi"
      },
      "source": [
        "# Load prepared dataset\n",
        "prepared_data = pd.read_csv(\"drive/MyDrive/Rahnema-College/Tuning/Final-Project/prepared_data.csv\")"
      ],
      "execution_count": 2,
      "outputs": []
    },
    {
      "cell_type": "code",
      "metadata": {
        "colab": {
          "base_uri": "https://localhost:8080/",
          "height": 224
        },
        "id": "ZeV61QK6fk-r",
        "outputId": "3ff9f326-3a23-4aa4-c6a3-74f1f227313c"
      },
      "source": [
        "# Scaling ResponseTime, Length\n",
        "scaler = StandardScaler()\n",
        "prepared_data[[\"Length\", \"ResponseTime\"]] = scaler.fit_transform(prepared_data[[\"Length\", \"ResponseTime\"]])\n",
        "prepared_data.head()"
      ],
      "execution_count": 3,
      "outputs": [
        {
          "output_type": "execute_result",
          "data": {
            "text/html": [
              "<div>\n",
              "<style scoped>\n",
              "    .dataframe tbody tr th:only-of-type {\n",
              "        vertical-align: middle;\n",
              "    }\n",
              "\n",
              "    .dataframe tbody tr th {\n",
              "        vertical-align: top;\n",
              "    }\n",
              "\n",
              "    .dataframe thead th {\n",
              "        text-align: right;\n",
              "    }\n",
              "</style>\n",
              "<table border=\"1\" class=\"dataframe\">\n",
              "  <thead>\n",
              "    <tr style=\"text-align: right;\">\n",
              "      <th></th>\n",
              "      <th>col_0</th>\n",
              "      <th>col_1</th>\n",
              "      <th>col_2</th>\n",
              "      <th>col_3</th>\n",
              "      <th>col_4</th>\n",
              "      <th>col_5</th>\n",
              "      <th>col_6</th>\n",
              "      <th>col_7</th>\n",
              "      <th>Method_1</th>\n",
              "      <th>Method_2</th>\n",
              "      <th>Method_3</th>\n",
              "      <th>Method_4</th>\n",
              "      <th>Method_5</th>\n",
              "      <th>Length</th>\n",
              "      <th>ResponseTime</th>\n",
              "      <th>Hour</th>\n",
              "      <th>Minute</th>\n",
              "      <th>Second</th>\n",
              "      <th>Req_Path_L1_1</th>\n",
              "      <th>Req_Path_L1_2</th>\n",
              "      <th>Req_Path_L1_3</th>\n",
              "      <th>Req_Path_L1_4</th>\n",
              "      <th>Req_Path_L1_5</th>\n",
              "      <th>Req_Path_L1_6</th>\n",
              "      <th>Status_cat</th>\n",
              "      <th>Clients_cat</th>\n",
              "      <th>UserAgents_cat</th>\n",
              "    </tr>\n",
              "  </thead>\n",
              "  <tbody>\n",
              "    <tr>\n",
              "      <th>0</th>\n",
              "      <td>0</td>\n",
              "      <td>0</td>\n",
              "      <td>0</td>\n",
              "      <td>0</td>\n",
              "      <td>0</td>\n",
              "      <td>0</td>\n",
              "      <td>1</td>\n",
              "      <td>0</td>\n",
              "      <td>1</td>\n",
              "      <td>0</td>\n",
              "      <td>0</td>\n",
              "      <td>0</td>\n",
              "      <td>0</td>\n",
              "      <td>-0.137731</td>\n",
              "      <td>-0.036748</td>\n",
              "      <td>5</td>\n",
              "      <td>6</td>\n",
              "      <td>0</td>\n",
              "      <td>1</td>\n",
              "      <td>0</td>\n",
              "      <td>0</td>\n",
              "      <td>0</td>\n",
              "      <td>0</td>\n",
              "      <td>0</td>\n",
              "      <td>5</td>\n",
              "      <td>11020</td>\n",
              "      <td>108</td>\n",
              "    </tr>\n",
              "    <tr>\n",
              "      <th>1</th>\n",
              "      <td>0</td>\n",
              "      <td>0</td>\n",
              "      <td>1</td>\n",
              "      <td>0</td>\n",
              "      <td>0</td>\n",
              "      <td>0</td>\n",
              "      <td>0</td>\n",
              "      <td>0</td>\n",
              "      <td>1</td>\n",
              "      <td>0</td>\n",
              "      <td>0</td>\n",
              "      <td>0</td>\n",
              "      <td>0</td>\n",
              "      <td>-0.137731</td>\n",
              "      <td>-0.036899</td>\n",
              "      <td>5</td>\n",
              "      <td>6</td>\n",
              "      <td>0</td>\n",
              "      <td>0</td>\n",
              "      <td>1</td>\n",
              "      <td>0</td>\n",
              "      <td>0</td>\n",
              "      <td>0</td>\n",
              "      <td>0</td>\n",
              "      <td>5</td>\n",
              "      <td>11020</td>\n",
              "      <td>108</td>\n",
              "    </tr>\n",
              "    <tr>\n",
              "      <th>2</th>\n",
              "      <td>0</td>\n",
              "      <td>0</td>\n",
              "      <td>0</td>\n",
              "      <td>1</td>\n",
              "      <td>0</td>\n",
              "      <td>0</td>\n",
              "      <td>0</td>\n",
              "      <td>0</td>\n",
              "      <td>1</td>\n",
              "      <td>0</td>\n",
              "      <td>0</td>\n",
              "      <td>0</td>\n",
              "      <td>0</td>\n",
              "      <td>0.018056</td>\n",
              "      <td>-0.036748</td>\n",
              "      <td>5</td>\n",
              "      <td>6</td>\n",
              "      <td>0</td>\n",
              "      <td>1</td>\n",
              "      <td>0</td>\n",
              "      <td>0</td>\n",
              "      <td>0</td>\n",
              "      <td>0</td>\n",
              "      <td>0</td>\n",
              "      <td>2</td>\n",
              "      <td>15870</td>\n",
              "      <td>5125</td>\n",
              "    </tr>\n",
              "    <tr>\n",
              "      <th>3</th>\n",
              "      <td>0</td>\n",
              "      <td>0</td>\n",
              "      <td>0</td>\n",
              "      <td>1</td>\n",
              "      <td>0</td>\n",
              "      <td>0</td>\n",
              "      <td>0</td>\n",
              "      <td>0</td>\n",
              "      <td>1</td>\n",
              "      <td>0</td>\n",
              "      <td>0</td>\n",
              "      <td>0</td>\n",
              "      <td>0</td>\n",
              "      <td>-0.067995</td>\n",
              "      <td>-0.036813</td>\n",
              "      <td>5</td>\n",
              "      <td>6</td>\n",
              "      <td>0</td>\n",
              "      <td>0</td>\n",
              "      <td>1</td>\n",
              "      <td>0</td>\n",
              "      <td>0</td>\n",
              "      <td>0</td>\n",
              "      <td>0</td>\n",
              "      <td>2</td>\n",
              "      <td>14671</td>\n",
              "      <td>5759</td>\n",
              "    </tr>\n",
              "    <tr>\n",
              "      <th>4</th>\n",
              "      <td>0</td>\n",
              "      <td>0</td>\n",
              "      <td>0</td>\n",
              "      <td>0</td>\n",
              "      <td>0</td>\n",
              "      <td>0</td>\n",
              "      <td>0</td>\n",
              "      <td>1</td>\n",
              "      <td>1</td>\n",
              "      <td>0</td>\n",
              "      <td>0</td>\n",
              "      <td>0</td>\n",
              "      <td>0</td>\n",
              "      <td>-0.123861</td>\n",
              "      <td>-0.036878</td>\n",
              "      <td>5</td>\n",
              "      <td>6</td>\n",
              "      <td>0</td>\n",
              "      <td>0</td>\n",
              "      <td>1</td>\n",
              "      <td>0</td>\n",
              "      <td>0</td>\n",
              "      <td>0</td>\n",
              "      <td>0</td>\n",
              "      <td>2</td>\n",
              "      <td>15870</td>\n",
              "      <td>5125</td>\n",
              "    </tr>\n",
              "  </tbody>\n",
              "</table>\n",
              "</div>"
            ],
            "text/plain": [
              "   col_0  col_1  col_2  ...  Status_cat  Clients_cat  UserAgents_cat\n",
              "0      0      0      0  ...           5        11020             108\n",
              "1      0      0      1  ...           5        11020             108\n",
              "2      0      0      0  ...           2        15870            5125\n",
              "3      0      0      0  ...           2        14671            5759\n",
              "4      0      0      0  ...           2        15870            5125\n",
              "\n",
              "[5 rows x 27 columns]"
            ]
          },
          "metadata": {
            "tags": []
          },
          "execution_count": 3
        }
      ]
    },
    {
      "cell_type": "code",
      "metadata": {
        "colab": {
          "base_uri": "https://localhost:8080/"
        },
        "id": "URf0woUacq9E",
        "outputId": "f151111c-45a7-41b8-a73a-6c7e395825bf"
      },
      "source": [
        "prepared_data.shape"
      ],
      "execution_count": 4,
      "outputs": [
        {
          "output_type": "execute_result",
          "data": {
            "text/plain": [
              "(1241945, 27)"
            ]
          },
          "metadata": {
            "tags": []
          },
          "execution_count": 4
        }
      ]
    },
    {
      "cell_type": "code",
      "metadata": {
        "id": "EE_gr-BdSaKv"
      },
      "source": [
        "# Create a function to fit models and get resul\n",
        "def label_data(model, data=prepared_data, random_state=10):\n",
        "  \"\"\"\n",
        "  Label samples given the model and dataset.\n",
        "  \"\"\"\n",
        "  # Fit model\n",
        "  model.fit(data)\n",
        "  # Get a copy of data with samples' class predicted by the model\n",
        "  predictions = data.copy()\n",
        "  predictions[\"Class\"] = model.predict(data)\n",
        "  # Plot result\n",
        "  predictions[\"Class\"].value_counts().plot(kind=\"bar\", grid=True)\n",
        "  plt.title(\"Number of Samples in each Class\");\n",
        "  \n",
        "  return predictions"
      ],
      "execution_count": 5,
      "outputs": []
    },
    {
      "cell_type": "markdown",
      "metadata": {
        "id": "nErF3bJkl8eK"
      },
      "source": [
        "#### KMeans"
      ]
    },
    {
      "cell_type": "code",
      "metadata": {
        "colab": {
          "base_uri": "https://localhost:8080/",
          "height": 281
        },
        "id": "OL847zAWaKeB",
        "outputId": "329284a4-670a-4bc6-9170-0719d912ade4"
      },
      "source": [
        "kmeans = KMeans(n_clusters=2, random_state=10)\n",
        "kmeans_preds = label_data(kmeans)"
      ],
      "execution_count": 6,
      "outputs": [
        {
          "output_type": "display_data",
          "data": {
            "image/png": "[encoded data removed]",
            "text/plain": [
              "<Figure size 432x288 with 1 Axes>"
            ]
          },
          "metadata": {
            "tags": [],
            "needs_background": "light"
          }
        }
      ]
    },
    {
      "cell_type": "code",
      "metadata": {
        "colab": {
          "base_uri": "https://localhost:8080/"
        },
        "id": "SjCKpV7AaYCr",
        "outputId": "c11966e4-32aa-4747-93bb-04fd1c163a8d"
      },
      "source": [
        "kmeans_preds[\"Class\"].value_counts()"
      ],
      "execution_count": 7,
      "outputs": [
        {
          "output_type": "execute_result",
          "data": {
            "text/plain": [
              "1    748704\n",
              "0    493241\n",
              "Name: Class, dtype: int64"
            ]
          },
          "metadata": {
            "tags": []
          },
          "execution_count": 7
        }
      ]
    },
    {
      "cell_type": "markdown",
      "metadata": {
        "id": "2ilcNcJimCU6"
      },
      "source": [
        "#### IsolationForest\n",
        "https://scikit-learn.org/stable/modules/generated/sklearn.ensemble.IsolationForest.html"
      ]
    },
    {
      "cell_type": "code",
      "metadata": {
        "colab": {
          "base_uri": "https://localhost:8080/",
          "height": 285
        },
        "id": "oARZPHVXarpr",
        "outputId": "f8f7012e-5ee3-45a8-e4e1-4873c662ddd0"
      },
      "source": [
        "iForset = IsolationForest(n_estimators=10, random_state=10)\n",
        "iForest_preds = label_data(iForset)"
      ],
      "execution_count": 8,
      "outputs": [
        {
          "output_type": "display_data",
          "data": {
            "image/png": "[encoded data removed]",
            "text/plain": [
              "<Figure size 432x288 with 1 Axes>"
            ]
          },
          "metadata": {
            "tags": [],
            "needs_background": "light"
          }
        }
      ]
    },
    {
      "cell_type": "code",
      "metadata": {
        "colab": {
          "base_uri": "https://localhost:8080/"
        },
        "id": "Qcwus8BqkQcg",
        "outputId": "9a408aa3-9a96-4812-c9d9-8d2cfc49f0a6"
      },
      "source": [
        "iForest_preds.Class.value_counts()"
      ],
      "execution_count": 9,
      "outputs": [
        {
          "output_type": "execute_result",
          "data": {
            "text/plain": [
              " 1    945190\n",
              "-1    296755\n",
              "Name: Class, dtype: int64"
            ]
          },
          "metadata": {
            "tags": []
          },
          "execution_count": 9
        }
      ]
    },
    {
      "cell_type": "code",
      "metadata": {
        "colab": {
          "base_uri": "https://localhost:8080/"
        },
        "id": "jfq5B2g_kVA-",
        "outputId": "ea5b6cd4-5a64-49d3-979d-746102e3c896"
      },
      "source": [
        "iForset.decision_function(np.array(prepared_data))"
      ],
      "execution_count": 10,
      "outputs": [
        {
          "output_type": "execute_result",
          "data": {
            "text/plain": [
              "array([-0.02800648, -0.00670248,  0.04121492, ...,  0.03891392,\n",
              "        0.11607035,  0.07659833])"
            ]
          },
          "metadata": {
            "tags": []
          },
          "execution_count": 10
        }
      ]
    },
    {
      "cell_type": "markdown",
      "metadata": {
        "id": "cawxWU9HmH2t"
      },
      "source": [
        "#### Guassian Mixture\n",
        "https://scikit-learn.org/stable/modules/generated/sklearn.mixture.GaussianMixture.html#sklearn.mixture.GaussianMixture"
      ]
    },
    {
      "cell_type": "code",
      "metadata": {
        "colab": {
          "base_uri": "https://localhost:8080/",
          "height": 281
        },
        "id": "Fs0gGnf3vnJA",
        "outputId": "907d1d5f-3265-43bf-c789-cb0e13db1a53"
      },
      "source": [
        "# Fit Gaussian Mixture models\n",
        "gm = GaussianMixture(n_components=2, random_state=10)\n",
        "gm_preds = label_data(gm)"
      ],
      "execution_count": 11,
      "outputs": [
        {
          "output_type": "display_data",
          "data": {
            "image/png": "[encoded data removed]",
            "text/plain": [
              "<Figure size 432x288 with 1 Axes>"
            ]
          },
          "metadata": {
            "tags": [],
            "needs_background": "light"
          }
        }
      ]
    },
    {
      "cell_type": "code",
      "metadata": {
        "colab": {
          "base_uri": "https://localhost:8080/"
        },
        "id": "i6LNIwfrvuZG",
        "outputId": "907476d8-e8d0-4769-c71f-18c3e6433cad"
      },
      "source": [
        "gm_preds.Class.value_counts()"
      ],
      "execution_count": 12,
      "outputs": [
        {
          "output_type": "execute_result",
          "data": {
            "text/plain": [
              "0    676316\n",
              "1    565629\n",
              "Name: Class, dtype: int64"
            ]
          },
          "metadata": {
            "tags": []
          },
          "execution_count": 12
        }
      ]
    },
    {
      "cell_type": "markdown",
      "metadata": {
        "id": "_YmlxNggEFl9"
      },
      "source": [
        "### AutoEncoder\n",
        "\n",
        "Train an AutoEncoder which detect anomalies in requests."
      ]
    },
    {
      "cell_type": "code",
      "metadata": {
        "colab": {
          "base_uri": "https://localhost:8080/"
        },
        "id": "hm4nediaEGEm",
        "outputId": "46bf2fd9-dca0-4248-aa0b-ae6e5a0afc85"
      },
      "source": [
        "# Define a function to split data labeled by models\n",
        "def split_data(data, target_label, test_size = 0.2, random_state = 10):\n",
        "  \"\"\"\n",
        "  Split the data which labeled by a model and turn it into X_train, X_test, y_train, y_test.\n",
        "  \"\"\"\n",
        "  np.random_state = random_state\n",
        "\n",
        "  X = data.drop(target_label, axis=1)\n",
        "  y = data.target_label\n",
        "\n",
        "  X_train, X_test, y_train, y_test = train_test_split(X, y, )\n",
        "\n"
      ],
      "execution_count": 15,
      "outputs": [
        {
          "output_type": "execute_result",
          "data": {
            "text/plain": [
              "array([  108.,   108.,  5125., ..., 11301.,   108.,   108.])"
            ]
          },
          "metadata": {
            "tags": []
          },
          "execution_count": 15
        }
      ]
    },
    {
      "cell_type": "code",
      "metadata": {
        "id": "-1CXaTSjHg0Q"
      },
      "source": [
        ""
      ],
      "execution_count": null,
      "outputs": []
    }
  ]
}