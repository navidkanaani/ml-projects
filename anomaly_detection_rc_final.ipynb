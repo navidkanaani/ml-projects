{
  "nbformat": 4,
  "nbformat_minor": 0,
  "metadata": {
    "colab": {
      "name": "Crawler_detection_v2.ipynb",
      "provenance": [],
      "collapsed_sections": [
        "CkRLF9YeWGmC",
        "L0iJfYL5MMVM",
        "7qKIa0u40htM",
        "a-2bv4b2iqqt",
        "9_epeI1sjOND",
        "UZx0mIPNWsmY",
        "MADbWDgippiG",
        "nqw_E_UF9egR",
        "VyFWG_lJz0G_"
      ]
    },
    "kernelspec": {
      "name": "python3",
      "display_name": "Python 3"
    },
    "language_info": {
      "name": "python"
    }
  },
  "cells": [
    {
      "cell_type": "markdown",
      "metadata": {
        "id": "DX-1CcG-oJ8d"
      },
      "source": [
        "# Crawler detection based on sessions\n",
        "This notebook related to crawler detection with another approach."
      ]
    },
    {
      "cell_type": "markdown",
      "metadata": {
        "id": "CkRLF9YeWGmC"
      },
      "source": [
        "## Requirements"
      ]
    },
    {
      "cell_type": "code",
      "metadata": {
        "id": "wpxcehO7p2uH",
        "colab": {
          "base_uri": "https://localhost:8080/"
        },
        "outputId": "86434292-76dc-4921-d592-13d8cab4d6fd"
      },
      "source": [
        "# Import requirements\n",
        "import re\n",
        "import pandas as pd\n",
        "import numpy as np\n",
        "\n",
        "!pip install pandas-profiling==2.7.1\n",
        "from pandas_profiling import ProfileReport\n",
        "\n",
        "import matplotlib.pyplot as plt\n",
        "import seaborn as sns\n",
        "\n",
        "!pip install category_encoders\n",
        "import category_encoders as ce\n",
        "\n",
        "from sklearn.model_selection import train_test_split\n",
        "from sklearn.preprocessing import StandardScaler\n",
        "\n",
        "!pip install pyyaml ua-parser user-agents\n",
        "from user_agents import parse\n",
        "\n",
        "# Models\n",
        "from sklearn.cluster import KMeans\n",
        "from sklearn.ensemble import IsolationForest\n",
        "from sklearn.mixture import GaussianMixture\n",
        "from sklearn.neighbors import NearestNeighbors\n",
        "from sklearn.decomposition import PCA"
      ],
      "execution_count": null,
      "outputs": [
        {
          "output_type": "stream",
          "text": [
            "Collecting pandas-profiling==2.7.1\n",
            "\u001b[?25l  Downloading https://files.pythonhosted.org/packages/50/8a/25da481171f4912e2515a76fe31b7a4f036a443b8858b244ef7daaffd5b6/pandas_profiling-2.7.1-py2.py3-none-any.whl (252kB)\n",
            "\r\u001b[K     |█▎                              | 10kB 14.5MB/s eta 0:00:01\r\u001b[K     |██▋                             | 20kB 19.4MB/s eta 0:00:01\r\u001b[K     |████                            | 30kB 14.2MB/s eta 0:00:01\r\u001b[K     |█████▏                          | 40kB 10.1MB/s eta 0:00:01\r\u001b[K     |██████▌                         | 51kB 5.4MB/s eta 0:00:01\r\u001b[K     |███████▉                        | 61kB 5.8MB/s eta 0:00:01\r\u001b[K     |█████████                       | 71kB 5.9MB/s eta 0:00:01\r\u001b[K     |██████████▍                     | 81kB 5.9MB/s eta 0:00:01\r\u001b[K     |███████████▊                    | 92kB 6.1MB/s eta 0:00:01\r\u001b[K     |█████████████                   | 102kB 5.2MB/s eta 0:00:01\r\u001b[K     |██████████████▎                 | 112kB 5.2MB/s eta 0:00:01\r\u001b[K     |███████████████▋                | 122kB 5.2MB/s eta 0:00:01\r\u001b[K     |█████████████████               | 133kB 5.2MB/s eta 0:00:01\r\u001b[K     |██████████████████▏             | 143kB 5.2MB/s eta 0:00:01\r\u001b[K     |███████████████████▌            | 153kB 5.2MB/s eta 0:00:01\r\u001b[K     |████████████████████▉           | 163kB 5.2MB/s eta 0:00:01\r\u001b[K     |██████████████████████          | 174kB 5.2MB/s eta 0:00:01\r\u001b[K     |███████████████████████▍        | 184kB 5.2MB/s eta 0:00:01\r\u001b[K     |████████████████████████▊       | 194kB 5.2MB/s eta 0:00:01\r\u001b[K     |██████████████████████████      | 204kB 5.2MB/s eta 0:00:01\r\u001b[K     |███████████████████████████▎    | 215kB 5.2MB/s eta 0:00:01\r\u001b[K     |████████████████████████████▋   | 225kB 5.2MB/s eta 0:00:01\r\u001b[K     |██████████████████████████████  | 235kB 5.2MB/s eta 0:00:01\r\u001b[K     |███████████████████████████████▏| 245kB 5.2MB/s eta 0:00:01\r\u001b[K     |████████████████████████████████| 256kB 5.2MB/s \n",
            "\u001b[?25hRequirement already satisfied: jinja2>=2.11.1 in /usr/local/lib/python3.7/dist-packages (from pandas-profiling==2.7.1) (2.11.3)\n",
            "Requirement already satisfied: missingno>=0.4.2 in /usr/local/lib/python3.7/dist-packages (from pandas-profiling==2.7.1) (0.4.2)\n",
            "Requirement already satisfied: pandas!=1.0.0,!=1.0.1,!=1.0.2,>=0.25.3 in /usr/local/lib/python3.7/dist-packages (from pandas-profiling==2.7.1) (1.1.5)\n",
            "Collecting phik>=0.9.10\n",
            "\u001b[?25l  Downloading https://files.pythonhosted.org/packages/b7/ce/193e8ddf62d4be643b9b4b20e8e9c63b2f6a20f92778c0410c629f89bdaa/phik-0.11.2.tar.gz (1.1MB)\n",
            "\u001b[K     |████████████████████████████████| 1.1MB 38.5MB/s \n",
            "\u001b[?25hRequirement already satisfied: scipy>=1.4.1 in /usr/local/lib/python3.7/dist-packages (from pandas-profiling==2.7.1) (1.4.1)\n",
            "Requirement already satisfied: matplotlib>=3.2.0 in /usr/local/lib/python3.7/dist-packages (from pandas-profiling==2.7.1) (3.2.2)\n",
            "Collecting confuse>=1.0.0\n",
            "  Downloading https://files.pythonhosted.org/packages/ec/13/dae6eb3d7e40d5c79e2b6fba4192c84e8390c82e02e1c8ad4a8c4224f292/confuse-1.5.0-py2.py3-none-any.whl\n",
            "Collecting visions[type_image_path]==0.4.1\n",
            "\u001b[?25l  Downloading https://files.pythonhosted.org/packages/13/fe/7614dec3db3f20882ff12dae0a58b579e97b590f2994ce9c953fe179d512/visions-0.4.1-py3-none-any.whl (58kB)\n",
            "\u001b[K     |████████████████████████████████| 61kB 7.0MB/s \n",
            "\u001b[?25hRequirement already satisfied: astropy>=4.0 in /usr/local/lib/python3.7/dist-packages (from pandas-profiling==2.7.1) (4.2.1)\n",
            "Requirement already satisfied: requests>=2.23.0 in /usr/local/lib/python3.7/dist-packages (from pandas-profiling==2.7.1) (2.23.0)\n",
            "Requirement already satisfied: joblib in /usr/local/lib/python3.7/dist-packages (from pandas-profiling==2.7.1) (1.0.1)\n",
            "Requirement already satisfied: numpy>=1.16.0 in /usr/local/lib/python3.7/dist-packages (from pandas-profiling==2.7.1) (1.19.5)\n",
            "Collecting htmlmin>=0.1.12\n",
            "  Downloading https://files.pythonhosted.org/packages/b3/e7/fcd59e12169de19f0131ff2812077f964c6b960e7c09804d30a7bf2ab461/htmlmin-0.1.12.tar.gz\n",
            "Collecting tqdm>=4.43.0\n",
            "\u001b[?25l  Downloading https://files.pythonhosted.org/packages/7a/ec/f8ff3ccfc4e59ce619a66a0bf29dc3b49c2e8c07de29d572e191c006eaa2/tqdm-4.61.2-py2.py3-none-any.whl (76kB)\n",
            "\u001b[K     |████████████████████████████████| 81kB 8.3MB/s \n",
            "\u001b[?25hCollecting tangled-up-in-unicode>=0.0.4\n",
            "\u001b[?25l  Downloading https://files.pythonhosted.org/packages/93/3e/cb354fb2097fcf2fd5b5a342b10ae2a6e9363ba435b64e3e00c414064bc7/tangled_up_in_unicode-0.1.0-py3-none-any.whl (3.1MB)\n",
            "\u001b[K     |████████████████████████████████| 3.1MB 22.2MB/s \n",
            "\u001b[?25hRequirement already satisfied: ipywidgets>=7.5.1 in /usr/local/lib/python3.7/dist-packages (from pandas-profiling==2.7.1) (7.6.3)\n",
            "Requirement already satisfied: MarkupSafe>=0.23 in /usr/local/lib/python3.7/dist-packages (from jinja2>=2.11.1->pandas-profiling==2.7.1) (2.0.1)\n",
            "Requirement already satisfied: seaborn in /usr/local/lib/python3.7/dist-packages (from missingno>=0.4.2->pandas-profiling==2.7.1) (0.11.1)\n",
            "Requirement already satisfied: python-dateutil>=2.7.3 in /usr/local/lib/python3.7/dist-packages (from pandas!=1.0.0,!=1.0.1,!=1.0.2,>=0.25.3->pandas-profiling==2.7.1) (2.8.1)\n",
            "Requirement already satisfied: pytz>=2017.2 in /usr/local/lib/python3.7/dist-packages (from pandas!=1.0.0,!=1.0.1,!=1.0.2,>=0.25.3->pandas-profiling==2.7.1) (2018.9)\n",
            "Requirement already satisfied: pyparsing!=2.0.4,!=2.1.2,!=2.1.6,>=2.0.1 in /usr/local/lib/python3.7/dist-packages (from matplotlib>=3.2.0->pandas-profiling==2.7.1) (2.4.7)\n",
            "Requirement already satisfied: kiwisolver>=1.0.1 in /usr/local/lib/python3.7/dist-packages (from matplotlib>=3.2.0->pandas-profiling==2.7.1) (1.3.1)\n",
            "Requirement already satisfied: cycler>=0.10 in /usr/local/lib/python3.7/dist-packages (from matplotlib>=3.2.0->pandas-profiling==2.7.1) (0.10.0)\n",
            "Requirement already satisfied: pyyaml in /usr/local/lib/python3.7/dist-packages (from confuse>=1.0.0->pandas-profiling==2.7.1) (3.13)\n",
            "Requirement already satisfied: attrs>=19.3.0 in /usr/local/lib/python3.7/dist-packages (from visions[type_image_path]==0.4.1->pandas-profiling==2.7.1) (21.2.0)\n",
            "Requirement already satisfied: networkx>=2.4 in /usr/local/lib/python3.7/dist-packages (from visions[type_image_path]==0.4.1->pandas-profiling==2.7.1) (2.5.1)\n",
            "Requirement already satisfied: Pillow; extra == \"type_image_path\" in /usr/local/lib/python3.7/dist-packages (from visions[type_image_path]==0.4.1->pandas-profiling==2.7.1) (7.1.2)\n",
            "Collecting imagehash; extra == \"type_image_path\"\n",
            "\u001b[?25l  Downloading https://files.pythonhosted.org/packages/8e/18/9dbb772b5ef73a3069c66bb5bf29b9fb4dd57af0d5790c781c3f559bcca6/ImageHash-4.2.0-py2.py3-none-any.whl (295kB)\n",
            "\u001b[K     |████████████████████████████████| 296kB 39.7MB/s \n",
            "\u001b[?25hRequirement already satisfied: pyerfa in /usr/local/lib/python3.7/dist-packages (from astropy>=4.0->pandas-profiling==2.7.1) (2.0.0)\n",
            "Requirement already satisfied: certifi>=2017.4.17 in /usr/local/lib/python3.7/dist-packages (from requests>=2.23.0->pandas-profiling==2.7.1) (2021.5.30)\n",
            "Requirement already satisfied: urllib3!=1.25.0,!=1.25.1,<1.26,>=1.21.1 in /usr/local/lib/python3.7/dist-packages (from requests>=2.23.0->pandas-profiling==2.7.1) (1.24.3)\n",
            "Requirement already satisfied: chardet<4,>=3.0.2 in /usr/local/lib/python3.7/dist-packages (from requests>=2.23.0->pandas-profiling==2.7.1) (3.0.4)\n",
            "Requirement already satisfied: idna<3,>=2.5 in /usr/local/lib/python3.7/dist-packages (from requests>=2.23.0->pandas-profiling==2.7.1) (2.10)\n",
            "Requirement already satisfied: ipython>=4.0.0; python_version >= \"3.3\" in /usr/local/lib/python3.7/dist-packages (from ipywidgets>=7.5.1->pandas-profiling==2.7.1) (5.5.0)\n",
            "Requirement already satisfied: ipykernel>=4.5.1 in /usr/local/lib/python3.7/dist-packages (from ipywidgets>=7.5.1->pandas-profiling==2.7.1) (4.10.1)\n",
            "Requirement already satisfied: widgetsnbextension~=3.5.0 in /usr/local/lib/python3.7/dist-packages (from ipywidgets>=7.5.1->pandas-profiling==2.7.1) (3.5.1)\n",
            "Requirement already satisfied: traitlets>=4.3.1 in /usr/local/lib/python3.7/dist-packages (from ipywidgets>=7.5.1->pandas-profiling==2.7.1) (5.0.5)\n",
            "Requirement already satisfied: jupyterlab-widgets>=1.0.0; python_version >= \"3.6\" in /usr/local/lib/python3.7/dist-packages (from ipywidgets>=7.5.1->pandas-profiling==2.7.1) (1.0.0)\n",
            "Requirement already satisfied: nbformat>=4.2.0 in /usr/local/lib/python3.7/dist-packages (from ipywidgets>=7.5.1->pandas-profiling==2.7.1) (5.1.3)\n",
            "Requirement already satisfied: six>=1.5 in /usr/local/lib/python3.7/dist-packages (from python-dateutil>=2.7.3->pandas!=1.0.0,!=1.0.1,!=1.0.2,>=0.25.3->pandas-profiling==2.7.1) (1.15.0)\n",
            "Requirement already satisfied: decorator<5,>=4.3 in /usr/local/lib/python3.7/dist-packages (from networkx>=2.4->visions[type_image_path]==0.4.1->pandas-profiling==2.7.1) (4.4.2)\n",
            "Requirement already satisfied: PyWavelets in /usr/local/lib/python3.7/dist-packages (from imagehash; extra == \"type_image_path\"->visions[type_image_path]==0.4.1->pandas-profiling==2.7.1) (1.1.1)\n",
            "Requirement already satisfied: pexpect; sys_platform != \"win32\" in /usr/local/lib/python3.7/dist-packages (from ipython>=4.0.0; python_version >= \"3.3\"->ipywidgets>=7.5.1->pandas-profiling==2.7.1) (4.8.0)\n",
            "Requirement already satisfied: prompt-toolkit<2.0.0,>=1.0.4 in /usr/local/lib/python3.7/dist-packages (from ipython>=4.0.0; python_version >= \"3.3\"->ipywidgets>=7.5.1->pandas-profiling==2.7.1) (1.0.18)\n",
            "Requirement already satisfied: pygments in /usr/local/lib/python3.7/dist-packages (from ipython>=4.0.0; python_version >= \"3.3\"->ipywidgets>=7.5.1->pandas-profiling==2.7.1) (2.6.1)\n",
            "Requirement already satisfied: pickleshare in /usr/local/lib/python3.7/dist-packages (from ipython>=4.0.0; python_version >= \"3.3\"->ipywidgets>=7.5.1->pandas-profiling==2.7.1) (0.7.5)\n",
            "Requirement already satisfied: simplegeneric>0.8 in /usr/local/lib/python3.7/dist-packages (from ipython>=4.0.0; python_version >= \"3.3\"->ipywidgets>=7.5.1->pandas-profiling==2.7.1) (0.8.1)\n",
            "Requirement already satisfied: setuptools>=18.5 in /usr/local/lib/python3.7/dist-packages (from ipython>=4.0.0; python_version >= \"3.3\"->ipywidgets>=7.5.1->pandas-profiling==2.7.1) (57.0.0)\n",
            "Requirement already satisfied: jupyter-client in /usr/local/lib/python3.7/dist-packages (from ipykernel>=4.5.1->ipywidgets>=7.5.1->pandas-profiling==2.7.1) (5.3.5)\n",
            "Requirement already satisfied: tornado>=4.0 in /usr/local/lib/python3.7/dist-packages (from ipykernel>=4.5.1->ipywidgets>=7.5.1->pandas-profiling==2.7.1) (5.1.1)\n",
            "Requirement already satisfied: notebook>=4.4.1 in /usr/local/lib/python3.7/dist-packages (from widgetsnbextension~=3.5.0->ipywidgets>=7.5.1->pandas-profiling==2.7.1) (5.3.1)\n",
            "Requirement already satisfied: ipython-genutils in /usr/local/lib/python3.7/dist-packages (from traitlets>=4.3.1->ipywidgets>=7.5.1->pandas-profiling==2.7.1) (0.2.0)\n",
            "Requirement already satisfied: jupyter-core in /usr/local/lib/python3.7/dist-packages (from nbformat>=4.2.0->ipywidgets>=7.5.1->pandas-profiling==2.7.1) (4.7.1)\n",
            "Requirement already satisfied: jsonschema!=2.5.0,>=2.4 in /usr/local/lib/python3.7/dist-packages (from nbformat>=4.2.0->ipywidgets>=7.5.1->pandas-profiling==2.7.1) (2.6.0)\n",
            "Requirement already satisfied: ptyprocess>=0.5 in /usr/local/lib/python3.7/dist-packages (from pexpect; sys_platform != \"win32\"->ipython>=4.0.0; python_version >= \"3.3\"->ipywidgets>=7.5.1->pandas-profiling==2.7.1) (0.7.0)\n",
            "Requirement already satisfied: wcwidth in /usr/local/lib/python3.7/dist-packages (from prompt-toolkit<2.0.0,>=1.0.4->ipython>=4.0.0; python_version >= \"3.3\"->ipywidgets>=7.5.1->pandas-profiling==2.7.1) (0.2.5)\n",
            "Requirement already satisfied: pyzmq>=13 in /usr/local/lib/python3.7/dist-packages (from jupyter-client->ipykernel>=4.5.1->ipywidgets>=7.5.1->pandas-profiling==2.7.1) (22.1.0)\n",
            "Requirement already satisfied: Send2Trash in /usr/local/lib/python3.7/dist-packages (from notebook>=4.4.1->widgetsnbextension~=3.5.0->ipywidgets>=7.5.1->pandas-profiling==2.7.1) (1.7.1)\n",
            "Requirement already satisfied: terminado>=0.8.1 in /usr/local/lib/python3.7/dist-packages (from notebook>=4.4.1->widgetsnbextension~=3.5.0->ipywidgets>=7.5.1->pandas-profiling==2.7.1) (0.10.1)\n",
            "Requirement already satisfied: nbconvert in /usr/local/lib/python3.7/dist-packages (from notebook>=4.4.1->widgetsnbextension~=3.5.0->ipywidgets>=7.5.1->pandas-profiling==2.7.1) (5.6.1)\n",
            "Requirement already satisfied: pandocfilters>=1.4.1 in /usr/local/lib/python3.7/dist-packages (from nbconvert->notebook>=4.4.1->widgetsnbextension~=3.5.0->ipywidgets>=7.5.1->pandas-profiling==2.7.1) (1.4.3)\n",
            "Requirement already satisfied: defusedxml in /usr/local/lib/python3.7/dist-packages (from nbconvert->notebook>=4.4.1->widgetsnbextension~=3.5.0->ipywidgets>=7.5.1->pandas-profiling==2.7.1) (0.7.1)\n",
            "Requirement already satisfied: entrypoints>=0.2.2 in /usr/local/lib/python3.7/dist-packages (from nbconvert->notebook>=4.4.1->widgetsnbextension~=3.5.0->ipywidgets>=7.5.1->pandas-profiling==2.7.1) (0.3)\n",
            "Requirement already satisfied: testpath in /usr/local/lib/python3.7/dist-packages (from nbconvert->notebook>=4.4.1->widgetsnbextension~=3.5.0->ipywidgets>=7.5.1->pandas-profiling==2.7.1) (0.5.0)\n",
            "Requirement already satisfied: bleach in /usr/local/lib/python3.7/dist-packages (from nbconvert->notebook>=4.4.1->widgetsnbextension~=3.5.0->ipywidgets>=7.5.1->pandas-profiling==2.7.1) (3.3.0)\n",
            "Requirement already satisfied: mistune<2,>=0.8.1 in /usr/local/lib/python3.7/dist-packages (from nbconvert->notebook>=4.4.1->widgetsnbextension~=3.5.0->ipywidgets>=7.5.1->pandas-profiling==2.7.1) (0.8.4)\n",
            "Requirement already satisfied: packaging in /usr/local/lib/python3.7/dist-packages (from bleach->nbconvert->notebook>=4.4.1->widgetsnbextension~=3.5.0->ipywidgets>=7.5.1->pandas-profiling==2.7.1) (20.9)\n",
            "Requirement already satisfied: webencodings in /usr/local/lib/python3.7/dist-packages (from bleach->nbconvert->notebook>=4.4.1->widgetsnbextension~=3.5.0->ipywidgets>=7.5.1->pandas-profiling==2.7.1) (0.5.1)\n",
            "Building wheels for collected packages: phik, htmlmin\n",
            "  Building wheel for phik (setup.py) ... \u001b[?25l\u001b[?25hdone\n",
            "  Created wheel for phik: filename=phik-0.11.2-cp37-none-any.whl size=1107437 sha256=bd1073f06d3d1a8cd7df6b9629fc9319bd810842ded9184c5c1c101acd953bdf\n",
            "  Stored in directory: /root/.cache/pip/wheels/c0/a3/b0/f27b1cfe32ea131a3715169132ff6d85653789e80e966c3bf6\n",
            "  Building wheel for htmlmin (setup.py) ... \u001b[?25l\u001b[?25hdone\n",
            "  Created wheel for htmlmin: filename=htmlmin-0.1.12-cp37-none-any.whl size=27099 sha256=bdd4cbeeb2609b48a14b45fe52c418bc942395fb4d5a64d6ac18310642208004\n",
            "  Stored in directory: /root/.cache/pip/wheels/43/07/ac/7c5a9d708d65247ac1f94066cf1db075540b85716c30255459\n",
            "Successfully built phik htmlmin\n",
            "\u001b[31mERROR: phik 0.11.2 has requirement scipy>=1.5.2, but you'll have scipy 1.4.1 which is incompatible.\u001b[0m\n",
            "Installing collected packages: phik, confuse, tangled-up-in-unicode, imagehash, visions, htmlmin, tqdm, pandas-profiling\n",
            "  Found existing installation: tqdm 4.41.1\n",
            "    Uninstalling tqdm-4.41.1:\n",
            "      Successfully uninstalled tqdm-4.41.1\n",
            "  Found existing installation: pandas-profiling 1.4.1\n",
            "    Uninstalling pandas-profiling-1.4.1:\n",
            "      Successfully uninstalled pandas-profiling-1.4.1\n",
            "Successfully installed confuse-1.5.0 htmlmin-0.1.12 imagehash-4.2.0 pandas-profiling-2.7.1 phik-0.11.2 tangled-up-in-unicode-0.1.0 tqdm-4.61.2 visions-0.4.1\n",
            "Collecting category_encoders\n",
            "\u001b[?25l  Downloading https://files.pythonhosted.org/packages/44/57/fcef41c248701ee62e8325026b90c432adea35555cbc870aff9cfba23727/category_encoders-2.2.2-py2.py3-none-any.whl (80kB)\n",
            "\u001b[K     |████████████████████████████████| 81kB 3.9MB/s \n",
            "\u001b[?25hRequirement already satisfied: statsmodels>=0.9.0 in /usr/local/lib/python3.7/dist-packages (from category_encoders) (0.10.2)\n",
            "Requirement already satisfied: patsy>=0.5.1 in /usr/local/lib/python3.7/dist-packages (from category_encoders) (0.5.1)\n",
            "Requirement already satisfied: scikit-learn>=0.20.0 in /usr/local/lib/python3.7/dist-packages (from category_encoders) (0.22.2.post1)\n",
            "Requirement already satisfied: scipy>=1.0.0 in /usr/local/lib/python3.7/dist-packages (from category_encoders) (1.4.1)\n",
            "Requirement already satisfied: pandas>=0.21.1 in /usr/local/lib/python3.7/dist-packages (from category_encoders) (1.1.5)\n",
            "Requirement already satisfied: numpy>=1.14.0 in /usr/local/lib/python3.7/dist-packages (from category_encoders) (1.19.5)\n",
            "Requirement already satisfied: six in /usr/local/lib/python3.7/dist-packages (from patsy>=0.5.1->category_encoders) (1.15.0)\n",
            "Requirement already satisfied: joblib>=0.11 in /usr/local/lib/python3.7/dist-packages (from scikit-learn>=0.20.0->category_encoders) (1.0.1)\n",
            "Requirement already satisfied: python-dateutil>=2.7.3 in /usr/local/lib/python3.7/dist-packages (from pandas>=0.21.1->category_encoders) (2.8.1)\n",
            "Requirement already satisfied: pytz>=2017.2 in /usr/local/lib/python3.7/dist-packages (from pandas>=0.21.1->category_encoders) (2018.9)\n",
            "Installing collected packages: category-encoders\n",
            "Successfully installed category-encoders-2.2.2\n"
          ],
          "name": "stdout"
        },
        {
          "output_type": "stream",
          "text": [
            "/usr/local/lib/python3.7/dist-packages/statsmodels/tools/_testing.py:19: FutureWarning: pandas.util.testing is deprecated. Use the functions in the public API at pandas.testing instead.\n",
            "  import pandas.util.testing as tm\n"
          ],
          "name": "stderr"
        },
        {
          "output_type": "stream",
          "text": [
            "Requirement already satisfied: pyyaml in /usr/local/lib/python3.7/dist-packages (3.13)\n",
            "Collecting ua-parser\n",
            "  Downloading https://files.pythonhosted.org/packages/9d/22/4d16b08db329fd440eed366d35e4dd7195c9babb4ecac5218f28081522a2/ua_parser-0.10.0-py2.py3-none-any.whl\n",
            "Collecting user-agents\n",
            "  Downloading https://files.pythonhosted.org/packages/8f/1c/20bb3d7b2bad56d881e3704131ddedbb16eb787101306887dff349064662/user_agents-2.2.0-py3-none-any.whl\n",
            "Installing collected packages: ua-parser, user-agents\n",
            "Successfully installed ua-parser-0.10.0 user-agents-2.2.0\n"
          ],
          "name": "stdout"
        }
      ]
    },
    {
      "cell_type": "code",
      "metadata": {
        "colab": {
          "base_uri": "https://localhost:8080/"
        },
        "id": "V0saYdMP_u1i",
        "outputId": "cc695493-1474-4be6-9e25-efafabc34730"
      },
      "source": [
        "from google.colab import drive\n",
        "drive.mount(\"/content/drive/\")"
      ],
      "execution_count": null,
      "outputs": [
        {
          "output_type": "stream",
          "text": [
            "Drive already mounted at /content/drive/; to attempt to forcibly remount, call drive.mount(\"/content/drive/\", force_remount=True).\n"
          ],
          "name": "stdout"
        }
      ]
    },
    {
      "cell_type": "markdown",
      "metadata": {
        "id": "00FDA5VzWK5N"
      },
      "source": [
        "## Data Processing"
      ]
    },
    {
      "cell_type": "markdown",
      "metadata": {
        "id": "L0iJfYL5MMVM"
      },
      "source": [
        "### Extract features from log files to build .csv format\n"
      ]
    },
    {
      "cell_type": "code",
      "metadata": {
        "id": "smhhdU_kLlie"
      },
      "source": [
        "# Regex Pattern\n",
        "pattern = '(?P<Client>\\S+) \\[(?P<Time>\\S+)\\] \\[(?P<Method>\\S+) (?P<Request>\\S+)\\] (?P<Status>\\S+) (?P<Size>\\S+) \\[\\[(?P<UserAgent>[\\S\\s]+)\\]\\] (?P<Duration>\\S+)'\n",
        "file_path = 'drive/MyDrive/Rahnema-College/Tuning/Final-Project/output.log'\n",
        "columns = [\"Client\", \"Datetime\", \"Method\", \"Request\", \"Status\", \"Length\", \"UserAgent\", \"ResponseTime\"]"
      ],
      "execution_count": null,
      "outputs": []
    },
    {
      "cell_type": "code",
      "metadata": {
        "id": "uN-ho84fNgxV"
      },
      "source": [
        "# Find regex in our logs\n",
        "def parse_data(file_path, pattern):\n",
        "  \"\"\"\n",
        "  Return the part of data that extracted by given pattern.\n",
        "  file_path -> Your log file.\n",
        "  pattern -> The pattern that you're looking for in your logs.\n",
        "\n",
        "  Return parsed_line -> as a list of finded data.\n",
        "  \"\"\"\n",
        "  parsed_lines = []\n",
        "\n",
        "  with open(file_path) as logs:\n",
        "    for line in logs:\n",
        "      try:\n",
        "        finded_pattern = list(re.findall(pattern, line)[0])\n",
        "        parsed_lines.append(finded_pattern)\n",
        "      except Exception as e:\n",
        "        print(\"There is an error while parsing data! Try Again :(\")\n",
        "  return parsed_lines"
      ],
      "execution_count": null,
      "outputs": []
    },
    {
      "cell_type": "code",
      "metadata": {
        "id": "C12OhT9gL93X",
        "colab": {
          "base_uri": "https://localhost:8080/"
        },
        "outputId": "ad010e67-0886-41b4-828d-d9d660bbf598"
      },
      "source": [
        "extracted_features = parse_data(file_path, pattern)\n",
        "extracted_features[0]"
      ],
      "execution_count": null,
      "outputs": [
        {
          "output_type": "execute_result",
          "data": {
            "text/plain": [
              "['207.213.193.143',\n",
              " '2021-5-12T5:6:0.0+0430',\n",
              " 'Get',\n",
              " '/cdn/profiles/1026106239',\n",
              " '304',\n",
              " '0',\n",
              " 'Googlebot-Image/1.0',\n",
              " '32']"
            ]
          },
          "metadata": {
            "tags": []
          },
          "execution_count": 85
        }
      ]
    },
    {
      "cell_type": "code",
      "metadata": {
        "id": "AQkD-VPpWiEJ",
        "colab": {
          "base_uri": "https://localhost:8080/"
        },
        "outputId": "7c51c9b4-6419-4e39-fe4d-d994c9e2bfdd"
      },
      "source": [
        "# Create a .csv format\n",
        "data = pd.DataFrame(extracted_features, columns=columns)\n",
        "data.head()"
      ],
      "execution_count": null,
      "outputs": [
        {
          "output_type": "execute_result",
          "data": {
            "text/html": [
              "<div>\n",
              "<style scoped>\n",
              "    .dataframe tbody tr th:only-of-type {\n",
              "        vertical-align: middle;\n",
              "    }\n",
              "\n",
              "    .dataframe tbody tr th {\n",
              "        vertical-align: top;\n",
              "    }\n",
              "\n",
              "    .dataframe thead th {\n",
              "        text-align: right;\n",
              "    }\n",
              "</style>\n",
              "<table border=\"1\" class=\"dataframe\">\n",
              "  <thead>\n",
              "    <tr style=\"text-align: right;\">\n",
              "      <th></th>\n",
              "      <th>Client</th>\n",
              "      <th>Datetime</th>\n",
              "      <th>Method</th>\n",
              "      <th>Request</th>\n",
              "      <th>Status</th>\n",
              "      <th>Length</th>\n",
              "      <th>UserAgent</th>\n",
              "      <th>ResponseTime</th>\n",
              "    </tr>\n",
              "  </thead>\n",
              "  <tbody>\n",
              "    <tr>\n",
              "      <th>0</th>\n",
              "      <td>207.213.193.143</td>\n",
              "      <td>2021-5-12T5:6:0.0+0430</td>\n",
              "      <td>Get</td>\n",
              "      <td>/cdn/profiles/1026106239</td>\n",
              "      <td>304</td>\n",
              "      <td>0</td>\n",
              "      <td>Googlebot-Image/1.0</td>\n",
              "      <td>32</td>\n",
              "    </tr>\n",
              "    <tr>\n",
              "      <th>1</th>\n",
              "      <td>207.213.193.143</td>\n",
              "      <td>2021-5-12T5:6:0.0+0430</td>\n",
              "      <td>Get</td>\n",
              "      <td>images/badge.png</td>\n",
              "      <td>304</td>\n",
              "      <td>0</td>\n",
              "      <td>Googlebot-Image/1.0</td>\n",
              "      <td>4</td>\n",
              "    </tr>\n",
              "    <tr>\n",
              "      <th>2</th>\n",
              "      <td>35.110.222.153</td>\n",
              "      <td>2021-5-12T5:6:0.0+0430</td>\n",
              "      <td>Get</td>\n",
              "      <td>/pages/630180847</td>\n",
              "      <td>200</td>\n",
              "      <td>52567</td>\n",
              "      <td>Mozilla/5.0 (Linux; Android 6.0.1; SAMSUNG SM-...</td>\n",
              "      <td>32</td>\n",
              "    </tr>\n",
              "    <tr>\n",
              "      <th>3</th>\n",
              "      <td>35.108.208.99</td>\n",
              "      <td>2021-5-12T5:6:0.0+0430</td>\n",
              "      <td>Get</td>\n",
              "      <td>images/fav_icon2.ico</td>\n",
              "      <td>200</td>\n",
              "      <td>23531</td>\n",
              "      <td>Mozilla/5.0 (Linux; Android 6.0; CAM-L21) Appl...</td>\n",
              "      <td>20</td>\n",
              "    </tr>\n",
              "    <tr>\n",
              "      <th>4</th>\n",
              "      <td>35.110.222.153</td>\n",
              "      <td>2021-5-12T5:6:0.0+0430</td>\n",
              "      <td>Get</td>\n",
              "      <td>images/sanjagh_logo_purpule5.png</td>\n",
              "      <td>200</td>\n",
              "      <td>4680</td>\n",
              "      <td>Mozilla/5.0 (Linux; Android 6.0.1; SAMSUNG SM-...</td>\n",
              "      <td>8</td>\n",
              "    </tr>\n",
              "  </tbody>\n",
              "</table>\n",
              "</div>"
            ],
            "text/plain": [
              "            Client  ... ResponseTime\n",
              "0  207.213.193.143  ...           32\n",
              "1  207.213.193.143  ...            4\n",
              "2   35.110.222.153  ...           32\n",
              "3    35.108.208.99  ...           20\n",
              "4   35.110.222.153  ...            8\n",
              "\n",
              "[5 rows x 8 columns]"
            ]
          },
          "metadata": {
            "tags": []
          },
          "execution_count": 86
        }
      ]
    },
    {
      "cell_type": "code",
      "metadata": {
        "id": "6A6IttahQMju",
        "colab": {
          "base_uri": "https://localhost:8080/"
        },
        "outputId": "9bab87e5-5e38-4425-ec2b-0696d9ad9f83"
      },
      "source": [
        "data.shape"
      ],
      "execution_count": null,
      "outputs": [
        {
          "output_type": "execute_result",
          "data": {
            "text/plain": [
              "(1260035, 8)"
            ]
          },
          "metadata": {
            "tags": []
          },
          "execution_count": 87
        }
      ]
    },
    {
      "cell_type": "code",
      "metadata": {
        "id": "Jfd4wsQN0KTD",
        "colab": {
          "base_uri": "https://localhost:8080/"
        },
        "outputId": "096fb6dd-7766-4651-b4fa-36e9780c8b44"
      },
      "source": [
        "data.info()"
      ],
      "execution_count": null,
      "outputs": [
        {
          "output_type": "stream",
          "text": [
            "<class 'pandas.core.frame.DataFrame'>\n",
            "RangeIndex: 1260035 entries, 0 to 1260034\n",
            "Data columns (total 8 columns):\n",
            " #   Column        Non-Null Count    Dtype \n",
            "---  ------        --------------    ----- \n",
            " 0   Client        1260035 non-null  object\n",
            " 1   Datetime      1260035 non-null  object\n",
            " 2   Method        1260035 non-null  object\n",
            " 3   Request       1260035 non-null  object\n",
            " 4   Status        1260035 non-null  object\n",
            " 5   Length        1260035 non-null  object\n",
            " 6   UserAgent     1260035 non-null  object\n",
            " 7   ResponseTime  1260035 non-null  object\n",
            "dtypes: object(8)\n",
            "memory usage: 76.9+ MB\n"
          ],
          "name": "stdout"
        }
      ]
    },
    {
      "cell_type": "markdown",
      "metadata": {
        "id": "7qKIa0u40htM"
      },
      "source": [
        "### Fix time series"
      ]
    },
    {
      "cell_type": "code",
      "metadata": {
        "id": "-e2PcwYC0pMW"
      },
      "source": [
        "# Convert datetimes to datetime format\n",
        "data[\"Datetime\"] = pd.to_datetime(data[\"Datetime\"], format=\"%Y-%m-%dT%H:%M:%S\")"
      ],
      "execution_count": null,
      "outputs": []
    },
    {
      "cell_type": "code",
      "metadata": {
        "id": "kkoCkFKSBg-2"
      },
      "source": [
        "# Split datatimes\n",
        "data['Year'] = data.Datetime.dt.year\n",
        "data['Month'] = data.Datetime.dt.month\n",
        "data['Day'] = data.Datetime.dt.day\n",
        "data['Hour'] = data.Datetime.dt.hour\n",
        "data['Minute'] = data.Datetime.dt.minute\n",
        "data['Second'] = data.Datetime.dt.second\n",
        "data['dayOfWeek'] = data.Datetime.dt.dayofweek\n",
        "data['dayOfYear'] = data.Datetime.dt.dayofyear"
      ],
      "execution_count": null,
      "outputs": []
    },
    {
      "cell_type": "code",
      "metadata": {
        "id": "dZ2DXY_wEiKK"
      },
      "source": [
        "data.drop(\"Datetime\", axis=1, inplace=True)"
      ],
      "execution_count": null,
      "outputs": []
    },
    {
      "cell_type": "code",
      "metadata": {
        "id": "bO96uG_9CwZU",
        "colab": {
          "base_uri": "https://localhost:8080/"
        },
        "outputId": "7f45da5a-51d5-4697-ff58-26b136cf5f3b"
      },
      "source": [
        "data.head()"
      ],
      "execution_count": null,
      "outputs": [
        {
          "output_type": "execute_result",
          "data": {
            "text/html": [
              "<div>\n",
              "<style scoped>\n",
              "    .dataframe tbody tr th:only-of-type {\n",
              "        vertical-align: middle;\n",
              "    }\n",
              "\n",
              "    .dataframe tbody tr th {\n",
              "        vertical-align: top;\n",
              "    }\n",
              "\n",
              "    .dataframe thead th {\n",
              "        text-align: right;\n",
              "    }\n",
              "</style>\n",
              "<table border=\"1\" class=\"dataframe\">\n",
              "  <thead>\n",
              "    <tr style=\"text-align: right;\">\n",
              "      <th></th>\n",
              "      <th>Client</th>\n",
              "      <th>Method</th>\n",
              "      <th>Request</th>\n",
              "      <th>Status</th>\n",
              "      <th>Length</th>\n",
              "      <th>UserAgent</th>\n",
              "      <th>ResponseTime</th>\n",
              "      <th>Year</th>\n",
              "      <th>Month</th>\n",
              "      <th>Day</th>\n",
              "      <th>Hour</th>\n",
              "      <th>Minute</th>\n",
              "      <th>Second</th>\n",
              "      <th>dayOfWeek</th>\n",
              "      <th>dayOfYear</th>\n",
              "    </tr>\n",
              "  </thead>\n",
              "  <tbody>\n",
              "    <tr>\n",
              "      <th>0</th>\n",
              "      <td>207.213.193.143</td>\n",
              "      <td>Get</td>\n",
              "      <td>/cdn/profiles/1026106239</td>\n",
              "      <td>304</td>\n",
              "      <td>0</td>\n",
              "      <td>Googlebot-Image/1.0</td>\n",
              "      <td>32</td>\n",
              "      <td>2021</td>\n",
              "      <td>5</td>\n",
              "      <td>12</td>\n",
              "      <td>5</td>\n",
              "      <td>6</td>\n",
              "      <td>0</td>\n",
              "      <td>2</td>\n",
              "      <td>132</td>\n",
              "    </tr>\n",
              "    <tr>\n",
              "      <th>1</th>\n",
              "      <td>207.213.193.143</td>\n",
              "      <td>Get</td>\n",
              "      <td>images/badge.png</td>\n",
              "      <td>304</td>\n",
              "      <td>0</td>\n",
              "      <td>Googlebot-Image/1.0</td>\n",
              "      <td>4</td>\n",
              "      <td>2021</td>\n",
              "      <td>5</td>\n",
              "      <td>12</td>\n",
              "      <td>5</td>\n",
              "      <td>6</td>\n",
              "      <td>0</td>\n",
              "      <td>2</td>\n",
              "      <td>132</td>\n",
              "    </tr>\n",
              "    <tr>\n",
              "      <th>2</th>\n",
              "      <td>35.110.222.153</td>\n",
              "      <td>Get</td>\n",
              "      <td>/pages/630180847</td>\n",
              "      <td>200</td>\n",
              "      <td>52567</td>\n",
              "      <td>Mozilla/5.0 (Linux; Android 6.0.1; SAMSUNG SM-...</td>\n",
              "      <td>32</td>\n",
              "      <td>2021</td>\n",
              "      <td>5</td>\n",
              "      <td>12</td>\n",
              "      <td>5</td>\n",
              "      <td>6</td>\n",
              "      <td>0</td>\n",
              "      <td>2</td>\n",
              "      <td>132</td>\n",
              "    </tr>\n",
              "    <tr>\n",
              "      <th>3</th>\n",
              "      <td>35.108.208.99</td>\n",
              "      <td>Get</td>\n",
              "      <td>images/fav_icon2.ico</td>\n",
              "      <td>200</td>\n",
              "      <td>23531</td>\n",
              "      <td>Mozilla/5.0 (Linux; Android 6.0; CAM-L21) Appl...</td>\n",
              "      <td>20</td>\n",
              "      <td>2021</td>\n",
              "      <td>5</td>\n",
              "      <td>12</td>\n",
              "      <td>5</td>\n",
              "      <td>6</td>\n",
              "      <td>0</td>\n",
              "      <td>2</td>\n",
              "      <td>132</td>\n",
              "    </tr>\n",
              "    <tr>\n",
              "      <th>4</th>\n",
              "      <td>35.110.222.153</td>\n",
              "      <td>Get</td>\n",
              "      <td>images/sanjagh_logo_purpule5.png</td>\n",
              "      <td>200</td>\n",
              "      <td>4680</td>\n",
              "      <td>Mozilla/5.0 (Linux; Android 6.0.1; SAMSUNG SM-...</td>\n",
              "      <td>8</td>\n",
              "      <td>2021</td>\n",
              "      <td>5</td>\n",
              "      <td>12</td>\n",
              "      <td>5</td>\n",
              "      <td>6</td>\n",
              "      <td>0</td>\n",
              "      <td>2</td>\n",
              "      <td>132</td>\n",
              "    </tr>\n",
              "  </tbody>\n",
              "</table>\n",
              "</div>"
            ],
            "text/plain": [
              "            Client Method  ... dayOfWeek dayOfYear\n",
              "0  207.213.193.143    Get  ...         2       132\n",
              "1  207.213.193.143    Get  ...         2       132\n",
              "2   35.110.222.153    Get  ...         2       132\n",
              "3    35.108.208.99    Get  ...         2       132\n",
              "4   35.110.222.153    Get  ...         2       132\n",
              "\n",
              "[5 rows x 15 columns]"
            ]
          },
          "metadata": {
            "tags": []
          },
          "execution_count": 92
        }
      ]
    },
    {
      "cell_type": "markdown",
      "metadata": {
        "id": "a-2bv4b2iqqt"
      },
      "source": [
        "### Split Requests\n",
        "* Level_1\n",
        "  * Level_2"
      ]
    },
    {
      "cell_type": "code",
      "metadata": {
        "colab": {
          "base_uri": "https://localhost:8080/"
        },
        "id": "6SEPFJbgdn_S",
        "outputId": "5b310118-37de-4200-8740-06ec22c00e0e"
      },
      "source": [
        "path_l1 = []\n",
        "# paths_pattern = re.compile(r'^(\\/|\\w+)')\n",
        "paths_pattern = re.compile(r'\\S+\\/|\\/\\S+')\n",
        "for element in data.Request.values:\n",
        "  finded_part = paths_pattern.findall(element)\n",
        "  path_l1.append(finded_part)\n",
        "path_l1[0]"
      ],
      "execution_count": null,
      "outputs": [
        {
          "output_type": "execute_result",
          "data": {
            "text/plain": [
              "['/cdn/profiles/']"
            ]
          },
          "metadata": {
            "tags": []
          },
          "execution_count": 93
        }
      ]
    },
    {
      "cell_type": "code",
      "metadata": {
        "id": "sGYkynLKiw6O"
      },
      "source": [
        "# Level Requests' path to make them more categorized\n",
        "path_l1 = []\n",
        "path_l2 = []\n",
        "# paths_pattern = re.compile(r'^(\\/|\\w+)')\n",
        "# paths_pattern = re.compile(r'\\S+\\/|\\/\\S+|\\/')\n",
        "paths_pattern = re.compile(r'^\\/|^\\w+\\/')\n",
        "for element in data.Request.values:\n",
        "  finded_part = paths_pattern.findall(element)[0]\n",
        "  path_l1.append(finded_part)\n",
        "  path_l2.append(element.replace(finded_part, \"\", 1))\n",
        "\n",
        "data[\"Req_Path_L1\"] = path_l1\n",
        "data[\"Req_Path_L2\"] = path_l2"
      ],
      "execution_count": null,
      "outputs": []
    },
    {
      "cell_type": "code",
      "metadata": {
        "colab": {
          "base_uri": "https://localhost:8080/"
        },
        "id": "ys2c4St7iwsR",
        "outputId": "f651f812-9bf6-43ba-ebdb-efb51ffea3cf"
      },
      "source": [
        "data.head()"
      ],
      "execution_count": null,
      "outputs": [
        {
          "output_type": "execute_result",
          "data": {
            "text/html": [
              "<div>\n",
              "<style scoped>\n",
              "    .dataframe tbody tr th:only-of-type {\n",
              "        vertical-align: middle;\n",
              "    }\n",
              "\n",
              "    .dataframe tbody tr th {\n",
              "        vertical-align: top;\n",
              "    }\n",
              "\n",
              "    .dataframe thead th {\n",
              "        text-align: right;\n",
              "    }\n",
              "</style>\n",
              "<table border=\"1\" class=\"dataframe\">\n",
              "  <thead>\n",
              "    <tr style=\"text-align: right;\">\n",
              "      <th></th>\n",
              "      <th>Client</th>\n",
              "      <th>Method</th>\n",
              "      <th>Request</th>\n",
              "      <th>Status</th>\n",
              "      <th>Length</th>\n",
              "      <th>UserAgent</th>\n",
              "      <th>ResponseTime</th>\n",
              "      <th>Year</th>\n",
              "      <th>Month</th>\n",
              "      <th>Day</th>\n",
              "      <th>Hour</th>\n",
              "      <th>Minute</th>\n",
              "      <th>Second</th>\n",
              "      <th>dayOfWeek</th>\n",
              "      <th>dayOfYear</th>\n",
              "      <th>Req_Path_L1</th>\n",
              "      <th>Req_Path_L2</th>\n",
              "    </tr>\n",
              "  </thead>\n",
              "  <tbody>\n",
              "    <tr>\n",
              "      <th>0</th>\n",
              "      <td>207.213.193.143</td>\n",
              "      <td>Get</td>\n",
              "      <td>/cdn/profiles/1026106239</td>\n",
              "      <td>304</td>\n",
              "      <td>0</td>\n",
              "      <td>Googlebot-Image/1.0</td>\n",
              "      <td>32</td>\n",
              "      <td>2021</td>\n",
              "      <td>5</td>\n",
              "      <td>12</td>\n",
              "      <td>5</td>\n",
              "      <td>6</td>\n",
              "      <td>0</td>\n",
              "      <td>2</td>\n",
              "      <td>132</td>\n",
              "      <td>/</td>\n",
              "      <td>cdn/profiles/1026106239</td>\n",
              "    </tr>\n",
              "    <tr>\n",
              "      <th>1</th>\n",
              "      <td>207.213.193.143</td>\n",
              "      <td>Get</td>\n",
              "      <td>images/badge.png</td>\n",
              "      <td>304</td>\n",
              "      <td>0</td>\n",
              "      <td>Googlebot-Image/1.0</td>\n",
              "      <td>4</td>\n",
              "      <td>2021</td>\n",
              "      <td>5</td>\n",
              "      <td>12</td>\n",
              "      <td>5</td>\n",
              "      <td>6</td>\n",
              "      <td>0</td>\n",
              "      <td>2</td>\n",
              "      <td>132</td>\n",
              "      <td>images/</td>\n",
              "      <td>badge.png</td>\n",
              "    </tr>\n",
              "    <tr>\n",
              "      <th>2</th>\n",
              "      <td>35.110.222.153</td>\n",
              "      <td>Get</td>\n",
              "      <td>/pages/630180847</td>\n",
              "      <td>200</td>\n",
              "      <td>52567</td>\n",
              "      <td>Mozilla/5.0 (Linux; Android 6.0.1; SAMSUNG SM-...</td>\n",
              "      <td>32</td>\n",
              "      <td>2021</td>\n",
              "      <td>5</td>\n",
              "      <td>12</td>\n",
              "      <td>5</td>\n",
              "      <td>6</td>\n",
              "      <td>0</td>\n",
              "      <td>2</td>\n",
              "      <td>132</td>\n",
              "      <td>/</td>\n",
              "      <td>pages/630180847</td>\n",
              "    </tr>\n",
              "    <tr>\n",
              "      <th>3</th>\n",
              "      <td>35.108.208.99</td>\n",
              "      <td>Get</td>\n",
              "      <td>images/fav_icon2.ico</td>\n",
              "      <td>200</td>\n",
              "      <td>23531</td>\n",
              "      <td>Mozilla/5.0 (Linux; Android 6.0; CAM-L21) Appl...</td>\n",
              "      <td>20</td>\n",
              "      <td>2021</td>\n",
              "      <td>5</td>\n",
              "      <td>12</td>\n",
              "      <td>5</td>\n",
              "      <td>6</td>\n",
              "      <td>0</td>\n",
              "      <td>2</td>\n",
              "      <td>132</td>\n",
              "      <td>images/</td>\n",
              "      <td>fav_icon2.ico</td>\n",
              "    </tr>\n",
              "    <tr>\n",
              "      <th>4</th>\n",
              "      <td>35.110.222.153</td>\n",
              "      <td>Get</td>\n",
              "      <td>images/sanjagh_logo_purpule5.png</td>\n",
              "      <td>200</td>\n",
              "      <td>4680</td>\n",
              "      <td>Mozilla/5.0 (Linux; Android 6.0.1; SAMSUNG SM-...</td>\n",
              "      <td>8</td>\n",
              "      <td>2021</td>\n",
              "      <td>5</td>\n",
              "      <td>12</td>\n",
              "      <td>5</td>\n",
              "      <td>6</td>\n",
              "      <td>0</td>\n",
              "      <td>2</td>\n",
              "      <td>132</td>\n",
              "      <td>images/</td>\n",
              "      <td>sanjagh_logo_purpule5.png</td>\n",
              "    </tr>\n",
              "  </tbody>\n",
              "</table>\n",
              "</div>"
            ],
            "text/plain": [
              "            Client Method  ... Req_Path_L1                Req_Path_L2\n",
              "0  207.213.193.143    Get  ...           /    cdn/profiles/1026106239\n",
              "1  207.213.193.143    Get  ...     images/                  badge.png\n",
              "2   35.110.222.153    Get  ...           /            pages/630180847\n",
              "3    35.108.208.99    Get  ...     images/              fav_icon2.ico\n",
              "4   35.110.222.153    Get  ...     images/  sanjagh_logo_purpule5.png\n",
              "\n",
              "[5 rows x 17 columns]"
            ]
          },
          "metadata": {
            "tags": []
          },
          "execution_count": 95
        }
      ]
    },
    {
      "cell_type": "code",
      "metadata": {
        "colab": {
          "base_uri": "https://localhost:8080/"
        },
        "id": "Yu3hxwIa1p8e",
        "outputId": "6a4b67ab-7a09-403a-cf03-a343ae9adb98"
      },
      "source": [
        "data[\"Req_Path_L1\"].value_counts()"
      ],
      "execution_count": null,
      "outputs": [
        {
          "output_type": "execute_result",
          "data": {
            "text/plain": [
              "/             663910\n",
              "images/       298288\n",
              "js/           125224\n",
              "fonts/         98485\n",
              "css/           56303\n",
              "templates/     17825\n",
              "Name: Req_Path_L1, dtype: int64"
            ]
          },
          "metadata": {
            "tags": []
          },
          "execution_count": 96
        }
      ]
    },
    {
      "cell_type": "code",
      "metadata": {
        "colab": {
          "base_uri": "https://localhost:8080/"
        },
        "id": "Co_WV80tGBsL",
        "outputId": "eb047d01-5cbc-4163-b9a6-d61bb5855390"
      },
      "source": [
        "# Drop full Request Feature\n",
        "data.drop(\"Request\", axis=1, inplace=True)\n",
        "data.head()"
      ],
      "execution_count": null,
      "outputs": [
        {
          "output_type": "execute_result",
          "data": {
            "text/html": [
              "<div>\n",
              "<style scoped>\n",
              "    .dataframe tbody tr th:only-of-type {\n",
              "        vertical-align: middle;\n",
              "    }\n",
              "\n",
              "    .dataframe tbody tr th {\n",
              "        vertical-align: top;\n",
              "    }\n",
              "\n",
              "    .dataframe thead th {\n",
              "        text-align: right;\n",
              "    }\n",
              "</style>\n",
              "<table border=\"1\" class=\"dataframe\">\n",
              "  <thead>\n",
              "    <tr style=\"text-align: right;\">\n",
              "      <th></th>\n",
              "      <th>Client</th>\n",
              "      <th>Method</th>\n",
              "      <th>Status</th>\n",
              "      <th>Length</th>\n",
              "      <th>UserAgent</th>\n",
              "      <th>ResponseTime</th>\n",
              "      <th>Year</th>\n",
              "      <th>Month</th>\n",
              "      <th>Day</th>\n",
              "      <th>Hour</th>\n",
              "      <th>Minute</th>\n",
              "      <th>Second</th>\n",
              "      <th>dayOfWeek</th>\n",
              "      <th>dayOfYear</th>\n",
              "      <th>Req_Path_L1</th>\n",
              "      <th>Req_Path_L2</th>\n",
              "    </tr>\n",
              "  </thead>\n",
              "  <tbody>\n",
              "    <tr>\n",
              "      <th>0</th>\n",
              "      <td>207.213.193.143</td>\n",
              "      <td>Get</td>\n",
              "      <td>304</td>\n",
              "      <td>0</td>\n",
              "      <td>Googlebot-Image/1.0</td>\n",
              "      <td>32</td>\n",
              "      <td>2021</td>\n",
              "      <td>5</td>\n",
              "      <td>12</td>\n",
              "      <td>5</td>\n",
              "      <td>6</td>\n",
              "      <td>0</td>\n",
              "      <td>2</td>\n",
              "      <td>132</td>\n",
              "      <td>/</td>\n",
              "      <td>cdn/profiles/1026106239</td>\n",
              "    </tr>\n",
              "    <tr>\n",
              "      <th>1</th>\n",
              "      <td>207.213.193.143</td>\n",
              "      <td>Get</td>\n",
              "      <td>304</td>\n",
              "      <td>0</td>\n",
              "      <td>Googlebot-Image/1.0</td>\n",
              "      <td>4</td>\n",
              "      <td>2021</td>\n",
              "      <td>5</td>\n",
              "      <td>12</td>\n",
              "      <td>5</td>\n",
              "      <td>6</td>\n",
              "      <td>0</td>\n",
              "      <td>2</td>\n",
              "      <td>132</td>\n",
              "      <td>images/</td>\n",
              "      <td>badge.png</td>\n",
              "    </tr>\n",
              "    <tr>\n",
              "      <th>2</th>\n",
              "      <td>35.110.222.153</td>\n",
              "      <td>Get</td>\n",
              "      <td>200</td>\n",
              "      <td>52567</td>\n",
              "      <td>Mozilla/5.0 (Linux; Android 6.0.1; SAMSUNG SM-...</td>\n",
              "      <td>32</td>\n",
              "      <td>2021</td>\n",
              "      <td>5</td>\n",
              "      <td>12</td>\n",
              "      <td>5</td>\n",
              "      <td>6</td>\n",
              "      <td>0</td>\n",
              "      <td>2</td>\n",
              "      <td>132</td>\n",
              "      <td>/</td>\n",
              "      <td>pages/630180847</td>\n",
              "    </tr>\n",
              "    <tr>\n",
              "      <th>3</th>\n",
              "      <td>35.108.208.99</td>\n",
              "      <td>Get</td>\n",
              "      <td>200</td>\n",
              "      <td>23531</td>\n",
              "      <td>Mozilla/5.0 (Linux; Android 6.0; CAM-L21) Appl...</td>\n",
              "      <td>20</td>\n",
              "      <td>2021</td>\n",
              "      <td>5</td>\n",
              "      <td>12</td>\n",
              "      <td>5</td>\n",
              "      <td>6</td>\n",
              "      <td>0</td>\n",
              "      <td>2</td>\n",
              "      <td>132</td>\n",
              "      <td>images/</td>\n",
              "      <td>fav_icon2.ico</td>\n",
              "    </tr>\n",
              "    <tr>\n",
              "      <th>4</th>\n",
              "      <td>35.110.222.153</td>\n",
              "      <td>Get</td>\n",
              "      <td>200</td>\n",
              "      <td>4680</td>\n",
              "      <td>Mozilla/5.0 (Linux; Android 6.0.1; SAMSUNG SM-...</td>\n",
              "      <td>8</td>\n",
              "      <td>2021</td>\n",
              "      <td>5</td>\n",
              "      <td>12</td>\n",
              "      <td>5</td>\n",
              "      <td>6</td>\n",
              "      <td>0</td>\n",
              "      <td>2</td>\n",
              "      <td>132</td>\n",
              "      <td>images/</td>\n",
              "      <td>sanjagh_logo_purpule5.png</td>\n",
              "    </tr>\n",
              "  </tbody>\n",
              "</table>\n",
              "</div>"
            ],
            "text/plain": [
              "            Client Method  ... Req_Path_L1                Req_Path_L2\n",
              "0  207.213.193.143    Get  ...           /    cdn/profiles/1026106239\n",
              "1  207.213.193.143    Get  ...     images/                  badge.png\n",
              "2   35.110.222.153    Get  ...           /            pages/630180847\n",
              "3    35.108.208.99    Get  ...     images/              fav_icon2.ico\n",
              "4   35.110.222.153    Get  ...     images/  sanjagh_logo_purpule5.png\n",
              "\n",
              "[5 rows x 16 columns]"
            ]
          },
          "metadata": {
            "tags": []
          },
          "execution_count": 97
        }
      ]
    },
    {
      "cell_type": "markdown",
      "metadata": {
        "id": "9_epeI1sjOND"
      },
      "source": [
        "### Check Dataset & Fix Missing values\n"
      ]
    },
    {
      "cell_type": "code",
      "metadata": {
        "id": "-WAjjHsgVG6h"
      },
      "source": [
        "# # Create a profile report\n",
        "# profile = ProfileReport(data)\n",
        "# profile.to_file(\"drive/MyDrive/Rahnema-College/Tuning/Final-Project/profile_report.html\")"
      ],
      "execution_count": null,
      "outputs": []
    },
    {
      "cell_type": "code",
      "metadata": {
        "id": "4DOarR2ZgsTu"
      },
      "source": [
        "# Remove Constant features\n",
        "constant_features = [\"Year\", \"Month\", \"Day\", \"dayOfWeek\", \"dayOfYear\"]\n",
        "data.drop(constant_features, axis=1, inplace=True)"
      ],
      "execution_count": null,
      "outputs": []
    },
    {
      "cell_type": "markdown",
      "metadata": {
        "id": "NZZhgZrVMtlQ"
      },
      "source": [
        "* There are some rows which don't have any values for `ResponseTime` and `Clinet` features. -> They must be dropped.\n",
        "* Take care: some of rows contains `Clients'` value but no `ResponseTime` value. -> Their response time would be zero."
      ]
    },
    {
      "cell_type": "code",
      "metadata": {
        "colab": {
          "base_uri": "https://localhost:8080/"
        },
        "id": "1SQn21n_gE5y",
        "outputId": "453fd69d-3f40-4313-b44a-be8ce39bf7fa"
      },
      "source": [
        "data[(data[\"Client\"] == '-') & (data[\"ResponseTime\"] == '-')]"
      ],
      "execution_count": null,
      "outputs": [
        {
          "output_type": "execute_result",
          "data": {
            "text/html": [
              "<div>\n",
              "<style scoped>\n",
              "    .dataframe tbody tr th:only-of-type {\n",
              "        vertical-align: middle;\n",
              "    }\n",
              "\n",
              "    .dataframe tbody tr th {\n",
              "        vertical-align: top;\n",
              "    }\n",
              "\n",
              "    .dataframe thead th {\n",
              "        text-align: right;\n",
              "    }\n",
              "</style>\n",
              "<table border=\"1\" class=\"dataframe\">\n",
              "  <thead>\n",
              "    <tr style=\"text-align: right;\">\n",
              "      <th></th>\n",
              "      <th>Client</th>\n",
              "      <th>Method</th>\n",
              "      <th>Status</th>\n",
              "      <th>Length</th>\n",
              "      <th>UserAgent</th>\n",
              "      <th>ResponseTime</th>\n",
              "      <th>Hour</th>\n",
              "      <th>Minute</th>\n",
              "      <th>Second</th>\n",
              "      <th>Req_Path_L1</th>\n",
              "      <th>Req_Path_L2</th>\n",
              "    </tr>\n",
              "  </thead>\n",
              "  <tbody>\n",
              "    <tr>\n",
              "      <th>25</th>\n",
              "      <td>-</td>\n",
              "      <td>Get</td>\n",
              "      <td>301</td>\n",
              "      <td>169</td>\n",
              "      <td>kube-probe/1.21</td>\n",
              "      <td>-</td>\n",
              "      <td>5</td>\n",
              "      <td>6</td>\n",
              "      <td>1</td>\n",
              "      <td>/</td>\n",
              "      <td></td>\n",
              "    </tr>\n",
              "    <tr>\n",
              "      <th>85</th>\n",
              "      <td>-</td>\n",
              "      <td>Get</td>\n",
              "      <td>301</td>\n",
              "      <td>169</td>\n",
              "      <td>kube-probe/1.21</td>\n",
              "      <td>-</td>\n",
              "      <td>5</td>\n",
              "      <td>6</td>\n",
              "      <td>3</td>\n",
              "      <td>/</td>\n",
              "      <td></td>\n",
              "    </tr>\n",
              "    <tr>\n",
              "      <th>145</th>\n",
              "      <td>-</td>\n",
              "      <td>Get</td>\n",
              "      <td>301</td>\n",
              "      <td>169</td>\n",
              "      <td>kube-probe/1.21</td>\n",
              "      <td>-</td>\n",
              "      <td>5</td>\n",
              "      <td>6</td>\n",
              "      <td>5</td>\n",
              "      <td>/</td>\n",
              "      <td></td>\n",
              "    </tr>\n",
              "    <tr>\n",
              "      <th>175</th>\n",
              "      <td>-</td>\n",
              "      <td>Get</td>\n",
              "      <td>301</td>\n",
              "      <td>169</td>\n",
              "      <td>kube-probe/1.21</td>\n",
              "      <td>-</td>\n",
              "      <td>5</td>\n",
              "      <td>6</td>\n",
              "      <td>7</td>\n",
              "      <td>/</td>\n",
              "      <td></td>\n",
              "    </tr>\n",
              "    <tr>\n",
              "      <th>215</th>\n",
              "      <td>-</td>\n",
              "      <td>Get</td>\n",
              "      <td>301</td>\n",
              "      <td>169</td>\n",
              "      <td>kube-probe/1.21</td>\n",
              "      <td>-</td>\n",
              "      <td>5</td>\n",
              "      <td>6</td>\n",
              "      <td>9</td>\n",
              "      <td>/</td>\n",
              "      <td></td>\n",
              "    </tr>\n",
              "    <tr>\n",
              "      <th>...</th>\n",
              "      <td>...</td>\n",
              "      <td>...</td>\n",
              "      <td>...</td>\n",
              "      <td>...</td>\n",
              "      <td>...</td>\n",
              "      <td>...</td>\n",
              "      <td>...</td>\n",
              "      <td>...</td>\n",
              "      <td>...</td>\n",
              "      <td>...</td>\n",
              "      <td>...</td>\n",
              "    </tr>\n",
              "    <tr>\n",
              "      <th>1259779</th>\n",
              "      <td>-</td>\n",
              "      <td>Get</td>\n",
              "      <td>301</td>\n",
              "      <td>169</td>\n",
              "      <td>kube-probe/1.21</td>\n",
              "      <td>-</td>\n",
              "      <td>15</td>\n",
              "      <td>8</td>\n",
              "      <td>51</td>\n",
              "      <td>/</td>\n",
              "      <td></td>\n",
              "    </tr>\n",
              "    <tr>\n",
              "      <th>1259833</th>\n",
              "      <td>-</td>\n",
              "      <td>Get</td>\n",
              "      <td>301</td>\n",
              "      <td>169</td>\n",
              "      <td>kube-probe/1.21</td>\n",
              "      <td>-</td>\n",
              "      <td>15</td>\n",
              "      <td>8</td>\n",
              "      <td>53</td>\n",
              "      <td>/</td>\n",
              "      <td></td>\n",
              "    </tr>\n",
              "    <tr>\n",
              "      <th>1259902</th>\n",
              "      <td>-</td>\n",
              "      <td>Get</td>\n",
              "      <td>301</td>\n",
              "      <td>169</td>\n",
              "      <td>kube-probe/1.21</td>\n",
              "      <td>-</td>\n",
              "      <td>15</td>\n",
              "      <td>8</td>\n",
              "      <td>55</td>\n",
              "      <td>/</td>\n",
              "      <td></td>\n",
              "    </tr>\n",
              "    <tr>\n",
              "      <th>1259951</th>\n",
              "      <td>-</td>\n",
              "      <td>Get</td>\n",
              "      <td>301</td>\n",
              "      <td>169</td>\n",
              "      <td>kube-probe/1.21</td>\n",
              "      <td>-</td>\n",
              "      <td>15</td>\n",
              "      <td>8</td>\n",
              "      <td>57</td>\n",
              "      <td>/</td>\n",
              "      <td></td>\n",
              "    </tr>\n",
              "    <tr>\n",
              "      <th>1260007</th>\n",
              "      <td>-</td>\n",
              "      <td>Get</td>\n",
              "      <td>301</td>\n",
              "      <td>169</td>\n",
              "      <td>kube-probe/1.21</td>\n",
              "      <td>-</td>\n",
              "      <td>15</td>\n",
              "      <td>8</td>\n",
              "      <td>59</td>\n",
              "      <td>/</td>\n",
              "      <td></td>\n",
              "    </tr>\n",
              "  </tbody>\n",
              "</table>\n",
              "<p>18090 rows × 11 columns</p>\n",
              "</div>"
            ],
            "text/plain": [
              "        Client Method Status Length  ... Minute Second  Req_Path_L1  Req_Path_L2\n",
              "25           -    Get    301    169  ...      6      1            /             \n",
              "85           -    Get    301    169  ...      6      3            /             \n",
              "145          -    Get    301    169  ...      6      5            /             \n",
              "175          -    Get    301    169  ...      6      7            /             \n",
              "215          -    Get    301    169  ...      6      9            /             \n",
              "...        ...    ...    ...    ...  ...    ...    ...          ...          ...\n",
              "1259779      -    Get    301    169  ...      8     51            /             \n",
              "1259833      -    Get    301    169  ...      8     53            /             \n",
              "1259902      -    Get    301    169  ...      8     55            /             \n",
              "1259951      -    Get    301    169  ...      8     57            /             \n",
              "1260007      -    Get    301    169  ...      8     59            /             \n",
              "\n",
              "[18090 rows x 11 columns]"
            ]
          },
          "metadata": {
            "tags": []
          },
          "execution_count": 100
        }
      ]
    },
    {
      "cell_type": "code",
      "metadata": {
        "colab": {
          "base_uri": "https://localhost:8080/"
        },
        "id": "ed8ex36RjPQg",
        "outputId": "1b9bd619-2588-4dcb-b268-3aad99a8f863"
      },
      "source": [
        "data.head()"
      ],
      "execution_count": null,
      "outputs": [
        {
          "output_type": "execute_result",
          "data": {
            "text/html": [
              "<div>\n",
              "<style scoped>\n",
              "    .dataframe tbody tr th:only-of-type {\n",
              "        vertical-align: middle;\n",
              "    }\n",
              "\n",
              "    .dataframe tbody tr th {\n",
              "        vertical-align: top;\n",
              "    }\n",
              "\n",
              "    .dataframe thead th {\n",
              "        text-align: right;\n",
              "    }\n",
              "</style>\n",
              "<table border=\"1\" class=\"dataframe\">\n",
              "  <thead>\n",
              "    <tr style=\"text-align: right;\">\n",
              "      <th></th>\n",
              "      <th>Client</th>\n",
              "      <th>Method</th>\n",
              "      <th>Status</th>\n",
              "      <th>Length</th>\n",
              "      <th>UserAgent</th>\n",
              "      <th>ResponseTime</th>\n",
              "      <th>Hour</th>\n",
              "      <th>Minute</th>\n",
              "      <th>Second</th>\n",
              "      <th>Req_Path_L1</th>\n",
              "      <th>Req_Path_L2</th>\n",
              "    </tr>\n",
              "  </thead>\n",
              "  <tbody>\n",
              "    <tr>\n",
              "      <th>0</th>\n",
              "      <td>207.213.193.143</td>\n",
              "      <td>Get</td>\n",
              "      <td>304</td>\n",
              "      <td>0</td>\n",
              "      <td>Googlebot-Image/1.0</td>\n",
              "      <td>32</td>\n",
              "      <td>5</td>\n",
              "      <td>6</td>\n",
              "      <td>0</td>\n",
              "      <td>/</td>\n",
              "      <td>cdn/profiles/1026106239</td>\n",
              "    </tr>\n",
              "    <tr>\n",
              "      <th>1</th>\n",
              "      <td>207.213.193.143</td>\n",
              "      <td>Get</td>\n",
              "      <td>304</td>\n",
              "      <td>0</td>\n",
              "      <td>Googlebot-Image/1.0</td>\n",
              "      <td>4</td>\n",
              "      <td>5</td>\n",
              "      <td>6</td>\n",
              "      <td>0</td>\n",
              "      <td>images/</td>\n",
              "      <td>badge.png</td>\n",
              "    </tr>\n",
              "    <tr>\n",
              "      <th>2</th>\n",
              "      <td>35.110.222.153</td>\n",
              "      <td>Get</td>\n",
              "      <td>200</td>\n",
              "      <td>52567</td>\n",
              "      <td>Mozilla/5.0 (Linux; Android 6.0.1; SAMSUNG SM-...</td>\n",
              "      <td>32</td>\n",
              "      <td>5</td>\n",
              "      <td>6</td>\n",
              "      <td>0</td>\n",
              "      <td>/</td>\n",
              "      <td>pages/630180847</td>\n",
              "    </tr>\n",
              "    <tr>\n",
              "      <th>3</th>\n",
              "      <td>35.108.208.99</td>\n",
              "      <td>Get</td>\n",
              "      <td>200</td>\n",
              "      <td>23531</td>\n",
              "      <td>Mozilla/5.0 (Linux; Android 6.0; CAM-L21) Appl...</td>\n",
              "      <td>20</td>\n",
              "      <td>5</td>\n",
              "      <td>6</td>\n",
              "      <td>0</td>\n",
              "      <td>images/</td>\n",
              "      <td>fav_icon2.ico</td>\n",
              "    </tr>\n",
              "    <tr>\n",
              "      <th>4</th>\n",
              "      <td>35.110.222.153</td>\n",
              "      <td>Get</td>\n",
              "      <td>200</td>\n",
              "      <td>4680</td>\n",
              "      <td>Mozilla/5.0 (Linux; Android 6.0.1; SAMSUNG SM-...</td>\n",
              "      <td>8</td>\n",
              "      <td>5</td>\n",
              "      <td>6</td>\n",
              "      <td>0</td>\n",
              "      <td>images/</td>\n",
              "      <td>sanjagh_logo_purpule5.png</td>\n",
              "    </tr>\n",
              "  </tbody>\n",
              "</table>\n",
              "</div>"
            ],
            "text/plain": [
              "            Client Method Status  ... Second Req_Path_L1                Req_Path_L2\n",
              "0  207.213.193.143    Get    304  ...      0           /    cdn/profiles/1026106239\n",
              "1  207.213.193.143    Get    304  ...      0     images/                  badge.png\n",
              "2   35.110.222.153    Get    200  ...      0           /            pages/630180847\n",
              "3    35.108.208.99    Get    200  ...      0     images/              fav_icon2.ico\n",
              "4   35.110.222.153    Get    200  ...      0     images/  sanjagh_logo_purpule5.png\n",
              "\n",
              "[5 rows x 11 columns]"
            ]
          },
          "metadata": {
            "tags": []
          },
          "execution_count": 101
        }
      ]
    },
    {
      "cell_type": "code",
      "metadata": {
        "id": "JR1Hi2wlis_x"
      },
      "source": [
        "# Drop server requests\n",
        "server_req = data.loc[(data[\"Client\"] == '-') & (data[\"ResponseTime\"] == '-')]\n",
        "data.drop(server_req.index, axis=0, inplace=True)"
      ],
      "execution_count": null,
      "outputs": []
    },
    {
      "cell_type": "code",
      "metadata": {
        "colab": {
          "base_uri": "https://localhost:8080/"
        },
        "id": "RqE62wrQLqOJ",
        "outputId": "7c9e3ca3-7c2c-4938-bfaa-17402c4981a9"
      },
      "source": [
        "data[(data[\"Client\"] != '-') & (data[\"ResponseTime\"] == '-')]"
      ],
      "execution_count": null,
      "outputs": [
        {
          "output_type": "execute_result",
          "data": {
            "text/html": [
              "<div>\n",
              "<style scoped>\n",
              "    .dataframe tbody tr th:only-of-type {\n",
              "        vertical-align: middle;\n",
              "    }\n",
              "\n",
              "    .dataframe tbody tr th {\n",
              "        vertical-align: top;\n",
              "    }\n",
              "\n",
              "    .dataframe thead th {\n",
              "        text-align: right;\n",
              "    }\n",
              "</style>\n",
              "<table border=\"1\" class=\"dataframe\">\n",
              "  <thead>\n",
              "    <tr style=\"text-align: right;\">\n",
              "      <th></th>\n",
              "      <th>Client</th>\n",
              "      <th>Method</th>\n",
              "      <th>Status</th>\n",
              "      <th>Length</th>\n",
              "      <th>UserAgent</th>\n",
              "      <th>ResponseTime</th>\n",
              "      <th>Hour</th>\n",
              "      <th>Minute</th>\n",
              "      <th>Second</th>\n",
              "      <th>Req_Path_L1</th>\n",
              "      <th>Req_Path_L2</th>\n",
              "    </tr>\n",
              "  </thead>\n",
              "  <tbody>\n",
              "    <tr>\n",
              "      <th>776</th>\n",
              "      <td>20.62.177.11</td>\n",
              "      <td>Get</td>\n",
              "      <td>200</td>\n",
              "      <td>53479</td>\n",
              "      <td>Mozilla/5.0 (compatible; SemrushBot/7~bl; +htt...</td>\n",
              "      <td>-</td>\n",
              "      <td>5</td>\n",
              "      <td>6</td>\n",
              "      <td>31</td>\n",
              "      <td>/</td>\n",
              "      <td>pros/1993352776</td>\n",
              "    </tr>\n",
              "    <tr>\n",
              "      <th>2010</th>\n",
              "      <td>20.62.177.60</td>\n",
              "      <td>Get</td>\n",
              "      <td>200</td>\n",
              "      <td>55330</td>\n",
              "      <td>Mozilla/5.0 (compatible; SemrushBot/7~bl; +htt...</td>\n",
              "      <td>-</td>\n",
              "      <td>5</td>\n",
              "      <td>7</td>\n",
              "      <td>27</td>\n",
              "      <td>/</td>\n",
              "      <td>pros/1797822247</td>\n",
              "    </tr>\n",
              "    <tr>\n",
              "      <th>2708</th>\n",
              "      <td>20.62.177.133</td>\n",
              "      <td>Get</td>\n",
              "      <td>200</td>\n",
              "      <td>20947</td>\n",
              "      <td>Mozilla/5.0 (compatible; SemrushBot/7~bl; +htt...</td>\n",
              "      <td>-</td>\n",
              "      <td>5</td>\n",
              "      <td>8</td>\n",
              "      <td>4</td>\n",
              "      <td>/</td>\n",
              "      <td>pros/763244865</td>\n",
              "    </tr>\n",
              "    <tr>\n",
              "      <th>2866</th>\n",
              "      <td>207.213.193.118</td>\n",
              "      <td>Get</td>\n",
              "      <td>301</td>\n",
              "      <td>169</td>\n",
              "      <td>Mozilla/5.0 (Linux; Android 6.0.1; Nexus 5X Bu...</td>\n",
              "      <td>-</td>\n",
              "      <td>5</td>\n",
              "      <td>8</td>\n",
              "      <td>18</td>\n",
              "      <td>/</td>\n",
              "      <td>pages/1939232229</td>\n",
              "    </tr>\n",
              "    <tr>\n",
              "      <th>3468</th>\n",
              "      <td>20.62.177.4</td>\n",
              "      <td>Get</td>\n",
              "      <td>200</td>\n",
              "      <td>37060</td>\n",
              "      <td>Mozilla/5.0 (compatible; SemrushBot/7~bl; +htt...</td>\n",
              "      <td>-</td>\n",
              "      <td>5</td>\n",
              "      <td>8</td>\n",
              "      <td>49</td>\n",
              "      <td>/</td>\n",
              "      <td>pros/2084824811</td>\n",
              "    </tr>\n",
              "    <tr>\n",
              "      <th>...</th>\n",
              "      <td>...</td>\n",
              "      <td>...</td>\n",
              "      <td>...</td>\n",
              "      <td>...</td>\n",
              "      <td>...</td>\n",
              "      <td>...</td>\n",
              "      <td>...</td>\n",
              "      <td>...</td>\n",
              "      <td>...</td>\n",
              "      <td>...</td>\n",
              "      <td>...</td>\n",
              "    </tr>\n",
              "    <tr>\n",
              "      <th>1257193</th>\n",
              "      <td>20.62.177.11</td>\n",
              "      <td>Get</td>\n",
              "      <td>200</td>\n",
              "      <td>24540</td>\n",
              "      <td>Mozilla/5.0 (compatible; SemrushBot/7~bl; +htt...</td>\n",
              "      <td>-</td>\n",
              "      <td>15</td>\n",
              "      <td>7</td>\n",
              "      <td>34</td>\n",
              "      <td>/</td>\n",
              "      <td>pros/1644096504</td>\n",
              "    </tr>\n",
              "    <tr>\n",
              "      <th>1257986</th>\n",
              "      <td>20.62.177.11</td>\n",
              "      <td>Get</td>\n",
              "      <td>200</td>\n",
              "      <td>36129</td>\n",
              "      <td>Mozilla/5.0 (compatible; SemrushBot/7~bl; +htt...</td>\n",
              "      <td>-</td>\n",
              "      <td>15</td>\n",
              "      <td>7</td>\n",
              "      <td>59</td>\n",
              "      <td>/</td>\n",
              "      <td>pros/743056796</td>\n",
              "    </tr>\n",
              "    <tr>\n",
              "      <th>1258079</th>\n",
              "      <td>20.62.177.161</td>\n",
              "      <td>Get</td>\n",
              "      <td>200</td>\n",
              "      <td>51334</td>\n",
              "      <td>Mozilla/5.0 (compatible; SemrushBot/7~bl; +htt...</td>\n",
              "      <td>-</td>\n",
              "      <td>15</td>\n",
              "      <td>8</td>\n",
              "      <td>2</td>\n",
              "      <td>/</td>\n",
              "      <td>pros/1177343248</td>\n",
              "    </tr>\n",
              "    <tr>\n",
              "      <th>1258456</th>\n",
              "      <td>207.213.207.17</td>\n",
              "      <td>Get</td>\n",
              "      <td>301</td>\n",
              "      <td>169</td>\n",
              "      <td>Mozilla/5.0 (Linux; Android 6.0.1; Nexus 5X Bu...</td>\n",
              "      <td>-</td>\n",
              "      <td>15</td>\n",
              "      <td>8</td>\n",
              "      <td>12</td>\n",
              "      <td>/</td>\n",
              "      <td>services/1404674245</td>\n",
              "    </tr>\n",
              "    <tr>\n",
              "      <th>1259453</th>\n",
              "      <td>153.126.111.1</td>\n",
              "      <td>Get</td>\n",
              "      <td>200</td>\n",
              "      <td>58833</td>\n",
              "      <td>Mozilla/5.0 (Linux; Android 4.4.4; SM-J100H) A...</td>\n",
              "      <td>-</td>\n",
              "      <td>15</td>\n",
              "      <td>8</td>\n",
              "      <td>39</td>\n",
              "      <td>/</td>\n",
              "      <td>pros/884190773</td>\n",
              "    </tr>\n",
              "  </tbody>\n",
              "</table>\n",
              "<p>1718 rows × 11 columns</p>\n",
              "</div>"
            ],
            "text/plain": [
              "                  Client Method Status  ... Second Req_Path_L1          Req_Path_L2\n",
              "776         20.62.177.11    Get    200  ...     31           /      pros/1993352776\n",
              "2010        20.62.177.60    Get    200  ...     27           /      pros/1797822247\n",
              "2708       20.62.177.133    Get    200  ...      4           /       pros/763244865\n",
              "2866     207.213.193.118    Get    301  ...     18           /     pages/1939232229\n",
              "3468         20.62.177.4    Get    200  ...     49           /      pros/2084824811\n",
              "...                  ...    ...    ...  ...    ...         ...                  ...\n",
              "1257193     20.62.177.11    Get    200  ...     34           /      pros/1644096504\n",
              "1257986     20.62.177.11    Get    200  ...     59           /       pros/743056796\n",
              "1258079    20.62.177.161    Get    200  ...      2           /      pros/1177343248\n",
              "1258456   207.213.207.17    Get    301  ...     12           /  services/1404674245\n",
              "1259453    153.126.111.1    Get    200  ...     39           /       pros/884190773\n",
              "\n",
              "[1718 rows x 11 columns]"
            ]
          },
          "metadata": {
            "tags": []
          },
          "execution_count": 103
        }
      ]
    },
    {
      "cell_type": "code",
      "metadata": {
        "id": "r-qbpN_OPZ5y"
      },
      "source": [
        "# Fill missing values for ResponseTime with 0\n",
        "data.loc[(data[\"Client\"] != '-') & (data[\"ResponseTime\"] == '-'), \"ResponseTime\"] = '0'"
      ],
      "execution_count": null,
      "outputs": []
    },
    {
      "cell_type": "code",
      "metadata": {
        "id": "OHAArp7-Ecnk"
      },
      "source": [
        "# Convert String to integers\n",
        "data[\"Length\"] = data[\"Length\"].astype(\"int64\")\n",
        "data[\"ResponseTime\"] = data[\"ResponseTime\"].astype(\"int64\")"
      ],
      "execution_count": null,
      "outputs": []
    },
    {
      "cell_type": "code",
      "metadata": {
        "id": "o0LNT-9Y_CEj"
      },
      "source": [
        "# Save dataset\n",
        "data.to_csv(\"drive/MyDrive/Rahnema-College/Tuning/Final-Project/data.csv\", index=False)"
      ],
      "execution_count": null,
      "outputs": []
    },
    {
      "cell_type": "code",
      "metadata": {
        "id": "nabpGNtc7I1j"
      },
      "source": [
        "data = pd.read_csv(\"drive/MyDrive/Rahnema-College/Tuning/Final-Project/data.csv\")"
      ],
      "execution_count": null,
      "outputs": []
    },
    {
      "cell_type": "code",
      "metadata": {
        "id": "DiW1NgsB7KSp"
      },
      "source": [
        "data.drop(data.loc[data.Req_Path_L2.isna()].index, axis=0, inplace=True)"
      ],
      "execution_count": null,
      "outputs": []
    },
    {
      "cell_type": "code",
      "metadata": {
        "colab": {
          "base_uri": "https://localhost:8080/"
        },
        "id": "gxC7sRljjBjf",
        "outputId": "987919b9-b9d0-44cb-bc50-bbce0f8c0bca"
      },
      "source": [
        "data.info()"
      ],
      "execution_count": null,
      "outputs": [
        {
          "output_type": "stream",
          "text": [
            "<class 'pandas.core.frame.DataFrame'>\n",
            "Int64Index: 1235970 entries, 0 to 1241944\n",
            "Data columns (total 11 columns):\n",
            " #   Column        Non-Null Count    Dtype \n",
            "---  ------        --------------    ----- \n",
            " 0   Client        1235970 non-null  object\n",
            " 1   Method        1235970 non-null  object\n",
            " 2   Status        1235970 non-null  int64 \n",
            " 3   Length        1235970 non-null  int64 \n",
            " 4   UserAgent     1235970 non-null  object\n",
            " 5   ResponseTime  1235970 non-null  int64 \n",
            " 6   Hour          1235970 non-null  int64 \n",
            " 7   Minute        1235970 non-null  int64 \n",
            " 8   Second        1235970 non-null  int64 \n",
            " 9   Req_Path_L1   1235970 non-null  object\n",
            " 10  Req_Path_L2   1235970 non-null  object\n",
            "dtypes: int64(6), object(5)\n",
            "memory usage: 113.2+ MB\n"
          ],
          "name": "stdout"
        }
      ]
    },
    {
      "cell_type": "code",
      "metadata": {
        "colab": {
          "base_uri": "https://localhost:8080/"
        },
        "id": "hB1nivM3_vaa",
        "outputId": "1d6bfa89-2e9f-49d8-dbcd-f3dc7ff11410"
      },
      "source": [
        "# Load dataset\n",
        "data = pd.read_csv(\"drive/MyDrive/Rahnema-College/Tuning/Final-Project/data.csv\")\n",
        "data.head()"
      ],
      "execution_count": null,
      "outputs": [
        {
          "output_type": "execute_result",
          "data": {
            "text/html": [
              "<div>\n",
              "<style scoped>\n",
              "    .dataframe tbody tr th:only-of-type {\n",
              "        vertical-align: middle;\n",
              "    }\n",
              "\n",
              "    .dataframe tbody tr th {\n",
              "        vertical-align: top;\n",
              "    }\n",
              "\n",
              "    .dataframe thead th {\n",
              "        text-align: right;\n",
              "    }\n",
              "</style>\n",
              "<table border=\"1\" class=\"dataframe\">\n",
              "  <thead>\n",
              "    <tr style=\"text-align: right;\">\n",
              "      <th></th>\n",
              "      <th>Client</th>\n",
              "      <th>Method</th>\n",
              "      <th>Status</th>\n",
              "      <th>Length</th>\n",
              "      <th>UserAgent</th>\n",
              "      <th>ResponseTime</th>\n",
              "      <th>Hour</th>\n",
              "      <th>Minute</th>\n",
              "      <th>Second</th>\n",
              "      <th>Req_Path_L1</th>\n",
              "      <th>Req_Path_L2</th>\n",
              "    </tr>\n",
              "  </thead>\n",
              "  <tbody>\n",
              "    <tr>\n",
              "      <th>0</th>\n",
              "      <td>207.213.193.143</td>\n",
              "      <td>Get</td>\n",
              "      <td>304</td>\n",
              "      <td>0</td>\n",
              "      <td>Googlebot-Image/1.0</td>\n",
              "      <td>32</td>\n",
              "      <td>5</td>\n",
              "      <td>6</td>\n",
              "      <td>0</td>\n",
              "      <td>/</td>\n",
              "      <td>cdn/profiles/1026106239</td>\n",
              "    </tr>\n",
              "    <tr>\n",
              "      <th>1</th>\n",
              "      <td>207.213.193.143</td>\n",
              "      <td>Get</td>\n",
              "      <td>304</td>\n",
              "      <td>0</td>\n",
              "      <td>Googlebot-Image/1.0</td>\n",
              "      <td>4</td>\n",
              "      <td>5</td>\n",
              "      <td>6</td>\n",
              "      <td>0</td>\n",
              "      <td>images/</td>\n",
              "      <td>badge.png</td>\n",
              "    </tr>\n",
              "    <tr>\n",
              "      <th>2</th>\n",
              "      <td>35.110.222.153</td>\n",
              "      <td>Get</td>\n",
              "      <td>200</td>\n",
              "      <td>52567</td>\n",
              "      <td>Mozilla/5.0 (Linux; Android 6.0.1; SAMSUNG SM-...</td>\n",
              "      <td>32</td>\n",
              "      <td>5</td>\n",
              "      <td>6</td>\n",
              "      <td>0</td>\n",
              "      <td>/</td>\n",
              "      <td>pages/630180847</td>\n",
              "    </tr>\n",
              "    <tr>\n",
              "      <th>3</th>\n",
              "      <td>35.108.208.99</td>\n",
              "      <td>Get</td>\n",
              "      <td>200</td>\n",
              "      <td>23531</td>\n",
              "      <td>Mozilla/5.0 (Linux; Android 6.0; CAM-L21) Appl...</td>\n",
              "      <td>20</td>\n",
              "      <td>5</td>\n",
              "      <td>6</td>\n",
              "      <td>0</td>\n",
              "      <td>images/</td>\n",
              "      <td>fav_icon2.ico</td>\n",
              "    </tr>\n",
              "    <tr>\n",
              "      <th>4</th>\n",
              "      <td>35.110.222.153</td>\n",
              "      <td>Get</td>\n",
              "      <td>200</td>\n",
              "      <td>4680</td>\n",
              "      <td>Mozilla/5.0 (Linux; Android 6.0.1; SAMSUNG SM-...</td>\n",
              "      <td>8</td>\n",
              "      <td>5</td>\n",
              "      <td>6</td>\n",
              "      <td>0</td>\n",
              "      <td>images/</td>\n",
              "      <td>sanjagh_logo_purpule5.png</td>\n",
              "    </tr>\n",
              "  </tbody>\n",
              "</table>\n",
              "</div>"
            ],
            "text/plain": [
              "            Client Method  ...  Req_Path_L1                Req_Path_L2\n",
              "0  207.213.193.143    Get  ...            /    cdn/profiles/1026106239\n",
              "1  207.213.193.143    Get  ...      images/                  badge.png\n",
              "2   35.110.222.153    Get  ...            /            pages/630180847\n",
              "3    35.108.208.99    Get  ...      images/              fav_icon2.ico\n",
              "4   35.110.222.153    Get  ...      images/  sanjagh_logo_purpule5.png\n",
              "\n",
              "[5 rows x 11 columns]"
            ]
          },
          "metadata": {
            "tags": []
          },
          "execution_count": 110
        }
      ]
    },
    {
      "cell_type": "code",
      "metadata": {
        "colab": {
          "base_uri": "https://localhost:8080/"
        },
        "id": "iPnSBgI2AWm1",
        "outputId": "9625a2f0-a141-4e84-88d8-b7e65ddd5aaf"
      },
      "source": [
        "data.info()"
      ],
      "execution_count": null,
      "outputs": [
        {
          "output_type": "stream",
          "text": [
            "<class 'pandas.core.frame.DataFrame'>\n",
            "RangeIndex: 1241945 entries, 0 to 1241944\n",
            "Data columns (total 11 columns):\n",
            " #   Column        Non-Null Count    Dtype \n",
            "---  ------        --------------    ----- \n",
            " 0   Client        1241945 non-null  object\n",
            " 1   Method        1241945 non-null  object\n",
            " 2   Status        1241945 non-null  int64 \n",
            " 3   Length        1241945 non-null  int64 \n",
            " 4   UserAgent     1241945 non-null  object\n",
            " 5   ResponseTime  1241945 non-null  int64 \n",
            " 6   Hour          1241945 non-null  int64 \n",
            " 7   Minute        1241945 non-null  int64 \n",
            " 8   Second        1241945 non-null  int64 \n",
            " 9   Req_Path_L1   1241945 non-null  object\n",
            " 10  Req_Path_L2   1235970 non-null  object\n",
            "dtypes: int64(6), object(5)\n",
            "memory usage: 104.2+ MB\n"
          ],
          "name": "stdout"
        }
      ]
    },
    {
      "cell_type": "code",
      "metadata": {
        "colab": {
          "base_uri": "https://localhost:8080/"
        },
        "id": "v2GiuG0LAaEO",
        "outputId": "70a0cfbf-6e5f-4c17-8547-570a9d402ca9"
      },
      "source": [
        "data.loc[data.Req_Path_L2.isna()]"
      ],
      "execution_count": null,
      "outputs": [
        {
          "output_type": "execute_result",
          "data": {
            "text/html": [
              "<div>\n",
              "<style scoped>\n",
              "    .dataframe tbody tr th:only-of-type {\n",
              "        vertical-align: middle;\n",
              "    }\n",
              "\n",
              "    .dataframe tbody tr th {\n",
              "        vertical-align: top;\n",
              "    }\n",
              "\n",
              "    .dataframe thead th {\n",
              "        text-align: right;\n",
              "    }\n",
              "</style>\n",
              "<table border=\"1\" class=\"dataframe\">\n",
              "  <thead>\n",
              "    <tr style=\"text-align: right;\">\n",
              "      <th></th>\n",
              "      <th>Client</th>\n",
              "      <th>Method</th>\n",
              "      <th>Status</th>\n",
              "      <th>Length</th>\n",
              "      <th>UserAgent</th>\n",
              "      <th>ResponseTime</th>\n",
              "      <th>Hour</th>\n",
              "      <th>Minute</th>\n",
              "      <th>Second</th>\n",
              "      <th>Req_Path_L1</th>\n",
              "      <th>Req_Path_L2</th>\n",
              "    </tr>\n",
              "  </thead>\n",
              "  <tbody>\n",
              "    <tr>\n",
              "      <th>152</th>\n",
              "      <td>20.117.146.75</td>\n",
              "      <td>Get</td>\n",
              "      <td>307</td>\n",
              "      <td>0</td>\n",
              "      <td>Go-http-client/2.0</td>\n",
              "      <td>4</td>\n",
              "      <td>5</td>\n",
              "      <td>6</td>\n",
              "      <td>6</td>\n",
              "      <td>/</td>\n",
              "      <td>NaN</td>\n",
              "    </tr>\n",
              "    <tr>\n",
              "      <th>353</th>\n",
              "      <td>20.92.247.170</td>\n",
              "      <td>Get</td>\n",
              "      <td>307</td>\n",
              "      <td>0</td>\n",
              "      <td>Go-http-client/2.0</td>\n",
              "      <td>8</td>\n",
              "      <td>5</td>\n",
              "      <td>6</td>\n",
              "      <td>13</td>\n",
              "      <td>/</td>\n",
              "      <td>NaN</td>\n",
              "    </tr>\n",
              "    <tr>\n",
              "      <th>610</th>\n",
              "      <td>76.212.164.3</td>\n",
              "      <td>Get</td>\n",
              "      <td>307</td>\n",
              "      <td>0</td>\n",
              "      <td>Go-http-client/2.0</td>\n",
              "      <td>0</td>\n",
              "      <td>5</td>\n",
              "      <td>6</td>\n",
              "      <td>24</td>\n",
              "      <td>/</td>\n",
              "      <td>NaN</td>\n",
              "    </tr>\n",
              "    <tr>\n",
              "      <th>632</th>\n",
              "      <td>93.113.99.115</td>\n",
              "      <td>Get</td>\n",
              "      <td>307</td>\n",
              "      <td>0</td>\n",
              "      <td>Go-http-client/2.0</td>\n",
              "      <td>12</td>\n",
              "      <td>5</td>\n",
              "      <td>6</td>\n",
              "      <td>25</td>\n",
              "      <td>/</td>\n",
              "      <td>NaN</td>\n",
              "    </tr>\n",
              "    <tr>\n",
              "      <th>810</th>\n",
              "      <td>36.67.23.210</td>\n",
              "      <td>Get</td>\n",
              "      <td>307</td>\n",
              "      <td>0</td>\n",
              "      <td>Go-http-client/2.0</td>\n",
              "      <td>12</td>\n",
              "      <td>5</td>\n",
              "      <td>6</td>\n",
              "      <td>36</td>\n",
              "      <td>/</td>\n",
              "      <td>NaN</td>\n",
              "    </tr>\n",
              "    <tr>\n",
              "      <th>...</th>\n",
              "      <td>...</td>\n",
              "      <td>...</td>\n",
              "      <td>...</td>\n",
              "      <td>...</td>\n",
              "      <td>...</td>\n",
              "      <td>...</td>\n",
              "      <td>...</td>\n",
              "      <td>...</td>\n",
              "      <td>...</td>\n",
              "      <td>...</td>\n",
              "      <td>...</td>\n",
              "    </tr>\n",
              "    <tr>\n",
              "      <th>1240929</th>\n",
              "      <td>20.92.247.170</td>\n",
              "      <td>Get</td>\n",
              "      <td>307</td>\n",
              "      <td>0</td>\n",
              "      <td>Go-http-client/2.0</td>\n",
              "      <td>4</td>\n",
              "      <td>15</td>\n",
              "      <td>8</td>\n",
              "      <td>25</td>\n",
              "      <td>/</td>\n",
              "      <td>NaN</td>\n",
              "    </tr>\n",
              "    <tr>\n",
              "      <th>1241067</th>\n",
              "      <td>93.113.99.115</td>\n",
              "      <td>Get</td>\n",
              "      <td>307</td>\n",
              "      <td>0</td>\n",
              "      <td>Go-http-client/2.0</td>\n",
              "      <td>8</td>\n",
              "      <td>15</td>\n",
              "      <td>8</td>\n",
              "      <td>28</td>\n",
              "      <td>/</td>\n",
              "      <td>NaN</td>\n",
              "    </tr>\n",
              "    <tr>\n",
              "      <th>1241081</th>\n",
              "      <td>238.129.28.160</td>\n",
              "      <td>Get</td>\n",
              "      <td>307</td>\n",
              "      <td>0</td>\n",
              "      <td>Mozilla/5.0 (Windows NT 6.1) AppleWebKit/537.3...</td>\n",
              "      <td>4</td>\n",
              "      <td>15</td>\n",
              "      <td>8</td>\n",
              "      <td>29</td>\n",
              "      <td>/</td>\n",
              "      <td>NaN</td>\n",
              "    </tr>\n",
              "    <tr>\n",
              "      <th>1241425</th>\n",
              "      <td>60.148.0.167</td>\n",
              "      <td>Get</td>\n",
              "      <td>307</td>\n",
              "      <td>0</td>\n",
              "      <td>Go-http-client/2.0</td>\n",
              "      <td>4</td>\n",
              "      <td>15</td>\n",
              "      <td>8</td>\n",
              "      <td>41</td>\n",
              "      <td>/</td>\n",
              "      <td>NaN</td>\n",
              "    </tr>\n",
              "    <tr>\n",
              "      <th>1241886</th>\n",
              "      <td>186.236.39.213</td>\n",
              "      <td>Head</td>\n",
              "      <td>405</td>\n",
              "      <td>0</td>\n",
              "      <td>Mozilla/5.0+(compatible; UptimeRobot/2.0; http...</td>\n",
              "      <td>16</td>\n",
              "      <td>15</td>\n",
              "      <td>8</td>\n",
              "      <td>58</td>\n",
              "      <td>/</td>\n",
              "      <td>NaN</td>\n",
              "    </tr>\n",
              "  </tbody>\n",
              "</table>\n",
              "<p>5975 rows × 11 columns</p>\n",
              "</div>"
            ],
            "text/plain": [
              "                 Client Method  Status  ...  Second Req_Path_L1  Req_Path_L2\n",
              "152       20.117.146.75    Get     307  ...       6           /          NaN\n",
              "353       20.92.247.170    Get     307  ...      13           /          NaN\n",
              "610        76.212.164.3    Get     307  ...      24           /          NaN\n",
              "632       93.113.99.115    Get     307  ...      25           /          NaN\n",
              "810        36.67.23.210    Get     307  ...      36           /          NaN\n",
              "...                 ...    ...     ...  ...     ...         ...          ...\n",
              "1240929   20.92.247.170    Get     307  ...      25           /          NaN\n",
              "1241067   93.113.99.115    Get     307  ...      28           /          NaN\n",
              "1241081  238.129.28.160    Get     307  ...      29           /          NaN\n",
              "1241425    60.148.0.167    Get     307  ...      41           /          NaN\n",
              "1241886  186.236.39.213   Head     405  ...      58           /          NaN\n",
              "\n",
              "[5975 rows x 11 columns]"
            ]
          },
          "metadata": {
            "tags": []
          },
          "execution_count": 112
        }
      ]
    },
    {
      "cell_type": "code",
      "metadata": {
        "colab": {
          "base_uri": "https://localhost:8080/"
        },
        "id": "76sDNTBaAdPX",
        "outputId": "593547c6-401b-4771-8f76-126654bdedb1"
      },
      "source": [
        "# Drop local requests\n",
        "data.drop(data.loc[data.Req_Path_L2.isna()].index, axis=0, inplace=True)\n",
        "data.info()"
      ],
      "execution_count": null,
      "outputs": [
        {
          "output_type": "stream",
          "text": [
            "<class 'pandas.core.frame.DataFrame'>\n",
            "Int64Index: 1235970 entries, 0 to 1241944\n",
            "Data columns (total 11 columns):\n",
            " #   Column        Non-Null Count    Dtype \n",
            "---  ------        --------------    ----- \n",
            " 0   Client        1235970 non-null  object\n",
            " 1   Method        1235970 non-null  object\n",
            " 2   Status        1235970 non-null  int64 \n",
            " 3   Length        1235970 non-null  int64 \n",
            " 4   UserAgent     1235970 non-null  object\n",
            " 5   ResponseTime  1235970 non-null  int64 \n",
            " 6   Hour          1235970 non-null  int64 \n",
            " 7   Minute        1235970 non-null  int64 \n",
            " 8   Second        1235970 non-null  int64 \n",
            " 9   Req_Path_L1   1235970 non-null  object\n",
            " 10  Req_Path_L2   1235970 non-null  object\n",
            "dtypes: int64(6), object(5)\n",
            "memory usage: 113.2+ MB\n"
          ],
          "name": "stdout"
        }
      ]
    },
    {
      "cell_type": "markdown",
      "metadata": {
        "id": "UZx0mIPNWsmY"
      },
      "source": [
        "### ip & UserAgents"
      ]
    },
    {
      "cell_type": "code",
      "metadata": {
        "id": "T-ZYgkS6rfaq"
      },
      "source": [
        "# Parse UserAgent and extract features\n",
        "unique_ua = np.unique(data.UserAgent)\n",
        "user_agent = {'browser':[],\n",
        "              'os':[],\n",
        "              'device':[],\n",
        "              'isBot':[]}\n",
        "for user in data.UserAgent.values:\n",
        "  parsed_user = parse(user)\n",
        "  user_agent['browser'].append(parsed_user.browser.family)\n",
        "  user_agent['os'].append(parsed_user.os.family)\n",
        "  user_agent['device'].append(parsed_user.device.family)\n",
        "  user_agent['isBot'].append(parsed_user.is_bot)"
      ],
      "execution_count": null,
      "outputs": []
    },
    {
      "cell_type": "code",
      "metadata": {
        "colab": {
          "base_uri": "https://localhost:8080/"
        },
        "id": "kIxog3A-LT5S",
        "outputId": "12377d6b-4b5f-4f44-8319-b94a4d3117eb"
      },
      "source": [
        "len(user_agent['browser']), len(user_agent['os']), len(user_agent['device']), len(user_agent['isBot'])"
      ],
      "execution_count": null,
      "outputs": [
        {
          "output_type": "execute_result",
          "data": {
            "text/plain": [
              "(1235970, 1235970, 1235970, 1235970)"
            ]
          },
          "metadata": {
            "tags": []
          },
          "execution_count": 115
        }
      ]
    },
    {
      "cell_type": "code",
      "metadata": {
        "id": "UcVdKBeXLiha"
      },
      "source": [
        "# Append extracted features to dataset\n",
        "data['Browser'] = user_agent['browser']\n",
        "data['OS'] = user_agent['os']\n",
        "data['Device'] = user_agent['device']\n",
        "data['isBot'] = user_agent['isBot']"
      ],
      "execution_count": null,
      "outputs": []
    },
    {
      "cell_type": "code",
      "metadata": {
        "colab": {
          "base_uri": "https://localhost:8080/",
          "height": 204
        },
        "id": "wEI-lB0HL7L2",
        "outputId": "8e10acf0-2dca-44f9-875f-8d3e5a1bd9b4"
      },
      "source": [
        "data.head()"
      ],
      "execution_count": null,
      "outputs": [
        {
          "output_type": "execute_result",
          "data": {
            "text/html": [
              "<div>\n",
              "<style scoped>\n",
              "    .dataframe tbody tr th:only-of-type {\n",
              "        vertical-align: middle;\n",
              "    }\n",
              "\n",
              "    .dataframe tbody tr th {\n",
              "        vertical-align: top;\n",
              "    }\n",
              "\n",
              "    .dataframe thead th {\n",
              "        text-align: right;\n",
              "    }\n",
              "</style>\n",
              "<table border=\"1\" class=\"dataframe\">\n",
              "  <thead>\n",
              "    <tr style=\"text-align: right;\">\n",
              "      <th></th>\n",
              "      <th>Client</th>\n",
              "      <th>Method</th>\n",
              "      <th>Status</th>\n",
              "      <th>Length</th>\n",
              "      <th>UserAgent</th>\n",
              "      <th>ResponseTime</th>\n",
              "      <th>Hour</th>\n",
              "      <th>Minute</th>\n",
              "      <th>Second</th>\n",
              "      <th>Req_Path_L1</th>\n",
              "      <th>Req_Path_L2</th>\n",
              "      <th>Browser</th>\n",
              "      <th>OS</th>\n",
              "      <th>Device</th>\n",
              "      <th>isBot</th>\n",
              "    </tr>\n",
              "  </thead>\n",
              "  <tbody>\n",
              "    <tr>\n",
              "      <th>0</th>\n",
              "      <td>207.213.193.143</td>\n",
              "      <td>Get</td>\n",
              "      <td>304</td>\n",
              "      <td>0</td>\n",
              "      <td>Googlebot-Image/1.0</td>\n",
              "      <td>32</td>\n",
              "      <td>5</td>\n",
              "      <td>6</td>\n",
              "      <td>0</td>\n",
              "      <td>/</td>\n",
              "      <td>cdn/profiles/1026106239</td>\n",
              "      <td>Googlebot-Image</td>\n",
              "      <td>Other</td>\n",
              "      <td>Spider</td>\n",
              "      <td>True</td>\n",
              "    </tr>\n",
              "    <tr>\n",
              "      <th>1</th>\n",
              "      <td>207.213.193.143</td>\n",
              "      <td>Get</td>\n",
              "      <td>304</td>\n",
              "      <td>0</td>\n",
              "      <td>Googlebot-Image/1.0</td>\n",
              "      <td>4</td>\n",
              "      <td>5</td>\n",
              "      <td>6</td>\n",
              "      <td>0</td>\n",
              "      <td>images/</td>\n",
              "      <td>badge.png</td>\n",
              "      <td>Googlebot-Image</td>\n",
              "      <td>Other</td>\n",
              "      <td>Spider</td>\n",
              "      <td>True</td>\n",
              "    </tr>\n",
              "    <tr>\n",
              "      <th>2</th>\n",
              "      <td>35.110.222.153</td>\n",
              "      <td>Get</td>\n",
              "      <td>200</td>\n",
              "      <td>52567</td>\n",
              "      <td>Mozilla/5.0 (Linux; Android 6.0.1; SAMSUNG SM-...</td>\n",
              "      <td>32</td>\n",
              "      <td>5</td>\n",
              "      <td>6</td>\n",
              "      <td>0</td>\n",
              "      <td>/</td>\n",
              "      <td>pages/630180847</td>\n",
              "      <td>Samsung Internet</td>\n",
              "      <td>Android</td>\n",
              "      <td>Samsung SM-J710GN</td>\n",
              "      <td>False</td>\n",
              "    </tr>\n",
              "    <tr>\n",
              "      <th>3</th>\n",
              "      <td>35.108.208.99</td>\n",
              "      <td>Get</td>\n",
              "      <td>200</td>\n",
              "      <td>23531</td>\n",
              "      <td>Mozilla/5.0 (Linux; Android 6.0; CAM-L21) Appl...</td>\n",
              "      <td>20</td>\n",
              "      <td>5</td>\n",
              "      <td>6</td>\n",
              "      <td>0</td>\n",
              "      <td>images/</td>\n",
              "      <td>fav_icon2.ico</td>\n",
              "      <td>Chrome Mobile</td>\n",
              "      <td>Android</td>\n",
              "      <td>Huawei CAM-L21</td>\n",
              "      <td>False</td>\n",
              "    </tr>\n",
              "    <tr>\n",
              "      <th>4</th>\n",
              "      <td>35.110.222.153</td>\n",
              "      <td>Get</td>\n",
              "      <td>200</td>\n",
              "      <td>4680</td>\n",
              "      <td>Mozilla/5.0 (Linux; Android 6.0.1; SAMSUNG SM-...</td>\n",
              "      <td>8</td>\n",
              "      <td>5</td>\n",
              "      <td>6</td>\n",
              "      <td>0</td>\n",
              "      <td>images/</td>\n",
              "      <td>sanjagh_logo_purpule5.png</td>\n",
              "      <td>Samsung Internet</td>\n",
              "      <td>Android</td>\n",
              "      <td>Samsung SM-J710GN</td>\n",
              "      <td>False</td>\n",
              "    </tr>\n",
              "  </tbody>\n",
              "</table>\n",
              "</div>"
            ],
            "text/plain": [
              "            Client Method  Status  ...       OS             Device  isBot\n",
              "0  207.213.193.143    Get     304  ...    Other             Spider   True\n",
              "1  207.213.193.143    Get     304  ...    Other             Spider   True\n",
              "2   35.110.222.153    Get     200  ...  Android  Samsung SM-J710GN  False\n",
              "3    35.108.208.99    Get     200  ...  Android     Huawei CAM-L21  False\n",
              "4   35.110.222.153    Get     200  ...  Android  Samsung SM-J710GN  False\n",
              "\n",
              "[5 rows x 15 columns]"
            ]
          },
          "metadata": {
            "tags": []
          },
          "execution_count": 117
        }
      ]
    },
    {
      "cell_type": "code",
      "metadata": {
        "id": "zyQlhbODCC8F"
      },
      "source": [
        "# # Split ip address to identify a user\n",
        "# user_ip = []\n",
        "# for ip in data.Client.values:\n",
        "#   fragment_list = ip.split(\".\")\n",
        "#   user_ip.append(fragment_list[0] + \".\" + fragment_list[1])"
      ],
      "execution_count": null,
      "outputs": []
    },
    {
      "cell_type": "code",
      "metadata": {
        "colab": {
          "base_uri": "https://localhost:8080/"
        },
        "id": "DQXdkUlfDdf8",
        "outputId": "add931dc-a613-44f0-9416-b18f7cfd1657"
      },
      "source": [
        "# np.unique(user_ip, return_counts=True)"
      ],
      "execution_count": null,
      "outputs": [
        {
          "output_type": "execute_result",
          "data": {
            "text/plain": [
              "(array(['1.56', '1.66', '1.81', ..., '99.227', '99.239', '99.96'],\n",
              "       dtype='<U7'), array([   1,    1,    7, ...,  124, 1707,    1]))"
            ]
          },
          "metadata": {
            "tags": []
          },
          "execution_count": 35
        }
      ]
    },
    {
      "cell_type": "code",
      "metadata": {
        "id": "zYhDJICeFQ1T"
      },
      "source": [
        "# data[\"UniqueIp\"] = user_ip"
      ],
      "execution_count": null,
      "outputs": []
    },
    {
      "cell_type": "code",
      "metadata": {
        "colab": {
          "base_uri": "https://localhost:8080/",
          "height": 204
        },
        "id": "j0rcV6YJEqs_",
        "outputId": "41862986-fc75-4251-f59a-5a21682a6115"
      },
      "source": [
        "# # Combine ip range and UserAgent which represent a single user for us\n",
        "# data[\"User\"] = data[\"UniqueIp\"] + \"-\" + data[\"UserAgent\"]\n",
        "# data.drop(\"UniqueIp\", axis=1, inplace=True)\n",
        "# data.head()"
      ],
      "execution_count": null,
      "outputs": [
        {
          "output_type": "execute_result",
          "data": {
            "text/html": [
              "<div>\n",
              "<style scoped>\n",
              "    .dataframe tbody tr th:only-of-type {\n",
              "        vertical-align: middle;\n",
              "    }\n",
              "\n",
              "    .dataframe tbody tr th {\n",
              "        vertical-align: top;\n",
              "    }\n",
              "\n",
              "    .dataframe thead th {\n",
              "        text-align: right;\n",
              "    }\n",
              "</style>\n",
              "<table border=\"1\" class=\"dataframe\">\n",
              "  <thead>\n",
              "    <tr style=\"text-align: right;\">\n",
              "      <th></th>\n",
              "      <th>Client</th>\n",
              "      <th>Method</th>\n",
              "      <th>Status</th>\n",
              "      <th>Length</th>\n",
              "      <th>UserAgent</th>\n",
              "      <th>ResponseTime</th>\n",
              "      <th>Hour</th>\n",
              "      <th>Minute</th>\n",
              "      <th>Second</th>\n",
              "      <th>Req_Path_L1</th>\n",
              "      <th>Req_Path_L2</th>\n",
              "      <th>User</th>\n",
              "    </tr>\n",
              "  </thead>\n",
              "  <tbody>\n",
              "    <tr>\n",
              "      <th>0</th>\n",
              "      <td>207.213.193.143</td>\n",
              "      <td>Get</td>\n",
              "      <td>304</td>\n",
              "      <td>0</td>\n",
              "      <td>Googlebot-Image/1.0</td>\n",
              "      <td>32</td>\n",
              "      <td>5</td>\n",
              "      <td>6</td>\n",
              "      <td>0</td>\n",
              "      <td>/</td>\n",
              "      <td>cdn/profiles/1026106239</td>\n",
              "      <td>207.213-Googlebot-Image/1.0</td>\n",
              "    </tr>\n",
              "    <tr>\n",
              "      <th>1</th>\n",
              "      <td>207.213.193.143</td>\n",
              "      <td>Get</td>\n",
              "      <td>304</td>\n",
              "      <td>0</td>\n",
              "      <td>Googlebot-Image/1.0</td>\n",
              "      <td>4</td>\n",
              "      <td>5</td>\n",
              "      <td>6</td>\n",
              "      <td>0</td>\n",
              "      <td>images/</td>\n",
              "      <td>badge.png</td>\n",
              "      <td>207.213-Googlebot-Image/1.0</td>\n",
              "    </tr>\n",
              "    <tr>\n",
              "      <th>2</th>\n",
              "      <td>35.110.222.153</td>\n",
              "      <td>Get</td>\n",
              "      <td>200</td>\n",
              "      <td>52567</td>\n",
              "      <td>Mozilla/5.0 (Linux; Android 6.0.1; SAMSUNG SM-...</td>\n",
              "      <td>32</td>\n",
              "      <td>5</td>\n",
              "      <td>6</td>\n",
              "      <td>0</td>\n",
              "      <td>/</td>\n",
              "      <td>pages/630180847</td>\n",
              "      <td>35.110-Mozilla/5.0 (Linux; Android 6.0.1; SAMS...</td>\n",
              "    </tr>\n",
              "    <tr>\n",
              "      <th>3</th>\n",
              "      <td>35.108.208.99</td>\n",
              "      <td>Get</td>\n",
              "      <td>200</td>\n",
              "      <td>23531</td>\n",
              "      <td>Mozilla/5.0 (Linux; Android 6.0; CAM-L21) Appl...</td>\n",
              "      <td>20</td>\n",
              "      <td>5</td>\n",
              "      <td>6</td>\n",
              "      <td>0</td>\n",
              "      <td>images/</td>\n",
              "      <td>fav_icon2.ico</td>\n",
              "      <td>35.108-Mozilla/5.0 (Linux; Android 6.0; CAM-L2...</td>\n",
              "    </tr>\n",
              "    <tr>\n",
              "      <th>4</th>\n",
              "      <td>35.110.222.153</td>\n",
              "      <td>Get</td>\n",
              "      <td>200</td>\n",
              "      <td>4680</td>\n",
              "      <td>Mozilla/5.0 (Linux; Android 6.0.1; SAMSUNG SM-...</td>\n",
              "      <td>8</td>\n",
              "      <td>5</td>\n",
              "      <td>6</td>\n",
              "      <td>0</td>\n",
              "      <td>images/</td>\n",
              "      <td>sanjagh_logo_purpule5.png</td>\n",
              "      <td>35.110-Mozilla/5.0 (Linux; Android 6.0.1; SAMS...</td>\n",
              "    </tr>\n",
              "  </tbody>\n",
              "</table>\n",
              "</div>"
            ],
            "text/plain": [
              "            Client  ...                                               User\n",
              "0  207.213.193.143  ...                        207.213-Googlebot-Image/1.0\n",
              "1  207.213.193.143  ...                        207.213-Googlebot-Image/1.0\n",
              "2   35.110.222.153  ...  35.110-Mozilla/5.0 (Linux; Android 6.0.1; SAMS...\n",
              "3    35.108.208.99  ...  35.108-Mozilla/5.0 (Linux; Android 6.0; CAM-L2...\n",
              "4   35.110.222.153  ...  35.110-Mozilla/5.0 (Linux; Android 6.0.1; SAMS...\n",
              "\n",
              "[5 rows x 12 columns]"
            ]
          },
          "metadata": {
            "tags": []
          },
          "execution_count": 37
        }
      ]
    },
    {
      "cell_type": "code",
      "metadata": {
        "colab": {
          "base_uri": "https://localhost:8080/"
        },
        "id": "LCqmJi-iFvME",
        "outputId": "6945ed51-4820-40bd-f24c-5e90f4f3a12b"
      },
      "source": [
        "# data.User.value_counts()"
      ],
      "execution_count": null,
      "outputs": [
        {
          "output_type": "execute_result",
          "data": {
            "text/plain": [
              "207.213-Googlebot-Image/1.0                                                                                                                                                                                       132714\n",
              "207.213-Mozilla/5.0 (Linux; Android 6.0.1; Nexus 5X Build/MMB29P) AppleWebKit/537.36 (KHTML, like Gecko) Chrome/91.0.4472.90 Mobile Safari/537.36 (compatible; Googlebot/2.1; +http://www.google.com/bot.html)     38331\n",
              "20.92-sentry/21.4.1 (https://sentry.io)                                                                                                                                                                            23912\n",
              "207.213-Mozilla/5.0 (Linux; Android 6.0.1; Nexus 5X Build/MMB29P) AppleWebKit/537.36 (KHTML, like Gecko) Chrome/90.0.4430.97 Mobile Safari/537.36 (compatible; Googlebot/2.1; +http://www.google.com/bot.html)      7436\n",
              "36.67-Go-http-client/2.0                                                                                                                                                                                            6719\n",
              "                                                                                                                                                                                                                   ...  \n",
              "92.130-Mozilla/5.0 (Linux; Android 10; M2004J19C) AppleWebKit/537.36 (KHTML, like Gecko) Chrome/88.0.4324.93 Mobile Safari/537.36                                                                                      1\n",
              "37.199-Mozilla/5.0 (Linux; Android 7.0; BND-L21) AppleWebKit/537.36 (KHTML, like Gecko) Chrome/81.0.4044.111 Mobile Safari/537.36                                                                                      1\n",
              "14.34-Mozilla/5.0 (Linux; Android 5.1.1; SAMSUNG SM-J111F Build/LMY47V) AppleWebKit/537.36 (KHTML, like Gecko) SamsungBrowser/7.4 Chrome/59.0.3071.125 Mobile Safari/537.36                                            1\n",
              "35.122-Mozilla/5.0 (Linux; Android 7.1.1; SM-J510F Build/NMF26X; wv) AppleWebKit/537.36 (KHTML, like Gecko) Version/4.0 Chrome/64.0.3282.137 Mobile Safari/537.36 GSA/10.33.5.21.arm                                   1\n",
              "209.193-Mozilla/5.0 (Linux; Android 9; TA-1032) AppleWebKit/537.36 (KHTML, like Gecko) Chrome/74.0.3729.136 Mobile Safari/537.36                                                                                       1\n",
              "Name: User, Length: 31604, dtype: int64"
            ]
          },
          "metadata": {
            "tags": []
          },
          "execution_count": 38
        }
      ]
    },
    {
      "cell_type": "code",
      "metadata": {
        "colab": {
          "base_uri": "https://localhost:8080/"
        },
        "id": "tQMjcl10pB4D",
        "outputId": "5c006fcc-11aa-486c-cc31-dabf1a6a6da5"
      },
      "source": [
        "data.Req_Path_L1.value_counts()"
      ],
      "execution_count": null,
      "outputs": [
        {
          "output_type": "execute_result",
          "data": {
            "text/plain": [
              "/             639845\n",
              "images/       298288\n",
              "js/           125224\n",
              "fonts/         98485\n",
              "css/           56303\n",
              "templates/     17825\n",
              "Name: Req_Path_L1, dtype: int64"
            ]
          },
          "metadata": {
            "tags": []
          },
          "execution_count": 39
        }
      ]
    },
    {
      "cell_type": "markdown",
      "metadata": {
        "id": "MADbWDgippiG"
      },
      "source": [
        "### Add some practical features\n",
        "They're some features which help the model to distinguish a Crawler from a human.  \n",
        "Crawlers are mostly have these features:\n",
        "* Access to images\n",
        "* Access to robots.txt\n",
        "* More HEAD requests\n",
        "* More request wiht errors (contains 4xx or 5xx)\n",
        "* Extract details from `User Agnet` : Browser, OS, Device, isBot\n",
        "So we add them to our dataset to demonstrate requests in more details. Also they will help us in identifying sessions."
      ]
    },
    {
      "cell_type": "code",
      "metadata": {
        "colab": {
          "base_uri": "https://localhost:8080/",
          "height": 204
        },
        "id": "x_0GvNM6z3Y9",
        "outputId": "50a8593c-93a7-488b-bbf3-054bd7410ff9"
      },
      "source": [
        "data.head()"
      ],
      "execution_count": null,
      "outputs": [
        {
          "output_type": "execute_result",
          "data": {
            "text/html": [
              "<div>\n",
              "<style scoped>\n",
              "    .dataframe tbody tr th:only-of-type {\n",
              "        vertical-align: middle;\n",
              "    }\n",
              "\n",
              "    .dataframe tbody tr th {\n",
              "        vertical-align: top;\n",
              "    }\n",
              "\n",
              "    .dataframe thead th {\n",
              "        text-align: right;\n",
              "    }\n",
              "</style>\n",
              "<table border=\"1\" class=\"dataframe\">\n",
              "  <thead>\n",
              "    <tr style=\"text-align: right;\">\n",
              "      <th></th>\n",
              "      <th>Client</th>\n",
              "      <th>Method</th>\n",
              "      <th>Status</th>\n",
              "      <th>Length</th>\n",
              "      <th>UserAgent</th>\n",
              "      <th>ResponseTime</th>\n",
              "      <th>Hour</th>\n",
              "      <th>Minute</th>\n",
              "      <th>Second</th>\n",
              "      <th>Req_Path_L1</th>\n",
              "      <th>Req_Path_L2</th>\n",
              "      <th>Browser</th>\n",
              "      <th>OS</th>\n",
              "      <th>Device</th>\n",
              "      <th>isBot</th>\n",
              "    </tr>\n",
              "  </thead>\n",
              "  <tbody>\n",
              "    <tr>\n",
              "      <th>0</th>\n",
              "      <td>207.213.193.143</td>\n",
              "      <td>Get</td>\n",
              "      <td>304</td>\n",
              "      <td>0</td>\n",
              "      <td>Googlebot-Image/1.0</td>\n",
              "      <td>32</td>\n",
              "      <td>5</td>\n",
              "      <td>6</td>\n",
              "      <td>0</td>\n",
              "      <td>/</td>\n",
              "      <td>cdn/profiles/1026106239</td>\n",
              "      <td>Googlebot-Image</td>\n",
              "      <td>Other</td>\n",
              "      <td>Spider</td>\n",
              "      <td>True</td>\n",
              "    </tr>\n",
              "    <tr>\n",
              "      <th>1</th>\n",
              "      <td>207.213.193.143</td>\n",
              "      <td>Get</td>\n",
              "      <td>304</td>\n",
              "      <td>0</td>\n",
              "      <td>Googlebot-Image/1.0</td>\n",
              "      <td>4</td>\n",
              "      <td>5</td>\n",
              "      <td>6</td>\n",
              "      <td>0</td>\n",
              "      <td>images/</td>\n",
              "      <td>badge.png</td>\n",
              "      <td>Googlebot-Image</td>\n",
              "      <td>Other</td>\n",
              "      <td>Spider</td>\n",
              "      <td>True</td>\n",
              "    </tr>\n",
              "    <tr>\n",
              "      <th>2</th>\n",
              "      <td>35.110.222.153</td>\n",
              "      <td>Get</td>\n",
              "      <td>200</td>\n",
              "      <td>52567</td>\n",
              "      <td>Mozilla/5.0 (Linux; Android 6.0.1; SAMSUNG SM-...</td>\n",
              "      <td>32</td>\n",
              "      <td>5</td>\n",
              "      <td>6</td>\n",
              "      <td>0</td>\n",
              "      <td>/</td>\n",
              "      <td>pages/630180847</td>\n",
              "      <td>Samsung Internet</td>\n",
              "      <td>Android</td>\n",
              "      <td>Samsung SM-J710GN</td>\n",
              "      <td>False</td>\n",
              "    </tr>\n",
              "    <tr>\n",
              "      <th>3</th>\n",
              "      <td>35.108.208.99</td>\n",
              "      <td>Get</td>\n",
              "      <td>200</td>\n",
              "      <td>23531</td>\n",
              "      <td>Mozilla/5.0 (Linux; Android 6.0; CAM-L21) Appl...</td>\n",
              "      <td>20</td>\n",
              "      <td>5</td>\n",
              "      <td>6</td>\n",
              "      <td>0</td>\n",
              "      <td>images/</td>\n",
              "      <td>fav_icon2.ico</td>\n",
              "      <td>Chrome Mobile</td>\n",
              "      <td>Android</td>\n",
              "      <td>Huawei CAM-L21</td>\n",
              "      <td>False</td>\n",
              "    </tr>\n",
              "    <tr>\n",
              "      <th>4</th>\n",
              "      <td>35.110.222.153</td>\n",
              "      <td>Get</td>\n",
              "      <td>200</td>\n",
              "      <td>4680</td>\n",
              "      <td>Mozilla/5.0 (Linux; Android 6.0.1; SAMSUNG SM-...</td>\n",
              "      <td>8</td>\n",
              "      <td>5</td>\n",
              "      <td>6</td>\n",
              "      <td>0</td>\n",
              "      <td>images/</td>\n",
              "      <td>sanjagh_logo_purpule5.png</td>\n",
              "      <td>Samsung Internet</td>\n",
              "      <td>Android</td>\n",
              "      <td>Samsung SM-J710GN</td>\n",
              "      <td>False</td>\n",
              "    </tr>\n",
              "  </tbody>\n",
              "</table>\n",
              "</div>"
            ],
            "text/plain": [
              "            Client Method  Status  ...       OS             Device  isBot\n",
              "0  207.213.193.143    Get     304  ...    Other             Spider   True\n",
              "1  207.213.193.143    Get     304  ...    Other             Spider   True\n",
              "2   35.110.222.153    Get     200  ...  Android  Samsung SM-J710GN  False\n",
              "3    35.108.208.99    Get     200  ...  Android     Huawei CAM-L21  False\n",
              "4   35.110.222.153    Get     200  ...  Android  Samsung SM-J710GN  False\n",
              "\n",
              "[5 rows x 15 columns]"
            ]
          },
          "metadata": {
            "tags": []
          },
          "execution_count": 118
        }
      ]
    },
    {
      "cell_type": "code",
      "metadata": {
        "id": "0nc6LU0h0BPP"
      },
      "source": [
        "# Define a column that tells us whether a request get an image or not\n",
        "data['isImage'] = data.Req_Path_L1.str.contains(\"images/\")\n",
        "# Define a column that tells us wheteher a request needs to acces an html file or not\n",
        "# data['isHTML'] = data.Req_Path_L1.str.contains(\".html\")\n",
        "# Define a column which tells us whether a request contains robots.txt or not\n",
        "data['robotTxt'] = data.Req_Path_L2.str.contains(\"robots.txt\")\n",
        "# Define a column to say whether the request was with HEAD method or not\n",
        "data['isHEAD'] = data.Method == \"Head\"\n",
        "# Contain errors ?!\n",
        "data['Status'] = data['Status'].astype('str')\n",
        "data['ErrorCode'] = data.Status.str.contains(\"4..\") | data.Status.str.contains(\"5..\")"
      ],
      "execution_count": null,
      "outputs": []
    },
    {
      "cell_type": "code",
      "metadata": {
        "colab": {
          "base_uri": "https://localhost:8080/",
          "height": 289
        },
        "id": "yJn3ZAFhKsoy",
        "outputId": "0a23c2a1-063c-4161-84d8-0f29fea22c32"
      },
      "source": [
        "data.head()"
      ],
      "execution_count": null,
      "outputs": [
        {
          "output_type": "execute_result",
          "data": {
            "text/html": [
              "<div>\n",
              "<style scoped>\n",
              "    .dataframe tbody tr th:only-of-type {\n",
              "        vertical-align: middle;\n",
              "    }\n",
              "\n",
              "    .dataframe tbody tr th {\n",
              "        vertical-align: top;\n",
              "    }\n",
              "\n",
              "    .dataframe thead th {\n",
              "        text-align: right;\n",
              "    }\n",
              "</style>\n",
              "<table border=\"1\" class=\"dataframe\">\n",
              "  <thead>\n",
              "    <tr style=\"text-align: right;\">\n",
              "      <th></th>\n",
              "      <th>Client</th>\n",
              "      <th>Method</th>\n",
              "      <th>Status</th>\n",
              "      <th>Length</th>\n",
              "      <th>UserAgent</th>\n",
              "      <th>ResponseTime</th>\n",
              "      <th>Hour</th>\n",
              "      <th>Minute</th>\n",
              "      <th>Second</th>\n",
              "      <th>Req_Path_L1</th>\n",
              "      <th>Req_Path_L2</th>\n",
              "      <th>Browser</th>\n",
              "      <th>OS</th>\n",
              "      <th>Device</th>\n",
              "      <th>isBot</th>\n",
              "      <th>isImage</th>\n",
              "      <th>robotTxt</th>\n",
              "      <th>isHEAD</th>\n",
              "      <th>ErrorCode</th>\n",
              "    </tr>\n",
              "  </thead>\n",
              "  <tbody>\n",
              "    <tr>\n",
              "      <th>0</th>\n",
              "      <td>207.213.193.143</td>\n",
              "      <td>Get</td>\n",
              "      <td>304</td>\n",
              "      <td>0</td>\n",
              "      <td>Googlebot-Image/1.0</td>\n",
              "      <td>32</td>\n",
              "      <td>5</td>\n",
              "      <td>6</td>\n",
              "      <td>0</td>\n",
              "      <td>/</td>\n",
              "      <td>cdn/profiles/1026106239</td>\n",
              "      <td>Googlebot-Image</td>\n",
              "      <td>Other</td>\n",
              "      <td>Spider</td>\n",
              "      <td>True</td>\n",
              "      <td>False</td>\n",
              "      <td>False</td>\n",
              "      <td>False</td>\n",
              "      <td>False</td>\n",
              "    </tr>\n",
              "    <tr>\n",
              "      <th>1</th>\n",
              "      <td>207.213.193.143</td>\n",
              "      <td>Get</td>\n",
              "      <td>304</td>\n",
              "      <td>0</td>\n",
              "      <td>Googlebot-Image/1.0</td>\n",
              "      <td>4</td>\n",
              "      <td>5</td>\n",
              "      <td>6</td>\n",
              "      <td>0</td>\n",
              "      <td>images/</td>\n",
              "      <td>badge.png</td>\n",
              "      <td>Googlebot-Image</td>\n",
              "      <td>Other</td>\n",
              "      <td>Spider</td>\n",
              "      <td>True</td>\n",
              "      <td>True</td>\n",
              "      <td>False</td>\n",
              "      <td>False</td>\n",
              "      <td>False</td>\n",
              "    </tr>\n",
              "    <tr>\n",
              "      <th>2</th>\n",
              "      <td>35.110.222.153</td>\n",
              "      <td>Get</td>\n",
              "      <td>200</td>\n",
              "      <td>52567</td>\n",
              "      <td>Mozilla/5.0 (Linux; Android 6.0.1; SAMSUNG SM-...</td>\n",
              "      <td>32</td>\n",
              "      <td>5</td>\n",
              "      <td>6</td>\n",
              "      <td>0</td>\n",
              "      <td>/</td>\n",
              "      <td>pages/630180847</td>\n",
              "      <td>Samsung Internet</td>\n",
              "      <td>Android</td>\n",
              "      <td>Samsung SM-J710GN</td>\n",
              "      <td>False</td>\n",
              "      <td>False</td>\n",
              "      <td>False</td>\n",
              "      <td>False</td>\n",
              "      <td>False</td>\n",
              "    </tr>\n",
              "    <tr>\n",
              "      <th>3</th>\n",
              "      <td>35.108.208.99</td>\n",
              "      <td>Get</td>\n",
              "      <td>200</td>\n",
              "      <td>23531</td>\n",
              "      <td>Mozilla/5.0 (Linux; Android 6.0; CAM-L21) Appl...</td>\n",
              "      <td>20</td>\n",
              "      <td>5</td>\n",
              "      <td>6</td>\n",
              "      <td>0</td>\n",
              "      <td>images/</td>\n",
              "      <td>fav_icon2.ico</td>\n",
              "      <td>Chrome Mobile</td>\n",
              "      <td>Android</td>\n",
              "      <td>Huawei CAM-L21</td>\n",
              "      <td>False</td>\n",
              "      <td>True</td>\n",
              "      <td>False</td>\n",
              "      <td>False</td>\n",
              "      <td>False</td>\n",
              "    </tr>\n",
              "    <tr>\n",
              "      <th>4</th>\n",
              "      <td>35.110.222.153</td>\n",
              "      <td>Get</td>\n",
              "      <td>200</td>\n",
              "      <td>4680</td>\n",
              "      <td>Mozilla/5.0 (Linux; Android 6.0.1; SAMSUNG SM-...</td>\n",
              "      <td>8</td>\n",
              "      <td>5</td>\n",
              "      <td>6</td>\n",
              "      <td>0</td>\n",
              "      <td>images/</td>\n",
              "      <td>sanjagh_logo_purpule5.png</td>\n",
              "      <td>Samsung Internet</td>\n",
              "      <td>Android</td>\n",
              "      <td>Samsung SM-J710GN</td>\n",
              "      <td>False</td>\n",
              "      <td>True</td>\n",
              "      <td>False</td>\n",
              "      <td>False</td>\n",
              "      <td>False</td>\n",
              "    </tr>\n",
              "  </tbody>\n",
              "</table>\n",
              "</div>"
            ],
            "text/plain": [
              "            Client Method Status  Length  ... isImage  robotTxt  isHEAD  ErrorCode\n",
              "0  207.213.193.143    Get    304       0  ...   False     False   False      False\n",
              "1  207.213.193.143    Get    304       0  ...    True     False   False      False\n",
              "2   35.110.222.153    Get    200   52567  ...   False     False   False      False\n",
              "3    35.108.208.99    Get    200   23531  ...    True     False   False      False\n",
              "4   35.110.222.153    Get    200    4680  ...    True     False   False      False\n",
              "\n",
              "[5 rows x 19 columns]"
            ]
          },
          "metadata": {
            "tags": []
          },
          "execution_count": 128
        }
      ]
    },
    {
      "cell_type": "code",
      "metadata": {
        "id": "-LyKrugv8KC9"
      },
      "source": [
        "# Add distance feature -> says the distance of the request with its previous one in Minute\n",
        "data['TimeMin'] = (data.Hour * 60) + data.Minute + (data.Second / 60)\n",
        "data['DistanceTime'] = data.groupby(['UserAgent'])['TimeMin'].transform('diff')"
      ],
      "execution_count": null,
      "outputs": []
    },
    {
      "cell_type": "code",
      "metadata": {
        "id": "FrxqA5MxdfD8"
      },
      "source": [
        "data['DistanceTime'].fillna(0.0, inplace=True)"
      ],
      "execution_count": null,
      "outputs": []
    },
    {
      "cell_type": "code",
      "metadata": {
        "colab": {
          "base_uri": "https://localhost:8080/"
        },
        "id": "d6WSSSffddnc",
        "outputId": "0fa160bd-ab16-44ea-e1eb-5ebf67ce5376"
      },
      "source": [
        "data.isna().sum()"
      ],
      "execution_count": null,
      "outputs": [
        {
          "output_type": "execute_result",
          "data": {
            "text/plain": [
              "Client          0\n",
              "Method          0\n",
              "Status          0\n",
              "Length          0\n",
              "UserAgent       0\n",
              "ResponseTime    0\n",
              "Hour            0\n",
              "Minute          0\n",
              "Second          0\n",
              "Req_Path_L1     0\n",
              "Req_Path_L2     0\n",
              "Browser         0\n",
              "OS              0\n",
              "Device          0\n",
              "isBot           0\n",
              "isImage         0\n",
              "robotTxt        0\n",
              "isHEAD          0\n",
              "ErrorCode       0\n",
              "TimeMin         0\n",
              "DistanceTime    0\n",
              "dtype: int64"
            ]
          },
          "metadata": {
            "tags": []
          },
          "execution_count": 134
        }
      ]
    },
    {
      "cell_type": "code",
      "metadata": {
        "id": "gYoxq7x2O9nf"
      },
      "source": [
        "# Add count feature -> count of reqeusts for a user agent\n",
        "data['CountOfRequest'] = data.groupby(['UserAgent'])['UserAgent'].transform('count')"
      ],
      "execution_count": null,
      "outputs": []
    },
    {
      "cell_type": "code",
      "metadata": {
        "colab": {
          "base_uri": "https://localhost:8080/",
          "height": 496
        },
        "id": "KzheaTu98KZ0",
        "outputId": "78f414b5-c82b-4ff0-c60a-511482a83386"
      },
      "source": [
        "data.head()"
      ],
      "execution_count": null,
      "outputs": [
        {
          "output_type": "execute_result",
          "data": {
            "text/html": [
              "<div>\n",
              "<style scoped>\n",
              "    .dataframe tbody tr th:only-of-type {\n",
              "        vertical-align: middle;\n",
              "    }\n",
              "\n",
              "    .dataframe tbody tr th {\n",
              "        vertical-align: top;\n",
              "    }\n",
              "\n",
              "    .dataframe thead th {\n",
              "        text-align: right;\n",
              "    }\n",
              "</style>\n",
              "<table border=\"1\" class=\"dataframe\">\n",
              "  <thead>\n",
              "    <tr style=\"text-align: right;\">\n",
              "      <th></th>\n",
              "      <th>Client</th>\n",
              "      <th>Method</th>\n",
              "      <th>Status</th>\n",
              "      <th>Length</th>\n",
              "      <th>UserAgent</th>\n",
              "      <th>ResponseTime</th>\n",
              "      <th>Hour</th>\n",
              "      <th>Minute</th>\n",
              "      <th>Second</th>\n",
              "      <th>Req_Path_L1</th>\n",
              "      <th>Req_Path_L2</th>\n",
              "      <th>Browser</th>\n",
              "      <th>OS</th>\n",
              "      <th>Device</th>\n",
              "      <th>isBot</th>\n",
              "      <th>isImage</th>\n",
              "      <th>robotTxt</th>\n",
              "      <th>isHEAD</th>\n",
              "      <th>ErrorCode</th>\n",
              "      <th>TimeMin</th>\n",
              "      <th>DistanceTime</th>\n",
              "      <th>CountOfRequest</th>\n",
              "    </tr>\n",
              "  </thead>\n",
              "  <tbody>\n",
              "    <tr>\n",
              "      <th>0</th>\n",
              "      <td>207.213.193.143</td>\n",
              "      <td>Get</td>\n",
              "      <td>304</td>\n",
              "      <td>0</td>\n",
              "      <td>Googlebot-Image/1.0</td>\n",
              "      <td>32</td>\n",
              "      <td>5</td>\n",
              "      <td>6</td>\n",
              "      <td>0</td>\n",
              "      <td>/</td>\n",
              "      <td>cdn/profiles/1026106239</td>\n",
              "      <td>Googlebot-Image</td>\n",
              "      <td>Other</td>\n",
              "      <td>Spider</td>\n",
              "      <td>True</td>\n",
              "      <td>False</td>\n",
              "      <td>False</td>\n",
              "      <td>False</td>\n",
              "      <td>False</td>\n",
              "      <td>306.0</td>\n",
              "      <td>0.0</td>\n",
              "      <td>132714</td>\n",
              "    </tr>\n",
              "    <tr>\n",
              "      <th>1</th>\n",
              "      <td>207.213.193.143</td>\n",
              "      <td>Get</td>\n",
              "      <td>304</td>\n",
              "      <td>0</td>\n",
              "      <td>Googlebot-Image/1.0</td>\n",
              "      <td>4</td>\n",
              "      <td>5</td>\n",
              "      <td>6</td>\n",
              "      <td>0</td>\n",
              "      <td>images/</td>\n",
              "      <td>badge.png</td>\n",
              "      <td>Googlebot-Image</td>\n",
              "      <td>Other</td>\n",
              "      <td>Spider</td>\n",
              "      <td>True</td>\n",
              "      <td>True</td>\n",
              "      <td>False</td>\n",
              "      <td>False</td>\n",
              "      <td>False</td>\n",
              "      <td>306.0</td>\n",
              "      <td>0.0</td>\n",
              "      <td>132714</td>\n",
              "    </tr>\n",
              "    <tr>\n",
              "      <th>2</th>\n",
              "      <td>35.110.222.153</td>\n",
              "      <td>Get</td>\n",
              "      <td>200</td>\n",
              "      <td>52567</td>\n",
              "      <td>Mozilla/5.0 (Linux; Android 6.0.1; SAMSUNG SM-...</td>\n",
              "      <td>32</td>\n",
              "      <td>5</td>\n",
              "      <td>6</td>\n",
              "      <td>0</td>\n",
              "      <td>/</td>\n",
              "      <td>pages/630180847</td>\n",
              "      <td>Samsung Internet</td>\n",
              "      <td>Android</td>\n",
              "      <td>Samsung SM-J710GN</td>\n",
              "      <td>False</td>\n",
              "      <td>False</td>\n",
              "      <td>False</td>\n",
              "      <td>False</td>\n",
              "      <td>False</td>\n",
              "      <td>306.0</td>\n",
              "      <td>0.0</td>\n",
              "      <td>38</td>\n",
              "    </tr>\n",
              "    <tr>\n",
              "      <th>3</th>\n",
              "      <td>35.108.208.99</td>\n",
              "      <td>Get</td>\n",
              "      <td>200</td>\n",
              "      <td>23531</td>\n",
              "      <td>Mozilla/5.0 (Linux; Android 6.0; CAM-L21) Appl...</td>\n",
              "      <td>20</td>\n",
              "      <td>5</td>\n",
              "      <td>6</td>\n",
              "      <td>0</td>\n",
              "      <td>images/</td>\n",
              "      <td>fav_icon2.ico</td>\n",
              "      <td>Chrome Mobile</td>\n",
              "      <td>Android</td>\n",
              "      <td>Huawei CAM-L21</td>\n",
              "      <td>False</td>\n",
              "      <td>True</td>\n",
              "      <td>False</td>\n",
              "      <td>False</td>\n",
              "      <td>False</td>\n",
              "      <td>306.0</td>\n",
              "      <td>0.0</td>\n",
              "      <td>220</td>\n",
              "    </tr>\n",
              "    <tr>\n",
              "      <th>4</th>\n",
              "      <td>35.110.222.153</td>\n",
              "      <td>Get</td>\n",
              "      <td>200</td>\n",
              "      <td>4680</td>\n",
              "      <td>Mozilla/5.0 (Linux; Android 6.0.1; SAMSUNG SM-...</td>\n",
              "      <td>8</td>\n",
              "      <td>5</td>\n",
              "      <td>6</td>\n",
              "      <td>0</td>\n",
              "      <td>images/</td>\n",
              "      <td>sanjagh_logo_purpule5.png</td>\n",
              "      <td>Samsung Internet</td>\n",
              "      <td>Android</td>\n",
              "      <td>Samsung SM-J710GN</td>\n",
              "      <td>False</td>\n",
              "      <td>True</td>\n",
              "      <td>False</td>\n",
              "      <td>False</td>\n",
              "      <td>False</td>\n",
              "      <td>306.0</td>\n",
              "      <td>0.0</td>\n",
              "      <td>38</td>\n",
              "    </tr>\n",
              "  </tbody>\n",
              "</table>\n",
              "</div>"
            ],
            "text/plain": [
              "            Client Method Status  ...  TimeMin DistanceTime  CountOfRequest\n",
              "0  207.213.193.143    Get    304  ...    306.0          0.0          132714\n",
              "1  207.213.193.143    Get    304  ...    306.0          0.0          132714\n",
              "2   35.110.222.153    Get    200  ...    306.0          0.0              38\n",
              "3    35.108.208.99    Get    200  ...    306.0          0.0             220\n",
              "4   35.110.222.153    Get    200  ...    306.0          0.0              38\n",
              "\n",
              "[5 rows x 22 columns]"
            ]
          },
          "metadata": {
            "tags": []
          },
          "execution_count": 136
        }
      ]
    },
    {
      "cell_type": "code",
      "metadata": {
        "id": "8wR6cM9wGqf0"
      },
      "source": [
        "# Save Prepared Dataset\n",
        "data.to_csv(\"drive/MyDrive/Rahnema-College/Tuning/Final-Project/data_extra_features.csv\", index=False)"
      ],
      "execution_count": null,
      "outputs": []
    },
    {
      "cell_type": "markdown",
      "metadata": {
        "id": "nqw_E_UF9egR"
      },
      "source": [
        "### Encoding categoricals"
      ]
    },
    {
      "cell_type": "code",
      "metadata": {
        "id": "_wdC-s51AHSP"
      },
      "source": [
        "data = pd.read_csv(\"drive/MyDrive/Rahnema-College/Tuning/Final-Project/data_extra_features.csv\")"
      ],
      "execution_count": null,
      "outputs": []
    },
    {
      "cell_type": "code",
      "metadata": {
        "colab": {
          "base_uri": "https://localhost:8080/",
          "height": 496
        },
        "id": "C8oOLgUxO6nq",
        "outputId": "7676f2f5-8569-473d-ca77-791b7e1be386"
      },
      "source": [
        "data.head()"
      ],
      "execution_count": null,
      "outputs": [
        {
          "output_type": "execute_result",
          "data": {
            "text/html": [
              "<div>\n",
              "<style scoped>\n",
              "    .dataframe tbody tr th:only-of-type {\n",
              "        vertical-align: middle;\n",
              "    }\n",
              "\n",
              "    .dataframe tbody tr th {\n",
              "        vertical-align: top;\n",
              "    }\n",
              "\n",
              "    .dataframe thead th {\n",
              "        text-align: right;\n",
              "    }\n",
              "</style>\n",
              "<table border=\"1\" class=\"dataframe\">\n",
              "  <thead>\n",
              "    <tr style=\"text-align: right;\">\n",
              "      <th></th>\n",
              "      <th>Client</th>\n",
              "      <th>Method</th>\n",
              "      <th>Status</th>\n",
              "      <th>Length</th>\n",
              "      <th>UserAgent</th>\n",
              "      <th>ResponseTime</th>\n",
              "      <th>Hour</th>\n",
              "      <th>Minute</th>\n",
              "      <th>Second</th>\n",
              "      <th>Req_Path_L1</th>\n",
              "      <th>Req_Path_L2</th>\n",
              "      <th>Browser</th>\n",
              "      <th>OS</th>\n",
              "      <th>Device</th>\n",
              "      <th>isBot</th>\n",
              "      <th>isImage</th>\n",
              "      <th>robotTxt</th>\n",
              "      <th>isHEAD</th>\n",
              "      <th>ErrorCode</th>\n",
              "      <th>TimeMin</th>\n",
              "      <th>DistanceTime</th>\n",
              "      <th>CountOfRequest</th>\n",
              "    </tr>\n",
              "  </thead>\n",
              "  <tbody>\n",
              "    <tr>\n",
              "      <th>0</th>\n",
              "      <td>207.213.193.143</td>\n",
              "      <td>Get</td>\n",
              "      <td>304</td>\n",
              "      <td>0</td>\n",
              "      <td>Googlebot-Image/1.0</td>\n",
              "      <td>32</td>\n",
              "      <td>5</td>\n",
              "      <td>6</td>\n",
              "      <td>0</td>\n",
              "      <td>/</td>\n",
              "      <td>cdn/profiles/1026106239</td>\n",
              "      <td>Googlebot-Image</td>\n",
              "      <td>Other</td>\n",
              "      <td>Spider</td>\n",
              "      <td>True</td>\n",
              "      <td>False</td>\n",
              "      <td>False</td>\n",
              "      <td>False</td>\n",
              "      <td>False</td>\n",
              "      <td>306.0</td>\n",
              "      <td>0.0</td>\n",
              "      <td>132714</td>\n",
              "    </tr>\n",
              "    <tr>\n",
              "      <th>1</th>\n",
              "      <td>207.213.193.143</td>\n",
              "      <td>Get</td>\n",
              "      <td>304</td>\n",
              "      <td>0</td>\n",
              "      <td>Googlebot-Image/1.0</td>\n",
              "      <td>4</td>\n",
              "      <td>5</td>\n",
              "      <td>6</td>\n",
              "      <td>0</td>\n",
              "      <td>images/</td>\n",
              "      <td>badge.png</td>\n",
              "      <td>Googlebot-Image</td>\n",
              "      <td>Other</td>\n",
              "      <td>Spider</td>\n",
              "      <td>True</td>\n",
              "      <td>True</td>\n",
              "      <td>False</td>\n",
              "      <td>False</td>\n",
              "      <td>False</td>\n",
              "      <td>306.0</td>\n",
              "      <td>0.0</td>\n",
              "      <td>132714</td>\n",
              "    </tr>\n",
              "    <tr>\n",
              "      <th>2</th>\n",
              "      <td>35.110.222.153</td>\n",
              "      <td>Get</td>\n",
              "      <td>200</td>\n",
              "      <td>52567</td>\n",
              "      <td>Mozilla/5.0 (Linux; Android 6.0.1; SAMSUNG SM-...</td>\n",
              "      <td>32</td>\n",
              "      <td>5</td>\n",
              "      <td>6</td>\n",
              "      <td>0</td>\n",
              "      <td>/</td>\n",
              "      <td>pages/630180847</td>\n",
              "      <td>Samsung Internet</td>\n",
              "      <td>Android</td>\n",
              "      <td>Samsung SM-J710GN</td>\n",
              "      <td>False</td>\n",
              "      <td>False</td>\n",
              "      <td>False</td>\n",
              "      <td>False</td>\n",
              "      <td>False</td>\n",
              "      <td>306.0</td>\n",
              "      <td>0.0</td>\n",
              "      <td>38</td>\n",
              "    </tr>\n",
              "    <tr>\n",
              "      <th>3</th>\n",
              "      <td>35.108.208.99</td>\n",
              "      <td>Get</td>\n",
              "      <td>200</td>\n",
              "      <td>23531</td>\n",
              "      <td>Mozilla/5.0 (Linux; Android 6.0; CAM-L21) Appl...</td>\n",
              "      <td>20</td>\n",
              "      <td>5</td>\n",
              "      <td>6</td>\n",
              "      <td>0</td>\n",
              "      <td>images/</td>\n",
              "      <td>fav_icon2.ico</td>\n",
              "      <td>Chrome Mobile</td>\n",
              "      <td>Android</td>\n",
              "      <td>Huawei CAM-L21</td>\n",
              "      <td>False</td>\n",
              "      <td>True</td>\n",
              "      <td>False</td>\n",
              "      <td>False</td>\n",
              "      <td>False</td>\n",
              "      <td>306.0</td>\n",
              "      <td>0.0</td>\n",
              "      <td>220</td>\n",
              "    </tr>\n",
              "    <tr>\n",
              "      <th>4</th>\n",
              "      <td>35.110.222.153</td>\n",
              "      <td>Get</td>\n",
              "      <td>200</td>\n",
              "      <td>4680</td>\n",
              "      <td>Mozilla/5.0 (Linux; Android 6.0.1; SAMSUNG SM-...</td>\n",
              "      <td>8</td>\n",
              "      <td>5</td>\n",
              "      <td>6</td>\n",
              "      <td>0</td>\n",
              "      <td>images/</td>\n",
              "      <td>sanjagh_logo_purpule5.png</td>\n",
              "      <td>Samsung Internet</td>\n",
              "      <td>Android</td>\n",
              "      <td>Samsung SM-J710GN</td>\n",
              "      <td>False</td>\n",
              "      <td>True</td>\n",
              "      <td>False</td>\n",
              "      <td>False</td>\n",
              "      <td>False</td>\n",
              "      <td>306.0</td>\n",
              "      <td>0.0</td>\n",
              "      <td>38</td>\n",
              "    </tr>\n",
              "  </tbody>\n",
              "</table>\n",
              "</div>"
            ],
            "text/plain": [
              "            Client Method  Status  ...  TimeMin DistanceTime  CountOfRequest\n",
              "0  207.213.193.143    Get     304  ...    306.0          0.0          132714\n",
              "1  207.213.193.143    Get     304  ...    306.0          0.0          132714\n",
              "2   35.110.222.153    Get     200  ...    306.0          0.0              38\n",
              "3    35.108.208.99    Get     200  ...    306.0          0.0             220\n",
              "4   35.110.222.153    Get     200  ...    306.0          0.0              38\n",
              "\n",
              "[5 rows x 22 columns]"
            ]
          },
          "metadata": {
            "tags": []
          },
          "execution_count": 142
        }
      ]
    },
    {
      "cell_type": "code",
      "metadata": {
        "id": "9Ua4RNu7O3tZ"
      },
      "source": [
        "# drop extra features\n",
        "data.drop(['Client', 'UserAgent', 'ResponseTime', 'Length', 'TimeMin', 'Hour', 'Minute', 'Second'], axis=1, inplace=True)"
      ],
      "execution_count": null,
      "outputs": []
    },
    {
      "cell_type": "code",
      "metadata": {
        "colab": {
          "base_uri": "https://localhost:8080/"
        },
        "id": "wYaGJJ_Tk8wf",
        "outputId": "1f11d385-b3de-402a-c365-11b88f40acb1"
      },
      "source": [
        "data.info()"
      ],
      "execution_count": null,
      "outputs": [
        {
          "output_type": "stream",
          "text": [
            "<class 'pandas.core.frame.DataFrame'>\n",
            "RangeIndex: 1235970 entries, 0 to 1235969\n",
            "Data columns (total 14 columns):\n",
            " #   Column          Non-Null Count    Dtype  \n",
            "---  ------          --------------    -----  \n",
            " 0   Method          1235970 non-null  object \n",
            " 1   Status          1235970 non-null  int64  \n",
            " 2   Req_Path_L1     1235970 non-null  object \n",
            " 3   Req_Path_L2     1235970 non-null  object \n",
            " 4   Browser         1235970 non-null  object \n",
            " 5   OS              1235970 non-null  object \n",
            " 6   Device          1235970 non-null  object \n",
            " 7   isBot           1235970 non-null  bool   \n",
            " 8   isImage         1235970 non-null  bool   \n",
            " 9   robotTxt        1235970 non-null  bool   \n",
            " 10  isHEAD          1235970 non-null  bool   \n",
            " 11  ErrorCode       1235970 non-null  bool   \n",
            " 12  DistanceTime    1235970 non-null  float64\n",
            " 13  CountOfRequest  1235970 non-null  int64  \n",
            "dtypes: bool(5), float64(1), int64(2), object(6)\n",
            "memory usage: 90.8+ MB\n"
          ],
          "name": "stdout"
        }
      ]
    },
    {
      "cell_type": "code",
      "metadata": {
        "id": "1kV2NdLB9toM"
      },
      "source": [
        "data['Status'] = data['Status'].astype('str')\n",
        "# Encode Status columns with their codes category\n",
        "data['is1xx'] = data.Status.str.contains(\"1..\")\n",
        "data['is2xx'] = data.Status.str.contains(\"2..\")\n",
        "data['is3xx'] = data.Status.str.contains(\"3..\")\n",
        "data['is4xx'] = data.Status.str.contains(\"4..\")\n",
        "data['is5xx'] = data.Status.str.contains(\"5..\")\n",
        "\n",
        "# Label Status\n",
        "# data['Status'] = data['Status'].astype('category').cat.codes + 1"
      ],
      "execution_count": null,
      "outputs": []
    },
    {
      "cell_type": "code",
      "metadata": {
        "colab": {
          "base_uri": "https://localhost:8080/"
        },
        "id": "_LORiQJH__V2",
        "outputId": "939abaa5-b2d3-4711-91dd-f637d056af0e"
      },
      "source": [
        "# Encode Method and Req_Path_L1 with OneHot\n",
        "onehot_enc = ce.OneHotEncoder(cols=['Method', 'Req_Path_L1', 'OS'])\n",
        "encoded_data = onehot_enc.fit_transform(data)"
      ],
      "execution_count": null,
      "outputs": [
        {
          "output_type": "stream",
          "text": [
            "/usr/local/lib/python3.7/dist-packages/category_encoders/utils.py:21: FutureWarning: is_categorical is deprecated and will be removed in a future version.  Use is_categorical_dtype instead\n",
            "  elif pd.api.types.is_categorical(cols):\n"
          ],
          "name": "stderr"
        }
      ]
    },
    {
      "cell_type": "code",
      "metadata": {
        "colab": {
          "base_uri": "https://localhost:8080/",
          "height": 343
        },
        "id": "vgfuZBXxQdgU",
        "outputId": "b8999bba-659a-4cd3-8926-efecc78c2c3e"
      },
      "source": [
        "encoded_data.head()"
      ],
      "execution_count": null,
      "outputs": [
        {
          "output_type": "execute_result",
          "data": {
            "text/html": [
              "<div>\n",
              "<style scoped>\n",
              "    .dataframe tbody tr th:only-of-type {\n",
              "        vertical-align: middle;\n",
              "    }\n",
              "\n",
              "    .dataframe tbody tr th {\n",
              "        vertical-align: top;\n",
              "    }\n",
              "\n",
              "    .dataframe thead th {\n",
              "        text-align: right;\n",
              "    }\n",
              "</style>\n",
              "<table border=\"1\" class=\"dataframe\">\n",
              "  <thead>\n",
              "    <tr style=\"text-align: right;\">\n",
              "      <th></th>\n",
              "      <th>Method_1</th>\n",
              "      <th>Method_2</th>\n",
              "      <th>Method_3</th>\n",
              "      <th>Method_4</th>\n",
              "      <th>Method_5</th>\n",
              "      <th>Status</th>\n",
              "      <th>Req_Path_L1_1</th>\n",
              "      <th>Req_Path_L1_2</th>\n",
              "      <th>Req_Path_L1_3</th>\n",
              "      <th>Req_Path_L1_4</th>\n",
              "      <th>Req_Path_L1_5</th>\n",
              "      <th>Req_Path_L1_6</th>\n",
              "      <th>Req_Path_L2</th>\n",
              "      <th>Browser</th>\n",
              "      <th>OS_1</th>\n",
              "      <th>OS_2</th>\n",
              "      <th>OS_3</th>\n",
              "      <th>OS_4</th>\n",
              "      <th>OS_5</th>\n",
              "      <th>OS_6</th>\n",
              "      <th>OS_7</th>\n",
              "      <th>OS_8</th>\n",
              "      <th>OS_9</th>\n",
              "      <th>OS_10</th>\n",
              "      <th>OS_11</th>\n",
              "      <th>OS_12</th>\n",
              "      <th>OS_13</th>\n",
              "      <th>Device</th>\n",
              "      <th>isBot</th>\n",
              "      <th>isImage</th>\n",
              "      <th>robotTxt</th>\n",
              "      <th>isHEAD</th>\n",
              "      <th>ErrorCode</th>\n",
              "      <th>DistanceTime</th>\n",
              "      <th>CountOfRequest</th>\n",
              "      <th>is1xx</th>\n",
              "      <th>is2xx</th>\n",
              "      <th>is3xx</th>\n",
              "      <th>is4xx</th>\n",
              "      <th>is5xx</th>\n",
              "    </tr>\n",
              "  </thead>\n",
              "  <tbody>\n",
              "    <tr>\n",
              "      <th>0</th>\n",
              "      <td>1</td>\n",
              "      <td>0</td>\n",
              "      <td>0</td>\n",
              "      <td>0</td>\n",
              "      <td>0</td>\n",
              "      <td>304</td>\n",
              "      <td>1</td>\n",
              "      <td>0</td>\n",
              "      <td>0</td>\n",
              "      <td>0</td>\n",
              "      <td>0</td>\n",
              "      <td>0</td>\n",
              "      <td>cdn/profiles/1026106239</td>\n",
              "      <td>Googlebot-Image</td>\n",
              "      <td>1</td>\n",
              "      <td>0</td>\n",
              "      <td>0</td>\n",
              "      <td>0</td>\n",
              "      <td>0</td>\n",
              "      <td>0</td>\n",
              "      <td>0</td>\n",
              "      <td>0</td>\n",
              "      <td>0</td>\n",
              "      <td>0</td>\n",
              "      <td>0</td>\n",
              "      <td>0</td>\n",
              "      <td>0</td>\n",
              "      <td>Spider</td>\n",
              "      <td>True</td>\n",
              "      <td>False</td>\n",
              "      <td>False</td>\n",
              "      <td>False</td>\n",
              "      <td>False</td>\n",
              "      <td>0.0</td>\n",
              "      <td>132714</td>\n",
              "      <td>False</td>\n",
              "      <td>False</td>\n",
              "      <td>True</td>\n",
              "      <td>False</td>\n",
              "      <td>False</td>\n",
              "    </tr>\n",
              "    <tr>\n",
              "      <th>1</th>\n",
              "      <td>1</td>\n",
              "      <td>0</td>\n",
              "      <td>0</td>\n",
              "      <td>0</td>\n",
              "      <td>0</td>\n",
              "      <td>304</td>\n",
              "      <td>0</td>\n",
              "      <td>1</td>\n",
              "      <td>0</td>\n",
              "      <td>0</td>\n",
              "      <td>0</td>\n",
              "      <td>0</td>\n",
              "      <td>badge.png</td>\n",
              "      <td>Googlebot-Image</td>\n",
              "      <td>1</td>\n",
              "      <td>0</td>\n",
              "      <td>0</td>\n",
              "      <td>0</td>\n",
              "      <td>0</td>\n",
              "      <td>0</td>\n",
              "      <td>0</td>\n",
              "      <td>0</td>\n",
              "      <td>0</td>\n",
              "      <td>0</td>\n",
              "      <td>0</td>\n",
              "      <td>0</td>\n",
              "      <td>0</td>\n",
              "      <td>Spider</td>\n",
              "      <td>True</td>\n",
              "      <td>True</td>\n",
              "      <td>False</td>\n",
              "      <td>False</td>\n",
              "      <td>False</td>\n",
              "      <td>0.0</td>\n",
              "      <td>132714</td>\n",
              "      <td>False</td>\n",
              "      <td>False</td>\n",
              "      <td>True</td>\n",
              "      <td>False</td>\n",
              "      <td>False</td>\n",
              "    </tr>\n",
              "    <tr>\n",
              "      <th>2</th>\n",
              "      <td>1</td>\n",
              "      <td>0</td>\n",
              "      <td>0</td>\n",
              "      <td>0</td>\n",
              "      <td>0</td>\n",
              "      <td>200</td>\n",
              "      <td>1</td>\n",
              "      <td>0</td>\n",
              "      <td>0</td>\n",
              "      <td>0</td>\n",
              "      <td>0</td>\n",
              "      <td>0</td>\n",
              "      <td>pages/630180847</td>\n",
              "      <td>Samsung Internet</td>\n",
              "      <td>0</td>\n",
              "      <td>1</td>\n",
              "      <td>0</td>\n",
              "      <td>0</td>\n",
              "      <td>0</td>\n",
              "      <td>0</td>\n",
              "      <td>0</td>\n",
              "      <td>0</td>\n",
              "      <td>0</td>\n",
              "      <td>0</td>\n",
              "      <td>0</td>\n",
              "      <td>0</td>\n",
              "      <td>0</td>\n",
              "      <td>Samsung SM-J710GN</td>\n",
              "      <td>False</td>\n",
              "      <td>False</td>\n",
              "      <td>False</td>\n",
              "      <td>False</td>\n",
              "      <td>False</td>\n",
              "      <td>0.0</td>\n",
              "      <td>38</td>\n",
              "      <td>False</td>\n",
              "      <td>True</td>\n",
              "      <td>False</td>\n",
              "      <td>False</td>\n",
              "      <td>False</td>\n",
              "    </tr>\n",
              "    <tr>\n",
              "      <th>3</th>\n",
              "      <td>1</td>\n",
              "      <td>0</td>\n",
              "      <td>0</td>\n",
              "      <td>0</td>\n",
              "      <td>0</td>\n",
              "      <td>200</td>\n",
              "      <td>0</td>\n",
              "      <td>1</td>\n",
              "      <td>0</td>\n",
              "      <td>0</td>\n",
              "      <td>0</td>\n",
              "      <td>0</td>\n",
              "      <td>fav_icon2.ico</td>\n",
              "      <td>Chrome Mobile</td>\n",
              "      <td>0</td>\n",
              "      <td>1</td>\n",
              "      <td>0</td>\n",
              "      <td>0</td>\n",
              "      <td>0</td>\n",
              "      <td>0</td>\n",
              "      <td>0</td>\n",
              "      <td>0</td>\n",
              "      <td>0</td>\n",
              "      <td>0</td>\n",
              "      <td>0</td>\n",
              "      <td>0</td>\n",
              "      <td>0</td>\n",
              "      <td>Huawei CAM-L21</td>\n",
              "      <td>False</td>\n",
              "      <td>True</td>\n",
              "      <td>False</td>\n",
              "      <td>False</td>\n",
              "      <td>False</td>\n",
              "      <td>0.0</td>\n",
              "      <td>220</td>\n",
              "      <td>False</td>\n",
              "      <td>True</td>\n",
              "      <td>False</td>\n",
              "      <td>False</td>\n",
              "      <td>False</td>\n",
              "    </tr>\n",
              "    <tr>\n",
              "      <th>4</th>\n",
              "      <td>1</td>\n",
              "      <td>0</td>\n",
              "      <td>0</td>\n",
              "      <td>0</td>\n",
              "      <td>0</td>\n",
              "      <td>200</td>\n",
              "      <td>0</td>\n",
              "      <td>1</td>\n",
              "      <td>0</td>\n",
              "      <td>0</td>\n",
              "      <td>0</td>\n",
              "      <td>0</td>\n",
              "      <td>sanjagh_logo_purpule5.png</td>\n",
              "      <td>Samsung Internet</td>\n",
              "      <td>0</td>\n",
              "      <td>1</td>\n",
              "      <td>0</td>\n",
              "      <td>0</td>\n",
              "      <td>0</td>\n",
              "      <td>0</td>\n",
              "      <td>0</td>\n",
              "      <td>0</td>\n",
              "      <td>0</td>\n",
              "      <td>0</td>\n",
              "      <td>0</td>\n",
              "      <td>0</td>\n",
              "      <td>0</td>\n",
              "      <td>Samsung SM-J710GN</td>\n",
              "      <td>False</td>\n",
              "      <td>True</td>\n",
              "      <td>False</td>\n",
              "      <td>False</td>\n",
              "      <td>False</td>\n",
              "      <td>0.0</td>\n",
              "      <td>38</td>\n",
              "      <td>False</td>\n",
              "      <td>True</td>\n",
              "      <td>False</td>\n",
              "      <td>False</td>\n",
              "      <td>False</td>\n",
              "    </tr>\n",
              "  </tbody>\n",
              "</table>\n",
              "</div>"
            ],
            "text/plain": [
              "   Method_1  Method_2  Method_3  Method_4  ...  is2xx  is3xx  is4xx  is5xx\n",
              "0         1         0         0         0  ...  False   True  False  False\n",
              "1         1         0         0         0  ...  False   True  False  False\n",
              "2         1         0         0         0  ...   True  False  False  False\n",
              "3         1         0         0         0  ...   True  False  False  False\n",
              "4         1         0         0         0  ...   True  False  False  False\n",
              "\n",
              "[5 rows x 40 columns]"
            ]
          },
          "metadata": {
            "tags": []
          },
          "execution_count": 148
        }
      ]
    },
    {
      "cell_type": "code",
      "metadata": {
        "colab": {
          "base_uri": "https://localhost:8080/",
          "height": 224
        },
        "id": "uyGk7LFUAsce",
        "outputId": "9ed6f5e9-70e6-40e1-a9f2-2c074faa62a8"
      },
      "source": [
        "# Encode User with labelEncoding\n",
        "encoded_data['Browser'] = encoded_data['Browser'].astype('category').cat.codes+1\n",
        "encoded_data['Device'] = encoded_data['Device'].astype('category').cat.codes+1\n",
        "encoded_data.head()"
      ],
      "execution_count": null,
      "outputs": [
        {
          "output_type": "execute_result",
          "data": {
            "text/html": [
              "<div>\n",
              "<style scoped>\n",
              "    .dataframe tbody tr th:only-of-type {\n",
              "        vertical-align: middle;\n",
              "    }\n",
              "\n",
              "    .dataframe tbody tr th {\n",
              "        vertical-align: top;\n",
              "    }\n",
              "\n",
              "    .dataframe thead th {\n",
              "        text-align: right;\n",
              "    }\n",
              "</style>\n",
              "<table border=\"1\" class=\"dataframe\">\n",
              "  <thead>\n",
              "    <tr style=\"text-align: right;\">\n",
              "      <th></th>\n",
              "      <th>Method_1</th>\n",
              "      <th>Method_2</th>\n",
              "      <th>Method_3</th>\n",
              "      <th>Method_4</th>\n",
              "      <th>Method_5</th>\n",
              "      <th>Status</th>\n",
              "      <th>Req_Path_L1_1</th>\n",
              "      <th>Req_Path_L1_2</th>\n",
              "      <th>Req_Path_L1_3</th>\n",
              "      <th>Req_Path_L1_4</th>\n",
              "      <th>Req_Path_L1_5</th>\n",
              "      <th>Req_Path_L1_6</th>\n",
              "      <th>Req_Path_L2</th>\n",
              "      <th>Browser</th>\n",
              "      <th>OS_1</th>\n",
              "      <th>OS_2</th>\n",
              "      <th>OS_3</th>\n",
              "      <th>OS_4</th>\n",
              "      <th>OS_5</th>\n",
              "      <th>OS_6</th>\n",
              "      <th>OS_7</th>\n",
              "      <th>OS_8</th>\n",
              "      <th>OS_9</th>\n",
              "      <th>OS_10</th>\n",
              "      <th>OS_11</th>\n",
              "      <th>OS_12</th>\n",
              "      <th>OS_13</th>\n",
              "      <th>Device</th>\n",
              "      <th>isBot</th>\n",
              "      <th>isImage</th>\n",
              "      <th>robotTxt</th>\n",
              "      <th>isHEAD</th>\n",
              "      <th>ErrorCode</th>\n",
              "      <th>DistanceTime</th>\n",
              "      <th>CountOfRequest</th>\n",
              "      <th>is1xx</th>\n",
              "      <th>is2xx</th>\n",
              "      <th>is3xx</th>\n",
              "      <th>is4xx</th>\n",
              "      <th>is5xx</th>\n",
              "    </tr>\n",
              "  </thead>\n",
              "  <tbody>\n",
              "    <tr>\n",
              "      <th>0</th>\n",
              "      <td>1</td>\n",
              "      <td>0</td>\n",
              "      <td>0</td>\n",
              "      <td>0</td>\n",
              "      <td>0</td>\n",
              "      <td>304</td>\n",
              "      <td>1</td>\n",
              "      <td>0</td>\n",
              "      <td>0</td>\n",
              "      <td>0</td>\n",
              "      <td>0</td>\n",
              "      <td>0</td>\n",
              "      <td>cdn/profiles/1026106239</td>\n",
              "      <td>30</td>\n",
              "      <td>1</td>\n",
              "      <td>0</td>\n",
              "      <td>0</td>\n",
              "      <td>0</td>\n",
              "      <td>0</td>\n",
              "      <td>0</td>\n",
              "      <td>0</td>\n",
              "      <td>0</td>\n",
              "      <td>0</td>\n",
              "      <td>0</td>\n",
              "      <td>0</td>\n",
              "      <td>0</td>\n",
              "      <td>0</td>\n",
              "      <td>1096</td>\n",
              "      <td>True</td>\n",
              "      <td>False</td>\n",
              "      <td>False</td>\n",
              "      <td>False</td>\n",
              "      <td>False</td>\n",
              "      <td>0.0</td>\n",
              "      <td>132714</td>\n",
              "      <td>False</td>\n",
              "      <td>False</td>\n",
              "      <td>True</td>\n",
              "      <td>False</td>\n",
              "      <td>False</td>\n",
              "    </tr>\n",
              "    <tr>\n",
              "      <th>1</th>\n",
              "      <td>1</td>\n",
              "      <td>0</td>\n",
              "      <td>0</td>\n",
              "      <td>0</td>\n",
              "      <td>0</td>\n",
              "      <td>304</td>\n",
              "      <td>0</td>\n",
              "      <td>1</td>\n",
              "      <td>0</td>\n",
              "      <td>0</td>\n",
              "      <td>0</td>\n",
              "      <td>0</td>\n",
              "      <td>badge.png</td>\n",
              "      <td>30</td>\n",
              "      <td>1</td>\n",
              "      <td>0</td>\n",
              "      <td>0</td>\n",
              "      <td>0</td>\n",
              "      <td>0</td>\n",
              "      <td>0</td>\n",
              "      <td>0</td>\n",
              "      <td>0</td>\n",
              "      <td>0</td>\n",
              "      <td>0</td>\n",
              "      <td>0</td>\n",
              "      <td>0</td>\n",
              "      <td>0</td>\n",
              "      <td>1096</td>\n",
              "      <td>True</td>\n",
              "      <td>True</td>\n",
              "      <td>False</td>\n",
              "      <td>False</td>\n",
              "      <td>False</td>\n",
              "      <td>0.0</td>\n",
              "      <td>132714</td>\n",
              "      <td>False</td>\n",
              "      <td>False</td>\n",
              "      <td>True</td>\n",
              "      <td>False</td>\n",
              "      <td>False</td>\n",
              "    </tr>\n",
              "    <tr>\n",
              "      <th>2</th>\n",
              "      <td>1</td>\n",
              "      <td>0</td>\n",
              "      <td>0</td>\n",
              "      <td>0</td>\n",
              "      <td>0</td>\n",
              "      <td>200</td>\n",
              "      <td>1</td>\n",
              "      <td>0</td>\n",
              "      <td>0</td>\n",
              "      <td>0</td>\n",
              "      <td>0</td>\n",
              "      <td>0</td>\n",
              "      <td>pages/630180847</td>\n",
              "      <td>60</td>\n",
              "      <td>0</td>\n",
              "      <td>1</td>\n",
              "      <td>0</td>\n",
              "      <td>0</td>\n",
              "      <td>0</td>\n",
              "      <td>0</td>\n",
              "      <td>0</td>\n",
              "      <td>0</td>\n",
              "      <td>0</td>\n",
              "      <td>0</td>\n",
              "      <td>0</td>\n",
              "      <td>0</td>\n",
              "      <td>0</td>\n",
              "      <td>995</td>\n",
              "      <td>False</td>\n",
              "      <td>False</td>\n",
              "      <td>False</td>\n",
              "      <td>False</td>\n",
              "      <td>False</td>\n",
              "      <td>0.0</td>\n",
              "      <td>38</td>\n",
              "      <td>False</td>\n",
              "      <td>True</td>\n",
              "      <td>False</td>\n",
              "      <td>False</td>\n",
              "      <td>False</td>\n",
              "    </tr>\n",
              "    <tr>\n",
              "      <th>3</th>\n",
              "      <td>1</td>\n",
              "      <td>0</td>\n",
              "      <td>0</td>\n",
              "      <td>0</td>\n",
              "      <td>0</td>\n",
              "      <td>200</td>\n",
              "      <td>0</td>\n",
              "      <td>1</td>\n",
              "      <td>0</td>\n",
              "      <td>0</td>\n",
              "      <td>0</td>\n",
              "      <td>0</td>\n",
              "      <td>fav_icon2.ico</td>\n",
              "      <td>11</td>\n",
              "      <td>0</td>\n",
              "      <td>1</td>\n",
              "      <td>0</td>\n",
              "      <td>0</td>\n",
              "      <td>0</td>\n",
              "      <td>0</td>\n",
              "      <td>0</td>\n",
              "      <td>0</td>\n",
              "      <td>0</td>\n",
              "      <td>0</td>\n",
              "      <td>0</td>\n",
              "      <td>0</td>\n",
              "      <td>0</td>\n",
              "      <td>301</td>\n",
              "      <td>False</td>\n",
              "      <td>True</td>\n",
              "      <td>False</td>\n",
              "      <td>False</td>\n",
              "      <td>False</td>\n",
              "      <td>0.0</td>\n",
              "      <td>220</td>\n",
              "      <td>False</td>\n",
              "      <td>True</td>\n",
              "      <td>False</td>\n",
              "      <td>False</td>\n",
              "      <td>False</td>\n",
              "    </tr>\n",
              "    <tr>\n",
              "      <th>4</th>\n",
              "      <td>1</td>\n",
              "      <td>0</td>\n",
              "      <td>0</td>\n",
              "      <td>0</td>\n",
              "      <td>0</td>\n",
              "      <td>200</td>\n",
              "      <td>0</td>\n",
              "      <td>1</td>\n",
              "      <td>0</td>\n",
              "      <td>0</td>\n",
              "      <td>0</td>\n",
              "      <td>0</td>\n",
              "      <td>sanjagh_logo_purpule5.png</td>\n",
              "      <td>60</td>\n",
              "      <td>0</td>\n",
              "      <td>1</td>\n",
              "      <td>0</td>\n",
              "      <td>0</td>\n",
              "      <td>0</td>\n",
              "      <td>0</td>\n",
              "      <td>0</td>\n",
              "      <td>0</td>\n",
              "      <td>0</td>\n",
              "      <td>0</td>\n",
              "      <td>0</td>\n",
              "      <td>0</td>\n",
              "      <td>0</td>\n",
              "      <td>995</td>\n",
              "      <td>False</td>\n",
              "      <td>True</td>\n",
              "      <td>False</td>\n",
              "      <td>False</td>\n",
              "      <td>False</td>\n",
              "      <td>0.0</td>\n",
              "      <td>38</td>\n",
              "      <td>False</td>\n",
              "      <td>True</td>\n",
              "      <td>False</td>\n",
              "      <td>False</td>\n",
              "      <td>False</td>\n",
              "    </tr>\n",
              "  </tbody>\n",
              "</table>\n",
              "</div>"
            ],
            "text/plain": [
              "   Method_1  Method_2  Method_3  Method_4  ...  is2xx  is3xx  is4xx  is5xx\n",
              "0         1         0         0         0  ...  False   True  False  False\n",
              "1         1         0         0         0  ...  False   True  False  False\n",
              "2         1         0         0         0  ...   True  False  False  False\n",
              "3         1         0         0         0  ...   True  False  False  False\n",
              "4         1         0         0         0  ...   True  False  False  False\n",
              "\n",
              "[5 rows x 40 columns]"
            ]
          },
          "metadata": {
            "tags": []
          },
          "execution_count": 149
        }
      ]
    },
    {
      "cell_type": "code",
      "metadata": {
        "colab": {
          "base_uri": "https://localhost:8080/"
        },
        "id": "wqJDRBVSBrvT",
        "outputId": "68f89a25-cfec-4886-d305-cf603a6e0202"
      },
      "source": [
        "# Encode Req_Path_L2 with hashing method\n",
        "ce_hash = ce.HashingEncoder(cols=[\"Req_Path_L2\"])\n",
        "encoded_data = ce_hash.fit_transform(encoded_data)"
      ],
      "execution_count": null,
      "outputs": [
        {
          "output_type": "stream",
          "text": [
            "/usr/local/lib/python3.7/dist-packages/category_encoders/utils.py:21: FutureWarning: is_categorical is deprecated and will be removed in a future version.  Use is_categorical_dtype instead\n",
            "  elif pd.api.types.is_categorical(cols):\n"
          ],
          "name": "stderr"
        }
      ]
    },
    {
      "cell_type": "code",
      "metadata": {
        "id": "qhUTtGocQ43J"
      },
      "source": [
        "# Drop extra features\n",
        "encoded_data.drop(['Status'], axis=1, inplace=True)"
      ],
      "execution_count": null,
      "outputs": []
    },
    {
      "cell_type": "code",
      "metadata": {
        "id": "NNpw_sqUB5Xh"
      },
      "source": [
        "# Save Prepared Dataset\n",
        "encoded_data.to_csv(\"drive/MyDrive/Rahnema-College/Tuning/Final-Project/prepared_data_v4_extra_features.csv\", index=False)"
      ],
      "execution_count": null,
      "outputs": []
    },
    {
      "cell_type": "markdown",
      "metadata": {
        "id": "YtJC8KoSfHcA"
      },
      "source": [
        "## Modeling"
      ]
    },
    {
      "cell_type": "code",
      "metadata": {
        "id": "-Pl4HdR5YuwD"
      },
      "source": [
        "# Load prepared dataset\n",
        "encoded_data = pd.read_csv(\"drive/MyDrive/Rahnema-College/Tuning/Final-Project/prepared_data_v4_extra_features.csv\")"
      ],
      "execution_count": null,
      "outputs": []
    },
    {
      "cell_type": "code",
      "metadata": {
        "id": "Xcj7qwXiZ6AX"
      },
      "source": [
        "# Load original dataset\n",
        "data = pd.read_csv(\"drive/MyDrive/Rahnema-College/Tuning/Final-Project/data_extra_features.csv\")"
      ],
      "execution_count": null,
      "outputs": []
    },
    {
      "cell_type": "code",
      "metadata": {
        "id": "YVizd-bYwxbI"
      },
      "source": [
        "# encoded_data['PercentOfImages'] = (data.groupby('UserAgent')['isImage'].transform(np.count_nonzero) / data['CountOfRequest']) * 100\n",
        "# encoded_data['PercentOfrobotsTxt'] = (data.groupby('UserAgent')['robotTxt'].transform(np.count_nonzero) / data['CountOfRequest']) * 100\n",
        "# encoded_data['PercentOfHeads'] = (data.groupby('UserAgent')['isHEAD'].transform(np.count_nonzero) / data['CountOfRequest']) * 100\n",
        "encoded_data['PercentOfErrors'] = (data.groupby('UserAgent')['ErrorCode'].transform(np.count_nonzero) / data['CountOfRequest']) * 100"
      ],
      "execution_count": null,
      "outputs": []
    },
    {
      "cell_type": "code",
      "metadata": {
        "colab": {
          "base_uri": "https://localhost:8080/",
          "height": 224
        },
        "id": "mK1_70tA0VAQ",
        "outputId": "6e562e02-f0fc-40e0-820f-16f32c1e953c"
      },
      "source": [
        "encoded_data.head()"
      ],
      "execution_count": null,
      "outputs": [
        {
          "output_type": "execute_result",
          "data": {
            "text/html": [
              "<div>\n",
              "<style scoped>\n",
              "    .dataframe tbody tr th:only-of-type {\n",
              "        vertical-align: middle;\n",
              "    }\n",
              "\n",
              "    .dataframe tbody tr th {\n",
              "        vertical-align: top;\n",
              "    }\n",
              "\n",
              "    .dataframe thead th {\n",
              "        text-align: right;\n",
              "    }\n",
              "</style>\n",
              "<table border=\"1\" class=\"dataframe\">\n",
              "  <thead>\n",
              "    <tr style=\"text-align: right;\">\n",
              "      <th></th>\n",
              "      <th>col_0</th>\n",
              "      <th>col_1</th>\n",
              "      <th>col_2</th>\n",
              "      <th>col_3</th>\n",
              "      <th>col_4</th>\n",
              "      <th>col_5</th>\n",
              "      <th>col_6</th>\n",
              "      <th>col_7</th>\n",
              "      <th>Method_1</th>\n",
              "      <th>Method_2</th>\n",
              "      <th>Method_3</th>\n",
              "      <th>Method_4</th>\n",
              "      <th>Method_5</th>\n",
              "      <th>Req_Path_L1_1</th>\n",
              "      <th>Req_Path_L1_2</th>\n",
              "      <th>Req_Path_L1_3</th>\n",
              "      <th>Req_Path_L1_4</th>\n",
              "      <th>Req_Path_L1_5</th>\n",
              "      <th>Req_Path_L1_6</th>\n",
              "      <th>Browser</th>\n",
              "      <th>OS_1</th>\n",
              "      <th>OS_2</th>\n",
              "      <th>OS_3</th>\n",
              "      <th>OS_4</th>\n",
              "      <th>OS_5</th>\n",
              "      <th>OS_6</th>\n",
              "      <th>OS_7</th>\n",
              "      <th>OS_8</th>\n",
              "      <th>OS_9</th>\n",
              "      <th>OS_10</th>\n",
              "      <th>OS_11</th>\n",
              "      <th>OS_12</th>\n",
              "      <th>OS_13</th>\n",
              "      <th>Device</th>\n",
              "      <th>isBot</th>\n",
              "      <th>isImage</th>\n",
              "      <th>robotTxt</th>\n",
              "      <th>isHEAD</th>\n",
              "      <th>ErrorCode</th>\n",
              "      <th>DistanceTime</th>\n",
              "      <th>CountOfRequest</th>\n",
              "      <th>is1xx</th>\n",
              "      <th>is2xx</th>\n",
              "      <th>is3xx</th>\n",
              "      <th>is4xx</th>\n",
              "      <th>is5xx</th>\n",
              "      <th>PercentOfErrors</th>\n",
              "    </tr>\n",
              "  </thead>\n",
              "  <tbody>\n",
              "    <tr>\n",
              "      <th>0</th>\n",
              "      <td>0</td>\n",
              "      <td>0</td>\n",
              "      <td>0</td>\n",
              "      <td>0</td>\n",
              "      <td>0</td>\n",
              "      <td>0</td>\n",
              "      <td>1</td>\n",
              "      <td>0</td>\n",
              "      <td>1</td>\n",
              "      <td>0</td>\n",
              "      <td>0</td>\n",
              "      <td>0</td>\n",
              "      <td>0</td>\n",
              "      <td>1</td>\n",
              "      <td>0</td>\n",
              "      <td>0</td>\n",
              "      <td>0</td>\n",
              "      <td>0</td>\n",
              "      <td>0</td>\n",
              "      <td>30</td>\n",
              "      <td>1</td>\n",
              "      <td>0</td>\n",
              "      <td>0</td>\n",
              "      <td>0</td>\n",
              "      <td>0</td>\n",
              "      <td>0</td>\n",
              "      <td>0</td>\n",
              "      <td>0</td>\n",
              "      <td>0</td>\n",
              "      <td>0</td>\n",
              "      <td>0</td>\n",
              "      <td>0</td>\n",
              "      <td>0</td>\n",
              "      <td>1096</td>\n",
              "      <td>True</td>\n",
              "      <td>False</td>\n",
              "      <td>False</td>\n",
              "      <td>False</td>\n",
              "      <td>False</td>\n",
              "      <td>0.0</td>\n",
              "      <td>132714</td>\n",
              "      <td>False</td>\n",
              "      <td>False</td>\n",
              "      <td>True</td>\n",
              "      <td>False</td>\n",
              "      <td>False</td>\n",
              "      <td>0.002261</td>\n",
              "    </tr>\n",
              "    <tr>\n",
              "      <th>1</th>\n",
              "      <td>0</td>\n",
              "      <td>0</td>\n",
              "      <td>1</td>\n",
              "      <td>0</td>\n",
              "      <td>0</td>\n",
              "      <td>0</td>\n",
              "      <td>0</td>\n",
              "      <td>0</td>\n",
              "      <td>1</td>\n",
              "      <td>0</td>\n",
              "      <td>0</td>\n",
              "      <td>0</td>\n",
              "      <td>0</td>\n",
              "      <td>0</td>\n",
              "      <td>1</td>\n",
              "      <td>0</td>\n",
              "      <td>0</td>\n",
              "      <td>0</td>\n",
              "      <td>0</td>\n",
              "      <td>30</td>\n",
              "      <td>1</td>\n",
              "      <td>0</td>\n",
              "      <td>0</td>\n",
              "      <td>0</td>\n",
              "      <td>0</td>\n",
              "      <td>0</td>\n",
              "      <td>0</td>\n",
              "      <td>0</td>\n",
              "      <td>0</td>\n",
              "      <td>0</td>\n",
              "      <td>0</td>\n",
              "      <td>0</td>\n",
              "      <td>0</td>\n",
              "      <td>1096</td>\n",
              "      <td>True</td>\n",
              "      <td>True</td>\n",
              "      <td>False</td>\n",
              "      <td>False</td>\n",
              "      <td>False</td>\n",
              "      <td>0.0</td>\n",
              "      <td>132714</td>\n",
              "      <td>False</td>\n",
              "      <td>False</td>\n",
              "      <td>True</td>\n",
              "      <td>False</td>\n",
              "      <td>False</td>\n",
              "      <td>0.002261</td>\n",
              "    </tr>\n",
              "    <tr>\n",
              "      <th>2</th>\n",
              "      <td>0</td>\n",
              "      <td>0</td>\n",
              "      <td>0</td>\n",
              "      <td>1</td>\n",
              "      <td>0</td>\n",
              "      <td>0</td>\n",
              "      <td>0</td>\n",
              "      <td>0</td>\n",
              "      <td>1</td>\n",
              "      <td>0</td>\n",
              "      <td>0</td>\n",
              "      <td>0</td>\n",
              "      <td>0</td>\n",
              "      <td>1</td>\n",
              "      <td>0</td>\n",
              "      <td>0</td>\n",
              "      <td>0</td>\n",
              "      <td>0</td>\n",
              "      <td>0</td>\n",
              "      <td>60</td>\n",
              "      <td>0</td>\n",
              "      <td>1</td>\n",
              "      <td>0</td>\n",
              "      <td>0</td>\n",
              "      <td>0</td>\n",
              "      <td>0</td>\n",
              "      <td>0</td>\n",
              "      <td>0</td>\n",
              "      <td>0</td>\n",
              "      <td>0</td>\n",
              "      <td>0</td>\n",
              "      <td>0</td>\n",
              "      <td>0</td>\n",
              "      <td>995</td>\n",
              "      <td>False</td>\n",
              "      <td>False</td>\n",
              "      <td>False</td>\n",
              "      <td>False</td>\n",
              "      <td>False</td>\n",
              "      <td>0.0</td>\n",
              "      <td>38</td>\n",
              "      <td>False</td>\n",
              "      <td>True</td>\n",
              "      <td>False</td>\n",
              "      <td>False</td>\n",
              "      <td>False</td>\n",
              "      <td>0.000000</td>\n",
              "    </tr>\n",
              "    <tr>\n",
              "      <th>3</th>\n",
              "      <td>0</td>\n",
              "      <td>0</td>\n",
              "      <td>0</td>\n",
              "      <td>1</td>\n",
              "      <td>0</td>\n",
              "      <td>0</td>\n",
              "      <td>0</td>\n",
              "      <td>0</td>\n",
              "      <td>1</td>\n",
              "      <td>0</td>\n",
              "      <td>0</td>\n",
              "      <td>0</td>\n",
              "      <td>0</td>\n",
              "      <td>0</td>\n",
              "      <td>1</td>\n",
              "      <td>0</td>\n",
              "      <td>0</td>\n",
              "      <td>0</td>\n",
              "      <td>0</td>\n",
              "      <td>11</td>\n",
              "      <td>0</td>\n",
              "      <td>1</td>\n",
              "      <td>0</td>\n",
              "      <td>0</td>\n",
              "      <td>0</td>\n",
              "      <td>0</td>\n",
              "      <td>0</td>\n",
              "      <td>0</td>\n",
              "      <td>0</td>\n",
              "      <td>0</td>\n",
              "      <td>0</td>\n",
              "      <td>0</td>\n",
              "      <td>0</td>\n",
              "      <td>301</td>\n",
              "      <td>False</td>\n",
              "      <td>True</td>\n",
              "      <td>False</td>\n",
              "      <td>False</td>\n",
              "      <td>False</td>\n",
              "      <td>0.0</td>\n",
              "      <td>220</td>\n",
              "      <td>False</td>\n",
              "      <td>True</td>\n",
              "      <td>False</td>\n",
              "      <td>False</td>\n",
              "      <td>False</td>\n",
              "      <td>0.000000</td>\n",
              "    </tr>\n",
              "    <tr>\n",
              "      <th>4</th>\n",
              "      <td>0</td>\n",
              "      <td>0</td>\n",
              "      <td>0</td>\n",
              "      <td>0</td>\n",
              "      <td>0</td>\n",
              "      <td>0</td>\n",
              "      <td>0</td>\n",
              "      <td>1</td>\n",
              "      <td>1</td>\n",
              "      <td>0</td>\n",
              "      <td>0</td>\n",
              "      <td>0</td>\n",
              "      <td>0</td>\n",
              "      <td>0</td>\n",
              "      <td>1</td>\n",
              "      <td>0</td>\n",
              "      <td>0</td>\n",
              "      <td>0</td>\n",
              "      <td>0</td>\n",
              "      <td>60</td>\n",
              "      <td>0</td>\n",
              "      <td>1</td>\n",
              "      <td>0</td>\n",
              "      <td>0</td>\n",
              "      <td>0</td>\n",
              "      <td>0</td>\n",
              "      <td>0</td>\n",
              "      <td>0</td>\n",
              "      <td>0</td>\n",
              "      <td>0</td>\n",
              "      <td>0</td>\n",
              "      <td>0</td>\n",
              "      <td>0</td>\n",
              "      <td>995</td>\n",
              "      <td>False</td>\n",
              "      <td>True</td>\n",
              "      <td>False</td>\n",
              "      <td>False</td>\n",
              "      <td>False</td>\n",
              "      <td>0.0</td>\n",
              "      <td>38</td>\n",
              "      <td>False</td>\n",
              "      <td>True</td>\n",
              "      <td>False</td>\n",
              "      <td>False</td>\n",
              "      <td>False</td>\n",
              "      <td>0.000000</td>\n",
              "    </tr>\n",
              "  </tbody>\n",
              "</table>\n",
              "</div>"
            ],
            "text/plain": [
              "   col_0  col_1  col_2  col_3  ...  is3xx  is4xx  is5xx  PercentOfErrors\n",
              "0      0      0      0      0  ...   True  False  False         0.002261\n",
              "1      0      0      1      0  ...   True  False  False         0.002261\n",
              "2      0      0      0      1  ...  False  False  False         0.000000\n",
              "3      0      0      0      1  ...  False  False  False         0.000000\n",
              "4      0      0      0      0  ...  False  False  False         0.000000\n",
              "\n",
              "[5 rows x 47 columns]"
            ]
          },
          "metadata": {
            "tags": []
          },
          "execution_count": 179
        }
      ]
    },
    {
      "cell_type": "code",
      "metadata": {
        "id": "x8SWdsZCCDUS"
      },
      "source": [
        "np.random.seed(10)\n",
        "# Create a function to fit models and get resul\n",
        "def label_data(model, model_name, data):\n",
        "  \"\"\"\n",
        "  Label samples given the model and dataset.\n",
        "  \"\"\"\n",
        "  # Fit model\n",
        "  model.fit(data)\n",
        "  predictions = model.predict(data)\n",
        "  # Plot result\n",
        "  pd.DataFrame(predictions).value_counts().plot(kind=\"bar\", grid=True)\n",
        "  plt.title(\"Number of Samples in each Class clustered by {0}\".format(model_name))\n",
        "  plt.xlabel(\"Clusters\")\n",
        "  plt.ylabel(\"Counts\");\n",
        "  \n",
        "  return predictions"
      ],
      "execution_count": null,
      "outputs": []
    },
    {
      "cell_type": "markdown",
      "metadata": {
        "id": "p-g96sN1eg3r"
      },
      "source": [
        "### Dimensionality Reduction Using PCA"
      ]
    },
    {
      "cell_type": "code",
      "metadata": {
        "colab": {
          "base_uri": "https://localhost:8080/"
        },
        "id": "QEDXBhKfe83H",
        "outputId": "0c6d938b-82d6-4f72-d557-680ae27c4bfc"
      },
      "source": [
        "encoded_data.shape"
      ],
      "execution_count": null,
      "outputs": [
        {
          "output_type": "execute_result",
          "data": {
            "text/plain": [
              "(1235970, 50)"
            ]
          },
          "metadata": {
            "tags": []
          },
          "execution_count": 118
        }
      ]
    },
    {
      "cell_type": "code",
      "metadata": {
        "id": "_n1nEBanfqs5"
      },
      "source": [
        "scaler = StandardScaler()\n",
        "encoded_data_scaled = scaler.fit(encoded_data)"
      ],
      "execution_count": null,
      "outputs": []
    },
    {
      "cell_type": "code",
      "metadata": {
        "colab": {
          "base_uri": "https://localhost:8080/",
          "height": 658
        },
        "id": "pFPrwBjOemWX",
        "outputId": "0e61cd04-09f3-4b9d-ad6c-61dd079dec93"
      },
      "source": [
        "pca_test = PCA(n_components=50)\n",
        "dm_data = pca_test.fit_transform(encoded_data)\n",
        "\n",
        "sns.set(style='whitegrid')\n",
        "plt.plot(np.cumsum(pca_test.explained_variance_ratio_))\n",
        "plt.xlabel('number of components')\n",
        "plt.ylabel('cumulative explained variance')\n",
        "plt.axvline(linewidth=4, color='r', linestyle = '--', x=10, ymin=0, ymax=1)\n",
        "display(plt.show())\n",
        "\n",
        "evr = pca_test.explained_variance_ratio_\n",
        "cvr = np.cumsum(pca_test.explained_variance_ratio_)\n",
        "\n",
        "pca_df = pd.DataFrame()\n",
        "pca_df['Cumulative Variance Ratio'] = cvr\n",
        "pca_df['Explained Variance Ratio'] = evr\n",
        "display(pca_df.head(10))"
      ],
      "execution_count": null,
      "outputs": [
        {
          "output_type": "display_data",
          "data": {
            "image/png": "[encoded data removed]",
            "text/plain": [
              "<Figure size 432x288 with 1 Axes>"
            ]
          },
          "metadata": {
            "tags": []
          }
        },
        {
          "output_type": "display_data",
          "data": {
            "text/plain": [
              "None"
            ]
          },
          "metadata": {
            "tags": []
          }
        },
        {
          "output_type": "display_data",
          "data": {
            "text/html": [
              "<div>\n",
              "<style scoped>\n",
              "    .dataframe tbody tr th:only-of-type {\n",
              "        vertical-align: middle;\n",
              "    }\n",
              "\n",
              "    .dataframe tbody tr th {\n",
              "        vertical-align: top;\n",
              "    }\n",
              "\n",
              "    .dataframe thead th {\n",
              "        text-align: right;\n",
              "    }\n",
              "</style>\n",
              "<table border=\"1\" class=\"dataframe\">\n",
              "  <thead>\n",
              "    <tr style=\"text-align: right;\">\n",
              "      <th></th>\n",
              "      <th>Cumulative Variance Ratio</th>\n",
              "      <th>Explained Variance Ratio</th>\n",
              "    </tr>\n",
              "  </thead>\n",
              "  <tbody>\n",
              "    <tr>\n",
              "      <th>0</th>\n",
              "      <td>0.999957</td>\n",
              "      <td>9.999575e-01</td>\n",
              "    </tr>\n",
              "    <tr>\n",
              "      <th>1</th>\n",
              "      <td>1.000000</td>\n",
              "      <td>4.202703e-05</td>\n",
              "    </tr>\n",
              "    <tr>\n",
              "      <th>2</th>\n",
              "      <td>1.000000</td>\n",
              "      <td>2.300699e-07</td>\n",
              "    </tr>\n",
              "    <tr>\n",
              "      <th>3</th>\n",
              "      <td>1.000000</td>\n",
              "      <td>1.195964e-07</td>\n",
              "    </tr>\n",
              "    <tr>\n",
              "      <th>4</th>\n",
              "      <td>1.000000</td>\n",
              "      <td>8.889667e-08</td>\n",
              "    </tr>\n",
              "    <tr>\n",
              "      <th>5</th>\n",
              "      <td>1.000000</td>\n",
              "      <td>3.245943e-08</td>\n",
              "    </tr>\n",
              "    <tr>\n",
              "      <th>6</th>\n",
              "      <td>1.000000</td>\n",
              "      <td>6.158326e-09</td>\n",
              "    </tr>\n",
              "    <tr>\n",
              "      <th>7</th>\n",
              "      <td>1.000000</td>\n",
              "      <td>2.856091e-10</td>\n",
              "    </tr>\n",
              "    <tr>\n",
              "      <th>8</th>\n",
              "      <td>1.000000</td>\n",
              "      <td>1.792736e-10</td>\n",
              "    </tr>\n",
              "    <tr>\n",
              "      <th>9</th>\n",
              "      <td>1.000000</td>\n",
              "      <td>1.370520e-10</td>\n",
              "    </tr>\n",
              "  </tbody>\n",
              "</table>\n",
              "</div>"
            ],
            "text/plain": [
              "   Cumulative Variance Ratio  Explained Variance Ratio\n",
              "0                   0.999957              9.999575e-01\n",
              "1                   1.000000              4.202703e-05\n",
              "2                   1.000000              2.300699e-07\n",
              "3                   1.000000              1.195964e-07\n",
              "4                   1.000000              8.889667e-08\n",
              "5                   1.000000              3.245943e-08\n",
              "6                   1.000000              6.158326e-09\n",
              "7                   1.000000              2.856091e-10\n",
              "8                   1.000000              1.792736e-10\n",
              "9                   1.000000              1.370520e-10"
            ]
          },
          "metadata": {
            "tags": []
          }
        }
      ]
    },
    {
      "cell_type": "markdown",
      "metadata": {
        "id": "Q87WPG6Du8Dz"
      },
      "source": [
        "### Isolation Forest"
      ]
    },
    {
      "cell_type": "code",
      "metadata": {
        "colab": {
          "base_uri": "https://localhost:8080/",
          "height": 317
        },
        "id": "KXl-IJxiFy71",
        "outputId": "b1fb8c23-24ac-423d-fc0a-91f344b198de"
      },
      "source": [
        "iForest = IsolationForest(n_estimators=150, random_state=10)\n",
        "iForest_preds = label_data(iForest, \"Isolation Forest\", encoded_data)"
      ],
      "execution_count": null,
      "outputs": [
        {
          "output_type": "display_data",
          "data": {
            "image/png": "[encoded data removed]",
            "text/plain": [
              "<Figure size 432x288 with 1 Axes>"
            ]
          },
          "metadata": {
            "tags": []
          }
        }
      ]
    },
    {
      "cell_type": "code",
      "metadata": {
        "colab": {
          "base_uri": "https://localhost:8080/"
        },
        "id": "dCd7CmIVGAeB",
        "outputId": "a52d4f51-2c00-482f-e6c3-16e99618e8fe"
      },
      "source": [
        "np.unique(iForest_preds, return_counts=True)"
      ],
      "execution_count": null,
      "outputs": [
        {
          "output_type": "execute_result",
          "data": {
            "text/plain": [
              "(array([-1,  1]), array([  92627, 1143343]))"
            ]
          },
          "metadata": {
            "tags": []
          },
          "execution_count": 230
        }
      ]
    },
    {
      "cell_type": "code",
      "metadata": {
        "id": "9WkP6MfYHM6F",
        "colab": {
          "base_uri": "https://localhost:8080/"
        },
        "outputId": "65a05427-862c-423a-bc46-06cb85af6617"
      },
      "source": [
        "# Seperate predictions\n",
        "iForest_c1 = data.loc[iForest_preds == -1]\n",
        "iForest_c2 = data.loc[iForest_preds == 1]\n",
        "iForest_c1.shape, iForest_c2.shape"
      ],
      "execution_count": null,
      "outputs": [
        {
          "output_type": "execute_result",
          "data": {
            "text/plain": [
              "((92627, 22), (1143343, 22))"
            ]
          },
          "metadata": {
            "tags": []
          },
          "execution_count": 231
        }
      ]
    },
    {
      "cell_type": "markdown",
      "metadata": {
        "id": "fUYkMHXcrKbI"
      },
      "source": [
        "### Kmeans"
      ]
    },
    {
      "cell_type": "code",
      "metadata": {
        "colab": {
          "base_uri": "https://localhost:8080/",
          "height": 313
        },
        "id": "PtqFAU9vrN2D",
        "outputId": "5c81a5f2-9ad8-4c16-8c3a-e4d24c2befa0"
      },
      "source": [
        "kmeans = KMeans(n_clusters=2, random_state=10)\n",
        "kmeans_preds = label_data(kmeans, \"KMeans\", encoded_data)"
      ],
      "execution_count": null,
      "outputs": [
        {
          "output_type": "display_data",
          "data": {
            "image/png": "[encoded data removed]",
            "text/plain": [
              "<Figure size 432x288 with 1 Axes>"
            ]
          },
          "metadata": {
            "tags": []
          }
        }
      ]
    },
    {
      "cell_type": "code",
      "metadata": {
        "id": "wtrgv7c5sHaB",
        "colab": {
          "base_uri": "https://localhost:8080/"
        },
        "outputId": "4d926b24-64cb-4e84-943f-dd2ffb9c888f"
      },
      "source": [
        "kmeans_c1 = data.loc[kmeans_preds == 0]\n",
        "kmeans_c2 = data.loc[kmeans_preds == 1]\n",
        "# kmeans_c3 = data.loc[kmeans_preds == 2]\n",
        "kmeans_c1.shape, kmeans_c2.shape#, kmeans_c3.shape"
      ],
      "execution_count": null,
      "outputs": [
        {
          "output_type": "execute_result",
          "data": {
            "text/plain": [
              "((1103256, 22), (132714, 22))"
            ]
          },
          "metadata": {
            "tags": []
          },
          "execution_count": 184
        }
      ]
    },
    {
      "cell_type": "markdown",
      "metadata": {
        "id": "6cOqLRMRB9aD"
      },
      "source": [
        "## Evaluation\n",
        "Let's see how distinguishable the predicted clusters are!?\n"
      ]
    },
    {
      "cell_type": "code",
      "metadata": {
        "id": "de0dvCvCxO68"
      },
      "source": [
        "# Give the precentage of True values of a column\n",
        "def percentage(data, label):\n",
        "  return (len(data.loc[data[label] == True]) / data[label].count()) * 100"
      ],
      "execution_count": null,
      "outputs": []
    },
    {
      "cell_type": "code",
      "metadata": {
        "id": "h8MvKmX1wMBI"
      },
      "source": [
        "def report(c1, c2):\n",
        "  \"\"\"\n",
        "  Return a reports of clusters to represnt their differences.\n",
        "  \"\"\"\n",
        "  print(\"Clusters Report\")\n",
        "  print(\"\\t\\t\\t\\t Cluster-1 \\t | \\t Cluster-2 \\n {0}\".format(\"-\"*70))\n",
        "  print('Length Of Cluster:  | \\t\\t {0} \\t\\t | \\t {1}\\n'.format(c1.shape[0], c2.shape[0]))\n",
        "  print('Robot Percentage:   | \\t {0} \\t | \\t {1}'.format(percentage(c1, 'isBot'), percentage(c2, 'isBot')))\n",
        "  print('HEAD requestes:     | \\t {0} \\t | \\t {1}'.format(percentage(c1, 'isHEAD'), percentage(c2, 'isHEAD')))\n",
        "  print('Errors:             | \\t {0} \\t | \\t {1}'.format(percentage(c1, 'ErrorCode'), percentage(c2, 'ErrorCode')))\n",
        "  print('Robot.Txt:          | \\t {0} \\t | \\t {1}'.format(percentage(c1, 'robotTxt'), percentage(c2, 'robotTxt')))\n",
        "  print('Image Requests:     | \\t {0} \\t | \\t {1}'.format(percentage(c1, 'isImage'), percentage(c2, 'isImage')))\n",
        "  print('Avg Request Counts: | \\t {0} \\t | \\t {1}'.format(c1['CountOfRequest'].mean(), c2['CountOfRequest'].mean()))\n",
        "  print('Avg Time Interval:  | \\t {0} \\t | \\t {1}'.format(np.mean(c1.groupby('UserAgent')['DistanceTime'].mean()), np.mean(c2.groupby('UserAgent')['DistanceTime'].mean())))\n"
      ],
      "execution_count": null,
      "outputs": []
    },
    {
      "cell_type": "markdown",
      "metadata": {
        "id": "Yy1KXXldSdIO"
      },
      "source": [
        "### Kmeans-Evaluation\n",
        "\n",
        "It's got a tolerable result with encoded_data_v2 and the below edditions"
      ]
    },
    {
      "cell_type": "code",
      "metadata": {
        "id": "-aLOqHMM1nIf"
      },
      "source": [
        "# # encoded_data['PercentOfImages'] = (data.groupby('User')['isImage'].transform(np.count_nonzero) / data['CountOfRequest']) * 100\n",
        "encoded_data['PercentOfrobotsTxt'] = (data.groupby('User')['robotTxt'].transform(np.count_nonzero) / data['CountOfRequest']) * 100\n",
        "# # encoded_data['PercentOfHeads'] = (data.groupby('User')['isHEAD'].transform(np.count_nonzero) / data['CountOfRequest']) * 100\n",
        "# # encoded_data['PercentOfHTMLs'] = (data.groupby('User')['isHTML'].transform(np.count_nonzero) / data['CountOfRequest']) * 100\n",
        "encoded_data['PercentOfErrors'] = (data.groupby('User')['ErrorCode'].transform(np.count_nonzero) / data['CountOfRequest']) * 100"
      ],
      "execution_count": null,
      "outputs": []
    },
    {
      "cell_type": "code",
      "metadata": {
        "colab": {
          "base_uri": "https://localhost:8080/",
          "height": 413
        },
        "id": "jwP1TdfABF9k",
        "outputId": "19dca1bf-4765-42ca-cecc-5e1025fd3f8a"
      },
      "source": [
        "fig, ax = plt.subplots(figsize=(10, 6))\n",
        "ax = sns.kdeplot(kmeans_c1.Hour, shade=True, label=\"Cluster-1\")\n",
        "ax = sns.kdeplot(kmeans_c2.Hour, shade=True, label=\"Cluster-2\")\n",
        "# ax = sns.kdeplot(kmeans_c3.Hour, shade=True, label=\"Cluster-3\")\n",
        "plt.legend()\n",
        "plt.title(\"Time Distribution of Clusters (Kmeans)\");"
      ],
      "execution_count": null,
      "outputs": [
        {
          "output_type": "display_data",
          "data": {
            "image/png": "[encoded data removed]",
            "text/plain": [
              "<Figure size 720x432 with 1 Axes>"
            ]
          },
          "metadata": {
            "tags": []
          }
        }
      ]
    },
    {
      "cell_type": "code",
      "metadata": {
        "colab": {
          "base_uri": "https://localhost:8080/"
        },
        "id": "wGdTeUwgBNrj",
        "outputId": "353924e0-f225-418f-a33d-d1e7fb6f7aa1"
      },
      "source": [
        "report(kmeans_c1, kmeans_c2)"
      ],
      "execution_count": null,
      "outputs": [
        {
          "output_type": "stream",
          "text": [
            "Clusters Report\n",
            "\t\t\t\t Cluster-1 \t | \t Cluster-2 \n",
            " ----------------------------------------------------------------------\n",
            "Length Of Cluster:  | \t\t 1103256 \t | \t 132714\n",
            "\n",
            "Robot Percentage:   | \t 6.331168831168831 \t | \t 100.0\n",
            "HEAD requestes:     | \t 1.7872551792149785 \t | \t 0.0\n",
            "Errors:             | \t 0.4124156134206385 \t | \t 0.0022605000226050003\n",
            "Robot.Txt:          | \t 0.01559021659524172 \t | \t 0.0\n",
            "Image Requests:     | \t 26.28963721928546 \t | \t 6.213361062133611\n",
            "Avg Request Counts: | \t 12020.080793578281 \t | \t 132714.0\n",
            "Avg Time Interval:  | \t 4.112148333505466 \t | \t 0.004543605045436051\n"
          ],
          "name": "stdout"
        }
      ]
    },
    {
      "cell_type": "code",
      "metadata": {
        "id": "gMzFf8ZBzPrX"
      },
      "source": [
        "user, count = np.unique(kmeans_c1.UserAgent, return_counts=True)\n",
        "user"
      ],
      "execution_count": null,
      "outputs": []
    },
    {
      "cell_type": "code",
      "metadata": {
        "id": "CMW-iGl0zRz1"
      },
      "source": [
        "user, count = np.unique(kmeans_c2.UserAgent, return_counts=True)\n",
        "user"
      ],
      "execution_count": null,
      "outputs": []
    },
    {
      "cell_type": "code",
      "metadata": {
        "colab": {
          "base_uri": "https://localhost:8080/",
          "height": 49
        },
        "id": "CRjAxJ0IzXF1",
        "outputId": "4c3c020a-ee9a-4848-9eaa-e7c2199cf2c9"
      },
      "source": [
        "kmeans_c2.loc[kmeans_c2.UserAgent.str.contains(\"python-requests/2.18.1\")]"
      ],
      "execution_count": null,
      "outputs": [
        {
          "output_type": "execute_result",
          "data": {
            "text/html": [
              "<div>\n",
              "<style scoped>\n",
              "    .dataframe tbody tr th:only-of-type {\n",
              "        vertical-align: middle;\n",
              "    }\n",
              "\n",
              "    .dataframe tbody tr th {\n",
              "        vertical-align: top;\n",
              "    }\n",
              "\n",
              "    .dataframe thead th {\n",
              "        text-align: right;\n",
              "    }\n",
              "</style>\n",
              "<table border=\"1\" class=\"dataframe\">\n",
              "  <thead>\n",
              "    <tr style=\"text-align: right;\">\n",
              "      <th></th>\n",
              "      <th>Client</th>\n",
              "      <th>Method</th>\n",
              "      <th>Status</th>\n",
              "      <th>Length</th>\n",
              "      <th>UserAgent</th>\n",
              "      <th>ResponseTime</th>\n",
              "      <th>Hour</th>\n",
              "      <th>Minute</th>\n",
              "      <th>Second</th>\n",
              "      <th>Req_Path_L1</th>\n",
              "      <th>Req_Path_L2</th>\n",
              "      <th>Browser</th>\n",
              "      <th>OS</th>\n",
              "      <th>Device</th>\n",
              "      <th>isBot</th>\n",
              "      <th>isImage</th>\n",
              "      <th>robotTxt</th>\n",
              "      <th>isHEAD</th>\n",
              "      <th>ErrorCode</th>\n",
              "      <th>TimeMin</th>\n",
              "      <th>DistanceTime</th>\n",
              "      <th>CountOfRequest</th>\n",
              "    </tr>\n",
              "  </thead>\n",
              "  <tbody>\n",
              "  </tbody>\n",
              "</table>\n",
              "</div>"
            ],
            "text/plain": [
              "Empty DataFrame\n",
              "Columns: [Client, Method, Status, Length, UserAgent, ResponseTime, Hour, Minute, Second, Req_Path_L1, Req_Path_L2, Browser, OS, Device, isBot, isImage, robotTxt, isHEAD, ErrorCode, TimeMin, DistanceTime, CountOfRequest]\n",
              "Index: []"
            ]
          },
          "metadata": {
            "tags": []
          },
          "execution_count": 187
        }
      ]
    },
    {
      "cell_type": "code",
      "metadata": {
        "colab": {
          "base_uri": "https://localhost:8080/",
          "height": 49
        },
        "id": "b6nAiIxSiGz7",
        "outputId": "b3488125-6f30-4a2d-8f28-bde3292dee25"
      },
      "source": [
        "kmeans_c2.loc[kmeans_c2.UserAgent.str.contains(\"Python-urllib/3.7\")]"
      ],
      "execution_count": null,
      "outputs": [
        {
          "output_type": "execute_result",
          "data": {
            "text/html": [
              "<div>\n",
              "<style scoped>\n",
              "    .dataframe tbody tr th:only-of-type {\n",
              "        vertical-align: middle;\n",
              "    }\n",
              "\n",
              "    .dataframe tbody tr th {\n",
              "        vertical-align: top;\n",
              "    }\n",
              "\n",
              "    .dataframe thead th {\n",
              "        text-align: right;\n",
              "    }\n",
              "</style>\n",
              "<table border=\"1\" class=\"dataframe\">\n",
              "  <thead>\n",
              "    <tr style=\"text-align: right;\">\n",
              "      <th></th>\n",
              "      <th>Client</th>\n",
              "      <th>Method</th>\n",
              "      <th>Status</th>\n",
              "      <th>Length</th>\n",
              "      <th>UserAgent</th>\n",
              "      <th>ResponseTime</th>\n",
              "      <th>Hour</th>\n",
              "      <th>Minute</th>\n",
              "      <th>Second</th>\n",
              "      <th>Req_Path_L1</th>\n",
              "      <th>Req_Path_L2</th>\n",
              "      <th>Browser</th>\n",
              "      <th>OS</th>\n",
              "      <th>Device</th>\n",
              "      <th>isBot</th>\n",
              "      <th>isImage</th>\n",
              "      <th>robotTxt</th>\n",
              "      <th>isHEAD</th>\n",
              "      <th>ErrorCode</th>\n",
              "      <th>TimeMin</th>\n",
              "      <th>DistanceTime</th>\n",
              "      <th>CountOfRequest</th>\n",
              "    </tr>\n",
              "  </thead>\n",
              "  <tbody>\n",
              "  </tbody>\n",
              "</table>\n",
              "</div>"
            ],
            "text/plain": [
              "Empty DataFrame\n",
              "Columns: [Client, Method, Status, Length, UserAgent, ResponseTime, Hour, Minute, Second, Req_Path_L1, Req_Path_L2, Browser, OS, Device, isBot, isImage, robotTxt, isHEAD, ErrorCode, TimeMin, DistanceTime, CountOfRequest]\n",
              "Index: []"
            ]
          },
          "metadata": {
            "tags": []
          },
          "execution_count": 188
        }
      ]
    },
    {
      "cell_type": "code",
      "metadata": {
        "colab": {
          "base_uri": "https://localhost:8080/",
          "height": 49
        },
        "id": "ftcJ13QUqAr5",
        "outputId": "e89cfa66-fe47-4957-cfe9-95f8dc5ba576"
      },
      "source": [
        "kmeans_c2.loc[kmeans_c2.UserAgent.str.contains(\"BlackBerry\")]"
      ],
      "execution_count": null,
      "outputs": [
        {
          "output_type": "execute_result",
          "data": {
            "text/html": [
              "<div>\n",
              "<style scoped>\n",
              "    .dataframe tbody tr th:only-of-type {\n",
              "        vertical-align: middle;\n",
              "    }\n",
              "\n",
              "    .dataframe tbody tr th {\n",
              "        vertical-align: top;\n",
              "    }\n",
              "\n",
              "    .dataframe thead th {\n",
              "        text-align: right;\n",
              "    }\n",
              "</style>\n",
              "<table border=\"1\" class=\"dataframe\">\n",
              "  <thead>\n",
              "    <tr style=\"text-align: right;\">\n",
              "      <th></th>\n",
              "      <th>Client</th>\n",
              "      <th>Method</th>\n",
              "      <th>Status</th>\n",
              "      <th>Length</th>\n",
              "      <th>UserAgent</th>\n",
              "      <th>ResponseTime</th>\n",
              "      <th>Hour</th>\n",
              "      <th>Minute</th>\n",
              "      <th>Second</th>\n",
              "      <th>Req_Path_L1</th>\n",
              "      <th>Req_Path_L2</th>\n",
              "      <th>Browser</th>\n",
              "      <th>OS</th>\n",
              "      <th>Device</th>\n",
              "      <th>isBot</th>\n",
              "      <th>isImage</th>\n",
              "      <th>robotTxt</th>\n",
              "      <th>isHEAD</th>\n",
              "      <th>ErrorCode</th>\n",
              "      <th>TimeMin</th>\n",
              "      <th>DistanceTime</th>\n",
              "      <th>CountOfRequest</th>\n",
              "    </tr>\n",
              "  </thead>\n",
              "  <tbody>\n",
              "  </tbody>\n",
              "</table>\n",
              "</div>"
            ],
            "text/plain": [
              "Empty DataFrame\n",
              "Columns: [Client, Method, Status, Length, UserAgent, ResponseTime, Hour, Minute, Second, Req_Path_L1, Req_Path_L2, Browser, OS, Device, isBot, isImage, robotTxt, isHEAD, ErrorCode, TimeMin, DistanceTime, CountOfRequest]\n",
              "Index: []"
            ]
          },
          "metadata": {
            "tags": []
          },
          "execution_count": 189
        }
      ]
    },
    {
      "cell_type": "markdown",
      "metadata": {
        "id": "hrIZgGJnSg43"
      },
      "source": [
        "### Isolation Forest - Evaluation"
      ]
    },
    {
      "cell_type": "code",
      "metadata": {
        "colab": {
          "base_uri": "https://localhost:8080/",
          "height": 413
        },
        "id": "zLz7sbmX9iPN",
        "outputId": "e7476e9f-098a-455c-88f1-a58c8622d484"
      },
      "source": [
        "fig, ax = plt.subplots(figsize=(10, 6))\n",
        "ax = sns.kdeplot(iForest_c1.Hour, shade=True, label=\"Anomaly Requests\")\n",
        "ax = sns.kdeplot(iForest_c2.Hour, shade=True, label=\"Normal Requests\")\n",
        "plt.legend()\n",
        "plt.title(\"Time Distribution of Clusters (Isolation Forest)\");"
      ],
      "execution_count": null,
      "outputs": [
        {
          "output_type": "display_data",
          "data": {
            "image/png": "[encoded data removed]",
            "text/plain": [
              "<Figure size 720x432 with 1 Axes>"
            ]
          },
          "metadata": {
            "tags": []
          }
        }
      ]
    },
    {
      "cell_type": "code",
      "metadata": {
        "colab": {
          "base_uri": "https://localhost:8080/"
        },
        "id": "63FYLDKYBdPd",
        "outputId": "21459b48-d491-4768-b4af-68d9f46a9d4e"
      },
      "source": [
        "report(iForest_c1, iForest_c2)"
      ],
      "execution_count": null,
      "outputs": [
        {
          "output_type": "stream",
          "text": [
            "Clusters Report\n",
            "\t\t\t\t Cluster-1 \t | \t Cluster-2 \n",
            " ----------------------------------------------------------------------\n",
            "Length Of Cluster:  | \t\t 92627 \t\t | \t 1143343\n",
            "\n",
            "Robot Percentage:   | \t 21.094281365044747 \t | \t 16.007794686283994\n",
            "HEAD requestes:     | \t 21.281051961091258 \t | \t 0.0005247769042185941\n",
            "Errors:             | \t 3.416930268712146 \t | \t 0.12139839050923477\n",
            "Robot.Txt:          | \t 0.03670635991665497 \t | \t 0.012069868797027664\n",
            "Image Requests:     | \t 16.9237911192201 \t | \t 24.71804174250422\n",
            "Avg Request Counts: | \t 35346.53471450009 \t | \t 24139.902532310953\n",
            "Avg Time Interval:  | \t 43.48833204234842 \t | \t 3.737422001935498\n"
          ],
          "name": "stdout"
        }
      ]
    },
    {
      "cell_type": "code",
      "metadata": {
        "colab": {
          "base_uri": "https://localhost:8080/"
        },
        "id": "OvCtTQm1BsMM",
        "outputId": "e5ed6f53-9a33-423c-980d-132643f8add2"
      },
      "source": [
        "report(iForest_c1, iForest_c2)"
      ],
      "execution_count": null,
      "outputs": [
        {
          "output_type": "stream",
          "text": [
            "Clusters Report\n",
            "\t\t\t\t Cluster-1 \t | \t Cluster-2 \n",
            " ----------------------------------------------------------------------\n",
            "Length Of Cluster:  | \t\t 92201 \t | \t 1143769\n",
            "\n",
            "Robot Percentage:   | \t 21.125584321211267 \t | \t 16.007165782601206\n",
            "HEAD requestes:     | \t 21.379377664016662 \t | \t 0.0005245814495759196\n",
            "Errors:             | \t 3.8470298586783227 \t | \t 0.08795482304556253\n",
            "Robot.Txt:          | \t 0.03470678192210497 \t | \t 0.012240233823438126\n",
            "Image Requests:     | \t 15.629982321232957 \t | \t 24.819434693543887\n",
            "Avg Request Counts: | \t 35460.836737128666 \t | \t 24134.8624101545\n",
            "Avg Time Interval:  | \t 48.316703845861085 \t | \t 3.7851361541968735\n"
          ],
          "name": "stdout"
        }
      ]
    },
    {
      "cell_type": "code",
      "metadata": {
        "colab": {
          "base_uri": "https://localhost:8080/"
        },
        "id": "fZoAZyJutUpt",
        "outputId": "2372d3ad-0443-4363-d48b-4e3b0e963987"
      },
      "source": [
        "user, count = np.unique(iForest_c1.UserAgent, return_counts=True)\n",
        "user"
      ],
      "execution_count": null,
      "outputs": [
        {
          "output_type": "execute_result",
          "data": {
            "text/plain": [
              "array(['AdsBot-Google (+http://www.google.com/adsbot.html)',\n",
              "       'AdsTxtCrawler/1.0; +https://github.com/InteractiveAdvertisingBureau/adstxtcrawler',\n",
              "       'Chrome Privacy Preserving Prefetch Proxy', ..., 'okhttp/3.11.0',\n",
              "       'okhttp/3.12.1', 'sentry/21.4.1 (https://sentry.io)'], dtype=object)"
            ]
          },
          "metadata": {
            "tags": []
          },
          "execution_count": 148
        }
      ]
    },
    {
      "cell_type": "code",
      "metadata": {
        "colab": {
          "base_uri": "https://localhost:8080/"
        },
        "id": "GN4067tYuv7I",
        "outputId": "185110cb-d1f8-44ca-8fa9-09800274ffc1"
      },
      "source": [
        "user, count = np.unique(iForest_c2.UserAgent, return_counts=True)\n",
        "user"
      ],
      "execution_count": null,
      "outputs": [
        {
          "output_type": "execute_result",
          "data": {
            "text/plain": [
              "array(['AdsBot-Google (+http://www.google.com/adsbot.html)',\n",
              "       'Aloha/2 CFNetwork/1209 Darwin/20.2.0',\n",
              "       'AlohaBrowser/3.1.5 (iPhone; iOS 14.3; Scale/3.00)', ...,\n",
              "       'python-requests/2.18.1', 'python-requests/2.25.1',\n",
              "       'sentry/21.4.1 (https://sentry.io)'], dtype=object)"
            ]
          },
          "metadata": {
            "tags": []
          },
          "execution_count": 251
        }
      ]
    },
    {
      "cell_type": "code",
      "metadata": {
        "colab": {
          "base_uri": "https://localhost:8080/",
          "height": 49
        },
        "id": "pDqvrQeiWTo3",
        "outputId": "80759856-ceb7-4c75-c9f5-bceac6b28baa"
      },
      "source": [
        "iForest_c1.loc[iForest_c1.UserAgent.str.contains(\"python-requests/2.18.1\")]"
      ],
      "execution_count": null,
      "outputs": [
        {
          "output_type": "execute_result",
          "data": {
            "text/html": [
              "<div>\n",
              "<style scoped>\n",
              "    .dataframe tbody tr th:only-of-type {\n",
              "        vertical-align: middle;\n",
              "    }\n",
              "\n",
              "    .dataframe tbody tr th {\n",
              "        vertical-align: top;\n",
              "    }\n",
              "\n",
              "    .dataframe thead th {\n",
              "        text-align: right;\n",
              "    }\n",
              "</style>\n",
              "<table border=\"1\" class=\"dataframe\">\n",
              "  <thead>\n",
              "    <tr style=\"text-align: right;\">\n",
              "      <th></th>\n",
              "      <th>Client</th>\n",
              "      <th>Method</th>\n",
              "      <th>Status</th>\n",
              "      <th>Length</th>\n",
              "      <th>UserAgent</th>\n",
              "      <th>ResponseTime</th>\n",
              "      <th>Hour</th>\n",
              "      <th>Minute</th>\n",
              "      <th>Second</th>\n",
              "      <th>Req_Path_L1</th>\n",
              "      <th>Req_Path_L2</th>\n",
              "      <th>Browser</th>\n",
              "      <th>OS</th>\n",
              "      <th>Device</th>\n",
              "      <th>isBot</th>\n",
              "      <th>isImage</th>\n",
              "      <th>robotTxt</th>\n",
              "      <th>isHEAD</th>\n",
              "      <th>ErrorCode</th>\n",
              "      <th>TimeMin</th>\n",
              "      <th>DistanceTime</th>\n",
              "      <th>CountOfRequest</th>\n",
              "    </tr>\n",
              "  </thead>\n",
              "  <tbody>\n",
              "  </tbody>\n",
              "</table>\n",
              "</div>"
            ],
            "text/plain": [
              "Empty DataFrame\n",
              "Columns: [Client, Method, Status, Length, UserAgent, ResponseTime, Hour, Minute, Second, Req_Path_L1, Req_Path_L2, Browser, OS, Device, isBot, isImage, robotTxt, isHEAD, ErrorCode, TimeMin, DistanceTime, CountOfRequest]\n",
              "Index: []"
            ]
          },
          "metadata": {
            "tags": []
          },
          "execution_count": 234
        }
      ]
    },
    {
      "cell_type": "code",
      "metadata": {
        "colab": {
          "base_uri": "https://localhost:8080/",
          "height": 49
        },
        "id": "LZCQkmjYWYge",
        "outputId": "f1475eab-1d47-4122-cb5a-eb892411a951"
      },
      "source": [
        "iForest_c1.loc[iForest_c1.UserAgent.str.contains(\"Python-urllib/3.7\")]"
      ],
      "execution_count": null,
      "outputs": [
        {
          "output_type": "execute_result",
          "data": {
            "text/html": [
              "<div>\n",
              "<style scoped>\n",
              "    .dataframe tbody tr th:only-of-type {\n",
              "        vertical-align: middle;\n",
              "    }\n",
              "\n",
              "    .dataframe tbody tr th {\n",
              "        vertical-align: top;\n",
              "    }\n",
              "\n",
              "    .dataframe thead th {\n",
              "        text-align: right;\n",
              "    }\n",
              "</style>\n",
              "<table border=\"1\" class=\"dataframe\">\n",
              "  <thead>\n",
              "    <tr style=\"text-align: right;\">\n",
              "      <th></th>\n",
              "      <th>Client</th>\n",
              "      <th>Method</th>\n",
              "      <th>Status</th>\n",
              "      <th>Length</th>\n",
              "      <th>UserAgent</th>\n",
              "      <th>ResponseTime</th>\n",
              "      <th>Hour</th>\n",
              "      <th>Minute</th>\n",
              "      <th>Second</th>\n",
              "      <th>Req_Path_L1</th>\n",
              "      <th>Req_Path_L2</th>\n",
              "      <th>Browser</th>\n",
              "      <th>OS</th>\n",
              "      <th>Device</th>\n",
              "      <th>isBot</th>\n",
              "      <th>isImage</th>\n",
              "      <th>robotTxt</th>\n",
              "      <th>isHEAD</th>\n",
              "      <th>ErrorCode</th>\n",
              "      <th>TimeMin</th>\n",
              "      <th>DistanceTime</th>\n",
              "      <th>CountOfRequest</th>\n",
              "    </tr>\n",
              "  </thead>\n",
              "  <tbody>\n",
              "  </tbody>\n",
              "</table>\n",
              "</div>"
            ],
            "text/plain": [
              "Empty DataFrame\n",
              "Columns: [Client, Method, Status, Length, UserAgent, ResponseTime, Hour, Minute, Second, Req_Path_L1, Req_Path_L2, Browser, OS, Device, isBot, isImage, robotTxt, isHEAD, ErrorCode, TimeMin, DistanceTime, CountOfRequest]\n",
              "Index: []"
            ]
          },
          "metadata": {
            "tags": []
          },
          "execution_count": 235
        }
      ]
    },
    {
      "cell_type": "code",
      "metadata": {
        "colab": {
          "base_uri": "https://localhost:8080/"
        },
        "id": "zlxCvNQynGFU",
        "outputId": "a9d8a9db-a5cd-41b0-acb2-418bb3281371"
      },
      "source": [
        "iForest_c1.loc[iForest_c1.UserAgent.str.contains(\"BlackBerry\")].shape[0]"
      ],
      "execution_count": null,
      "outputs": [
        {
          "output_type": "execute_result",
          "data": {
            "text/plain": [
              "89"
            ]
          },
          "metadata": {
            "tags": []
          },
          "execution_count": 256
        }
      ]
    },
    {
      "cell_type": "markdown",
      "metadata": {
        "id": "JDZQo_mwLFPL"
      },
      "source": [
        "### PCA"
      ]
    },
    {
      "cell_type": "code",
      "metadata": {
        "id": "A43bWmKhOH-j"
      },
      "source": [
        "scaler = StandardScaler()\n",
        "scaled_data = scaler.fit_transform(encoded_data)"
      ],
      "execution_count": null,
      "outputs": []
    },
    {
      "cell_type": "code",
      "metadata": {
        "id": "afLjublKJWcA"
      },
      "source": [
        "# Plot data\n",
        "pca = PCA(n_components=2, random_state=10)\n",
        "\n",
        "data_pca = pca.fit_transform(scaled_data)\n",
        "data_pca = pd.DataFrame(data=data_pca, index=data.index, columns=['pca-one', 'pca-two'])"
      ],
      "execution_count": null,
      "outputs": []
    },
    {
      "cell_type": "code",
      "metadata": {
        "colab": {
          "base_uri": "https://localhost:8080/"
        },
        "id": "atOjB5INLp4O",
        "outputId": "d82420b6-bf25-4b7f-ffdb-7fd768dfed5e"
      },
      "source": [
        "pca.explained_variance_ratio_"
      ],
      "execution_count": null,
      "outputs": [
        {
          "output_type": "execute_result",
          "data": {
            "text/plain": [
              "array([0.0847913 , 0.07371381])"
            ]
          },
          "metadata": {
            "tags": []
          },
          "execution_count": 239
        }
      ]
    },
    {
      "cell_type": "code",
      "metadata": {
        "colab": {
          "base_uri": "https://localhost:8080/",
          "height": 397
        },
        "id": "5lhPkgbjL0JH",
        "outputId": "2847a1c2-10f4-427b-ed66-a449814688dc"
      },
      "source": [
        "plt.figure(figsize=(10,6))\n",
        "sns.scatterplot(\n",
        "    x=\"pca-one\", y=\"pca-two\",\n",
        "    hue= iForest_preds,\n",
        "    # palette=sns.color_palette(\"hls\", 10),\n",
        "    data=data_pca,\n",
        "    legend=\"full\",\n",
        "    alpha=0.3\n",
        ");"
      ],
      "execution_count": null,
      "outputs": [
        {
          "output_type": "display_data",
          "data": {
            "image/png": "[encoded data removed]",
            "text/plain": [
              "<Figure size 720x432 with 1 Axes>"
            ]
          },
          "metadata": {
            "tags": []
          }
        }
      ]
    },
    {
      "cell_type": "code",
      "metadata": {
        "colab": {
          "base_uri": "https://localhost:8080/",
          "height": 397
        },
        "id": "Pv52xeJ62Nc4",
        "outputId": "05cafcdc-193a-4d11-ae26-64d5dcdc6d37"
      },
      "source": [
        "plt.figure(figsize=(10,6))\n",
        "sns.scatterplot(\n",
        "    x=\"pca-one\", y=\"pca-two\",\n",
        "    hue= kmeans_preds,\n",
        "    # palette=sns.color_palette(\"hls\", 10),\n",
        "    data=data_pca,\n",
        "    legend=\"full\",\n",
        "    alpha=0.3\n",
        ");"
      ],
      "execution_count": null,
      "outputs": [
        {
          "output_type": "display_data",
          "data": {
            "image/png": "[encoded data removed]",
            "text/plain": [
              "<Figure size 720x432 with 1 Axes>"
            ]
          },
          "metadata": {
            "tags": []
          }
        }
      ]
    },
    {
      "cell_type": "code",
      "metadata": {
        "id": "RgUfc3UftFTe"
      },
      "source": [
        ""
      ],
      "execution_count": null,
      "outputs": []
    }
  ]
}