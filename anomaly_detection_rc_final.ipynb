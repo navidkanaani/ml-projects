{
  "nbformat": 4,
  "nbformat_minor": 0,
  "metadata": {
    "colab": {
      "name": "anomaly-detection-rc-final.ipynb",
      "provenance": [],
      "collapsed_sections": [
        "7qKIa0u40htM",
        "a-2bv4b2iqqt",
        "9_epeI1sjOND",
        "YUwmx8ajUT50",
        "UVIzwC0CQw-C"
      ]
    },
    "kernelspec": {
      "name": "python3",
      "display_name": "Python 3"
    },
    "language_info": {
      "name": "python"
    }
  },
  "cells": [
    {
      "cell_type": "markdown",
      "metadata": {
        "id": "pNq4D4JVRvAy"
      },
      "source": [
        "# Anomaly Detection using web servers' logs\n",
        "\n",
        "## Problem\n",
        "We need to detect itrusioners and crawlers of a web server from its users' foot prints that provided for us as a log file.\n",
        "\n",
        "It's an unsupervised problem becuase, there isn't any label for the anomalies, So we have to figure out them and find them from the log server.\n"
      ]
    },
    {
      "cell_type": "code",
      "metadata": {
        "id": "ZNmdSEraSt6w",
        "colab": {
          "base_uri": "https://localhost:8080/"
        },
        "outputId": "f220a8c4-4d92-401d-e83f-e779007e2377"
      },
      "source": [
        "# Import requirements\n",
        "import re\n",
        "import pandas as pd\n",
        "import numpy as np\n",
        "!pip install pandas-profiling==2.7.1\n",
        "from pandas_profiling import ProfileReport\n",
        "\n",
        "import matplotlib.pyplot as plt"
      ],
      "execution_count": 112,
      "outputs": [
        {
          "output_type": "stream",
          "text": [
            "Requirement already satisfied: pandas-profiling==2.7.1 in /usr/local/lib/python3.7/dist-packages (2.7.1)\n",
            "Requirement already satisfied: numpy>=1.16.0 in /usr/local/lib/python3.7/dist-packages (from pandas-profiling==2.7.1) (1.19.5)\n",
            "Requirement already satisfied: pandas!=1.0.0,!=1.0.1,!=1.0.2,>=0.25.3 in /usr/local/lib/python3.7/dist-packages (from pandas-profiling==2.7.1) (1.1.5)\n",
            "Requirement already satisfied: astropy>=4.0 in /usr/local/lib/python3.7/dist-packages (from pandas-profiling==2.7.1) (4.2.1)\n",
            "Requirement already satisfied: scipy>=1.4.1 in /usr/local/lib/python3.7/dist-packages (from pandas-profiling==2.7.1) (1.4.1)\n",
            "Requirement already satisfied: ipywidgets>=7.5.1 in /usr/local/lib/python3.7/dist-packages (from pandas-profiling==2.7.1) (7.6.3)\n",
            "Requirement already satisfied: requests>=2.23.0 in /usr/local/lib/python3.7/dist-packages (from pandas-profiling==2.7.1) (2.23.0)\n",
            "Requirement already satisfied: matplotlib>=3.2.0 in /usr/local/lib/python3.7/dist-packages (from pandas-profiling==2.7.1) (3.2.2)\n",
            "Requirement already satisfied: tangled-up-in-unicode>=0.0.4 in /usr/local/lib/python3.7/dist-packages (from pandas-profiling==2.7.1) (0.1.0)\n",
            "Requirement already satisfied: phik>=0.9.10 in /usr/local/lib/python3.7/dist-packages (from pandas-profiling==2.7.1) (0.11.2)\n",
            "Requirement already satisfied: tqdm>=4.43.0 in /usr/local/lib/python3.7/dist-packages (from pandas-profiling==2.7.1) (4.61.1)\n",
            "Requirement already satisfied: visions[type_image_path]==0.4.1 in /usr/local/lib/python3.7/dist-packages (from pandas-profiling==2.7.1) (0.4.1)\n",
            "Requirement already satisfied: joblib in /usr/local/lib/python3.7/dist-packages (from pandas-profiling==2.7.1) (1.0.1)\n",
            "Requirement already satisfied: confuse>=1.0.0 in /usr/local/lib/python3.7/dist-packages (from pandas-profiling==2.7.1) (1.4.0)\n",
            "Requirement already satisfied: jinja2>=2.11.1 in /usr/local/lib/python3.7/dist-packages (from pandas-profiling==2.7.1) (2.11.3)\n",
            "Requirement already satisfied: missingno>=0.4.2 in /usr/local/lib/python3.7/dist-packages (from pandas-profiling==2.7.1) (0.4.2)\n",
            "Requirement already satisfied: htmlmin>=0.1.12 in /usr/local/lib/python3.7/dist-packages (from pandas-profiling==2.7.1) (0.1.12)\n",
            "Requirement already satisfied: python-dateutil>=2.7.3 in /usr/local/lib/python3.7/dist-packages (from pandas!=1.0.0,!=1.0.1,!=1.0.2,>=0.25.3->pandas-profiling==2.7.1) (2.8.1)\n",
            "Requirement already satisfied: pytz>=2017.2 in /usr/local/lib/python3.7/dist-packages (from pandas!=1.0.0,!=1.0.1,!=1.0.2,>=0.25.3->pandas-profiling==2.7.1) (2018.9)\n",
            "Requirement already satisfied: pyerfa in /usr/local/lib/python3.7/dist-packages (from astropy>=4.0->pandas-profiling==2.7.1) (2.0.0)\n",
            "Requirement already satisfied: ipython>=4.0.0; python_version >= \"3.3\" in /usr/local/lib/python3.7/dist-packages (from ipywidgets>=7.5.1->pandas-profiling==2.7.1) (5.5.0)\n",
            "Requirement already satisfied: ipykernel>=4.5.1 in /usr/local/lib/python3.7/dist-packages (from ipywidgets>=7.5.1->pandas-profiling==2.7.1) (4.10.1)\n",
            "Requirement already satisfied: jupyterlab-widgets>=1.0.0; python_version >= \"3.6\" in /usr/local/lib/python3.7/dist-packages (from ipywidgets>=7.5.1->pandas-profiling==2.7.1) (1.0.0)\n",
            "Requirement already satisfied: nbformat>=4.2.0 in /usr/local/lib/python3.7/dist-packages (from ipywidgets>=7.5.1->pandas-profiling==2.7.1) (5.1.3)\n",
            "Requirement already satisfied: widgetsnbextension~=3.5.0 in /usr/local/lib/python3.7/dist-packages (from ipywidgets>=7.5.1->pandas-profiling==2.7.1) (3.5.1)\n",
            "Requirement already satisfied: traitlets>=4.3.1 in /usr/local/lib/python3.7/dist-packages (from ipywidgets>=7.5.1->pandas-profiling==2.7.1) (5.0.5)\n",
            "Requirement already satisfied: urllib3!=1.25.0,!=1.25.1,<1.26,>=1.21.1 in /usr/local/lib/python3.7/dist-packages (from requests>=2.23.0->pandas-profiling==2.7.1) (1.24.3)\n",
            "Requirement already satisfied: chardet<4,>=3.0.2 in /usr/local/lib/python3.7/dist-packages (from requests>=2.23.0->pandas-profiling==2.7.1) (3.0.4)\n",
            "Requirement already satisfied: idna<3,>=2.5 in /usr/local/lib/python3.7/dist-packages (from requests>=2.23.0->pandas-profiling==2.7.1) (2.10)\n",
            "Requirement already satisfied: certifi>=2017.4.17 in /usr/local/lib/python3.7/dist-packages (from requests>=2.23.0->pandas-profiling==2.7.1) (2021.5.30)\n",
            "Requirement already satisfied: pyparsing!=2.0.4,!=2.1.2,!=2.1.6,>=2.0.1 in /usr/local/lib/python3.7/dist-packages (from matplotlib>=3.2.0->pandas-profiling==2.7.1) (2.4.7)\n",
            "Requirement already satisfied: kiwisolver>=1.0.1 in /usr/local/lib/python3.7/dist-packages (from matplotlib>=3.2.0->pandas-profiling==2.7.1) (1.3.1)\n",
            "Requirement already satisfied: cycler>=0.10 in /usr/local/lib/python3.7/dist-packages (from matplotlib>=3.2.0->pandas-profiling==2.7.1) (0.10.0)\n",
            "Requirement already satisfied: attrs>=19.3.0 in /usr/local/lib/python3.7/dist-packages (from visions[type_image_path]==0.4.1->pandas-profiling==2.7.1) (21.2.0)\n",
            "Requirement already satisfied: networkx>=2.4 in /usr/local/lib/python3.7/dist-packages (from visions[type_image_path]==0.4.1->pandas-profiling==2.7.1) (2.5.1)\n",
            "Requirement already satisfied: Pillow; extra == \"type_image_path\" in /usr/local/lib/python3.7/dist-packages (from visions[type_image_path]==0.4.1->pandas-profiling==2.7.1) (7.1.2)\n",
            "Requirement already satisfied: imagehash; extra == \"type_image_path\" in /usr/local/lib/python3.7/dist-packages (from visions[type_image_path]==0.4.1->pandas-profiling==2.7.1) (4.2.0)\n",
            "Requirement already satisfied: pyyaml in /usr/local/lib/python3.7/dist-packages (from confuse>=1.0.0->pandas-profiling==2.7.1) (3.13)\n",
            "Requirement already satisfied: MarkupSafe>=0.23 in /usr/local/lib/python3.7/dist-packages (from jinja2>=2.11.1->pandas-profiling==2.7.1) (2.0.1)\n",
            "Requirement already satisfied: seaborn in /usr/local/lib/python3.7/dist-packages (from missingno>=0.4.2->pandas-profiling==2.7.1) (0.11.1)\n",
            "Requirement already satisfied: six>=1.5 in /usr/local/lib/python3.7/dist-packages (from python-dateutil>=2.7.3->pandas!=1.0.0,!=1.0.1,!=1.0.2,>=0.25.3->pandas-profiling==2.7.1) (1.15.0)\n",
            "Requirement already satisfied: setuptools>=18.5 in /usr/local/lib/python3.7/dist-packages (from ipython>=4.0.0; python_version >= \"3.3\"->ipywidgets>=7.5.1->pandas-profiling==2.7.1) (57.0.0)\n",
            "Requirement already satisfied: decorator in /usr/local/lib/python3.7/dist-packages (from ipython>=4.0.0; python_version >= \"3.3\"->ipywidgets>=7.5.1->pandas-profiling==2.7.1) (4.4.2)\n",
            "Requirement already satisfied: pickleshare in /usr/local/lib/python3.7/dist-packages (from ipython>=4.0.0; python_version >= \"3.3\"->ipywidgets>=7.5.1->pandas-profiling==2.7.1) (0.7.5)\n",
            "Requirement already satisfied: pexpect; sys_platform != \"win32\" in /usr/local/lib/python3.7/dist-packages (from ipython>=4.0.0; python_version >= \"3.3\"->ipywidgets>=7.5.1->pandas-profiling==2.7.1) (4.8.0)\n",
            "Requirement already satisfied: simplegeneric>0.8 in /usr/local/lib/python3.7/dist-packages (from ipython>=4.0.0; python_version >= \"3.3\"->ipywidgets>=7.5.1->pandas-profiling==2.7.1) (0.8.1)\n",
            "Requirement already satisfied: pygments in /usr/local/lib/python3.7/dist-packages (from ipython>=4.0.0; python_version >= \"3.3\"->ipywidgets>=7.5.1->pandas-profiling==2.7.1) (2.6.1)\n",
            "Requirement already satisfied: prompt-toolkit<2.0.0,>=1.0.4 in /usr/local/lib/python3.7/dist-packages (from ipython>=4.0.0; python_version >= \"3.3\"->ipywidgets>=7.5.1->pandas-profiling==2.7.1) (1.0.18)\n",
            "Requirement already satisfied: tornado>=4.0 in /usr/local/lib/python3.7/dist-packages (from ipykernel>=4.5.1->ipywidgets>=7.5.1->pandas-profiling==2.7.1) (5.1.1)\n",
            "Requirement already satisfied: jupyter-client in /usr/local/lib/python3.7/dist-packages (from ipykernel>=4.5.1->ipywidgets>=7.5.1->pandas-profiling==2.7.1) (5.3.5)\n",
            "Requirement already satisfied: jsonschema!=2.5.0,>=2.4 in /usr/local/lib/python3.7/dist-packages (from nbformat>=4.2.0->ipywidgets>=7.5.1->pandas-profiling==2.7.1) (2.6.0)\n",
            "Requirement already satisfied: jupyter-core in /usr/local/lib/python3.7/dist-packages (from nbformat>=4.2.0->ipywidgets>=7.5.1->pandas-profiling==2.7.1) (4.7.1)\n",
            "Requirement already satisfied: ipython-genutils in /usr/local/lib/python3.7/dist-packages (from nbformat>=4.2.0->ipywidgets>=7.5.1->pandas-profiling==2.7.1) (0.2.0)\n",
            "Requirement already satisfied: notebook>=4.4.1 in /usr/local/lib/python3.7/dist-packages (from widgetsnbextension~=3.5.0->ipywidgets>=7.5.1->pandas-profiling==2.7.1) (5.3.1)\n",
            "Requirement already satisfied: PyWavelets in /usr/local/lib/python3.7/dist-packages (from imagehash; extra == \"type_image_path\"->visions[type_image_path]==0.4.1->pandas-profiling==2.7.1) (1.1.1)\n",
            "Requirement already satisfied: ptyprocess>=0.5 in /usr/local/lib/python3.7/dist-packages (from pexpect; sys_platform != \"win32\"->ipython>=4.0.0; python_version >= \"3.3\"->ipywidgets>=7.5.1->pandas-profiling==2.7.1) (0.7.0)\n",
            "Requirement already satisfied: wcwidth in /usr/local/lib/python3.7/dist-packages (from prompt-toolkit<2.0.0,>=1.0.4->ipython>=4.0.0; python_version >= \"3.3\"->ipywidgets>=7.5.1->pandas-profiling==2.7.1) (0.2.5)\n",
            "Requirement already satisfied: pyzmq>=13 in /usr/local/lib/python3.7/dist-packages (from jupyter-client->ipykernel>=4.5.1->ipywidgets>=7.5.1->pandas-profiling==2.7.1) (22.1.0)\n",
            "Requirement already satisfied: terminado>=0.8.1 in /usr/local/lib/python3.7/dist-packages (from notebook>=4.4.1->widgetsnbextension~=3.5.0->ipywidgets>=7.5.1->pandas-profiling==2.7.1) (0.10.1)\n",
            "Requirement already satisfied: Send2Trash in /usr/local/lib/python3.7/dist-packages (from notebook>=4.4.1->widgetsnbextension~=3.5.0->ipywidgets>=7.5.1->pandas-profiling==2.7.1) (1.5.0)\n",
            "Requirement already satisfied: nbconvert in /usr/local/lib/python3.7/dist-packages (from notebook>=4.4.1->widgetsnbextension~=3.5.0->ipywidgets>=7.5.1->pandas-profiling==2.7.1) (5.6.1)\n",
            "Requirement already satisfied: entrypoints>=0.2.2 in /usr/local/lib/python3.7/dist-packages (from nbconvert->notebook>=4.4.1->widgetsnbextension~=3.5.0->ipywidgets>=7.5.1->pandas-profiling==2.7.1) (0.3)\n",
            "Requirement already satisfied: pandocfilters>=1.4.1 in /usr/local/lib/python3.7/dist-packages (from nbconvert->notebook>=4.4.1->widgetsnbextension~=3.5.0->ipywidgets>=7.5.1->pandas-profiling==2.7.1) (1.4.3)\n",
            "Requirement already satisfied: testpath in /usr/local/lib/python3.7/dist-packages (from nbconvert->notebook>=4.4.1->widgetsnbextension~=3.5.0->ipywidgets>=7.5.1->pandas-profiling==2.7.1) (0.5.0)\n",
            "Requirement already satisfied: mistune<2,>=0.8.1 in /usr/local/lib/python3.7/dist-packages (from nbconvert->notebook>=4.4.1->widgetsnbextension~=3.5.0->ipywidgets>=7.5.1->pandas-profiling==2.7.1) (0.8.4)\n",
            "Requirement already satisfied: bleach in /usr/local/lib/python3.7/dist-packages (from nbconvert->notebook>=4.4.1->widgetsnbextension~=3.5.0->ipywidgets>=7.5.1->pandas-profiling==2.7.1) (3.3.0)\n",
            "Requirement already satisfied: defusedxml in /usr/local/lib/python3.7/dist-packages (from nbconvert->notebook>=4.4.1->widgetsnbextension~=3.5.0->ipywidgets>=7.5.1->pandas-profiling==2.7.1) (0.7.1)\n",
            "Requirement already satisfied: webencodings in /usr/local/lib/python3.7/dist-packages (from bleach->nbconvert->notebook>=4.4.1->widgetsnbextension~=3.5.0->ipywidgets>=7.5.1->pandas-profiling==2.7.1) (0.5.1)\n",
            "Requirement already satisfied: packaging in /usr/local/lib/python3.7/dist-packages (from bleach->nbconvert->notebook>=4.4.1->widgetsnbextension~=3.5.0->ipywidgets>=7.5.1->pandas-profiling==2.7.1) (20.9)\n"
          ],
          "name": "stdout"
        }
      ]
    },
    {
      "cell_type": "markdown",
      "metadata": {
        "id": "FJ1_ZwyLS0MZ"
      },
      "source": [
        "## Prepare data\n",
        "1. Create a `.csv` from the provided logs.\n",
        "2. Extract features.\n",
        "3. Clean data:\n",
        "  * Fix datetimes.\n",
        "  * Fix missing values.\n",
        "  * Figure out categories.\n",
        "  * Check correlations.\n",
        "4. Prepare data to fit our model:\n",
        "  * Check the balences.\n",
        "  * Split train, test.\n"
      ]
    },
    {
      "cell_type": "code",
      "metadata": {
        "id": "bLmD_813IqXu"
      },
      "source": [
        "# !gzip --decompress drive/MyDrive/Rahnema-College/Tuning/Final-Project/output.log.gz"
      ],
      "execution_count": 113,
      "outputs": []
    },
    {
      "cell_type": "code",
      "metadata": {
        "colab": {
          "base_uri": "https://localhost:8080/"
        },
        "id": "27K0-YKWTgsk",
        "outputId": "5f5d4db0-e88b-47b8-9a8d-a46baffe83d3"
      },
      "source": [
        "from google.colab import drive\n",
        "drive.mount(\"/content/drive/\")"
      ],
      "execution_count": 114,
      "outputs": [
        {
          "output_type": "stream",
          "text": [
            "Drive already mounted at /content/drive/; to attempt to forcibly remount, call drive.mount(\"/content/drive/\", force_remount=True).\n"
          ],
          "name": "stdout"
        }
      ]
    },
    {
      "cell_type": "markdown",
      "metadata": {
        "id": "L0iJfYL5MMVM"
      },
      "source": [
        "### Extract features from log files to build .csv format\n"
      ]
    },
    {
      "cell_type": "code",
      "metadata": {
        "id": "smhhdU_kLlie"
      },
      "source": [
        "# Regex Pattern\n",
        "pattern = '(?P<Client>\\S+) \\[(?P<Time>\\S+)\\] \\[(?P<Method>\\S+) (?P<Request>\\S+)\\] (?P<Status>\\S+) (?P<Size>\\S+) \\[\\[(?P<UserAgent>[\\S\\s]+)\\]\\] (?P<Duration>\\S+)'\n",
        "file_path = 'drive/MyDrive/Rahnema-College/Tuning/Final-Project/output.log'\n",
        "columns = [\"Client\", \"Datetime\", \"Method\", \"Request\", \"Status\", \"Length\", \"UserAgent\", \"ResponseTime\"]"
      ],
      "execution_count": 115,
      "outputs": []
    },
    {
      "cell_type": "code",
      "metadata": {
        "id": "uN-ho84fNgxV"
      },
      "source": [
        "# Find regex in our logs\n",
        "def parse_data(file_path, pattern):\n",
        "  \"\"\"\n",
        "  Return the part of data that extracted by given pattern.\n",
        "  file_path -> Your log file.\n",
        "  pattern -> The pattern that you're looking for in your logs.\n",
        "\n",
        "  Return parsed_line -> as a list of finded data.\n",
        "  \"\"\"\n",
        "  parsed_lines = []\n",
        "\n",
        "  with open(file_path) as logs:\n",
        "    for line in logs:\n",
        "      try:\n",
        "        finded_pattern = list(re.findall(pattern, line)[0])\n",
        "        parsed_lines.append(finded_pattern)\n",
        "      except Exception as e:\n",
        "        print(\"There is an error while parsing data! Try Again :(\")\n",
        "  return parsed_lines"
      ],
      "execution_count": 116,
      "outputs": []
    },
    {
      "cell_type": "code",
      "metadata": {
        "colab": {
          "base_uri": "https://localhost:8080/"
        },
        "id": "C12OhT9gL93X",
        "outputId": "93a936eb-8787-4068-fc93-a16b4b7ce44c"
      },
      "source": [
        "extracted_features = parse_data(file_path, pattern)\n",
        "extracted_features[0]"
      ],
      "execution_count": 117,
      "outputs": [
        {
          "output_type": "execute_result",
          "data": {
            "text/plain": [
              "['207.213.193.143',\n",
              " '2021-5-12T5:6:0.0+0430',\n",
              " 'Get',\n",
              " '/cdn/profiles/1026106239',\n",
              " '304',\n",
              " '0',\n",
              " 'Googlebot-Image/1.0',\n",
              " '32']"
            ]
          },
          "metadata": {
            "tags": []
          },
          "execution_count": 117
        }
      ]
    },
    {
      "cell_type": "code",
      "metadata": {
        "id": "AQkD-VPpWiEJ",
        "colab": {
          "base_uri": "https://localhost:8080/",
          "height": 0
        },
        "outputId": "dd9851fd-2795-4762-c7bf-a34d0c4a7ae7"
      },
      "source": [
        "# Create a .csv format\n",
        "data = pd.DataFrame(extracted_features, columns=columns)\n",
        "data.head()"
      ],
      "execution_count": 118,
      "outputs": [
        {
          "output_type": "execute_result",
          "data": {
            "text/html": [
              "<div>\n",
              "<style scoped>\n",
              "    .dataframe tbody tr th:only-of-type {\n",
              "        vertical-align: middle;\n",
              "    }\n",
              "\n",
              "    .dataframe tbody tr th {\n",
              "        vertical-align: top;\n",
              "    }\n",
              "\n",
              "    .dataframe thead th {\n",
              "        text-align: right;\n",
              "    }\n",
              "</style>\n",
              "<table border=\"1\" class=\"dataframe\">\n",
              "  <thead>\n",
              "    <tr style=\"text-align: right;\">\n",
              "      <th></th>\n",
              "      <th>Client</th>\n",
              "      <th>Datetime</th>\n",
              "      <th>Method</th>\n",
              "      <th>Request</th>\n",
              "      <th>Status</th>\n",
              "      <th>Length</th>\n",
              "      <th>UserAgent</th>\n",
              "      <th>ResponseTime</th>\n",
              "    </tr>\n",
              "  </thead>\n",
              "  <tbody>\n",
              "    <tr>\n",
              "      <th>0</th>\n",
              "      <td>207.213.193.143</td>\n",
              "      <td>2021-5-12T5:6:0.0+0430</td>\n",
              "      <td>Get</td>\n",
              "      <td>/cdn/profiles/1026106239</td>\n",
              "      <td>304</td>\n",
              "      <td>0</td>\n",
              "      <td>Googlebot-Image/1.0</td>\n",
              "      <td>32</td>\n",
              "    </tr>\n",
              "    <tr>\n",
              "      <th>1</th>\n",
              "      <td>207.213.193.143</td>\n",
              "      <td>2021-5-12T5:6:0.0+0430</td>\n",
              "      <td>Get</td>\n",
              "      <td>images/badge.png</td>\n",
              "      <td>304</td>\n",
              "      <td>0</td>\n",
              "      <td>Googlebot-Image/1.0</td>\n",
              "      <td>4</td>\n",
              "    </tr>\n",
              "    <tr>\n",
              "      <th>2</th>\n",
              "      <td>35.110.222.153</td>\n",
              "      <td>2021-5-12T5:6:0.0+0430</td>\n",
              "      <td>Get</td>\n",
              "      <td>/pages/630180847</td>\n",
              "      <td>200</td>\n",
              "      <td>52567</td>\n",
              "      <td>Mozilla/5.0 (Linux; Android 6.0.1; SAMSUNG SM-...</td>\n",
              "      <td>32</td>\n",
              "    </tr>\n",
              "    <tr>\n",
              "      <th>3</th>\n",
              "      <td>35.108.208.99</td>\n",
              "      <td>2021-5-12T5:6:0.0+0430</td>\n",
              "      <td>Get</td>\n",
              "      <td>images/fav_icon2.ico</td>\n",
              "      <td>200</td>\n",
              "      <td>23531</td>\n",
              "      <td>Mozilla/5.0 (Linux; Android 6.0; CAM-L21) Appl...</td>\n",
              "      <td>20</td>\n",
              "    </tr>\n",
              "    <tr>\n",
              "      <th>4</th>\n",
              "      <td>35.110.222.153</td>\n",
              "      <td>2021-5-12T5:6:0.0+0430</td>\n",
              "      <td>Get</td>\n",
              "      <td>images/sanjagh_logo_purpule5.png</td>\n",
              "      <td>200</td>\n",
              "      <td>4680</td>\n",
              "      <td>Mozilla/5.0 (Linux; Android 6.0.1; SAMSUNG SM-...</td>\n",
              "      <td>8</td>\n",
              "    </tr>\n",
              "  </tbody>\n",
              "</table>\n",
              "</div>"
            ],
            "text/plain": [
              "            Client  ... ResponseTime\n",
              "0  207.213.193.143  ...           32\n",
              "1  207.213.193.143  ...            4\n",
              "2   35.110.222.153  ...           32\n",
              "3    35.108.208.99  ...           20\n",
              "4   35.110.222.153  ...            8\n",
              "\n",
              "[5 rows x 8 columns]"
            ]
          },
          "metadata": {
            "tags": []
          },
          "execution_count": 118
        }
      ]
    },
    {
      "cell_type": "code",
      "metadata": {
        "id": "6A6IttahQMju",
        "colab": {
          "base_uri": "https://localhost:8080/"
        },
        "outputId": "34d28aff-faac-4c28-d125-7d8313bccc51"
      },
      "source": [
        "data.shape"
      ],
      "execution_count": 119,
      "outputs": [
        {
          "output_type": "execute_result",
          "data": {
            "text/plain": [
              "(1260035, 8)"
            ]
          },
          "metadata": {
            "tags": []
          },
          "execution_count": 119
        }
      ]
    },
    {
      "cell_type": "code",
      "metadata": {
        "colab": {
          "base_uri": "https://localhost:8080/"
        },
        "id": "Jfd4wsQN0KTD",
        "outputId": "2a4f6ecc-ec12-4238-deb5-17ca1890a3c1"
      },
      "source": [
        "data.info()"
      ],
      "execution_count": 120,
      "outputs": [
        {
          "output_type": "stream",
          "text": [
            "<class 'pandas.core.frame.DataFrame'>\n",
            "RangeIndex: 1260035 entries, 0 to 1260034\n",
            "Data columns (total 8 columns):\n",
            " #   Column        Non-Null Count    Dtype \n",
            "---  ------        --------------    ----- \n",
            " 0   Client        1260035 non-null  object\n",
            " 1   Datetime      1260035 non-null  object\n",
            " 2   Method        1260035 non-null  object\n",
            " 3   Request       1260035 non-null  object\n",
            " 4   Status        1260035 non-null  object\n",
            " 5   Length        1260035 non-null  object\n",
            " 6   UserAgent     1260035 non-null  object\n",
            " 7   ResponseTime  1260035 non-null  object\n",
            "dtypes: object(8)\n",
            "memory usage: 76.9+ MB\n"
          ],
          "name": "stdout"
        }
      ]
    },
    {
      "cell_type": "markdown",
      "metadata": {
        "id": "7qKIa0u40htM"
      },
      "source": [
        "### Fix time series"
      ]
    },
    {
      "cell_type": "code",
      "metadata": {
        "id": "-e2PcwYC0pMW"
      },
      "source": [
        "# Convert datetimes to datetime format\n",
        "data[\"Datetime\"] = pd.to_datetime(data[\"Datetime\"], format=\"%Y-%m-%dT%H:%M:%S\")"
      ],
      "execution_count": 121,
      "outputs": []
    },
    {
      "cell_type": "code",
      "metadata": {
        "id": "kkoCkFKSBg-2"
      },
      "source": [
        "# Split datatimes\n",
        "data['Year'] = data.Datetime.dt.year\n",
        "data['Month'] = data.Datetime.dt.month\n",
        "data['Day'] = data.Datetime.dt.day\n",
        "data['Hour'] = data.Datetime.dt.hour\n",
        "data['Minute'] = data.Datetime.dt.minute\n",
        "data['Second'] = data.Datetime.dt.second\n",
        "data['dayOfWeek'] = data.Datetime.dt.dayofweek\n",
        "data['dayOfYear'] = data.Datetime.dt.dayofyear"
      ],
      "execution_count": 122,
      "outputs": []
    },
    {
      "cell_type": "code",
      "metadata": {
        "id": "dZ2DXY_wEiKK"
      },
      "source": [
        "data.drop(\"Datetime\", axis=1, inplace=True)"
      ],
      "execution_count": 123,
      "outputs": []
    },
    {
      "cell_type": "code",
      "metadata": {
        "colab": {
          "base_uri": "https://localhost:8080/",
          "height": 0
        },
        "id": "bO96uG_9CwZU",
        "outputId": "704e52b5-12c8-4bfb-83f8-c54fae73f2a3"
      },
      "source": [
        "data.head()"
      ],
      "execution_count": 124,
      "outputs": [
        {
          "output_type": "execute_result",
          "data": {
            "text/html": [
              "<div>\n",
              "<style scoped>\n",
              "    .dataframe tbody tr th:only-of-type {\n",
              "        vertical-align: middle;\n",
              "    }\n",
              "\n",
              "    .dataframe tbody tr th {\n",
              "        vertical-align: top;\n",
              "    }\n",
              "\n",
              "    .dataframe thead th {\n",
              "        text-align: right;\n",
              "    }\n",
              "</style>\n",
              "<table border=\"1\" class=\"dataframe\">\n",
              "  <thead>\n",
              "    <tr style=\"text-align: right;\">\n",
              "      <th></th>\n",
              "      <th>Client</th>\n",
              "      <th>Method</th>\n",
              "      <th>Request</th>\n",
              "      <th>Status</th>\n",
              "      <th>Length</th>\n",
              "      <th>UserAgent</th>\n",
              "      <th>ResponseTime</th>\n",
              "      <th>Year</th>\n",
              "      <th>Month</th>\n",
              "      <th>Day</th>\n",
              "      <th>Hour</th>\n",
              "      <th>Minute</th>\n",
              "      <th>Second</th>\n",
              "      <th>dayOfWeek</th>\n",
              "      <th>dayOfYear</th>\n",
              "    </tr>\n",
              "  </thead>\n",
              "  <tbody>\n",
              "    <tr>\n",
              "      <th>0</th>\n",
              "      <td>207.213.193.143</td>\n",
              "      <td>Get</td>\n",
              "      <td>/cdn/profiles/1026106239</td>\n",
              "      <td>304</td>\n",
              "      <td>0</td>\n",
              "      <td>Googlebot-Image/1.0</td>\n",
              "      <td>32</td>\n",
              "      <td>2021</td>\n",
              "      <td>5</td>\n",
              "      <td>12</td>\n",
              "      <td>5</td>\n",
              "      <td>6</td>\n",
              "      <td>0</td>\n",
              "      <td>2</td>\n",
              "      <td>132</td>\n",
              "    </tr>\n",
              "    <tr>\n",
              "      <th>1</th>\n",
              "      <td>207.213.193.143</td>\n",
              "      <td>Get</td>\n",
              "      <td>images/badge.png</td>\n",
              "      <td>304</td>\n",
              "      <td>0</td>\n",
              "      <td>Googlebot-Image/1.0</td>\n",
              "      <td>4</td>\n",
              "      <td>2021</td>\n",
              "      <td>5</td>\n",
              "      <td>12</td>\n",
              "      <td>5</td>\n",
              "      <td>6</td>\n",
              "      <td>0</td>\n",
              "      <td>2</td>\n",
              "      <td>132</td>\n",
              "    </tr>\n",
              "    <tr>\n",
              "      <th>2</th>\n",
              "      <td>35.110.222.153</td>\n",
              "      <td>Get</td>\n",
              "      <td>/pages/630180847</td>\n",
              "      <td>200</td>\n",
              "      <td>52567</td>\n",
              "      <td>Mozilla/5.0 (Linux; Android 6.0.1; SAMSUNG SM-...</td>\n",
              "      <td>32</td>\n",
              "      <td>2021</td>\n",
              "      <td>5</td>\n",
              "      <td>12</td>\n",
              "      <td>5</td>\n",
              "      <td>6</td>\n",
              "      <td>0</td>\n",
              "      <td>2</td>\n",
              "      <td>132</td>\n",
              "    </tr>\n",
              "    <tr>\n",
              "      <th>3</th>\n",
              "      <td>35.108.208.99</td>\n",
              "      <td>Get</td>\n",
              "      <td>images/fav_icon2.ico</td>\n",
              "      <td>200</td>\n",
              "      <td>23531</td>\n",
              "      <td>Mozilla/5.0 (Linux; Android 6.0; CAM-L21) Appl...</td>\n",
              "      <td>20</td>\n",
              "      <td>2021</td>\n",
              "      <td>5</td>\n",
              "      <td>12</td>\n",
              "      <td>5</td>\n",
              "      <td>6</td>\n",
              "      <td>0</td>\n",
              "      <td>2</td>\n",
              "      <td>132</td>\n",
              "    </tr>\n",
              "    <tr>\n",
              "      <th>4</th>\n",
              "      <td>35.110.222.153</td>\n",
              "      <td>Get</td>\n",
              "      <td>images/sanjagh_logo_purpule5.png</td>\n",
              "      <td>200</td>\n",
              "      <td>4680</td>\n",
              "      <td>Mozilla/5.0 (Linux; Android 6.0.1; SAMSUNG SM-...</td>\n",
              "      <td>8</td>\n",
              "      <td>2021</td>\n",
              "      <td>5</td>\n",
              "      <td>12</td>\n",
              "      <td>5</td>\n",
              "      <td>6</td>\n",
              "      <td>0</td>\n",
              "      <td>2</td>\n",
              "      <td>132</td>\n",
              "    </tr>\n",
              "  </tbody>\n",
              "</table>\n",
              "</div>"
            ],
            "text/plain": [
              "            Client Method  ... dayOfWeek dayOfYear\n",
              "0  207.213.193.143    Get  ...         2       132\n",
              "1  207.213.193.143    Get  ...         2       132\n",
              "2   35.110.222.153    Get  ...         2       132\n",
              "3    35.108.208.99    Get  ...         2       132\n",
              "4   35.110.222.153    Get  ...         2       132\n",
              "\n",
              "[5 rows x 15 columns]"
            ]
          },
          "metadata": {
            "tags": []
          },
          "execution_count": 124
        }
      ]
    },
    {
      "cell_type": "markdown",
      "metadata": {
        "id": "a-2bv4b2iqqt"
      },
      "source": [
        "### Split Requests\n",
        "* Level_1\n",
        "  * Level_2"
      ]
    },
    {
      "cell_type": "code",
      "metadata": {
        "id": "sGYkynLKiw6O"
      },
      "source": [
        "# Level Requests' path to make them more categorized\n",
        "path_l1 = []\n",
        "path_l2 = []\n",
        "paths_pattern = re.compile(r'^(\\/|\\w+)')\n",
        "for element in data.Request.values:\n",
        "  finded_part = paths_pattern.findall(element)[0]\n",
        "  path_l1.append(finded_part)\n",
        "  path_l2.append(element.replace(finded_part, ''))\n",
        "\n",
        "data[\"Req_Path_L1\"] = path_l1\n",
        "data[\"Req_Path_L2\"] = path_l2"
      ],
      "execution_count": 125,
      "outputs": []
    },
    {
      "cell_type": "code",
      "metadata": {
        "colab": {
          "base_uri": "https://localhost:8080/",
          "height": 0
        },
        "id": "ys2c4St7iwsR",
        "outputId": "f0723788-6c94-45f4-c4e8-37d84d2757b6"
      },
      "source": [
        "data.head()"
      ],
      "execution_count": 126,
      "outputs": [
        {
          "output_type": "execute_result",
          "data": {
            "text/html": [
              "<div>\n",
              "<style scoped>\n",
              "    .dataframe tbody tr th:only-of-type {\n",
              "        vertical-align: middle;\n",
              "    }\n",
              "\n",
              "    .dataframe tbody tr th {\n",
              "        vertical-align: top;\n",
              "    }\n",
              "\n",
              "    .dataframe thead th {\n",
              "        text-align: right;\n",
              "    }\n",
              "</style>\n",
              "<table border=\"1\" class=\"dataframe\">\n",
              "  <thead>\n",
              "    <tr style=\"text-align: right;\">\n",
              "      <th></th>\n",
              "      <th>Client</th>\n",
              "      <th>Method</th>\n",
              "      <th>Request</th>\n",
              "      <th>Status</th>\n",
              "      <th>Length</th>\n",
              "      <th>UserAgent</th>\n",
              "      <th>ResponseTime</th>\n",
              "      <th>Year</th>\n",
              "      <th>Month</th>\n",
              "      <th>Day</th>\n",
              "      <th>Hour</th>\n",
              "      <th>Minute</th>\n",
              "      <th>Second</th>\n",
              "      <th>dayOfWeek</th>\n",
              "      <th>dayOfYear</th>\n",
              "      <th>Req_Path_L1</th>\n",
              "      <th>Req_Path_L2</th>\n",
              "    </tr>\n",
              "  </thead>\n",
              "  <tbody>\n",
              "    <tr>\n",
              "      <th>0</th>\n",
              "      <td>207.213.193.143</td>\n",
              "      <td>Get</td>\n",
              "      <td>/cdn/profiles/1026106239</td>\n",
              "      <td>304</td>\n",
              "      <td>0</td>\n",
              "      <td>Googlebot-Image/1.0</td>\n",
              "      <td>32</td>\n",
              "      <td>2021</td>\n",
              "      <td>5</td>\n",
              "      <td>12</td>\n",
              "      <td>5</td>\n",
              "      <td>6</td>\n",
              "      <td>0</td>\n",
              "      <td>2</td>\n",
              "      <td>132</td>\n",
              "      <td>/</td>\n",
              "      <td>cdnprofiles1026106239</td>\n",
              "    </tr>\n",
              "    <tr>\n",
              "      <th>1</th>\n",
              "      <td>207.213.193.143</td>\n",
              "      <td>Get</td>\n",
              "      <td>images/badge.png</td>\n",
              "      <td>304</td>\n",
              "      <td>0</td>\n",
              "      <td>Googlebot-Image/1.0</td>\n",
              "      <td>4</td>\n",
              "      <td>2021</td>\n",
              "      <td>5</td>\n",
              "      <td>12</td>\n",
              "      <td>5</td>\n",
              "      <td>6</td>\n",
              "      <td>0</td>\n",
              "      <td>2</td>\n",
              "      <td>132</td>\n",
              "      <td>images</td>\n",
              "      <td>/badge.png</td>\n",
              "    </tr>\n",
              "    <tr>\n",
              "      <th>2</th>\n",
              "      <td>35.110.222.153</td>\n",
              "      <td>Get</td>\n",
              "      <td>/pages/630180847</td>\n",
              "      <td>200</td>\n",
              "      <td>52567</td>\n",
              "      <td>Mozilla/5.0 (Linux; Android 6.0.1; SAMSUNG SM-...</td>\n",
              "      <td>32</td>\n",
              "      <td>2021</td>\n",
              "      <td>5</td>\n",
              "      <td>12</td>\n",
              "      <td>5</td>\n",
              "      <td>6</td>\n",
              "      <td>0</td>\n",
              "      <td>2</td>\n",
              "      <td>132</td>\n",
              "      <td>/</td>\n",
              "      <td>pages630180847</td>\n",
              "    </tr>\n",
              "    <tr>\n",
              "      <th>3</th>\n",
              "      <td>35.108.208.99</td>\n",
              "      <td>Get</td>\n",
              "      <td>images/fav_icon2.ico</td>\n",
              "      <td>200</td>\n",
              "      <td>23531</td>\n",
              "      <td>Mozilla/5.0 (Linux; Android 6.0; CAM-L21) Appl...</td>\n",
              "      <td>20</td>\n",
              "      <td>2021</td>\n",
              "      <td>5</td>\n",
              "      <td>12</td>\n",
              "      <td>5</td>\n",
              "      <td>6</td>\n",
              "      <td>0</td>\n",
              "      <td>2</td>\n",
              "      <td>132</td>\n",
              "      <td>images</td>\n",
              "      <td>/fav_icon2.ico</td>\n",
              "    </tr>\n",
              "    <tr>\n",
              "      <th>4</th>\n",
              "      <td>35.110.222.153</td>\n",
              "      <td>Get</td>\n",
              "      <td>images/sanjagh_logo_purpule5.png</td>\n",
              "      <td>200</td>\n",
              "      <td>4680</td>\n",
              "      <td>Mozilla/5.0 (Linux; Android 6.0.1; SAMSUNG SM-...</td>\n",
              "      <td>8</td>\n",
              "      <td>2021</td>\n",
              "      <td>5</td>\n",
              "      <td>12</td>\n",
              "      <td>5</td>\n",
              "      <td>6</td>\n",
              "      <td>0</td>\n",
              "      <td>2</td>\n",
              "      <td>132</td>\n",
              "      <td>images</td>\n",
              "      <td>/sanjagh_logo_purpule5.png</td>\n",
              "    </tr>\n",
              "  </tbody>\n",
              "</table>\n",
              "</div>"
            ],
            "text/plain": [
              "            Client Method  ... Req_Path_L1                 Req_Path_L2\n",
              "0  207.213.193.143    Get  ...           /       cdnprofiles1026106239\n",
              "1  207.213.193.143    Get  ...      images                  /badge.png\n",
              "2   35.110.222.153    Get  ...           /              pages630180847\n",
              "3    35.108.208.99    Get  ...      images              /fav_icon2.ico\n",
              "4   35.110.222.153    Get  ...      images  /sanjagh_logo_purpule5.png\n",
              "\n",
              "[5 rows x 17 columns]"
            ]
          },
          "metadata": {
            "tags": []
          },
          "execution_count": 126
        }
      ]
    },
    {
      "cell_type": "code",
      "metadata": {
        "colab": {
          "base_uri": "https://localhost:8080/"
        },
        "id": "Yu3hxwIa1p8e",
        "outputId": "b985ab25-24fa-4b70-8616-acf7a27efc23"
      },
      "source": [
        "data[\"Req_Path_L1\"].value_counts()"
      ],
      "execution_count": 127,
      "outputs": [
        {
          "output_type": "execute_result",
          "data": {
            "text/plain": [
              "/            663910\n",
              "images       298288\n",
              "js           125224\n",
              "fonts         98485\n",
              "css           56303\n",
              "templates     17825\n",
              "Name: Req_Path_L1, dtype: int64"
            ]
          },
          "metadata": {
            "tags": []
          },
          "execution_count": 127
        }
      ]
    },
    {
      "cell_type": "code",
      "metadata": {
        "colab": {
          "base_uri": "https://localhost:8080/",
          "height": 0
        },
        "id": "Co_WV80tGBsL",
        "outputId": "bd70240f-2f23-4eba-847e-128aa2d8d7d5"
      },
      "source": [
        "data.loc[10:16]"
      ],
      "execution_count": 128,
      "outputs": [
        {
          "output_type": "execute_result",
          "data": {
            "text/html": [
              "<div>\n",
              "<style scoped>\n",
              "    .dataframe tbody tr th:only-of-type {\n",
              "        vertical-align: middle;\n",
              "    }\n",
              "\n",
              "    .dataframe tbody tr th {\n",
              "        vertical-align: top;\n",
              "    }\n",
              "\n",
              "    .dataframe thead th {\n",
              "        text-align: right;\n",
              "    }\n",
              "</style>\n",
              "<table border=\"1\" class=\"dataframe\">\n",
              "  <thead>\n",
              "    <tr style=\"text-align: right;\">\n",
              "      <th></th>\n",
              "      <th>Client</th>\n",
              "      <th>Method</th>\n",
              "      <th>Request</th>\n",
              "      <th>Status</th>\n",
              "      <th>Length</th>\n",
              "      <th>UserAgent</th>\n",
              "      <th>ResponseTime</th>\n",
              "      <th>Year</th>\n",
              "      <th>Month</th>\n",
              "      <th>Day</th>\n",
              "      <th>Hour</th>\n",
              "      <th>Minute</th>\n",
              "      <th>Second</th>\n",
              "      <th>dayOfWeek</th>\n",
              "      <th>dayOfYear</th>\n",
              "      <th>Req_Path_L1</th>\n",
              "      <th>Req_Path_L2</th>\n",
              "    </tr>\n",
              "  </thead>\n",
              "  <tbody>\n",
              "    <tr>\n",
              "      <th>10</th>\n",
              "      <td>35.110.222.153</td>\n",
              "      <td>Get</td>\n",
              "      <td>images/gadgets/join_pros3.jpg</td>\n",
              "      <td>200</td>\n",
              "      <td>34053</td>\n",
              "      <td>Mozilla/5.0 (Linux; Android 6.0.1; SAMSUNG SM-...</td>\n",
              "      <td>8</td>\n",
              "      <td>2021</td>\n",
              "      <td>5</td>\n",
              "      <td>12</td>\n",
              "      <td>5</td>\n",
              "      <td>6</td>\n",
              "      <td>0</td>\n",
              "      <td>2</td>\n",
              "      <td>132</td>\n",
              "      <td>images</td>\n",
              "      <td>/gadgets/join_pros3.jpg</td>\n",
              "    </tr>\n",
              "    <tr>\n",
              "      <th>11</th>\n",
              "      <td>35.110.222.153</td>\n",
              "      <td>Get</td>\n",
              "      <td>css/page.2f0fc69390da8cdff683.css</td>\n",
              "      <td>200</td>\n",
              "      <td>50880</td>\n",
              "      <td>Mozilla/5.0 (Linux; Android 6.0.1; SAMSUNG SM-...</td>\n",
              "      <td>12</td>\n",
              "      <td>2021</td>\n",
              "      <td>5</td>\n",
              "      <td>12</td>\n",
              "      <td>5</td>\n",
              "      <td>6</td>\n",
              "      <td>0</td>\n",
              "      <td>2</td>\n",
              "      <td>132</td>\n",
              "      <td>css</td>\n",
              "      <td>/page.2f0fc69390da8cdff683.</td>\n",
              "    </tr>\n",
              "    <tr>\n",
              "      <th>12</th>\n",
              "      <td>35.110.222.153</td>\n",
              "      <td>Get</td>\n",
              "      <td>js/sentry.47b4061bac0b8ac89b9c.js</td>\n",
              "      <td>200</td>\n",
              "      <td>65059</td>\n",
              "      <td>Mozilla/5.0 (Linux; Android 6.0.1; SAMSUNG SM-...</td>\n",
              "      <td>4</td>\n",
              "      <td>2021</td>\n",
              "      <td>5</td>\n",
              "      <td>12</td>\n",
              "      <td>5</td>\n",
              "      <td>6</td>\n",
              "      <td>0</td>\n",
              "      <td>2</td>\n",
              "      <td>132</td>\n",
              "      <td>js</td>\n",
              "      <td>/sentry.47b4061bac0b8ac89b9c.</td>\n",
              "    </tr>\n",
              "    <tr>\n",
              "      <th>13</th>\n",
              "      <td>35.110.222.153</td>\n",
              "      <td>Get</td>\n",
              "      <td>js/page.07cb314dc14eef820638.js</td>\n",
              "      <td>200</td>\n",
              "      <td>332023</td>\n",
              "      <td>Mozilla/5.0 (Linux; Android 6.0.1; SAMSUNG SM-...</td>\n",
              "      <td>32</td>\n",
              "      <td>2021</td>\n",
              "      <td>5</td>\n",
              "      <td>12</td>\n",
              "      <td>5</td>\n",
              "      <td>6</td>\n",
              "      <td>0</td>\n",
              "      <td>2</td>\n",
              "      <td>132</td>\n",
              "      <td>js</td>\n",
              "      <td>/page.07cb314dc14eef820638.</td>\n",
              "    </tr>\n",
              "    <tr>\n",
              "      <th>14</th>\n",
              "      <td>36.67.23.210</td>\n",
              "      <td>Head</td>\n",
              "      <td>/877499224</td>\n",
              "      <td>200</td>\n",
              "      <td>0</td>\n",
              "      <td>Go-http-client/2.0</td>\n",
              "      <td>28</td>\n",
              "      <td>2021</td>\n",
              "      <td>5</td>\n",
              "      <td>12</td>\n",
              "      <td>5</td>\n",
              "      <td>6</td>\n",
              "      <td>0</td>\n",
              "      <td>2</td>\n",
              "      <td>132</td>\n",
              "      <td>/</td>\n",
              "      <td>877499224</td>\n",
              "    </tr>\n",
              "    <tr>\n",
              "      <th>15</th>\n",
              "      <td>207.213.193.143</td>\n",
              "      <td>Get</td>\n",
              "      <td>/cdn/pro_photo_gallery/1781572036</td>\n",
              "      <td>304</td>\n",
              "      <td>0</td>\n",
              "      <td>Googlebot-Image/1.0</td>\n",
              "      <td>16</td>\n",
              "      <td>2021</td>\n",
              "      <td>5</td>\n",
              "      <td>12</td>\n",
              "      <td>5</td>\n",
              "      <td>6</td>\n",
              "      <td>0</td>\n",
              "      <td>2</td>\n",
              "      <td>132</td>\n",
              "      <td>/</td>\n",
              "      <td>cdnpro_photo_gallery1781572036</td>\n",
              "    </tr>\n",
              "    <tr>\n",
              "      <th>16</th>\n",
              "      <td>35.110.222.153</td>\n",
              "      <td>Get</td>\n",
              "      <td>fonts/sanjagh_icon_font_5.woff</td>\n",
              "      <td>200</td>\n",
              "      <td>8644</td>\n",
              "      <td>Mozilla/5.0 (Linux; Android 6.0.1; SAMSUNG SM-...</td>\n",
              "      <td>4</td>\n",
              "      <td>2021</td>\n",
              "      <td>5</td>\n",
              "      <td>12</td>\n",
              "      <td>5</td>\n",
              "      <td>6</td>\n",
              "      <td>0</td>\n",
              "      <td>2</td>\n",
              "      <td>132</td>\n",
              "      <td>fonts</td>\n",
              "      <td>/sanjagh_icon_font_5.woff</td>\n",
              "    </tr>\n",
              "  </tbody>\n",
              "</table>\n",
              "</div>"
            ],
            "text/plain": [
              "             Client Method  ... Req_Path_L1                     Req_Path_L2\n",
              "10   35.110.222.153    Get  ...      images         /gadgets/join_pros3.jpg\n",
              "11   35.110.222.153    Get  ...         css     /page.2f0fc69390da8cdff683.\n",
              "12   35.110.222.153    Get  ...          js   /sentry.47b4061bac0b8ac89b9c.\n",
              "13   35.110.222.153    Get  ...          js     /page.07cb314dc14eef820638.\n",
              "14     36.67.23.210   Head  ...           /                       877499224\n",
              "15  207.213.193.143    Get  ...           /  cdnpro_photo_gallery1781572036\n",
              "16   35.110.222.153    Get  ...       fonts       /sanjagh_icon_font_5.woff\n",
              "\n",
              "[7 rows x 17 columns]"
            ]
          },
          "metadata": {
            "tags": []
          },
          "execution_count": 128
        }
      ]
    },
    {
      "cell_type": "markdown",
      "metadata": {
        "id": "9_epeI1sjOND"
      },
      "source": [
        "### Check Dataset"
      ]
    },
    {
      "cell_type": "code",
      "metadata": {
        "id": "-WAjjHsgVG6h"
      },
      "source": [
        "# # Create a profile report\n",
        "# profile = ProfileReport(data)\n",
        "# profile.to_file(\"drive/MyDrive/Rahnema-College/Tuning/Final-Project/profile_report.html\")"
      ],
      "execution_count": 129,
      "outputs": []
    },
    {
      "cell_type": "code",
      "metadata": {
        "id": "4DOarR2ZgsTu"
      },
      "source": [
        "# Remove Constant features\n",
        "constant_features = [\"Year\", \"Month\", \"Day\", \"dayOfWeek\", \"dayOfYear\"]\n",
        "data.drop(constant_features, axis=1, inplace=True)"
      ],
      "execution_count": 130,
      "outputs": []
    },
    {
      "cell_type": "markdown",
      "metadata": {
        "id": "NZZhgZrVMtlQ"
      },
      "source": [
        "* There are some rows which don't have any values for `ResponseTime` and `Clinet` features.\n",
        "* Take care: some of rows contains `Clients'` value but no `ResponseTime` value."
      ]
    },
    {
      "cell_type": "code",
      "metadata": {
        "id": "1SQn21n_gE5y",
        "colab": {
          "base_uri": "https://localhost:8080/",
          "height": 419
        },
        "outputId": "4cfc9b6b-584d-400c-f071-156e5eca2208"
      },
      "source": [
        "data[(data[\"Client\"] == '-') & (data[\"ResponseTime\"] == '-')]"
      ],
      "execution_count": 131,
      "outputs": [
        {
          "output_type": "execute_result",
          "data": {
            "text/html": [
              "<div>\n",
              "<style scoped>\n",
              "    .dataframe tbody tr th:only-of-type {\n",
              "        vertical-align: middle;\n",
              "    }\n",
              "\n",
              "    .dataframe tbody tr th {\n",
              "        vertical-align: top;\n",
              "    }\n",
              "\n",
              "    .dataframe thead th {\n",
              "        text-align: right;\n",
              "    }\n",
              "</style>\n",
              "<table border=\"1\" class=\"dataframe\">\n",
              "  <thead>\n",
              "    <tr style=\"text-align: right;\">\n",
              "      <th></th>\n",
              "      <th>Client</th>\n",
              "      <th>Method</th>\n",
              "      <th>Request</th>\n",
              "      <th>Status</th>\n",
              "      <th>Length</th>\n",
              "      <th>UserAgent</th>\n",
              "      <th>ResponseTime</th>\n",
              "      <th>Hour</th>\n",
              "      <th>Minute</th>\n",
              "      <th>Second</th>\n",
              "      <th>Req_Path_L1</th>\n",
              "      <th>Req_Path_L2</th>\n",
              "    </tr>\n",
              "  </thead>\n",
              "  <tbody>\n",
              "    <tr>\n",
              "      <th>25</th>\n",
              "      <td>-</td>\n",
              "      <td>Get</td>\n",
              "      <td>/</td>\n",
              "      <td>301</td>\n",
              "      <td>169</td>\n",
              "      <td>kube-probe/1.21</td>\n",
              "      <td>-</td>\n",
              "      <td>5</td>\n",
              "      <td>6</td>\n",
              "      <td>1</td>\n",
              "      <td>/</td>\n",
              "      <td></td>\n",
              "    </tr>\n",
              "    <tr>\n",
              "      <th>85</th>\n",
              "      <td>-</td>\n",
              "      <td>Get</td>\n",
              "      <td>/</td>\n",
              "      <td>301</td>\n",
              "      <td>169</td>\n",
              "      <td>kube-probe/1.21</td>\n",
              "      <td>-</td>\n",
              "      <td>5</td>\n",
              "      <td>6</td>\n",
              "      <td>3</td>\n",
              "      <td>/</td>\n",
              "      <td></td>\n",
              "    </tr>\n",
              "    <tr>\n",
              "      <th>145</th>\n",
              "      <td>-</td>\n",
              "      <td>Get</td>\n",
              "      <td>/</td>\n",
              "      <td>301</td>\n",
              "      <td>169</td>\n",
              "      <td>kube-probe/1.21</td>\n",
              "      <td>-</td>\n",
              "      <td>5</td>\n",
              "      <td>6</td>\n",
              "      <td>5</td>\n",
              "      <td>/</td>\n",
              "      <td></td>\n",
              "    </tr>\n",
              "    <tr>\n",
              "      <th>175</th>\n",
              "      <td>-</td>\n",
              "      <td>Get</td>\n",
              "      <td>/</td>\n",
              "      <td>301</td>\n",
              "      <td>169</td>\n",
              "      <td>kube-probe/1.21</td>\n",
              "      <td>-</td>\n",
              "      <td>5</td>\n",
              "      <td>6</td>\n",
              "      <td>7</td>\n",
              "      <td>/</td>\n",
              "      <td></td>\n",
              "    </tr>\n",
              "    <tr>\n",
              "      <th>215</th>\n",
              "      <td>-</td>\n",
              "      <td>Get</td>\n",
              "      <td>/</td>\n",
              "      <td>301</td>\n",
              "      <td>169</td>\n",
              "      <td>kube-probe/1.21</td>\n",
              "      <td>-</td>\n",
              "      <td>5</td>\n",
              "      <td>6</td>\n",
              "      <td>9</td>\n",
              "      <td>/</td>\n",
              "      <td></td>\n",
              "    </tr>\n",
              "    <tr>\n",
              "      <th>...</th>\n",
              "      <td>...</td>\n",
              "      <td>...</td>\n",
              "      <td>...</td>\n",
              "      <td>...</td>\n",
              "      <td>...</td>\n",
              "      <td>...</td>\n",
              "      <td>...</td>\n",
              "      <td>...</td>\n",
              "      <td>...</td>\n",
              "      <td>...</td>\n",
              "      <td>...</td>\n",
              "      <td>...</td>\n",
              "    </tr>\n",
              "    <tr>\n",
              "      <th>1259779</th>\n",
              "      <td>-</td>\n",
              "      <td>Get</td>\n",
              "      <td>/</td>\n",
              "      <td>301</td>\n",
              "      <td>169</td>\n",
              "      <td>kube-probe/1.21</td>\n",
              "      <td>-</td>\n",
              "      <td>15</td>\n",
              "      <td>8</td>\n",
              "      <td>51</td>\n",
              "      <td>/</td>\n",
              "      <td></td>\n",
              "    </tr>\n",
              "    <tr>\n",
              "      <th>1259833</th>\n",
              "      <td>-</td>\n",
              "      <td>Get</td>\n",
              "      <td>/</td>\n",
              "      <td>301</td>\n",
              "      <td>169</td>\n",
              "      <td>kube-probe/1.21</td>\n",
              "      <td>-</td>\n",
              "      <td>15</td>\n",
              "      <td>8</td>\n",
              "      <td>53</td>\n",
              "      <td>/</td>\n",
              "      <td></td>\n",
              "    </tr>\n",
              "    <tr>\n",
              "      <th>1259902</th>\n",
              "      <td>-</td>\n",
              "      <td>Get</td>\n",
              "      <td>/</td>\n",
              "      <td>301</td>\n",
              "      <td>169</td>\n",
              "      <td>kube-probe/1.21</td>\n",
              "      <td>-</td>\n",
              "      <td>15</td>\n",
              "      <td>8</td>\n",
              "      <td>55</td>\n",
              "      <td>/</td>\n",
              "      <td></td>\n",
              "    </tr>\n",
              "    <tr>\n",
              "      <th>1259951</th>\n",
              "      <td>-</td>\n",
              "      <td>Get</td>\n",
              "      <td>/</td>\n",
              "      <td>301</td>\n",
              "      <td>169</td>\n",
              "      <td>kube-probe/1.21</td>\n",
              "      <td>-</td>\n",
              "      <td>15</td>\n",
              "      <td>8</td>\n",
              "      <td>57</td>\n",
              "      <td>/</td>\n",
              "      <td></td>\n",
              "    </tr>\n",
              "    <tr>\n",
              "      <th>1260007</th>\n",
              "      <td>-</td>\n",
              "      <td>Get</td>\n",
              "      <td>/</td>\n",
              "      <td>301</td>\n",
              "      <td>169</td>\n",
              "      <td>kube-probe/1.21</td>\n",
              "      <td>-</td>\n",
              "      <td>15</td>\n",
              "      <td>8</td>\n",
              "      <td>59</td>\n",
              "      <td>/</td>\n",
              "      <td></td>\n",
              "    </tr>\n",
              "  </tbody>\n",
              "</table>\n",
              "<p>18090 rows × 12 columns</p>\n",
              "</div>"
            ],
            "text/plain": [
              "        Client Method Request Status  ... Minute Second Req_Path_L1  Req_Path_L2\n",
              "25           -    Get       /    301  ...      6      1           /             \n",
              "85           -    Get       /    301  ...      6      3           /             \n",
              "145          -    Get       /    301  ...      6      5           /             \n",
              "175          -    Get       /    301  ...      6      7           /             \n",
              "215          -    Get       /    301  ...      6      9           /             \n",
              "...        ...    ...     ...    ...  ...    ...    ...         ...          ...\n",
              "1259779      -    Get       /    301  ...      8     51           /             \n",
              "1259833      -    Get       /    301  ...      8     53           /             \n",
              "1259902      -    Get       /    301  ...      8     55           /             \n",
              "1259951      -    Get       /    301  ...      8     57           /             \n",
              "1260007      -    Get       /    301  ...      8     59           /             \n",
              "\n",
              "[18090 rows x 12 columns]"
            ]
          },
          "metadata": {
            "tags": []
          },
          "execution_count": 131
        }
      ]
    },
    {
      "cell_type": "code",
      "metadata": {
        "id": "RqE62wrQLqOJ",
        "colab": {
          "base_uri": "https://localhost:8080/",
          "height": 419
        },
        "outputId": "679429a4-79f0-4b6f-dd4d-80b9e91654eb"
      },
      "source": [
        "data[(data[\"Client\"] != '-') & (data[\"ResponseTime\"] == '-')]"
      ],
      "execution_count": 132,
      "outputs": [
        {
          "output_type": "execute_result",
          "data": {
            "text/html": [
              "<div>\n",
              "<style scoped>\n",
              "    .dataframe tbody tr th:only-of-type {\n",
              "        vertical-align: middle;\n",
              "    }\n",
              "\n",
              "    .dataframe tbody tr th {\n",
              "        vertical-align: top;\n",
              "    }\n",
              "\n",
              "    .dataframe thead th {\n",
              "        text-align: right;\n",
              "    }\n",
              "</style>\n",
              "<table border=\"1\" class=\"dataframe\">\n",
              "  <thead>\n",
              "    <tr style=\"text-align: right;\">\n",
              "      <th></th>\n",
              "      <th>Client</th>\n",
              "      <th>Method</th>\n",
              "      <th>Request</th>\n",
              "      <th>Status</th>\n",
              "      <th>Length</th>\n",
              "      <th>UserAgent</th>\n",
              "      <th>ResponseTime</th>\n",
              "      <th>Hour</th>\n",
              "      <th>Minute</th>\n",
              "      <th>Second</th>\n",
              "      <th>Req_Path_L1</th>\n",
              "      <th>Req_Path_L2</th>\n",
              "    </tr>\n",
              "  </thead>\n",
              "  <tbody>\n",
              "    <tr>\n",
              "      <th>776</th>\n",
              "      <td>20.62.177.11</td>\n",
              "      <td>Get</td>\n",
              "      <td>/pros/1993352776</td>\n",
              "      <td>200</td>\n",
              "      <td>53479</td>\n",
              "      <td>Mozilla/5.0 (compatible; SemrushBot/7~bl; +htt...</td>\n",
              "      <td>-</td>\n",
              "      <td>5</td>\n",
              "      <td>6</td>\n",
              "      <td>31</td>\n",
              "      <td>/</td>\n",
              "      <td>pros1993352776</td>\n",
              "    </tr>\n",
              "    <tr>\n",
              "      <th>2010</th>\n",
              "      <td>20.62.177.60</td>\n",
              "      <td>Get</td>\n",
              "      <td>/pros/1797822247</td>\n",
              "      <td>200</td>\n",
              "      <td>55330</td>\n",
              "      <td>Mozilla/5.0 (compatible; SemrushBot/7~bl; +htt...</td>\n",
              "      <td>-</td>\n",
              "      <td>5</td>\n",
              "      <td>7</td>\n",
              "      <td>27</td>\n",
              "      <td>/</td>\n",
              "      <td>pros1797822247</td>\n",
              "    </tr>\n",
              "    <tr>\n",
              "      <th>2708</th>\n",
              "      <td>20.62.177.133</td>\n",
              "      <td>Get</td>\n",
              "      <td>/pros/763244865</td>\n",
              "      <td>200</td>\n",
              "      <td>20947</td>\n",
              "      <td>Mozilla/5.0 (compatible; SemrushBot/7~bl; +htt...</td>\n",
              "      <td>-</td>\n",
              "      <td>5</td>\n",
              "      <td>8</td>\n",
              "      <td>4</td>\n",
              "      <td>/</td>\n",
              "      <td>pros763244865</td>\n",
              "    </tr>\n",
              "    <tr>\n",
              "      <th>2866</th>\n",
              "      <td>207.213.193.118</td>\n",
              "      <td>Get</td>\n",
              "      <td>/pages/1939232229</td>\n",
              "      <td>301</td>\n",
              "      <td>169</td>\n",
              "      <td>Mozilla/5.0 (Linux; Android 6.0.1; Nexus 5X Bu...</td>\n",
              "      <td>-</td>\n",
              "      <td>5</td>\n",
              "      <td>8</td>\n",
              "      <td>18</td>\n",
              "      <td>/</td>\n",
              "      <td>pages1939232229</td>\n",
              "    </tr>\n",
              "    <tr>\n",
              "      <th>3468</th>\n",
              "      <td>20.62.177.4</td>\n",
              "      <td>Get</td>\n",
              "      <td>/pros/2084824811</td>\n",
              "      <td>200</td>\n",
              "      <td>37060</td>\n",
              "      <td>Mozilla/5.0 (compatible; SemrushBot/7~bl; +htt...</td>\n",
              "      <td>-</td>\n",
              "      <td>5</td>\n",
              "      <td>8</td>\n",
              "      <td>49</td>\n",
              "      <td>/</td>\n",
              "      <td>pros2084824811</td>\n",
              "    </tr>\n",
              "    <tr>\n",
              "      <th>...</th>\n",
              "      <td>...</td>\n",
              "      <td>...</td>\n",
              "      <td>...</td>\n",
              "      <td>...</td>\n",
              "      <td>...</td>\n",
              "      <td>...</td>\n",
              "      <td>...</td>\n",
              "      <td>...</td>\n",
              "      <td>...</td>\n",
              "      <td>...</td>\n",
              "      <td>...</td>\n",
              "      <td>...</td>\n",
              "    </tr>\n",
              "    <tr>\n",
              "      <th>1257193</th>\n",
              "      <td>20.62.177.11</td>\n",
              "      <td>Get</td>\n",
              "      <td>/pros/1644096504</td>\n",
              "      <td>200</td>\n",
              "      <td>24540</td>\n",
              "      <td>Mozilla/5.0 (compatible; SemrushBot/7~bl; +htt...</td>\n",
              "      <td>-</td>\n",
              "      <td>15</td>\n",
              "      <td>7</td>\n",
              "      <td>34</td>\n",
              "      <td>/</td>\n",
              "      <td>pros1644096504</td>\n",
              "    </tr>\n",
              "    <tr>\n",
              "      <th>1257986</th>\n",
              "      <td>20.62.177.11</td>\n",
              "      <td>Get</td>\n",
              "      <td>/pros/743056796</td>\n",
              "      <td>200</td>\n",
              "      <td>36129</td>\n",
              "      <td>Mozilla/5.0 (compatible; SemrushBot/7~bl; +htt...</td>\n",
              "      <td>-</td>\n",
              "      <td>15</td>\n",
              "      <td>7</td>\n",
              "      <td>59</td>\n",
              "      <td>/</td>\n",
              "      <td>pros743056796</td>\n",
              "    </tr>\n",
              "    <tr>\n",
              "      <th>1258079</th>\n",
              "      <td>20.62.177.161</td>\n",
              "      <td>Get</td>\n",
              "      <td>/pros/1177343248</td>\n",
              "      <td>200</td>\n",
              "      <td>51334</td>\n",
              "      <td>Mozilla/5.0 (compatible; SemrushBot/7~bl; +htt...</td>\n",
              "      <td>-</td>\n",
              "      <td>15</td>\n",
              "      <td>8</td>\n",
              "      <td>2</td>\n",
              "      <td>/</td>\n",
              "      <td>pros1177343248</td>\n",
              "    </tr>\n",
              "    <tr>\n",
              "      <th>1258456</th>\n",
              "      <td>207.213.207.17</td>\n",
              "      <td>Get</td>\n",
              "      <td>/services/1404674245</td>\n",
              "      <td>301</td>\n",
              "      <td>169</td>\n",
              "      <td>Mozilla/5.0 (Linux; Android 6.0.1; Nexus 5X Bu...</td>\n",
              "      <td>-</td>\n",
              "      <td>15</td>\n",
              "      <td>8</td>\n",
              "      <td>12</td>\n",
              "      <td>/</td>\n",
              "      <td>services1404674245</td>\n",
              "    </tr>\n",
              "    <tr>\n",
              "      <th>1259453</th>\n",
              "      <td>153.126.111.1</td>\n",
              "      <td>Get</td>\n",
              "      <td>/pros/884190773</td>\n",
              "      <td>200</td>\n",
              "      <td>58833</td>\n",
              "      <td>Mozilla/5.0 (Linux; Android 4.4.4; SM-J100H) A...</td>\n",
              "      <td>-</td>\n",
              "      <td>15</td>\n",
              "      <td>8</td>\n",
              "      <td>39</td>\n",
              "      <td>/</td>\n",
              "      <td>pros884190773</td>\n",
              "    </tr>\n",
              "  </tbody>\n",
              "</table>\n",
              "<p>1718 rows × 12 columns</p>\n",
              "</div>"
            ],
            "text/plain": [
              "                  Client Method  ... Req_Path_L1         Req_Path_L2\n",
              "776         20.62.177.11    Get  ...           /      pros1993352776\n",
              "2010        20.62.177.60    Get  ...           /      pros1797822247\n",
              "2708       20.62.177.133    Get  ...           /       pros763244865\n",
              "2866     207.213.193.118    Get  ...           /     pages1939232229\n",
              "3468         20.62.177.4    Get  ...           /      pros2084824811\n",
              "...                  ...    ...  ...         ...                 ...\n",
              "1257193     20.62.177.11    Get  ...           /      pros1644096504\n",
              "1257986     20.62.177.11    Get  ...           /       pros743056796\n",
              "1258079    20.62.177.161    Get  ...           /      pros1177343248\n",
              "1258456   207.213.207.17    Get  ...           /  services1404674245\n",
              "1259453    153.126.111.1    Get  ...           /       pros884190773\n",
              "\n",
              "[1718 rows x 12 columns]"
            ]
          },
          "metadata": {
            "tags": []
          },
          "execution_count": 132
        }
      ]
    },
    {
      "cell_type": "code",
      "metadata": {
        "id": "r-qbpN_OPZ5y"
      },
      "source": [
        "# Fill the - values with null\n",
        "data.loc[data[\"Client\"] == '-', \"Client\"] = np.nan\n",
        "\n",
        "# Becuase response time will be an integer value we put -1 to be convertable\n",
        "data.loc[data[\"ResponseTime\"] == '-', \"ResponseTime\"] = \"-1\""
      ],
      "execution_count": 133,
      "outputs": []
    },
    {
      "cell_type": "code",
      "metadata": {
        "id": "OHAArp7-Ecnk"
      },
      "source": [
        "# Convert integers\n",
        "data[\"Status\"] = data[\"Status\"].astype(\"int64\")\n",
        "data[\"Length\"] = data[\"Length\"].astype(\"int64\")\n",
        "data[\"ResponseTime\"] = data[\"ResponseTime\"].astype(\"int64\")"
      ],
      "execution_count": 134,
      "outputs": []
    },
    {
      "cell_type": "code",
      "metadata": {
        "id": "n6s8w2qCqxLh"
      },
      "source": [
        "# Then set -1s to null\n",
        "data.loc[data[\"ResponseTime\"] == -1, \"ResponseTime\"] = None"
      ],
      "execution_count": 135,
      "outputs": []
    },
    {
      "cell_type": "code",
      "metadata": {
        "colab": {
          "base_uri": "https://localhost:8080/"
        },
        "id": "gxC7sRljjBjf",
        "outputId": "b7107968-03b8-47ba-f810-4b649fdb6ebc"
      },
      "source": [
        "data.info()"
      ],
      "execution_count": 136,
      "outputs": [
        {
          "output_type": "stream",
          "text": [
            "<class 'pandas.core.frame.DataFrame'>\n",
            "RangeIndex: 1260035 entries, 0 to 1260034\n",
            "Data columns (total 12 columns):\n",
            " #   Column        Non-Null Count    Dtype  \n",
            "---  ------        --------------    -----  \n",
            " 0   Client        1241945 non-null  object \n",
            " 1   Method        1260035 non-null  object \n",
            " 2   Request       1260035 non-null  object \n",
            " 3   Status        1260035 non-null  int64  \n",
            " 4   Length        1260035 non-null  int64  \n",
            " 5   UserAgent     1260035 non-null  object \n",
            " 6   ResponseTime  1240227 non-null  float64\n",
            " 7   Hour          1260035 non-null  int64  \n",
            " 8   Minute        1260035 non-null  int64  \n",
            " 9   Second        1260035 non-null  int64  \n",
            " 10  Req_Path_L1   1260035 non-null  object \n",
            " 11  Req_Path_L2   1260035 non-null  object \n",
            "dtypes: float64(1), int64(5), object(6)\n",
            "memory usage: 115.4+ MB\n"
          ],
          "name": "stdout"
        }
      ]
    },
    {
      "cell_type": "markdown",
      "metadata": {
        "id": "YUwmx8ajUT50"
      },
      "source": [
        "### Fix Missing values"
      ]
    },
    {
      "cell_type": "code",
      "metadata": {
        "id": "-yooWGiCUZpw",
        "colab": {
          "base_uri": "https://localhost:8080/"
        },
        "outputId": "e8aaab87-b873-42e1-bf30-eece2aaab8cd"
      },
      "source": [
        "data.isna().sum()"
      ],
      "execution_count": 137,
      "outputs": [
        {
          "output_type": "execute_result",
          "data": {
            "text/plain": [
              "Client          18090\n",
              "Method              0\n",
              "Request             0\n",
              "Status              0\n",
              "Length              0\n",
              "UserAgent           0\n",
              "ResponseTime    19808\n",
              "Hour                0\n",
              "Minute              0\n",
              "Second              0\n",
              "Req_Path_L1         0\n",
              "Req_Path_L2         0\n",
              "dtype: int64"
            ]
          },
          "metadata": {
            "tags": []
          },
          "execution_count": 137
        }
      ]
    },
    {
      "cell_type": "code",
      "metadata": {
        "id": "HV9wTl8wWE4P",
        "colab": {
          "base_uri": "https://localhost:8080/"
        },
        "outputId": "e1bf8bb9-872e-40ee-a3d1-f99e743f12e9"
      },
      "source": [
        "# Fill missing values of `ResponseTime` with its mean value\n",
        "data[\"ResponseTime\"].fillna(data[\"ResponseTime\"].mean(), inplace=True)\n",
        "data[\"ResponseTime\"].isna().sum()"
      ],
      "execution_count": 138,
      "outputs": [
        {
          "output_type": "execute_result",
          "data": {
            "text/plain": [
              "0"
            ]
          },
          "metadata": {
            "tags": []
          },
          "execution_count": 138
        }
      ]
    },
    {
      "cell_type": "code",
      "metadata": {
        "id": "C7PiirXyUyHa"
      },
      "source": [
        "# Drop samples which their `Client`s' values missed\n",
        "data.dropna(inplace=True)"
      ],
      "execution_count": 141,
      "outputs": []
    },
    {
      "cell_type": "code",
      "metadata": {
        "colab": {
          "base_uri": "https://localhost:8080/"
        },
        "id": "XFjuieNrpCKk",
        "outputId": "75cf98df-1c06-4dc7-dee4-cecc724c6365"
      },
      "source": [
        "data.shape"
      ],
      "execution_count": 142,
      "outputs": [
        {
          "output_type": "execute_result",
          "data": {
            "text/plain": [
              "(1241945, 12)"
            ]
          },
          "metadata": {
            "tags": []
          },
          "execution_count": 142
        }
      ]
    },
    {
      "cell_type": "code",
      "metadata": {
        "colab": {
          "base_uri": "https://localhost:8080/"
        },
        "id": "XYZN4q1Rp3d2",
        "outputId": "4fa6c912-8182-4a05-fe54-63206d741100"
      },
      "source": [
        "data.isna().sum()"
      ],
      "execution_count": 143,
      "outputs": [
        {
          "output_type": "execute_result",
          "data": {
            "text/plain": [
              "Client          0\n",
              "Method          0\n",
              "Request         0\n",
              "Status          0\n",
              "Length          0\n",
              "UserAgent       0\n",
              "ResponseTime    0\n",
              "Hour            0\n",
              "Minute          0\n",
              "Second          0\n",
              "Req_Path_L1     0\n",
              "Req_Path_L2     0\n",
              "dtype: int64"
            ]
          },
          "metadata": {
            "tags": []
          },
          "execution_count": 143
        }
      ]
    },
    {
      "cell_type": "code",
      "metadata": {
        "colab": {
          "base_uri": "https://localhost:8080/",
          "height": 204
        },
        "id": "1EujaBnpp52t",
        "outputId": "1017cf25-5557-4f1f-c8a2-647582a1bb69"
      },
      "source": [
        "data.head()"
      ],
      "execution_count": 144,
      "outputs": [
        {
          "output_type": "execute_result",
          "data": {
            "text/html": [
              "<div>\n",
              "<style scoped>\n",
              "    .dataframe tbody tr th:only-of-type {\n",
              "        vertical-align: middle;\n",
              "    }\n",
              "\n",
              "    .dataframe tbody tr th {\n",
              "        vertical-align: top;\n",
              "    }\n",
              "\n",
              "    .dataframe thead th {\n",
              "        text-align: right;\n",
              "    }\n",
              "</style>\n",
              "<table border=\"1\" class=\"dataframe\">\n",
              "  <thead>\n",
              "    <tr style=\"text-align: right;\">\n",
              "      <th></th>\n",
              "      <th>Client</th>\n",
              "      <th>Method</th>\n",
              "      <th>Request</th>\n",
              "      <th>Status</th>\n",
              "      <th>Length</th>\n",
              "      <th>UserAgent</th>\n",
              "      <th>ResponseTime</th>\n",
              "      <th>Hour</th>\n",
              "      <th>Minute</th>\n",
              "      <th>Second</th>\n",
              "      <th>Req_Path_L1</th>\n",
              "      <th>Req_Path_L2</th>\n",
              "    </tr>\n",
              "  </thead>\n",
              "  <tbody>\n",
              "    <tr>\n",
              "      <th>0</th>\n",
              "      <td>207.213.193.143</td>\n",
              "      <td>Get</td>\n",
              "      <td>/cdn/profiles/1026106239</td>\n",
              "      <td>304</td>\n",
              "      <td>0</td>\n",
              "      <td>Googlebot-Image/1.0</td>\n",
              "      <td>32.0</td>\n",
              "      <td>5</td>\n",
              "      <td>6</td>\n",
              "      <td>0</td>\n",
              "      <td>/</td>\n",
              "      <td>cdnprofiles1026106239</td>\n",
              "    </tr>\n",
              "    <tr>\n",
              "      <th>1</th>\n",
              "      <td>207.213.193.143</td>\n",
              "      <td>Get</td>\n",
              "      <td>images/badge.png</td>\n",
              "      <td>304</td>\n",
              "      <td>0</td>\n",
              "      <td>Googlebot-Image/1.0</td>\n",
              "      <td>4.0</td>\n",
              "      <td>5</td>\n",
              "      <td>6</td>\n",
              "      <td>0</td>\n",
              "      <td>images</td>\n",
              "      <td>/badge.png</td>\n",
              "    </tr>\n",
              "    <tr>\n",
              "      <th>2</th>\n",
              "      <td>35.110.222.153</td>\n",
              "      <td>Get</td>\n",
              "      <td>/pages/630180847</td>\n",
              "      <td>200</td>\n",
              "      <td>52567</td>\n",
              "      <td>Mozilla/5.0 (Linux; Android 6.0.1; SAMSUNG SM-...</td>\n",
              "      <td>32.0</td>\n",
              "      <td>5</td>\n",
              "      <td>6</td>\n",
              "      <td>0</td>\n",
              "      <td>/</td>\n",
              "      <td>pages630180847</td>\n",
              "    </tr>\n",
              "    <tr>\n",
              "      <th>3</th>\n",
              "      <td>35.108.208.99</td>\n",
              "      <td>Get</td>\n",
              "      <td>images/fav_icon2.ico</td>\n",
              "      <td>200</td>\n",
              "      <td>23531</td>\n",
              "      <td>Mozilla/5.0 (Linux; Android 6.0; CAM-L21) Appl...</td>\n",
              "      <td>20.0</td>\n",
              "      <td>5</td>\n",
              "      <td>6</td>\n",
              "      <td>0</td>\n",
              "      <td>images</td>\n",
              "      <td>/fav_icon2.ico</td>\n",
              "    </tr>\n",
              "    <tr>\n",
              "      <th>4</th>\n",
              "      <td>35.110.222.153</td>\n",
              "      <td>Get</td>\n",
              "      <td>images/sanjagh_logo_purpule5.png</td>\n",
              "      <td>200</td>\n",
              "      <td>4680</td>\n",
              "      <td>Mozilla/5.0 (Linux; Android 6.0.1; SAMSUNG SM-...</td>\n",
              "      <td>8.0</td>\n",
              "      <td>5</td>\n",
              "      <td>6</td>\n",
              "      <td>0</td>\n",
              "      <td>images</td>\n",
              "      <td>/sanjagh_logo_purpule5.png</td>\n",
              "    </tr>\n",
              "  </tbody>\n",
              "</table>\n",
              "</div>"
            ],
            "text/plain": [
              "            Client Method  ... Req_Path_L1                 Req_Path_L2\n",
              "0  207.213.193.143    Get  ...           /       cdnprofiles1026106239\n",
              "1  207.213.193.143    Get  ...      images                  /badge.png\n",
              "2   35.110.222.153    Get  ...           /              pages630180847\n",
              "3    35.108.208.99    Get  ...      images              /fav_icon2.ico\n",
              "4   35.110.222.153    Get  ...      images  /sanjagh_logo_purpule5.png\n",
              "\n",
              "[5 rows x 12 columns]"
            ]
          },
          "metadata": {
            "tags": []
          },
          "execution_count": 144
        }
      ]
    },
    {
      "cell_type": "markdown",
      "metadata": {
        "id": "UVIzwC0CQw-C"
      },
      "source": [
        "### Fix Categorical\n",
        "\n",
        "* Categorical features: Method, Status"
      ]
    },
    {
      "cell_type": "code",
      "metadata": {
        "id": "Xtr9hp-qlLGu"
      },
      "source": [
        "data[\"Method\"].value_counts()"
      ],
      "execution_count": null,
      "outputs": []
    },
    {
      "cell_type": "code",
      "metadata": {
        "id": "NWLY86c4lRjR"
      },
      "source": [
        "data[\"Status\"].value_counts()"
      ],
      "execution_count": null,
      "outputs": []
    },
    {
      "cell_type": "code",
      "metadata": {
        "id": "KRFFmQb2lZ7-"
      },
      "source": [
        "# Fix Method feature\n",
        "data[\"Method\"] = data[\"Method\"].astype(\"category\")\n",
        "data = pd.get_dummies(data, columns=[\"Method\"], drop_first=True)"
      ],
      "execution_count": null,
      "outputs": []
    },
    {
      "cell_type": "code",
      "metadata": {
        "id": "RbgYNtG7nTnc"
      },
      "source": [
        "# Fix Status feature\n",
        "data[\"Status\"] = data[\"Status\"].astype(\"category\")\n",
        "data[\"Status_cat\"] = data[\"Status\"].cat.codes+1\n",
        "data.drop(\"Status\", axis=1, inplace=True)"
      ],
      "execution_count": null,
      "outputs": []
    },
    {
      "cell_type": "code",
      "metadata": {
        "id": "To3AYvdjngv5"
      },
      "source": [
        "data.head()"
      ],
      "execution_count": null,
      "outputs": []
    },
    {
      "cell_type": "code",
      "metadata": {
        "id": "KJ7Aqu5Yw3bJ"
      },
      "source": [
        ""
      ],
      "execution_count": null,
      "outputs": []
    }
  ]
}